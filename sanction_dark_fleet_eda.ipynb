{
 "cells": [
  {
   "cell_type": "code",
   "execution_count": 1,
   "id": "2995cdec-d87c-4a9e-afc5-0351480ff8b1",
   "metadata": {},
   "outputs": [],
   "source": [
    "\"\"\"\n",
    "project for internship for VIE\n",
    "\n",
    "\"\"\"\n",
    "from sklearn.preprocessing import OneHotEncoder\n",
    "\n",
    "import plotly.express as px\n",
    "\n",
    "from selenium.webdriver.firefox.service import Service\n",
    "from selenium import webdriver\n",
    "from selenium.webdriver.common.keys import Keys\n",
    "from selenium.webdriver.common.by import By\n",
    "from selenium.webdriver.firefox.options import Options\n",
    "from selenium.webdriver.support.ui import WebDriverWait\n",
    "from selenium.webdriver.support import expected_conditions as EC\n",
    "from selenium.common.exceptions import TimeoutException\n",
    "import time\n",
    "import glob\n",
    "import numpy as np\n",
    "import requests\n",
    "import pandas as pd\n",
    "import json\n",
    "import ast\n",
    "import re"
   ]
  },
  {
   "cell_type": "code",
   "execution_count": 2,
   "id": "e3ce71df-00b3-48ca-8468-3f560f029d6c",
   "metadata": {},
   "outputs": [
    {
     "name": "stdout",
     "output_type": "stream",
     "text": [
      "sanctioned data (1209, 7)\n"
     ]
    },
    {
     "data": {
      "text/plain": [
       "'tanker tracker count: (1209, 9)'"
      ]
     },
     "execution_count": 2,
     "metadata": {},
     "output_type": "execute_result"
    }
   ],
   "source": [
    "api_url = \"https://tankertrackers.com/api/sanctioned/v1\"\n",
    "response = requests.get(api_url)\n",
    "j = response.json()\n",
    "\n",
    "sanction_data = pd.DataFrame.from_dict(j[\"data\"])\n",
    "country_sanctions = sanction_data[\"sanctions\"].apply(pd.Series)\n",
    "print(f\"sanctioned data {country_sanctions.shape}\")\n",
    "sanction_fleet = pd.concat([sanction_data.drop(\"sanctions\", axis=1), country_sanctions], axis=1)\n",
    "\n",
    "f\"tanker tracker count: {sanction_fleet.shape}\""
   ]
  },
  {
   "cell_type": "code",
   "execution_count": 3,
   "id": "5fe52448-9f4a-43e5-9615-e59a51be159e",
   "metadata": {},
   "outputs": [
    {
     "data": {
      "text/html": [
       "<div>\n",
       "<style scoped>\n",
       "    .dataframe tbody tr th:only-of-type {\n",
       "        vertical-align: middle;\n",
       "    }\n",
       "\n",
       "    .dataframe tbody tr th {\n",
       "        vertical-align: top;\n",
       "    }\n",
       "\n",
       "    .dataframe thead th {\n",
       "        text-align: right;\n",
       "    }\n",
       "</style>\n",
       "<table border=\"1\" class=\"dataframe\">\n",
       "  <thead>\n",
       "    <tr style=\"text-align: right;\">\n",
       "      <th></th>\n",
       "      <th>name</th>\n",
       "      <th>class_size</th>\n",
       "      <th>flag</th>\n",
       "    </tr>\n",
       "  </thead>\n",
       "  <tbody>\n",
       "    <tr>\n",
       "      <th>0</th>\n",
       "      <td>A JEWEL (9244867)</td>\n",
       "      <td>VLCC/ULCC</td>\n",
       "      <td>Cook Islands</td>\n",
       "    </tr>\n",
       "    <tr>\n",
       "      <th>1</th>\n",
       "      <td>A R G (9689031)</td>\n",
       "      <td>Handysize/Handymax</td>\n",
       "      <td>Barbados</td>\n",
       "    </tr>\n",
       "    <tr>\n",
       "      <th>2</th>\n",
       "      <td>A S (7303803)</td>\n",
       "      <td>Handysize/Handymax</td>\n",
       "      <td>North Korea</td>\n",
       "    </tr>\n",
       "    <tr>\n",
       "      <th>3</th>\n",
       "      <td>ABHRA (9282041)</td>\n",
       "      <td>Aframax</td>\n",
       "      <td>Panama</td>\n",
       "    </tr>\n",
       "    <tr>\n",
       "      <th>4</th>\n",
       "      <td>ABROS (9247388)</td>\n",
       "      <td>Handysize/Handymax</td>\n",
       "      <td>Curaçao</td>\n",
       "    </tr>\n",
       "    <tr>\n",
       "      <th>...</th>\n",
       "      <td>...</td>\n",
       "      <td>...</td>\n",
       "      <td>...</td>\n",
       "    </tr>\n",
       "    <tr>\n",
       "      <th>1204</th>\n",
       "      <td>ZARYA (9953535)</td>\n",
       "      <td>Aframax</td>\n",
       "      <td>Russia</td>\n",
       "    </tr>\n",
       "    <tr>\n",
       "      <th>1205</th>\n",
       "      <td>ZEAL (9486805)</td>\n",
       "      <td>Handysize/Handymax</td>\n",
       "      <td>Gabon</td>\n",
       "    </tr>\n",
       "    <tr>\n",
       "      <th>1206</th>\n",
       "      <td>ZENITH (9157765)</td>\n",
       "      <td>Aframax</td>\n",
       "      <td>Guyana</td>\n",
       "    </tr>\n",
       "    <tr>\n",
       "      <th>1207</th>\n",
       "      <td>ZENITH (9610781)</td>\n",
       "      <td>Suezmax</td>\n",
       "      <td>Comoros</td>\n",
       "    </tr>\n",
       "    <tr>\n",
       "      <th>1208</th>\n",
       "      <td>ZEVS (9168946)</td>\n",
       "      <td>Suezmax</td>\n",
       "      <td>Cameroon</td>\n",
       "    </tr>\n",
       "  </tbody>\n",
       "</table>\n",
       "<p>1209 rows × 3 columns</p>\n",
       "</div>"
      ],
      "text/plain": [
       "                   name          class_size          flag\n",
       "0     A JEWEL (9244867)           VLCC/ULCC  Cook Islands\n",
       "1       A R G (9689031)  Handysize/Handymax      Barbados\n",
       "2         A S (7303803)  Handysize/Handymax   North Korea\n",
       "3       ABHRA (9282041)             Aframax        Panama\n",
       "4       ABROS (9247388)  Handysize/Handymax       Curaçao\n",
       "...                 ...                 ...           ...\n",
       "1204    ZARYA (9953535)             Aframax        Russia\n",
       "1205     ZEAL (9486805)  Handysize/Handymax         Gabon\n",
       "1206   ZENITH (9157765)             Aframax        Guyana\n",
       "1207   ZENITH (9610781)             Suezmax       Comoros\n",
       "1208     ZEVS (9168946)             Suezmax      Cameroon\n",
       "\n",
       "[1209 rows x 3 columns]"
      ]
     },
     "execution_count": 3,
     "metadata": {},
     "output_type": "execute_result"
    }
   ],
   "source": [
    "vessels = pd.read_excel('dark_fleet_class_size.xlsx')\n",
    "vessels"
   ]
  },
  {
   "cell_type": "code",
   "execution_count": 4,
   "id": "86c2a801-c460-435a-a065-e0c0f9c9407d",
   "metadata": {},
   "outputs": [
    {
     "data": {
      "text/plain": [
       "array(['North Korea', 'Saint Vincent and the Grenadines', 'Tanzania',\n",
       "       'Russia', 'Iran', 'Sierra Leone', 'Aruba', 'Eswatini', 'Palau',\n",
       "       'Panama', 'Curaçao', 'Gambia', 'Cameroon', 'China', 'Guyana',\n",
       "       'Comoros', 'Dominica', 'Djibouti', 'Honduras', 'Mali', 'Guinea',\n",
       "       'Thailand', 'Benin', 'Venezuela', 'Hong Kong', 'Angola',\n",
       "       'Sao Tome and Principe', 'Marshall Islands', 'Cook Islands',\n",
       "       'Gabon', 'Guinea-Bissau', 'Indonesia', 'Bahamas', 'Tonga',\n",
       "       'Barbados', 'Nigeria', 'Vietnam', 'San Marino', 'Antigua Barbuda',\n",
       "       'Malawi', 'Saint Kitts and Nevis', 'Brazil', 'Mozambique',\n",
       "       'Vanuatu', 'Liberia', 'Jamaica', 'Cuba', 'Azerbaijan', 'India',\n",
       "       'Oman', 'Germany', 'Belize', 'Portugal', 'Malaysia', 'Singapore',\n",
       "       'Philippines'], dtype=object)"
      ]
     },
     "execution_count": 4,
     "metadata": {},
     "output_type": "execute_result"
    }
   ],
   "source": [
    "pattern = r'\\((\\d+\\.?\\d*)\\)'\n",
    "\n",
    "# Find all matches of the pattern in the text\n",
    "# numbers_in_parentheses = re.findall(pattern, text)\n",
    "\n",
    "vessels['imo'] = [re.findall(pattern, text) for text in vessels.name] # Matches integers and floats\n",
    "# [re.sub(r'[\\[\\]()]', '', text) for text in vessels.imo.values]\n",
    "vessels['imo'] = [int(x[0]) for x in vessels.imo.values]\n",
    "# vessels['\n",
    "vessels.sort_values(by='imo').flag.unique()"
   ]
  },
  {
   "cell_type": "code",
   "execution_count": 5,
   "id": "c7096f50-5d69-4d13-934f-af180dd32f1a",
   "metadata": {},
   "outputs": [
    {
     "data": {
      "text/html": [
       "<div>\n",
       "<style scoped>\n",
       "    .dataframe tbody tr th:only-of-type {\n",
       "        vertical-align: middle;\n",
       "    }\n",
       "\n",
       "    .dataframe tbody tr th {\n",
       "        vertical-align: top;\n",
       "    }\n",
       "\n",
       "    .dataframe thead th {\n",
       "        text-align: right;\n",
       "    }\n",
       "</style>\n",
       "<table border=\"1\" class=\"dataframe\">\n",
       "  <thead>\n",
       "    <tr style=\"text-align: right;\">\n",
       "      <th></th>\n",
       "      <th>name</th>\n",
       "      <th>class_size</th>\n",
       "      <th>flag</th>\n",
       "      <th>imo</th>\n",
       "    </tr>\n",
       "  </thead>\n",
       "  <tbody>\n",
       "    <tr>\n",
       "      <th>899</th>\n",
       "      <td>SAMMA2 (8106496)</td>\n",
       "      <td>Handysize/Handymax</td>\n",
       "      <td>North Korea</td>\n",
       "      <td>8106496</td>\n",
       "    </tr>\n",
       "  </tbody>\n",
       "</table>\n",
       "</div>"
      ],
      "text/plain": [
       "                 name          class_size         flag      imo\n",
       "899  SAMMA2 (8106496)  Handysize/Handymax  North Korea  8106496"
      ]
     },
     "execution_count": 5,
     "metadata": {},
     "output_type": "execute_result"
    }
   ],
   "source": [
    "vessels.query('imo==8106496')"
   ]
  },
  {
   "cell_type": "code",
   "execution_count": null,
   "id": "108bab75-0f85-4d14-a3a5-06c61197d986",
   "metadata": {},
   "outputs": [],
   "source": [
    "\"\"\"\n",
    "code used to concat scraped data, merge with TT api data to create csv of data\n",
    "\"\"\"\n",
    "\n",
    "# scraped = pd.concat(\n",
    "#     map(pd.read_csv, glob.glob(\"scraped*.csv\"))\n",
    "# )\n",
    "# cols = list(scraped.columns)\n",
    "# scraped = scraped.reset_index(drop=True)\n",
    "# scraped=scraped[~scraped.DWT.isna()]\n",
    "# print(f\" raw scraped data : {scraped.shape}\")\n",
    "\n",
    "\n",
    "# scraped = scraped.drop_duplicates(subset=cols)\n",
    "# scraped['build_year'] = pd.to_numeric(scraped['build_year'], errors='coerce')\n",
    "# scraped['gross_tonnage'] = pd.to_numeric(scraped['gross_tonnage'], errors='coerce')\n",
    "# scraped['DWT'] = pd.to_numeric(scraped['DWT'], errors='coerce')\n",
    "# scraped=scraped[~scraped.build_year.isna()]\n",
    "# scraped = scraped.sort_values(by=\"imo\").reset_index(drop=True)\n",
    "# scraped.to_csv(\"final_dwt_data.csv\", index=False)\n",
    "# print(f\" refined scraped data: {scraped.shape}\")\n",
    "\n",
    "\n",
    "# df_sanction_fleet = pd.merge(sanction_fleet, scraped, how=\"outer\", on=\"imo\")\n",
    "\n",
    "\n",
    "# df_sanction_fleet = df_sanction_fleet.drop('name_y', axis=1)\n",
    "# df_sanction_fleet = df_sanction_fleet.rename(columns={'name_x':'name'})\n",
    "# df_sanction_fleet['imo'] = df_sanction_fleet.imo.astype('str')\n",
    "# df_sanction_fleet['ship_type'] = df_sanction_fleet.ship_type.astype('str')\n",
    "# df_sanction_fleet = df_sanction_fleet.sort_values(by='imo')\n",
    "\n",
    "# df_sanction_fleet['ship_type'] = [name.lower() for name in df_sanction_fleet.ship_type]\n",
    "\n",
    "# def count_sanctions(data):\n",
    "#     df_sanction_fleet[f\"{data}_numeric\"] = np.where(df_sanction_fleet[f\"{data}\"].notna(), 1, 0)\n",
    "\n",
    "#     return df_sanction_fleet\n",
    "\n",
    "# categorical_bans=list(sanction_fleet.columns[2:9:])\n",
    "\n",
    "# [count_sanctions(d) for d in categorical_bans]\n",
    "\n",
    "# df_sanction_fleet['total_sanctions'] = df_sanction_fleet[df_sanction_fleet.columns[-7:]].sum(axis=1)\n",
    "\n",
    "# df_sanction_fleet.to_csv('sanctioned_fleet_data.csv', index=False)\n",
    "# print('done')\n"
   ]
  },
  {
   "cell_type": "code",
   "execution_count": 5,
   "id": "9c6fa1fd-ed0e-4ca7-b00a-3becbba25cad",
   "metadata": {},
   "outputs": [],
   "source": [
    "df = pd.read_csv('sanctioned_fleet_data.csv')\n",
    "\n",
    "\n",
    "# Shoutout to @oilBandit@x.com who gave away darkfleet data sometime around March 5th 2023 on Twitter? Pre Elon!\n",
    "oilBandit_data = pd.read_csv(\"Shadow_Fleet_oilBandit.csv\")\n",
    "\n",
    "columns = [str.lower(x.replace(\" \",\"_\")) for x in oilBandit_data.columns]\n",
    "oilBandit_data.columns = columns\n",
    "oilBandit_data[\"controller\"] = [str(x).lower() for x in oilBandit_data[\"controller\"]]\n",
    "oilBandit_data = oilBandit_data.rename(columns={\"name_of_ship\":\"name\",\"year_of_build\":\"build_year\"})\n",
    "# oilBandit_data['imo'] = oilBandit_data.imo.astype(str)\n",
    "# oilBandit_data.info()\n",
    "\n",
    "df =pd.merge(df, oilBandit_data, on='imo', how='left', suffixes=('_TankerTrackers', '_oilBandit'))\n",
    "df = pd.merge(df, vessels, on='imo', how='left', suffixes=('_', '_TTwebsite'))"
   ]
  },
  {
   "cell_type": "code",
   "execution_count": 6,
   "id": "e7debc5b-0972-4b24-8433-2b2e5434cdd3",
   "metadata": {},
   "outputs": [
    {
     "name": "stdout",
     "output_type": "stream",
     "text": [
      "<class 'pandas.core.frame.DataFrame'>\n",
      "RangeIndex: 1204 entries, 0 to 1203\n",
      "Data columns (total 38 columns):\n",
      " #   Column                        Non-Null Count  Dtype  \n",
      "---  ------                        --------------  -----  \n",
      " 0   name_TankerTrackers           1204 non-null   object \n",
      " 1   imo                           1204 non-null   int64  \n",
      " 2   OFAC                          666 non-null    object \n",
      " 3   UANI                          543 non-null    object \n",
      " 4   ASO                           60 non-null     object \n",
      " 5   EU                            436 non-null    object \n",
      " 6   FCDO                          435 non-null    object \n",
      " 7   GAC                           293 non-null    object \n",
      " 8   UN                            19 non-null     object \n",
      " 9   ship_type                     1204 non-null   object \n",
      " 10  build_year_TankerTrackers     1204 non-null   int64  \n",
      " 11  gross_tonnage_TankerTrackers  1204 non-null   int64  \n",
      " 12  DWT                           1204 non-null   int64  \n",
      " 13  OFAC_numeric                  1204 non-null   int64  \n",
      " 14  UANI_numeric                  1204 non-null   int64  \n",
      " 15  ASO_numeric                   1204 non-null   int64  \n",
      " 16  EU_numeric                    1204 non-null   int64  \n",
      " 17  FCDO_numeric                  1204 non-null   int64  \n",
      " 18  GAC_numeric                   1204 non-null   int64  \n",
      " 19  UN_numeric                    1204 non-null   int64  \n",
      " 20  total_sanctions               1204 non-null   int64  \n",
      " 21  name_oilBandit                858 non-null    object \n",
      " 22  gross_tonnage_oilBandit       858 non-null    float64\n",
      " 23  type_of_ship                  858 non-null    object \n",
      " 24  vessel_size                   858 non-null    object \n",
      " 25  build_year_oilBandit          858 non-null    float64\n",
      " 26  controller                    858 non-null    object \n",
      " 27  flag_                         858 non-null    object \n",
      " 28  class                         819 non-null    object \n",
      " 29  last_survey                   819 non-null    object \n",
      " 30  russian_lifter                168 non-null    object \n",
      " 31  iran_linked?                  858 non-null    object \n",
      " 32  re_classed_in_2022            858 non-null    object \n",
      " 33  transacted_in_2022            133 non-null    object \n",
      " 34  suspicious                    384 non-null    object \n",
      " 35  name                          1203 non-null   object \n",
      " 36  class_size                    1203 non-null   object \n",
      " 37  flag_TTwebsite                1203 non-null   object \n",
      "dtypes: float64(2), int64(12), object(24)\n",
      "memory usage: 357.6+ KB\n"
     ]
    }
   ],
   "source": [
    "df.info()"
   ]
  },
  {
   "cell_type": "code",
   "execution_count": 9,
   "id": "8ed15566-7eeb-4825-98a4-8c7f21f27702",
   "metadata": {},
   "outputs": [
    {
     "data": {
      "text/plain": [
       "216    106131\n",
       "Name: DWT, dtype: int64"
      ]
     },
     "execution_count": 9,
     "metadata": {},
     "output_type": "execute_result"
    }
   ],
   "source": [
    "df[df.class_size.isna()].DWT"
   ]
  },
  {
   "cell_type": "code",
   "execution_count": 8,
   "id": "c3c40eae-cde8-4e46-a575-9852895148dc",
   "metadata": {},
   "outputs": [],
   "source": [
    "pie_chart = df.groupby(['class_size']).count()\n",
    "\n",
    "pie_chart = pie_chart.reset_index()\n",
    "pie_chart = pie_chart.rename(columns={'name':'total_vessels'})"
   ]
  },
  {
   "cell_type": "code",
   "execution_count": 9,
   "id": "c0b24226-1453-45e1-bf24-13e5b5b90067",
   "metadata": {},
   "outputs": [
    {
     "data": {
      "application/vnd.plotly.v1+json": {
       "config": {
        "plotlyServerURL": "https://plot.ly"
       },
       "data": [
        {
         "domain": {
          "x": [
           0,
           1
          ],
          "y": [
           0,
           1
          ]
         },
         "hovertemplate": "class_size=%{label}<br>total_vessels=%{value}<extra></extra>",
         "labels": [
          "Aframax",
          "Handysize/Handymax",
          "Panamax",
          "Suezmax",
          "VLCC/ULCC"
         ],
         "legendgroup": "",
         "name": "",
         "showlegend": true,
         "type": "pie",
         "values": {
          "bdata": "RQEOAkQAcwCpAA==",
          "dtype": "i2"
         }
        }
       ],
       "layout": {
        "height": 900,
        "legend": {
         "tracegroupgap": 0
        },
        "template": {
         "data": {
          "bar": [
           {
            "error_x": {
             "color": "#2a3f5f"
            },
            "error_y": {
             "color": "#2a3f5f"
            },
            "marker": {
             "line": {
              "color": "#E5ECF6",
              "width": 0.5
             },
             "pattern": {
              "fillmode": "overlay",
              "size": 10,
              "solidity": 0.2
             }
            },
            "type": "bar"
           }
          ],
          "barpolar": [
           {
            "marker": {
             "line": {
              "color": "#E5ECF6",
              "width": 0.5
             },
             "pattern": {
              "fillmode": "overlay",
              "size": 10,
              "solidity": 0.2
             }
            },
            "type": "barpolar"
           }
          ],
          "carpet": [
           {
            "aaxis": {
             "endlinecolor": "#2a3f5f",
             "gridcolor": "white",
             "linecolor": "white",
             "minorgridcolor": "white",
             "startlinecolor": "#2a3f5f"
            },
            "baxis": {
             "endlinecolor": "#2a3f5f",
             "gridcolor": "white",
             "linecolor": "white",
             "minorgridcolor": "white",
             "startlinecolor": "#2a3f5f"
            },
            "type": "carpet"
           }
          ],
          "choropleth": [
           {
            "colorbar": {
             "outlinewidth": 0,
             "ticks": ""
            },
            "type": "choropleth"
           }
          ],
          "contour": [
           {
            "colorbar": {
             "outlinewidth": 0,
             "ticks": ""
            },
            "colorscale": [
             [
              0,
              "#0d0887"
             ],
             [
              0.1111111111111111,
              "#46039f"
             ],
             [
              0.2222222222222222,
              "#7201a8"
             ],
             [
              0.3333333333333333,
              "#9c179e"
             ],
             [
              0.4444444444444444,
              "#bd3786"
             ],
             [
              0.5555555555555556,
              "#d8576b"
             ],
             [
              0.6666666666666666,
              "#ed7953"
             ],
             [
              0.7777777777777778,
              "#fb9f3a"
             ],
             [
              0.8888888888888888,
              "#fdca26"
             ],
             [
              1,
              "#f0f921"
             ]
            ],
            "type": "contour"
           }
          ],
          "contourcarpet": [
           {
            "colorbar": {
             "outlinewidth": 0,
             "ticks": ""
            },
            "type": "contourcarpet"
           }
          ],
          "heatmap": [
           {
            "colorbar": {
             "outlinewidth": 0,
             "ticks": ""
            },
            "colorscale": [
             [
              0,
              "#0d0887"
             ],
             [
              0.1111111111111111,
              "#46039f"
             ],
             [
              0.2222222222222222,
              "#7201a8"
             ],
             [
              0.3333333333333333,
              "#9c179e"
             ],
             [
              0.4444444444444444,
              "#bd3786"
             ],
             [
              0.5555555555555556,
              "#d8576b"
             ],
             [
              0.6666666666666666,
              "#ed7953"
             ],
             [
              0.7777777777777778,
              "#fb9f3a"
             ],
             [
              0.8888888888888888,
              "#fdca26"
             ],
             [
              1,
              "#f0f921"
             ]
            ],
            "type": "heatmap"
           }
          ],
          "histogram": [
           {
            "marker": {
             "pattern": {
              "fillmode": "overlay",
              "size": 10,
              "solidity": 0.2
             }
            },
            "type": "histogram"
           }
          ],
          "histogram2d": [
           {
            "colorbar": {
             "outlinewidth": 0,
             "ticks": ""
            },
            "colorscale": [
             [
              0,
              "#0d0887"
             ],
             [
              0.1111111111111111,
              "#46039f"
             ],
             [
              0.2222222222222222,
              "#7201a8"
             ],
             [
              0.3333333333333333,
              "#9c179e"
             ],
             [
              0.4444444444444444,
              "#bd3786"
             ],
             [
              0.5555555555555556,
              "#d8576b"
             ],
             [
              0.6666666666666666,
              "#ed7953"
             ],
             [
              0.7777777777777778,
              "#fb9f3a"
             ],
             [
              0.8888888888888888,
              "#fdca26"
             ],
             [
              1,
              "#f0f921"
             ]
            ],
            "type": "histogram2d"
           }
          ],
          "histogram2dcontour": [
           {
            "colorbar": {
             "outlinewidth": 0,
             "ticks": ""
            },
            "colorscale": [
             [
              0,
              "#0d0887"
             ],
             [
              0.1111111111111111,
              "#46039f"
             ],
             [
              0.2222222222222222,
              "#7201a8"
             ],
             [
              0.3333333333333333,
              "#9c179e"
             ],
             [
              0.4444444444444444,
              "#bd3786"
             ],
             [
              0.5555555555555556,
              "#d8576b"
             ],
             [
              0.6666666666666666,
              "#ed7953"
             ],
             [
              0.7777777777777778,
              "#fb9f3a"
             ],
             [
              0.8888888888888888,
              "#fdca26"
             ],
             [
              1,
              "#f0f921"
             ]
            ],
            "type": "histogram2dcontour"
           }
          ],
          "mesh3d": [
           {
            "colorbar": {
             "outlinewidth": 0,
             "ticks": ""
            },
            "type": "mesh3d"
           }
          ],
          "parcoords": [
           {
            "line": {
             "colorbar": {
              "outlinewidth": 0,
              "ticks": ""
             }
            },
            "type": "parcoords"
           }
          ],
          "pie": [
           {
            "automargin": true,
            "type": "pie"
           }
          ],
          "scatter": [
           {
            "fillpattern": {
             "fillmode": "overlay",
             "size": 10,
             "solidity": 0.2
            },
            "type": "scatter"
           }
          ],
          "scatter3d": [
           {
            "line": {
             "colorbar": {
              "outlinewidth": 0,
              "ticks": ""
             }
            },
            "marker": {
             "colorbar": {
              "outlinewidth": 0,
              "ticks": ""
             }
            },
            "type": "scatter3d"
           }
          ],
          "scattercarpet": [
           {
            "marker": {
             "colorbar": {
              "outlinewidth": 0,
              "ticks": ""
             }
            },
            "type": "scattercarpet"
           }
          ],
          "scattergeo": [
           {
            "marker": {
             "colorbar": {
              "outlinewidth": 0,
              "ticks": ""
             }
            },
            "type": "scattergeo"
           }
          ],
          "scattergl": [
           {
            "marker": {
             "colorbar": {
              "outlinewidth": 0,
              "ticks": ""
             }
            },
            "type": "scattergl"
           }
          ],
          "scattermap": [
           {
            "marker": {
             "colorbar": {
              "outlinewidth": 0,
              "ticks": ""
             }
            },
            "type": "scattermap"
           }
          ],
          "scattermapbox": [
           {
            "marker": {
             "colorbar": {
              "outlinewidth": 0,
              "ticks": ""
             }
            },
            "type": "scattermapbox"
           }
          ],
          "scatterpolar": [
           {
            "marker": {
             "colorbar": {
              "outlinewidth": 0,
              "ticks": ""
             }
            },
            "type": "scatterpolar"
           }
          ],
          "scatterpolargl": [
           {
            "marker": {
             "colorbar": {
              "outlinewidth": 0,
              "ticks": ""
             }
            },
            "type": "scatterpolargl"
           }
          ],
          "scatterternary": [
           {
            "marker": {
             "colorbar": {
              "outlinewidth": 0,
              "ticks": ""
             }
            },
            "type": "scatterternary"
           }
          ],
          "surface": [
           {
            "colorbar": {
             "outlinewidth": 0,
             "ticks": ""
            },
            "colorscale": [
             [
              0,
              "#0d0887"
             ],
             [
              0.1111111111111111,
              "#46039f"
             ],
             [
              0.2222222222222222,
              "#7201a8"
             ],
             [
              0.3333333333333333,
              "#9c179e"
             ],
             [
              0.4444444444444444,
              "#bd3786"
             ],
             [
              0.5555555555555556,
              "#d8576b"
             ],
             [
              0.6666666666666666,
              "#ed7953"
             ],
             [
              0.7777777777777778,
              "#fb9f3a"
             ],
             [
              0.8888888888888888,
              "#fdca26"
             ],
             [
              1,
              "#f0f921"
             ]
            ],
            "type": "surface"
           }
          ],
          "table": [
           {
            "cells": {
             "fill": {
              "color": "#EBF0F8"
             },
             "line": {
              "color": "white"
             }
            },
            "header": {
             "fill": {
              "color": "#C8D4E3"
             },
             "line": {
              "color": "white"
             }
            },
            "type": "table"
           }
          ]
         },
         "layout": {
          "annotationdefaults": {
           "arrowcolor": "#2a3f5f",
           "arrowhead": 0,
           "arrowwidth": 1
          },
          "autotypenumbers": "strict",
          "coloraxis": {
           "colorbar": {
            "outlinewidth": 0,
            "ticks": ""
           }
          },
          "colorscale": {
           "diverging": [
            [
             0,
             "#8e0152"
            ],
            [
             0.1,
             "#c51b7d"
            ],
            [
             0.2,
             "#de77ae"
            ],
            [
             0.3,
             "#f1b6da"
            ],
            [
             0.4,
             "#fde0ef"
            ],
            [
             0.5,
             "#f7f7f7"
            ],
            [
             0.6,
             "#e6f5d0"
            ],
            [
             0.7,
             "#b8e186"
            ],
            [
             0.8,
             "#7fbc41"
            ],
            [
             0.9,
             "#4d9221"
            ],
            [
             1,
             "#276419"
            ]
           ],
           "sequential": [
            [
             0,
             "#0d0887"
            ],
            [
             0.1111111111111111,
             "#46039f"
            ],
            [
             0.2222222222222222,
             "#7201a8"
            ],
            [
             0.3333333333333333,
             "#9c179e"
            ],
            [
             0.4444444444444444,
             "#bd3786"
            ],
            [
             0.5555555555555556,
             "#d8576b"
            ],
            [
             0.6666666666666666,
             "#ed7953"
            ],
            [
             0.7777777777777778,
             "#fb9f3a"
            ],
            [
             0.8888888888888888,
             "#fdca26"
            ],
            [
             1,
             "#f0f921"
            ]
           ],
           "sequentialminus": [
            [
             0,
             "#0d0887"
            ],
            [
             0.1111111111111111,
             "#46039f"
            ],
            [
             0.2222222222222222,
             "#7201a8"
            ],
            [
             0.3333333333333333,
             "#9c179e"
            ],
            [
             0.4444444444444444,
             "#bd3786"
            ],
            [
             0.5555555555555556,
             "#d8576b"
            ],
            [
             0.6666666666666666,
             "#ed7953"
            ],
            [
             0.7777777777777778,
             "#fb9f3a"
            ],
            [
             0.8888888888888888,
             "#fdca26"
            ],
            [
             1,
             "#f0f921"
            ]
           ]
          },
          "colorway": [
           "#636efa",
           "#EF553B",
           "#00cc96",
           "#ab63fa",
           "#FFA15A",
           "#19d3f3",
           "#FF6692",
           "#B6E880",
           "#FF97FF",
           "#FECB52"
          ],
          "font": {
           "color": "#2a3f5f"
          },
          "geo": {
           "bgcolor": "white",
           "lakecolor": "white",
           "landcolor": "#E5ECF6",
           "showlakes": true,
           "showland": true,
           "subunitcolor": "white"
          },
          "hoverlabel": {
           "align": "left"
          },
          "hovermode": "closest",
          "mapbox": {
           "style": "light"
          },
          "paper_bgcolor": "white",
          "plot_bgcolor": "#E5ECF6",
          "polar": {
           "angularaxis": {
            "gridcolor": "white",
            "linecolor": "white",
            "ticks": ""
           },
           "bgcolor": "#E5ECF6",
           "radialaxis": {
            "gridcolor": "white",
            "linecolor": "white",
            "ticks": ""
           }
          },
          "scene": {
           "xaxis": {
            "backgroundcolor": "#E5ECF6",
            "gridcolor": "white",
            "gridwidth": 2,
            "linecolor": "white",
            "showbackground": true,
            "ticks": "",
            "zerolinecolor": "white"
           },
           "yaxis": {
            "backgroundcolor": "#E5ECF6",
            "gridcolor": "white",
            "gridwidth": 2,
            "linecolor": "white",
            "showbackground": true,
            "ticks": "",
            "zerolinecolor": "white"
           },
           "zaxis": {
            "backgroundcolor": "#E5ECF6",
            "gridcolor": "white",
            "gridwidth": 2,
            "linecolor": "white",
            "showbackground": true,
            "ticks": "",
            "zerolinecolor": "white"
           }
          },
          "shapedefaults": {
           "line": {
            "color": "#2a3f5f"
           }
          },
          "ternary": {
           "aaxis": {
            "gridcolor": "white",
            "linecolor": "white",
            "ticks": ""
           },
           "baxis": {
            "gridcolor": "white",
            "linecolor": "white",
            "ticks": ""
           },
           "bgcolor": "#E5ECF6",
           "caxis": {
            "gridcolor": "white",
            "linecolor": "white",
            "ticks": ""
           }
          },
          "title": {
           "x": 0.05
          },
          "xaxis": {
           "automargin": true,
           "gridcolor": "white",
           "linecolor": "white",
           "ticks": "",
           "title": {
            "standoff": 15
           },
           "zerolinecolor": "white",
           "zerolinewidth": 2
          },
          "yaxis": {
           "automargin": true,
           "gridcolor": "white",
           "linecolor": "white",
           "ticks": "",
           "title": {
            "standoff": 15
           },
           "zerolinecolor": "white",
           "zerolinewidth": 2
          }
         }
        },
        "title": {
         "text": "Sanctioned Dark Fleet by Vessel Type <br>1204 Total Ships"
        },
        "width": 900
       }
      },
      "image/png": "[encoded data removed]"
     },
     "metadata": {},
     "output_type": "display_data"
    }
   ],
   "source": [
    "fig = px.pie(pie_chart, values='total_vessels', names='class_size', title=f\"Sanctioned Dark Fleet by Vessel Type <br>{df.shape[0]} Total Ships\")\n",
    "fig.update_layout(width=900, height=900)\n",
    "fig.show()\n",
    "fig.write_html(\"piechart_interactive_plot.html\")\n"
   ]
  },
  {
   "cell_type": "code",
   "execution_count": 10,
   "id": "3f74dcc8-a751-433f-b0e1-67afd06c481c",
   "metadata": {},
   "outputs": [
    {
     "data": {
      "text/plain": [
       "'ships that transport oil: 609'"
      ]
     },
     "execution_count": 10,
     "metadata": {},
     "output_type": "execute_result"
    }
   ],
   "source": [
    "oil_ships = df.query('class_size==\"Suezmax\" or class_size==\"VLCC/ULCC\" or class_size==\"Aframax\"')\n",
    "f\"ships that transport oil: {oil_ships.shape[0]}\"\n"
   ]
  },
  {
   "cell_type": "code",
   "execution_count": 32,
   "id": "a8486282-5a09-457b-875b-8f84709114d0",
   "metadata": {},
   "outputs": [
    {
     "data": {
      "text/plain": [
       "np.float64(0.0)"
      ]
     },
     "execution_count": 32,
     "metadata": {},
     "output_type": "execute_result"
    }
   ],
   "source": [
    "# build year legit webscrape and oilBandit data\n",
    "(oil_ships.build_year_oilBandit - oil_ships.build_year_TankerTrackers).sum()"
   ]
  },
  {
   "cell_type": "code",
   "execution_count": 11,
   "id": "bf9d75bf-6070-4ef9-9192-178002d3d6c1",
   "metadata": {},
   "outputs": [
    {
     "data": {
      "application/vnd.plotly.v1+json": {
       "config": {
        "plotlyServerURL": "https://plot.ly"
       },
       "data": [
        {
         "domain": {
          "x": [
           0,
           1
          ],
          "y": [
           0,
           1
          ]
         },
         "hovertemplate": "class_size=%{label}<br>total_vessels=%{value}<extra></extra>",
         "labels": [
          "Aframax",
          "Suezmax",
          "VLCC/ULCC"
         ],
         "legendgroup": "",
         "name": "",
         "showlegend": true,
         "type": "pie",
         "values": {
          "bdata": "RQFzAKkA",
          "dtype": "i2"
         }
        }
       ],
       "layout": {
        "height": 900,
        "legend": {
         "tracegroupgap": 0
        },
        "template": {
         "data": {
          "bar": [
           {
            "error_x": {
             "color": "#2a3f5f"
            },
            "error_y": {
             "color": "#2a3f5f"
            },
            "marker": {
             "line": {
              "color": "#E5ECF6",
              "width": 0.5
             },
             "pattern": {
              "fillmode": "overlay",
              "size": 10,
              "solidity": 0.2
             }
            },
            "type": "bar"
           }
          ],
          "barpolar": [
           {
            "marker": {
             "line": {
              "color": "#E5ECF6",
              "width": 0.5
             },
             "pattern": {
              "fillmode": "overlay",
              "size": 10,
              "solidity": 0.2
             }
            },
            "type": "barpolar"
           }
          ],
          "carpet": [
           {
            "aaxis": {
             "endlinecolor": "#2a3f5f",
             "gridcolor": "white",
             "linecolor": "white",
             "minorgridcolor": "white",
             "startlinecolor": "#2a3f5f"
            },
            "baxis": {
             "endlinecolor": "#2a3f5f",
             "gridcolor": "white",
             "linecolor": "white",
             "minorgridcolor": "white",
             "startlinecolor": "#2a3f5f"
            },
            "type": "carpet"
           }
          ],
          "choropleth": [
           {
            "colorbar": {
             "outlinewidth": 0,
             "ticks": ""
            },
            "type": "choropleth"
           }
          ],
          "contour": [
           {
            "colorbar": {
             "outlinewidth": 0,
             "ticks": ""
            },
            "colorscale": [
             [
              0,
              "#0d0887"
             ],
             [
              0.1111111111111111,
              "#46039f"
             ],
             [
              0.2222222222222222,
              "#7201a8"
             ],
             [
              0.3333333333333333,
              "#9c179e"
             ],
             [
              0.4444444444444444,
              "#bd3786"
             ],
             [
              0.5555555555555556,
              "#d8576b"
             ],
             [
              0.6666666666666666,
              "#ed7953"
             ],
             [
              0.7777777777777778,
              "#fb9f3a"
             ],
             [
              0.8888888888888888,
              "#fdca26"
             ],
             [
              1,
              "#f0f921"
             ]
            ],
            "type": "contour"
           }
          ],
          "contourcarpet": [
           {
            "colorbar": {
             "outlinewidth": 0,
             "ticks": ""
            },
            "type": "contourcarpet"
           }
          ],
          "heatmap": [
           {
            "colorbar": {
             "outlinewidth": 0,
             "ticks": ""
            },
            "colorscale": [
             [
              0,
              "#0d0887"
             ],
             [
              0.1111111111111111,
              "#46039f"
             ],
             [
              0.2222222222222222,
              "#7201a8"
             ],
             [
              0.3333333333333333,
              "#9c179e"
             ],
             [
              0.4444444444444444,
              "#bd3786"
             ],
             [
              0.5555555555555556,
              "#d8576b"
             ],
             [
              0.6666666666666666,
              "#ed7953"
             ],
             [
              0.7777777777777778,
              "#fb9f3a"
             ],
             [
              0.8888888888888888,
              "#fdca26"
             ],
             [
              1,
              "#f0f921"
             ]
            ],
            "type": "heatmap"
           }
          ],
          "histogram": [
           {
            "marker": {
             "pattern": {
              "fillmode": "overlay",
              "size": 10,
              "solidity": 0.2
             }
            },
            "type": "histogram"
           }
          ],
          "histogram2d": [
           {
            "colorbar": {
             "outlinewidth": 0,
             "ticks": ""
            },
            "colorscale": [
             [
              0,
              "#0d0887"
             ],
             [
              0.1111111111111111,
              "#46039f"
             ],
             [
              0.2222222222222222,
              "#7201a8"
             ],
             [
              0.3333333333333333,
              "#9c179e"
             ],
             [
              0.4444444444444444,
              "#bd3786"
             ],
             [
              0.5555555555555556,
              "#d8576b"
             ],
             [
              0.6666666666666666,
              "#ed7953"
             ],
             [
              0.7777777777777778,
              "#fb9f3a"
             ],
             [
              0.8888888888888888,
              "#fdca26"
             ],
             [
              1,
              "#f0f921"
             ]
            ],
            "type": "histogram2d"
           }
          ],
          "histogram2dcontour": [
           {
            "colorbar": {
             "outlinewidth": 0,
             "ticks": ""
            },
            "colorscale": [
             [
              0,
              "#0d0887"
             ],
             [
              0.1111111111111111,
              "#46039f"
             ],
             [
              0.2222222222222222,
              "#7201a8"
             ],
             [
              0.3333333333333333,
              "#9c179e"
             ],
             [
              0.4444444444444444,
              "#bd3786"
             ],
             [
              0.5555555555555556,
              "#d8576b"
             ],
             [
              0.6666666666666666,
              "#ed7953"
             ],
             [
              0.7777777777777778,
              "#fb9f3a"
             ],
             [
              0.8888888888888888,
              "#fdca26"
             ],
             [
              1,
              "#f0f921"
             ]
            ],
            "type": "histogram2dcontour"
           }
          ],
          "mesh3d": [
           {
            "colorbar": {
             "outlinewidth": 0,
             "ticks": ""
            },
            "type": "mesh3d"
           }
          ],
          "parcoords": [
           {
            "line": {
             "colorbar": {
              "outlinewidth": 0,
              "ticks": ""
             }
            },
            "type": "parcoords"
           }
          ],
          "pie": [
           {
            "automargin": true,
            "type": "pie"
           }
          ],
          "scatter": [
           {
            "fillpattern": {
             "fillmode": "overlay",
             "size": 10,
             "solidity": 0.2
            },
            "type": "scatter"
           }
          ],
          "scatter3d": [
           {
            "line": {
             "colorbar": {
              "outlinewidth": 0,
              "ticks": ""
             }
            },
            "marker": {
             "colorbar": {
              "outlinewidth": 0,
              "ticks": ""
             }
            },
            "type": "scatter3d"
           }
          ],
          "scattercarpet": [
           {
            "marker": {
             "colorbar": {
              "outlinewidth": 0,
              "ticks": ""
             }
            },
            "type": "scattercarpet"
           }
          ],
          "scattergeo": [
           {
            "marker": {
             "colorbar": {
              "outlinewidth": 0,
              "ticks": ""
             }
            },
            "type": "scattergeo"
           }
          ],
          "scattergl": [
           {
            "marker": {
             "colorbar": {
              "outlinewidth": 0,
              "ticks": ""
             }
            },
            "type": "scattergl"
           }
          ],
          "scattermap": [
           {
            "marker": {
             "colorbar": {
              "outlinewidth": 0,
              "ticks": ""
             }
            },
            "type": "scattermap"
           }
          ],
          "scattermapbox": [
           {
            "marker": {
             "colorbar": {
              "outlinewidth": 0,
              "ticks": ""
             }
            },
            "type": "scattermapbox"
           }
          ],
          "scatterpolar": [
           {
            "marker": {
             "colorbar": {
              "outlinewidth": 0,
              "ticks": ""
             }
            },
            "type": "scatterpolar"
           }
          ],
          "scatterpolargl": [
           {
            "marker": {
             "colorbar": {
              "outlinewidth": 0,
              "ticks": ""
             }
            },
            "type": "scatterpolargl"
           }
          ],
          "scatterternary": [
           {
            "marker": {
             "colorbar": {
              "outlinewidth": 0,
              "ticks": ""
             }
            },
            "type": "scatterternary"
           }
          ],
          "surface": [
           {
            "colorbar": {
             "outlinewidth": 0,
             "ticks": ""
            },
            "colorscale": [
             [
              0,
              "#0d0887"
             ],
             [
              0.1111111111111111,
              "#46039f"
             ],
             [
              0.2222222222222222,
              "#7201a8"
             ],
             [
              0.3333333333333333,
              "#9c179e"
             ],
             [
              0.4444444444444444,
              "#bd3786"
             ],
             [
              0.5555555555555556,
              "#d8576b"
             ],
             [
              0.6666666666666666,
              "#ed7953"
             ],
             [
              0.7777777777777778,
              "#fb9f3a"
             ],
             [
              0.8888888888888888,
              "#fdca26"
             ],
             [
              1,
              "#f0f921"
             ]
            ],
            "type": "surface"
           }
          ],
          "table": [
           {
            "cells": {
             "fill": {
              "color": "#EBF0F8"
             },
             "line": {
              "color": "white"
             }
            },
            "header": {
             "fill": {
              "color": "#C8D4E3"
             },
             "line": {
              "color": "white"
             }
            },
            "type": "table"
           }
          ]
         },
         "layout": {
          "annotationdefaults": {
           "arrowcolor": "#2a3f5f",
           "arrowhead": 0,
           "arrowwidth": 1
          },
          "autotypenumbers": "strict",
          "coloraxis": {
           "colorbar": {
            "outlinewidth": 0,
            "ticks": ""
           }
          },
          "colorscale": {
           "diverging": [
            [
             0,
             "#8e0152"
            ],
            [
             0.1,
             "#c51b7d"
            ],
            [
             0.2,
             "#de77ae"
            ],
            [
             0.3,
             "#f1b6da"
            ],
            [
             0.4,
             "#fde0ef"
            ],
            [
             0.5,
             "#f7f7f7"
            ],
            [
             0.6,
             "#e6f5d0"
            ],
            [
             0.7,
             "#b8e186"
            ],
            [
             0.8,
             "#7fbc41"
            ],
            [
             0.9,
             "#4d9221"
            ],
            [
             1,
             "#276419"
            ]
           ],
           "sequential": [
            [
             0,
             "#0d0887"
            ],
            [
             0.1111111111111111,
             "#46039f"
            ],
            [
             0.2222222222222222,
             "#7201a8"
            ],
            [
             0.3333333333333333,
             "#9c179e"
            ],
            [
             0.4444444444444444,
             "#bd3786"
            ],
            [
             0.5555555555555556,
             "#d8576b"
            ],
            [
             0.6666666666666666,
             "#ed7953"
            ],
            [
             0.7777777777777778,
             "#fb9f3a"
            ],
            [
             0.8888888888888888,
             "#fdca26"
            ],
            [
             1,
             "#f0f921"
            ]
           ],
           "sequentialminus": [
            [
             0,
             "#0d0887"
            ],
            [
             0.1111111111111111,
             "#46039f"
            ],
            [
             0.2222222222222222,
             "#7201a8"
            ],
            [
             0.3333333333333333,
             "#9c179e"
            ],
            [
             0.4444444444444444,
             "#bd3786"
            ],
            [
             0.5555555555555556,
             "#d8576b"
            ],
            [
             0.6666666666666666,
             "#ed7953"
            ],
            [
             0.7777777777777778,
             "#fb9f3a"
            ],
            [
             0.8888888888888888,
             "#fdca26"
            ],
            [
             1,
             "#f0f921"
            ]
           ]
          },
          "colorway": [
           "#636efa",
           "#EF553B",
           "#00cc96",
           "#ab63fa",
           "#FFA15A",
           "#19d3f3",
           "#FF6692",
           "#B6E880",
           "#FF97FF",
           "#FECB52"
          ],
          "font": {
           "color": "#2a3f5f"
          },
          "geo": {
           "bgcolor": "white",
           "lakecolor": "white",
           "landcolor": "#E5ECF6",
           "showlakes": true,
           "showland": true,
           "subunitcolor": "white"
          },
          "hoverlabel": {
           "align": "left"
          },
          "hovermode": "closest",
          "mapbox": {
           "style": "light"
          },
          "paper_bgcolor": "white",
          "plot_bgcolor": "#E5ECF6",
          "polar": {
           "angularaxis": {
            "gridcolor": "white",
            "linecolor": "white",
            "ticks": ""
           },
           "bgcolor": "#E5ECF6",
           "radialaxis": {
            "gridcolor": "white",
            "linecolor": "white",
            "ticks": ""
           }
          },
          "scene": {
           "xaxis": {
            "backgroundcolor": "#E5ECF6",
            "gridcolor": "white",
            "gridwidth": 2,
            "linecolor": "white",
            "showbackground": true,
            "ticks": "",
            "zerolinecolor": "white"
           },
           "yaxis": {
            "backgroundcolor": "#E5ECF6",
            "gridcolor": "white",
            "gridwidth": 2,
            "linecolor": "white",
            "showbackground": true,
            "ticks": "",
            "zerolinecolor": "white"
           },
           "zaxis": {
            "backgroundcolor": "#E5ECF6",
            "gridcolor": "white",
            "gridwidth": 2,
            "linecolor": "white",
            "showbackground": true,
            "ticks": "",
            "zerolinecolor": "white"
           }
          },
          "shapedefaults": {
           "line": {
            "color": "#2a3f5f"
           }
          },
          "ternary": {
           "aaxis": {
            "gridcolor": "white",
            "linecolor": "white",
            "ticks": ""
           },
           "baxis": {
            "gridcolor": "white",
            "linecolor": "white",
            "ticks": ""
           },
           "bgcolor": "#E5ECF6",
           "caxis": {
            "gridcolor": "white",
            "linecolor": "white",
            "ticks": ""
           }
          },
          "title": {
           "x": 0.05
          },
          "xaxis": {
           "automargin": true,
           "gridcolor": "white",
           "linecolor": "white",
           "ticks": "",
           "title": {
            "standoff": 15
           },
           "zerolinecolor": "white",
           "zerolinewidth": 2
          },
          "yaxis": {
           "automargin": true,
           "gridcolor": "white",
           "linecolor": "white",
           "ticks": "",
           "title": {
            "standoff": 15
           },
           "zerolinecolor": "white",
           "zerolinewidth": 2
          }
         }
        },
        "title": {
         "text": "Sanctioned Dark Fleet by Vessel Type <br>609 Total Ships"
        },
        "width": 900
       }
      },
      "image/png": "[encoded data removed]"
     },
     "metadata": {},
     "output_type": "display_data"
    }
   ],
   "source": [
    "pie_chart = oil_ships.groupby(['class_size']).count()\n",
    "\n",
    "pie_chart = pie_chart.reset_index()\n",
    "pie_chart = pie_chart.rename(columns={'name':'total_vessels'})\n",
    "fig = px.pie(pie_chart, values='total_vessels', names='class_size', title=f\"Sanctioned Dark Fleet by Vessel Type <br>{oil_ships.shape[0]} Total Ships\")\n",
    "fig.update_layout(width=900, height=900)\n",
    "fig.show()\n",
    "fig.write_html(\"oil_piechart_interactive_plot.html\")"
   ]
  },
  {
   "cell_type": "code",
   "execution_count": 17,
   "id": "9285d83a-bd8b-4000-b5be-ab7e2912b2cb",
   "metadata": {},
   "outputs": [
    {
     "data": {
      "application/vnd.plotly.v1+json": {
       "config": {
        "plotlyServerURL": "https://plot.ly"
       },
       "data": [
        {
         "bingroup": "x",
         "hovertemplate": "class_size=Handysize/Handymax<br>DWT=%{x}<br>count=%{y}<extra></extra>",
         "legendgroup": "Handysize/Handymax",
         "marker": {
          "color": "#636efa",
          "pattern": {
           "shape": ""
          }
         },
         "name": "Handysize/Handymax",
         "nbinsx": 100,
         "orientation": "v",
         "showlegend": true,
         "type": "histogram",
         "x": {
          "bdata": "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",
          "dtype": "i4"
         },
         "xaxis": "x",
         "yaxis": "y"
        },
        {
         "bingroup": "x",
         "hovertemplate": "class_size=Panamax<br>DWT=%{x}<br>count=%{y}<extra></extra>",
         "legendgroup": "Panamax",
         "marker": {
          "color": "#EF553B",
          "pattern": {
           "shape": ""
          }
         },
         "name": "Panamax",
         "nbinsx": 100,
         "orientation": "v",
         "showlegend": true,
         "type": "histogram",
         "x": {
          "bdata": "3PoAAPckAQDiKAEA1RcBAHsdAQD3JAEA9yQBAG8RAQANOAEAcwsBAHMLAQByEwEAcwsBAM4cAQD9DwEA7y4BAEoXAQBAHAEAIBwBAHMLAQBXCwEAkC8BACwdAQAaEwEAuBgBAMwbAQAZFAEA2BMBAKkSAQD3JAEA9yQBAPckAQD3JAEA9yQBAPckAQD3JAEAcBUBAIoYAQBDGwEAjxUBABMUAQA8IAEADSABAM4cAQAKHAEArSABALcgAQBl/gAAwB8BAMAfAQCTDwEA/CABAMgfAQAzIQEAxhABAKURAQC/IAEA9yQBABIcAQASHAEAEhwBAPIkAQBuJAEA9x8BANMeAQBVIwEANCMBAMsOAQA=",
          "dtype": "i4"
         },
         "xaxis": "x",
         "yaxis": "y"
        },
        {
         "bingroup": "x",
         "hovertemplate": "class_size=Suezmax<br>DWT=%{x}<br>count=%{y}<extra></extra>",
         "legendgroup": "Suezmax",
         "marker": {
          "color": "#00cc96",
          "pattern": {
           "shape": ""
          }
         },
         "name": "Suezmax",
         "nbinsx": 100,
         "orientation": "v",
         "showlegend": true,
         "type": "histogram",
         "x": {
          "bdata": "tkgCAGE7AgDTQwIAYOcBANU8AgA5TQIAHE0CAEBWAgCT7QEA620CAMFvAgAOcAIAwW8CAMFvAgDfbwIAM28CAOFvAgCPZgIA13ACAJ1wAgD/cAIAPXMCAFtNAgAMSwIAdXICALtVAgDwcQIAiD4CAH9yAgASgwIAt3ECACByAgDpSQIA0G0CAI1wAgCmgQIAvoECAFJuAgDdbgIAh24CAF2CAgD/cAIA/3ACALWCAgDlSQIA6kkCAK2FAgC0cAIAKFECAI1QAgDObgIAL4oCAOtJAgDrSQIA50kCAOtJAgBZawIArW0CAD1vAgA1TAIASW0CAGttAgCMbQIAT20CAGFtAgDCbgIAgm0CAHxtAgDpSQIAbm4CAHRtAgBpbQIA0m0CANttAgD7OwIAXjsCANh9AgAAgwIA1YICAHtsAgCjbgIAzVECAF16AgDyawIA2X4CACyJAgCpbAIAoWwCAMhsAgBAbAIAe2wCADqBAgA6gQIAOoECAGFsAgBYZAIAFGMCAJxjAgBRaQIAGWQCANZjAgAWZAIAdmkCAHZpAgCQaQIAkWkCAHRjAgBuawIAbmsCAG5rAgBKZgIA0GsCALfcAQCi3AEASO4CAA==",
          "dtype": "i4"
         },
         "xaxis": "x",
         "yaxis": "y"
        },
        {
         "bingroup": "x",
         "hovertemplate": "class_size=Aframax<br>DWT=%{x}<br>count=%{y}<extra></extra>",
         "legendgroup": "Aframax",
         "marker": {
          "color": "#ab63fa",
          "pattern": {
           "shape": ""
          }
         },
         "name": "Aframax",
         "nbinsx": 100,
         "orientation": "v",
         "showlegend": true,
         "type": "histogram",
         "x": {
          "bdata": "boQBAMR7AQA6mwEAoaIBADOgAQB4mwEAyZoBADigAQAflgEASIMBAA+DAQBMgwEA1oIBABaDAQB0nAEAgJ0BAICdAQAzgwEAbJgBAGyYAQDDmAEAKaYBANmaAQAQuwEAELsBALi1AQD2tQEARZwBAICbAQAVuAEAJ7gBABy4AQClngEAep4BAFqeAQBangEAGLgBAO2cAQCRngEAlZoBAM6aAQB7nQEAa5wBADKaAQD0nAEAuJwBAIGdAQB1uQEAibkBAAOZAQDDmwEAMLUBAASgAQCbnwEARZsBAMqcAQA4wQEA76oBAO+qAQAynwEAsp4BAFSiAQBzogEABJoBAASgAQAEoAEAC54BAHOiAQDCnAEAs5wBANGfAQBymwEAcpsBAHKbAQB0nAEApb8BAM+/AQByvwEAoJkBANrCAQBHwwEAyJwBABGdAQAkmgEASaIBAPvDAQAPxAEAecABAEnAAQB5wAEAiKIBAHeiAQCLnAEAB0wBAFGwAQCNnQEAhaoBAAucAQDtnQEAGsMBAH/DAQBlngEAVp4BACWeAQB4nwEAlcMBAM/DAQB1nQEAWZ0BAHqdAQBEvwEARL8BANuUAQDGlAEAiJQBAGjBAQBowQEAvqIBAMDCAQB5wAEAecABAHa8AQBamwEAfaoBAAOsAQBFrAEA6poBANaaAQCNwgEAjMIBAI3CAQClsQEAnrEBAKGxAQCcsQEAUpoBAFKaAQCzwwEAt8MBANWdAQDAwAEAxp0BADvDAQA6mwEASpoBAE6eAQD4nwEAwZ8BAJG7AQCRuwEAcqcBABGtAQBfrQEAIa0BANutAQAUngEAFZ4BABeeAQBNngEAbp4BAJ+0AQDAtAEAWo4BACqOAQASjgEA9I0BAImOAQATnQEA0qoBAKHJAQA/yQEAaKwBAKWtAQCjrQEAvq4BAOSaAQBXmgEA+5kBAE+sAQCKwgEAMpwBAGOcAQBfrQEA+6wBAC2dAQBJogEASaIBAAKsAQCpyAEAT6wBAFKsAQBorAEAiMUBAH3FAQBbvwEAb8MBABecAQChwAEA0MABAOWbAQBLnAEAYk4BALm8AQCemwEAopkBAKOYAQCqwAEAa8ABAFDDAQB5wwEAecMBAHnDAQBjnQEAqZwBANKwAQAqxAEAkcQBAHfEAQB3xAEAicQBACeuAQDyrQEAVK0BAJSsAQB8nQEApsQBAOTEAQDLxAEA164BAH7EAQCnrwEARKEBAF6YAQA4oQEAXqABAJmpAQCIqQEAj6kBADGaAQCsrQEArK0BAKytAQCwmwEAibcBAH+3AQBioQEAmsEBAA+iAQA9ngEAfbkBAHCvAQARqQEA4qgBAHCpAQCMqQEAgakBAPWgAQDZoQEAbbkBAMrBAQBJuQEAsZ0BABKkAQCkmwEAA8MBAJXDAQA4mwEAzsIBAAbDAQDDuQEAcrkBAJO5AQCLmwEAA7IBAAOyAQBCtAEAQrQBAJmbAQAikgEAibgBAJu4AQDHwwEA86MBACSGAQAjqQEAWLkBAOe4AQBdmwEAzakBAPChAQBnmwEA8bwBAMu8AQDEvAEA8bwBAIOYAQBqmAEA/MMBACCZAQAszgEAn80BAC5tAQDgawEAwlgBAAt6AQBsbAEArrwBAPehAQBQugEAu8MBALvDAQBAuQEAQLkBAA25AQCeugEA+2oBAAu4AQDTtwEAeZgBACyZAQCoWwEAPFoBAN5aAQDpWgEAhVoBAA==",
          "dtype": "i4"
         },
         "xaxis": "x",
         "yaxis": "y"
        },
        {
         "bingroup": "x",
         "hovertemplate": "class_size=VLCC/ULCC<br>DWT=%{x}<br>count=%{y}<extra></extra>",
         "legendgroup": "VLCC/ULCC",
         "marker": {
          "color": "#FFA15A",
          "pattern": {
           "shape": ""
          }
         },
         "name": "VLCC/ULCC",
         "nbinsx": 100,
         "orientation": "v",
         "showlegend": true,
         "type": "histogram",
         "x": {
          "bdata": "7I4EAOuOBADsjgQAHZQEAEmVBABJlQQAI5YEAJuXBAAalAQA0pMEAJW/BAC4vwQAn5AEAFm7BACAvwQA2kkEABeSBADdrAQAg6wEAAu1BAA9kQQAOI4EAEqOBACorAQA45QEAEGOBADhjQQAzUkEANpJBAD5uAQAnUsEAFGQBABRkAQAn48EANSTBACojwQA6pAEAP2QBADOkAQA3ZAEAOqQBAClqwQAT7gEAGOHBAARiAQAEYgEABGIBAALoAQA2kkEAHu4BADOqgQAN68EADbcBADG3wQArI0EAIOqBAAnuAQASLcEABTaBAAoqgQA2bwGAIDfBACEqgQAro0EADrdBADk3AQAW9QEABa4BACKrAQAx94EAFWVBAB1lQQAGqgEAImQBABajQQA3ZMEACaXBADxvAYAkJAEAJWQBACckAQA9ZcEAN2OBADn3AQAkMoEAJDKBAA1rAQARI4EANWXBACwlwQA0JMEANCTBAB7lgQAt5YEAFGPBABHkAQAAJYEAEKWBADfkwQANEsEADRLBABckwQAXbYEANyPBADY4wQAM+IEANSTBADM3gQAYtsEACKpBACmqAQAN68EAFmQBABEwQQAsKwEAEa/BAAerAQAXbYEAN6TBAB1vAQAJbwEAH24BADbjwQAq48EAB6sBADhugQAiMoEAEuVBAD/rAQAGo4EAJGdBABc2QQAJZUEAF6MBAD04QQAt9cEALfXBACs1wQArNcEAP/hBAD/4QQArNcEALfXBACr1wQA+uEEAPnhBACd4QQAs4kEACGGBACEhAQAdNoEAHXbBABEuwQAGdoEAMi6BABP2AQARdoEACHYBABe2AQAYNgEAD7YBAAc3wQARN8EABzfBABB3wQAP98EAA/fBABI5QQAVOQEAA==",
          "dtype": "i4"
         },
         "xaxis": "x",
         "yaxis": "y"
        }
       ],
       "layout": {
        "barmode": "relative",
        "height": 400,
        "legend": {
         "title": {
          "text": "class_size"
         },
         "tracegroupgap": 0
        },
        "template": {
         "data": {
          "bar": [
           {
            "error_x": {
             "color": "#2a3f5f"
            },
            "error_y": {
             "color": "#2a3f5f"
            },
            "marker": {
             "line": {
              "color": "#E5ECF6",
              "width": 0.5
             },
             "pattern": {
              "fillmode": "overlay",
              "size": 10,
              "solidity": 0.2
             }
            },
            "type": "bar"
           }
          ],
          "barpolar": [
           {
            "marker": {
             "line": {
              "color": "#E5ECF6",
              "width": 0.5
             },
             "pattern": {
              "fillmode": "overlay",
              "size": 10,
              "solidity": 0.2
             }
            },
            "type": "barpolar"
           }
          ],
          "carpet": [
           {
            "aaxis": {
             "endlinecolor": "#2a3f5f",
             "gridcolor": "white",
             "linecolor": "white",
             "minorgridcolor": "white",
             "startlinecolor": "#2a3f5f"
            },
            "baxis": {
             "endlinecolor": "#2a3f5f",
             "gridcolor": "white",
             "linecolor": "white",
             "minorgridcolor": "white",
             "startlinecolor": "#2a3f5f"
            },
            "type": "carpet"
           }
          ],
          "choropleth": [
           {
            "colorbar": {
             "outlinewidth": 0,
             "ticks": ""
            },
            "type": "choropleth"
           }
          ],
          "contour": [
           {
            "colorbar": {
             "outlinewidth": 0,
             "ticks": ""
            },
            "colorscale": [
             [
              0,
              "#0d0887"
             ],
             [
              0.1111111111111111,
              "#46039f"
             ],
             [
              0.2222222222222222,
              "#7201a8"
             ],
             [
              0.3333333333333333,
              "#9c179e"
             ],
             [
              0.4444444444444444,
              "#bd3786"
             ],
             [
              0.5555555555555556,
              "#d8576b"
             ],
             [
              0.6666666666666666,
              "#ed7953"
             ],
             [
              0.7777777777777778,
              "#fb9f3a"
             ],
             [
              0.8888888888888888,
              "#fdca26"
             ],
             [
              1,
              "#f0f921"
             ]
            ],
            "type": "contour"
           }
          ],
          "contourcarpet": [
           {
            "colorbar": {
             "outlinewidth": 0,
             "ticks": ""
            },
            "type": "contourcarpet"
           }
          ],
          "heatmap": [
           {
            "colorbar": {
             "outlinewidth": 0,
             "ticks": ""
            },
            "colorscale": [
             [
              0,
              "#0d0887"
             ],
             [
              0.1111111111111111,
              "#46039f"
             ],
             [
              0.2222222222222222,
              "#7201a8"
             ],
             [
              0.3333333333333333,
              "#9c179e"
             ],
             [
              0.4444444444444444,
              "#bd3786"
             ],
             [
              0.5555555555555556,
              "#d8576b"
             ],
             [
              0.6666666666666666,
              "#ed7953"
             ],
             [
              0.7777777777777778,
              "#fb9f3a"
             ],
             [
              0.8888888888888888,
              "#fdca26"
             ],
             [
              1,
              "#f0f921"
             ]
            ],
            "type": "heatmap"
           }
          ],
          "histogram": [
           {
            "marker": {
             "pattern": {
              "fillmode": "overlay",
              "size": 10,
              "solidity": 0.2
             }
            },
            "type": "histogram"
           }
          ],
          "histogram2d": [
           {
            "colorbar": {
             "outlinewidth": 0,
             "ticks": ""
            },
            "colorscale": [
             [
              0,
              "#0d0887"
             ],
             [
              0.1111111111111111,
              "#46039f"
             ],
             [
              0.2222222222222222,
              "#7201a8"
             ],
             [
              0.3333333333333333,
              "#9c179e"
             ],
             [
              0.4444444444444444,
              "#bd3786"
             ],
             [
              0.5555555555555556,
              "#d8576b"
             ],
             [
              0.6666666666666666,
              "#ed7953"
             ],
             [
              0.7777777777777778,
              "#fb9f3a"
             ],
             [
              0.8888888888888888,
              "#fdca26"
             ],
             [
              1,
              "#f0f921"
             ]
            ],
            "type": "histogram2d"
           }
          ],
          "histogram2dcontour": [
           {
            "colorbar": {
             "outlinewidth": 0,
             "ticks": ""
            },
            "colorscale": [
             [
              0,
              "#0d0887"
             ],
             [
              0.1111111111111111,
              "#46039f"
             ],
             [
              0.2222222222222222,
              "#7201a8"
             ],
             [
              0.3333333333333333,
              "#9c179e"
             ],
             [
              0.4444444444444444,
              "#bd3786"
             ],
             [
              0.5555555555555556,
              "#d8576b"
             ],
             [
              0.6666666666666666,
              "#ed7953"
             ],
             [
              0.7777777777777778,
              "#fb9f3a"
             ],
             [
              0.8888888888888888,
              "#fdca26"
             ],
             [
              1,
              "#f0f921"
             ]
            ],
            "type": "histogram2dcontour"
           }
          ],
          "mesh3d": [
           {
            "colorbar": {
             "outlinewidth": 0,
             "ticks": ""
            },
            "type": "mesh3d"
           }
          ],
          "parcoords": [
           {
            "line": {
             "colorbar": {
              "outlinewidth": 0,
              "ticks": ""
             }
            },
            "type": "parcoords"
           }
          ],
          "pie": [
           {
            "automargin": true,
            "type": "pie"
           }
          ],
          "scatter": [
           {
            "fillpattern": {
             "fillmode": "overlay",
             "size": 10,
             "solidity": 0.2
            },
            "type": "scatter"
           }
          ],
          "scatter3d": [
           {
            "line": {
             "colorbar": {
              "outlinewidth": 0,
              "ticks": ""
             }
            },
            "marker": {
             "colorbar": {
              "outlinewidth": 0,
              "ticks": ""
             }
            },
            "type": "scatter3d"
           }
          ],
          "scattercarpet": [
           {
            "marker": {
             "colorbar": {
              "outlinewidth": 0,
              "ticks": ""
             }
            },
            "type": "scattercarpet"
           }
          ],
          "scattergeo": [
           {
            "marker": {
             "colorbar": {
              "outlinewidth": 0,
              "ticks": ""
             }
            },
            "type": "scattergeo"
           }
          ],
          "scattergl": [
           {
            "marker": {
             "colorbar": {
              "outlinewidth": 0,
              "ticks": ""
             }
            },
            "type": "scattergl"
           }
          ],
          "scattermap": [
           {
            "marker": {
             "colorbar": {
              "outlinewidth": 0,
              "ticks": ""
             }
            },
            "type": "scattermap"
           }
          ],
          "scattermapbox": [
           {
            "marker": {
             "colorbar": {
              "outlinewidth": 0,
              "ticks": ""
             }
            },
            "type": "scattermapbox"
           }
          ],
          "scatterpolar": [
           {
            "marker": {
             "colorbar": {
              "outlinewidth": 0,
              "ticks": ""
             }
            },
            "type": "scatterpolar"
           }
          ],
          "scatterpolargl": [
           {
            "marker": {
             "colorbar": {
              "outlinewidth": 0,
              "ticks": ""
             }
            },
            "type": "scatterpolargl"
           }
          ],
          "scatterternary": [
           {
            "marker": {
             "colorbar": {
              "outlinewidth": 0,
              "ticks": ""
             }
            },
            "type": "scatterternary"
           }
          ],
          "surface": [
           {
            "colorbar": {
             "outlinewidth": 0,
             "ticks": ""
            },
            "colorscale": [
             [
              0,
              "#0d0887"
             ],
             [
              0.1111111111111111,
              "#46039f"
             ],
             [
              0.2222222222222222,
              "#7201a8"
             ],
             [
              0.3333333333333333,
              "#9c179e"
             ],
             [
              0.4444444444444444,
              "#bd3786"
             ],
             [
              0.5555555555555556,
              "#d8576b"
             ],
             [
              0.6666666666666666,
              "#ed7953"
             ],
             [
              0.7777777777777778,
              "#fb9f3a"
             ],
             [
              0.8888888888888888,
              "#fdca26"
             ],
             [
              1,
              "#f0f921"
             ]
            ],
            "type": "surface"
           }
          ],
          "table": [
           {
            "cells": {
             "fill": {
              "color": "#EBF0F8"
             },
             "line": {
              "color": "white"
             }
            },
            "header": {
             "fill": {
              "color": "#C8D4E3"
             },
             "line": {
              "color": "white"
             }
            },
            "type": "table"
           }
          ]
         },
         "layout": {
          "annotationdefaults": {
           "arrowcolor": "#2a3f5f",
           "arrowhead": 0,
           "arrowwidth": 1
          },
          "autotypenumbers": "strict",
          "coloraxis": {
           "colorbar": {
            "outlinewidth": 0,
            "ticks": ""
           }
          },
          "colorscale": {
           "diverging": [
            [
             0,
             "#8e0152"
            ],
            [
             0.1,
             "#c51b7d"
            ],
            [
             0.2,
             "#de77ae"
            ],
            [
             0.3,
             "#f1b6da"
            ],
            [
             0.4,
             "#fde0ef"
            ],
            [
             0.5,
             "#f7f7f7"
            ],
            [
             0.6,
             "#e6f5d0"
            ],
            [
             0.7,
             "#b8e186"
            ],
            [
             0.8,
             "#7fbc41"
            ],
            [
             0.9,
             "#4d9221"
            ],
            [
             1,
             "#276419"
            ]
           ],
           "sequential": [
            [
             0,
             "#0d0887"
            ],
            [
             0.1111111111111111,
             "#46039f"
            ],
            [
             0.2222222222222222,
             "#7201a8"
            ],
            [
             0.3333333333333333,
             "#9c179e"
            ],
            [
             0.4444444444444444,
             "#bd3786"
            ],
            [
             0.5555555555555556,
             "#d8576b"
            ],
            [
             0.6666666666666666,
             "#ed7953"
            ],
            [
             0.7777777777777778,
             "#fb9f3a"
            ],
            [
             0.8888888888888888,
             "#fdca26"
            ],
            [
             1,
             "#f0f921"
            ]
           ],
           "sequentialminus": [
            [
             0,
             "#0d0887"
            ],
            [
             0.1111111111111111,
             "#46039f"
            ],
            [
             0.2222222222222222,
             "#7201a8"
            ],
            [
             0.3333333333333333,
             "#9c179e"
            ],
            [
             0.4444444444444444,
             "#bd3786"
            ],
            [
             0.5555555555555556,
             "#d8576b"
            ],
            [
             0.6666666666666666,
             "#ed7953"
            ],
            [
             0.7777777777777778,
             "#fb9f3a"
            ],
            [
             0.8888888888888888,
             "#fdca26"
            ],
            [
             1,
             "#f0f921"
            ]
           ]
          },
          "colorway": [
           "#636efa",
           "#EF553B",
           "#00cc96",
           "#ab63fa",
           "#FFA15A",
           "#19d3f3",
           "#FF6692",
           "#B6E880",
           "#FF97FF",
           "#FECB52"
          ],
          "font": {
           "color": "#2a3f5f"
          },
          "geo": {
           "bgcolor": "white",
           "lakecolor": "white",
           "landcolor": "#E5ECF6",
           "showlakes": true,
           "showland": true,
           "subunitcolor": "white"
          },
          "hoverlabel": {
           "align": "left"
          },
          "hovermode": "closest",
          "mapbox": {
           "style": "light"
          },
          "paper_bgcolor": "white",
          "plot_bgcolor": "#E5ECF6",
          "polar": {
           "angularaxis": {
            "gridcolor": "white",
            "linecolor": "white",
            "ticks": ""
           },
           "bgcolor": "#E5ECF6",
           "radialaxis": {
            "gridcolor": "white",
            "linecolor": "white",
            "ticks": ""
           }
          },
          "scene": {
           "xaxis": {
            "backgroundcolor": "#E5ECF6",
            "gridcolor": "white",
            "gridwidth": 2,
            "linecolor": "white",
            "showbackground": true,
            "ticks": "",
            "zerolinecolor": "white"
           },
           "yaxis": {
            "backgroundcolor": "#E5ECF6",
            "gridcolor": "white",
            "gridwidth": 2,
            "linecolor": "white",
            "showbackground": true,
            "ticks": "",
            "zerolinecolor": "white"
           },
           "zaxis": {
            "backgroundcolor": "#E5ECF6",
            "gridcolor": "white",
            "gridwidth": 2,
            "linecolor": "white",
            "showbackground": true,
            "ticks": "",
            "zerolinecolor": "white"
           }
          },
          "shapedefaults": {
           "line": {
            "color": "#2a3f5f"
           }
          },
          "ternary": {
           "aaxis": {
            "gridcolor": "white",
            "linecolor": "white",
            "ticks": ""
           },
           "baxis": {
            "gridcolor": "white",
            "linecolor": "white",
            "ticks": ""
           },
           "bgcolor": "#E5ECF6",
           "caxis": {
            "gridcolor": "white",
            "linecolor": "white",
            "ticks": ""
           }
          },
          "title": {
           "x": 0.05
          },
          "xaxis": {
           "automargin": true,
           "gridcolor": "white",
           "linecolor": "white",
           "ticks": "",
           "title": {
            "standoff": 15
           },
           "zerolinecolor": "white",
           "zerolinewidth": 2
          },
          "yaxis": {
           "automargin": true,
           "gridcolor": "white",
           "linecolor": "white",
           "ticks": "",
           "title": {
            "standoff": 15
           },
           "zerolinecolor": "white",
           "zerolinewidth": 2
          }
         }
        },
        "title": {
         "text": "Ships Transporting by Dead Weight Ton <br>1204 Total Ships"
        },
        "width": 1000,
        "xaxis": {
         "anchor": "y",
         "domain": [
          0,
          1
         ],
         "title": {
          "text": "DWT"
         }
        },
        "yaxis": {
         "anchor": "x",
         "domain": [
          0,
          1
         ],
         "title": {
          "text": "count"
         }
        }
       }
      },
      "image/png": "[encoded data removed]"
     },
     "metadata": {},
     "output_type": "display_data"
    }
   ],
   "source": [
    "fig = px.histogram(df, x=\"DWT\", color=\"class_size\", nbins=100, title=f\"Ships Transporting by Dead Weight Ton <br>\"\n",
    "                                                                            f\"{df.shape[0]} Total Ships\")\n",
    "fig.update_layout(width=1000, height=400)\n",
    "fig.show()\n",
    "fig.write_html(\"all_ships_dwt_interactive_plot.html\")\n"
   ]
  },
  {
   "cell_type": "code",
   "execution_count": 18,
   "id": "1cac0b67-e5bd-45f4-897e-69ebfa7f6c0d",
   "metadata": {},
   "outputs": [
    {
     "data": {
      "application/vnd.plotly.v1+json": {
       "config": {
        "plotlyServerURL": "https://plot.ly"
       },
       "data": [
        {
         "bingroup": "x",
         "hovertemplate": "class_size=Suezmax<br>DWT=%{x}<br>count=%{y}<extra></extra>",
         "legendgroup": "Suezmax",
         "marker": {
          "color": "#636efa",
          "pattern": {
           "shape": ""
          }
         },
         "name": "Suezmax",
         "nbinsx": 100,
         "orientation": "v",
         "showlegend": true,
         "type": "histogram",
         "x": {
          "bdata": "tkgCAGE7AgDTQwIAYOcBANU8AgA5TQIAHE0CAEBWAgCT7QEA620CAMFvAgAOcAIAwW8CAMFvAgDfbwIAM28CAOFvAgCPZgIA13ACAJ1wAgD/cAIAPXMCAFtNAgAMSwIAdXICALtVAgDwcQIAiD4CAH9yAgASgwIAt3ECACByAgDpSQIA0G0CAI1wAgCmgQIAvoECAFJuAgDdbgIAh24CAF2CAgD/cAIA/3ACALWCAgDlSQIA6kkCAK2FAgC0cAIAKFECAI1QAgDObgIAL4oCAOtJAgDrSQIA50kCAOtJAgBZawIArW0CAD1vAgA1TAIASW0CAGttAgCMbQIAT20CAGFtAgDCbgIAgm0CAHxtAgDpSQIAbm4CAHRtAgBpbQIA0m0CANttAgD7OwIAXjsCANh9AgAAgwIA1YICAHtsAgCjbgIAzVECAF16AgDyawIA2X4CACyJAgCpbAIAoWwCAMhsAgBAbAIAe2wCADqBAgA6gQIAOoECAGFsAgBYZAIAFGMCAJxjAgBRaQIAGWQCANZjAgAWZAIAdmkCAHZpAgCQaQIAkWkCAHRjAgBuawIAbmsCAG5rAgBKZgIA0GsCALfcAQCi3AEASO4CAA==",
          "dtype": "i4"
         },
         "xaxis": "x",
         "yaxis": "y"
        },
        {
         "bingroup": "x",
         "hovertemplate": "class_size=Aframax<br>DWT=%{x}<br>count=%{y}<extra></extra>",
         "legendgroup": "Aframax",
         "marker": {
          "color": "#EF553B",
          "pattern": {
           "shape": ""
          }
         },
         "name": "Aframax",
         "nbinsx": 100,
         "orientation": "v",
         "showlegend": true,
         "type": "histogram",
         "x": {
          "bdata": "boQBAMR7AQA6mwEAoaIBADOgAQB4mwEAyZoBADigAQAflgEASIMBAA+DAQBMgwEA1oIBABaDAQB0nAEAgJ0BAICdAQAzgwEAbJgBAGyYAQDDmAEAKaYBANmaAQAQuwEAELsBALi1AQD2tQEARZwBAICbAQAVuAEAJ7gBABy4AQClngEAep4BAFqeAQBangEAGLgBAO2cAQCRngEAlZoBAM6aAQB7nQEAa5wBADKaAQD0nAEAuJwBAIGdAQB1uQEAibkBAAOZAQDDmwEAMLUBAASgAQCbnwEARZsBAMqcAQA4wQEA76oBAO+qAQAynwEAsp4BAFSiAQBzogEABJoBAASgAQAEoAEAC54BAHOiAQDCnAEAs5wBANGfAQBymwEAcpsBAHKbAQB0nAEApb8BAM+/AQByvwEAoJkBANrCAQBHwwEAyJwBABGdAQAkmgEASaIBAPvDAQAPxAEAecABAEnAAQB5wAEAiKIBAHeiAQCLnAEAB0wBAFGwAQCNnQEAhaoBAAucAQDtnQEAGsMBAH/DAQBlngEAVp4BACWeAQB4nwEAlcMBAM/DAQB1nQEAWZ0BAHqdAQBEvwEARL8BANuUAQDGlAEAiJQBAGjBAQBowQEAvqIBAMDCAQB5wAEAecABAHa8AQBamwEAfaoBAAOsAQBFrAEA6poBANaaAQCNwgEAjMIBAI3CAQClsQEAnrEBAKGxAQCcsQEAUpoBAFKaAQCzwwEAt8MBANWdAQDAwAEAxp0BADvDAQA6mwEASpoBAE6eAQD4nwEAwZ8BAJG7AQCRuwEAcqcBABGtAQBfrQEAIa0BANutAQAUngEAFZ4BABeeAQBNngEAbp4BAJ+0AQDAtAEAWo4BACqOAQASjgEA9I0BAImOAQATnQEA0qoBAKHJAQA/yQEAaKwBAKWtAQCjrQEAvq4BAOSaAQBXmgEA+5kBAE+sAQCKwgEAMpwBAGOcAQBfrQEA+6wBAC2dAQBJogEASaIBAAKsAQCpyAEAT6wBAFKsAQBorAEAiMUBAH3FAQBbvwEAb8MBABecAQChwAEA0MABAOWbAQBLnAEAYk4BALm8AQCemwEAopkBAKOYAQCqwAEAa8ABAFDDAQB5wwEAecMBAHnDAQBjnQEAqZwBANKwAQAqxAEAkcQBAHfEAQB3xAEAicQBACeuAQDyrQEAVK0BAJSsAQB8nQEApsQBAOTEAQDLxAEA164BAH7EAQCnrwEARKEBAF6YAQA4oQEAXqABAJmpAQCIqQEAj6kBADGaAQCsrQEArK0BAKytAQCwmwEAibcBAH+3AQBioQEAmsEBAA+iAQA9ngEAfbkBAHCvAQARqQEA4qgBAHCpAQCMqQEAgakBAPWgAQDZoQEAbbkBAMrBAQBJuQEAsZ0BABKkAQCkmwEAA8MBAJXDAQA4mwEAzsIBAAbDAQDDuQEAcrkBAJO5AQCLmwEAA7IBAAOyAQBCtAEAQrQBAJmbAQAikgEAibgBAJu4AQDHwwEA86MBACSGAQAjqQEAWLkBAOe4AQBdmwEAzakBAPChAQBnmwEA8bwBAMu8AQDEvAEA8bwBAIOYAQBqmAEA/MMBACCZAQAszgEAn80BAC5tAQDgawEAwlgBAAt6AQBsbAEArrwBAPehAQBQugEAu8MBALvDAQBAuQEAQLkBAA25AQCeugEA+2oBAAu4AQDTtwEAeZgBACyZAQCoWwEAPFoBAN5aAQDpWgEAhVoBAA==",
          "dtype": "i4"
         },
         "xaxis": "x",
         "yaxis": "y"
        },
        {
         "bingroup": "x",
         "hovertemplate": "class_size=VLCC/ULCC<br>DWT=%{x}<br>count=%{y}<extra></extra>",
         "legendgroup": "VLCC/ULCC",
         "marker": {
          "color": "#00cc96",
          "pattern": {
           "shape": ""
          }
         },
         "name": "VLCC/ULCC",
         "nbinsx": 100,
         "orientation": "v",
         "showlegend": true,
         "type": "histogram",
         "x": {
          "bdata": "7I4EAOuOBADsjgQAHZQEAEmVBABJlQQAI5YEAJuXBAAalAQA0pMEAJW/BAC4vwQAn5AEAFm7BACAvwQA2kkEABeSBADdrAQAg6wEAAu1BAA9kQQAOI4EAEqOBACorAQA45QEAEGOBADhjQQAzUkEANpJBAD5uAQAnUsEAFGQBABRkAQAn48EANSTBACojwQA6pAEAP2QBADOkAQA3ZAEAOqQBAClqwQAT7gEAGOHBAARiAQAEYgEABGIBAALoAQA2kkEAHu4BADOqgQAN68EADbcBADG3wQArI0EAIOqBAAnuAQASLcEABTaBAAoqgQA2bwGAIDfBACEqgQAro0EADrdBADk3AQAW9QEABa4BACKrAQAx94EAFWVBAB1lQQAGqgEAImQBABajQQA3ZMEACaXBADxvAYAkJAEAJWQBACckAQA9ZcEAN2OBADn3AQAkMoEAJDKBAA1rAQARI4EANWXBACwlwQA0JMEANCTBAB7lgQAt5YEAFGPBABHkAQAAJYEAEKWBADfkwQANEsEADRLBABckwQAXbYEANyPBADY4wQAM+IEANSTBADM3gQAYtsEACKpBACmqAQAN68EAFmQBABEwQQAsKwEAEa/BAAerAQAXbYEAN6TBAB1vAQAJbwEAH24BADbjwQAq48EAB6sBADhugQAiMoEAEuVBAD/rAQAGo4EAJGdBABc2QQAJZUEAF6MBAD04QQAt9cEALfXBACs1wQArNcEAP/hBAD/4QQArNcEALfXBACr1wQA+uEEAPnhBACd4QQAs4kEACGGBACEhAQAdNoEAHXbBABEuwQAGdoEAMi6BABP2AQARdoEACHYBABe2AQAYNgEAD7YBAAc3wQARN8EABzfBABB3wQAP98EAA/fBABI5QQAVOQEAA==",
          "dtype": "i4"
         },
         "xaxis": "x",
         "yaxis": "y"
        }
       ],
       "layout": {
        "barmode": "relative",
        "height": 400,
        "legend": {
         "title": {
          "text": "class_size"
         },
         "tracegroupgap": 0
        },
        "template": {
         "data": {
          "bar": [
           {
            "error_x": {
             "color": "#2a3f5f"
            },
            "error_y": {
             "color": "#2a3f5f"
            },
            "marker": {
             "line": {
              "color": "#E5ECF6",
              "width": 0.5
             },
             "pattern": {
              "fillmode": "overlay",
              "size": 10,
              "solidity": 0.2
             }
            },
            "type": "bar"
           }
          ],
          "barpolar": [
           {
            "marker": {
             "line": {
              "color": "#E5ECF6",
              "width": 0.5
             },
             "pattern": {
              "fillmode": "overlay",
              "size": 10,
              "solidity": 0.2
             }
            },
            "type": "barpolar"
           }
          ],
          "carpet": [
           {
            "aaxis": {
             "endlinecolor": "#2a3f5f",
             "gridcolor": "white",
             "linecolor": "white",
             "minorgridcolor": "white",
             "startlinecolor": "#2a3f5f"
            },
            "baxis": {
             "endlinecolor": "#2a3f5f",
             "gridcolor": "white",
             "linecolor": "white",
             "minorgridcolor": "white",
             "startlinecolor": "#2a3f5f"
            },
            "type": "carpet"
           }
          ],
          "choropleth": [
           {
            "colorbar": {
             "outlinewidth": 0,
             "ticks": ""
            },
            "type": "choropleth"
           }
          ],
          "contour": [
           {
            "colorbar": {
             "outlinewidth": 0,
             "ticks": ""
            },
            "colorscale": [
             [
              0,
              "#0d0887"
             ],
             [
              0.1111111111111111,
              "#46039f"
             ],
             [
              0.2222222222222222,
              "#7201a8"
             ],
             [
              0.3333333333333333,
              "#9c179e"
             ],
             [
              0.4444444444444444,
              "#bd3786"
             ],
             [
              0.5555555555555556,
              "#d8576b"
             ],
             [
              0.6666666666666666,
              "#ed7953"
             ],
             [
              0.7777777777777778,
              "#fb9f3a"
             ],
             [
              0.8888888888888888,
              "#fdca26"
             ],
             [
              1,
              "#f0f921"
             ]
            ],
            "type": "contour"
           }
          ],
          "contourcarpet": [
           {
            "colorbar": {
             "outlinewidth": 0,
             "ticks": ""
            },
            "type": "contourcarpet"
           }
          ],
          "heatmap": [
           {
            "colorbar": {
             "outlinewidth": 0,
             "ticks": ""
            },
            "colorscale": [
             [
              0,
              "#0d0887"
             ],
             [
              0.1111111111111111,
              "#46039f"
             ],
             [
              0.2222222222222222,
              "#7201a8"
             ],
             [
              0.3333333333333333,
              "#9c179e"
             ],
             [
              0.4444444444444444,
              "#bd3786"
             ],
             [
              0.5555555555555556,
              "#d8576b"
             ],
             [
              0.6666666666666666,
              "#ed7953"
             ],
             [
              0.7777777777777778,
              "#fb9f3a"
             ],
             [
              0.8888888888888888,
              "#fdca26"
             ],
             [
              1,
              "#f0f921"
             ]
            ],
            "type": "heatmap"
           }
          ],
          "histogram": [
           {
            "marker": {
             "pattern": {
              "fillmode": "overlay",
              "size": 10,
              "solidity": 0.2
             }
            },
            "type": "histogram"
           }
          ],
          "histogram2d": [
           {
            "colorbar": {
             "outlinewidth": 0,
             "ticks": ""
            },
            "colorscale": [
             [
              0,
              "#0d0887"
             ],
             [
              0.1111111111111111,
              "#46039f"
             ],
             [
              0.2222222222222222,
              "#7201a8"
             ],
             [
              0.3333333333333333,
              "#9c179e"
             ],
             [
              0.4444444444444444,
              "#bd3786"
             ],
             [
              0.5555555555555556,
              "#d8576b"
             ],
             [
              0.6666666666666666,
              "#ed7953"
             ],
             [
              0.7777777777777778,
              "#fb9f3a"
             ],
             [
              0.8888888888888888,
              "#fdca26"
             ],
             [
              1,
              "#f0f921"
             ]
            ],
            "type": "histogram2d"
           }
          ],
          "histogram2dcontour": [
           {
            "colorbar": {
             "outlinewidth": 0,
             "ticks": ""
            },
            "colorscale": [
             [
              0,
              "#0d0887"
             ],
             [
              0.1111111111111111,
              "#46039f"
             ],
             [
              0.2222222222222222,
              "#7201a8"
             ],
             [
              0.3333333333333333,
              "#9c179e"
             ],
             [
              0.4444444444444444,
              "#bd3786"
             ],
             [
              0.5555555555555556,
              "#d8576b"
             ],
             [
              0.6666666666666666,
              "#ed7953"
             ],
             [
              0.7777777777777778,
              "#fb9f3a"
             ],
             [
              0.8888888888888888,
              "#fdca26"
             ],
             [
              1,
              "#f0f921"
             ]
            ],
            "type": "histogram2dcontour"
           }
          ],
          "mesh3d": [
           {
            "colorbar": {
             "outlinewidth": 0,
             "ticks": ""
            },
            "type": "mesh3d"
           }
          ],
          "parcoords": [
           {
            "line": {
             "colorbar": {
              "outlinewidth": 0,
              "ticks": ""
             }
            },
            "type": "parcoords"
           }
          ],
          "pie": [
           {
            "automargin": true,
            "type": "pie"
           }
          ],
          "scatter": [
           {
            "fillpattern": {
             "fillmode": "overlay",
             "size": 10,
             "solidity": 0.2
            },
            "type": "scatter"
           }
          ],
          "scatter3d": [
           {
            "line": {
             "colorbar": {
              "outlinewidth": 0,
              "ticks": ""
             }
            },
            "marker": {
             "colorbar": {
              "outlinewidth": 0,
              "ticks": ""
             }
            },
            "type": "scatter3d"
           }
          ],
          "scattercarpet": [
           {
            "marker": {
             "colorbar": {
              "outlinewidth": 0,
              "ticks": ""
             }
            },
            "type": "scattercarpet"
           }
          ],
          "scattergeo": [
           {
            "marker": {
             "colorbar": {
              "outlinewidth": 0,
              "ticks": ""
             }
            },
            "type": "scattergeo"
           }
          ],
          "scattergl": [
           {
            "marker": {
             "colorbar": {
              "outlinewidth": 0,
              "ticks": ""
             }
            },
            "type": "scattergl"
           }
          ],
          "scattermap": [
           {
            "marker": {
             "colorbar": {
              "outlinewidth": 0,
              "ticks": ""
             }
            },
            "type": "scattermap"
           }
          ],
          "scattermapbox": [
           {
            "marker": {
             "colorbar": {
              "outlinewidth": 0,
              "ticks": ""
             }
            },
            "type": "scattermapbox"
           }
          ],
          "scatterpolar": [
           {
            "marker": {
             "colorbar": {
              "outlinewidth": 0,
              "ticks": ""
             }
            },
            "type": "scatterpolar"
           }
          ],
          "scatterpolargl": [
           {
            "marker": {
             "colorbar": {
              "outlinewidth": 0,
              "ticks": ""
             }
            },
            "type": "scatterpolargl"
           }
          ],
          "scatterternary": [
           {
            "marker": {
             "colorbar": {
              "outlinewidth": 0,
              "ticks": ""
             }
            },
            "type": "scatterternary"
           }
          ],
          "surface": [
           {
            "colorbar": {
             "outlinewidth": 0,
             "ticks": ""
            },
            "colorscale": [
             [
              0,
              "#0d0887"
             ],
             [
              0.1111111111111111,
              "#46039f"
             ],
             [
              0.2222222222222222,
              "#7201a8"
             ],
             [
              0.3333333333333333,
              "#9c179e"
             ],
             [
              0.4444444444444444,
              "#bd3786"
             ],
             [
              0.5555555555555556,
              "#d8576b"
             ],
             [
              0.6666666666666666,
              "#ed7953"
             ],
             [
              0.7777777777777778,
              "#fb9f3a"
             ],
             [
              0.8888888888888888,
              "#fdca26"
             ],
             [
              1,
              "#f0f921"
             ]
            ],
            "type": "surface"
           }
          ],
          "table": [
           {
            "cells": {
             "fill": {
              "color": "#EBF0F8"
             },
             "line": {
              "color": "white"
             }
            },
            "header": {
             "fill": {
              "color": "#C8D4E3"
             },
             "line": {
              "color": "white"
             }
            },
            "type": "table"
           }
          ]
         },
         "layout": {
          "annotationdefaults": {
           "arrowcolor": "#2a3f5f",
           "arrowhead": 0,
           "arrowwidth": 1
          },
          "autotypenumbers": "strict",
          "coloraxis": {
           "colorbar": {
            "outlinewidth": 0,
            "ticks": ""
           }
          },
          "colorscale": {
           "diverging": [
            [
             0,
             "#8e0152"
            ],
            [
             0.1,
             "#c51b7d"
            ],
            [
             0.2,
             "#de77ae"
            ],
            [
             0.3,
             "#f1b6da"
            ],
            [
             0.4,
             "#fde0ef"
            ],
            [
             0.5,
             "#f7f7f7"
            ],
            [
             0.6,
             "#e6f5d0"
            ],
            [
             0.7,
             "#b8e186"
            ],
            [
             0.8,
             "#7fbc41"
            ],
            [
             0.9,
             "#4d9221"
            ],
            [
             1,
             "#276419"
            ]
           ],
           "sequential": [
            [
             0,
             "#0d0887"
            ],
            [
             0.1111111111111111,
             "#46039f"
            ],
            [
             0.2222222222222222,
             "#7201a8"
            ],
            [
             0.3333333333333333,
             "#9c179e"
            ],
            [
             0.4444444444444444,
             "#bd3786"
            ],
            [
             0.5555555555555556,
             "#d8576b"
            ],
            [
             0.6666666666666666,
             "#ed7953"
            ],
            [
             0.7777777777777778,
             "#fb9f3a"
            ],
            [
             0.8888888888888888,
             "#fdca26"
            ],
            [
             1,
             "#f0f921"
            ]
           ],
           "sequentialminus": [
            [
             0,
             "#0d0887"
            ],
            [
             0.1111111111111111,
             "#46039f"
            ],
            [
             0.2222222222222222,
             "#7201a8"
            ],
            [
             0.3333333333333333,
             "#9c179e"
            ],
            [
             0.4444444444444444,
             "#bd3786"
            ],
            [
             0.5555555555555556,
             "#d8576b"
            ],
            [
             0.6666666666666666,
             "#ed7953"
            ],
            [
             0.7777777777777778,
             "#fb9f3a"
            ],
            [
             0.8888888888888888,
             "#fdca26"
            ],
            [
             1,
             "#f0f921"
            ]
           ]
          },
          "colorway": [
           "#636efa",
           "#EF553B",
           "#00cc96",
           "#ab63fa",
           "#FFA15A",
           "#19d3f3",
           "#FF6692",
           "#B6E880",
           "#FF97FF",
           "#FECB52"
          ],
          "font": {
           "color": "#2a3f5f"
          },
          "geo": {
           "bgcolor": "white",
           "lakecolor": "white",
           "landcolor": "#E5ECF6",
           "showlakes": true,
           "showland": true,
           "subunitcolor": "white"
          },
          "hoverlabel": {
           "align": "left"
          },
          "hovermode": "closest",
          "mapbox": {
           "style": "light"
          },
          "paper_bgcolor": "white",
          "plot_bgcolor": "#E5ECF6",
          "polar": {
           "angularaxis": {
            "gridcolor": "white",
            "linecolor": "white",
            "ticks": ""
           },
           "bgcolor": "#E5ECF6",
           "radialaxis": {
            "gridcolor": "white",
            "linecolor": "white",
            "ticks": ""
           }
          },
          "scene": {
           "xaxis": {
            "backgroundcolor": "#E5ECF6",
            "gridcolor": "white",
            "gridwidth": 2,
            "linecolor": "white",
            "showbackground": true,
            "ticks": "",
            "zerolinecolor": "white"
           },
           "yaxis": {
            "backgroundcolor": "#E5ECF6",
            "gridcolor": "white",
            "gridwidth": 2,
            "linecolor": "white",
            "showbackground": true,
            "ticks": "",
            "zerolinecolor": "white"
           },
           "zaxis": {
            "backgroundcolor": "#E5ECF6",
            "gridcolor": "white",
            "gridwidth": 2,
            "linecolor": "white",
            "showbackground": true,
            "ticks": "",
            "zerolinecolor": "white"
           }
          },
          "shapedefaults": {
           "line": {
            "color": "#2a3f5f"
           }
          },
          "ternary": {
           "aaxis": {
            "gridcolor": "white",
            "linecolor": "white",
            "ticks": ""
           },
           "baxis": {
            "gridcolor": "white",
            "linecolor": "white",
            "ticks": ""
           },
           "bgcolor": "#E5ECF6",
           "caxis": {
            "gridcolor": "white",
            "linecolor": "white",
            "ticks": ""
           }
          },
          "title": {
           "x": 0.05
          },
          "xaxis": {
           "automargin": true,
           "gridcolor": "white",
           "linecolor": "white",
           "ticks": "",
           "title": {
            "standoff": 15
           },
           "zerolinecolor": "white",
           "zerolinewidth": 2
          },
          "yaxis": {
           "automargin": true,
           "gridcolor": "white",
           "linecolor": "white",
           "ticks": "",
           "title": {
            "standoff": 15
           },
           "zerolinecolor": "white",
           "zerolinewidth": 2
          }
         }
        },
        "title": {
         "text": "Ships Transporting Oil by Dead Weight Ton <br>609 Total Ships"
        },
        "width": 1000,
        "xaxis": {
         "anchor": "y",
         "domain": [
          0,
          1
         ],
         "title": {
          "text": "DWT"
         }
        },
        "yaxis": {
         "anchor": "x",
         "domain": [
          0,
          1
         ],
         "title": {
          "text": "count"
         }
        }
       }
      },
      "image/png": "[encoded data removed]"
     },
     "metadata": {},
     "output_type": "display_data"
    }
   ],
   "source": [
    "fig = px.histogram(oil_ships, x=\"DWT\", color=\"class_size\", nbins=100, title=f\"Ships Transporting Oil by Dead Weight Ton <br>\"\n",
    "                                                                            f\"{oil_ships.shape[0]} Total Ships\")\n",
    "fig.update_layout(width=1000, height=400)\n",
    "fig.show()\n",
    "fig.write_html(\"oil_ships_dwt_interactive_plot.html\")\n"
   ]
  },
  {
   "cell_type": "code",
   "execution_count": 46,
   "id": "e23f7c22-35e7-40d3-8432-398ecb77440b",
   "metadata": {},
   "outputs": [
    {
     "data": {
      "application/vnd.plotly.v1+json": {
       "config": {
        "plotlyServerURL": "https://plot.ly"
       },
       "data": [
        {
         "bingroup": "x",
         "hovertemplate": "class_size=Handysize/Handymax<br>build_year_TankerTrackers=%{x}<br>count=%{y}<extra></extra>",
         "legendgroup": "Handysize/Handymax",
         "marker": {
          "color": "#636efa",
          "pattern": {
           "shape": ""
          }
         },
         "name": "Handysize/Handymax",
         "nbinsx": 100,
         "orientation": "v",
         "showlegend": true,
         "type": "histogram",
         "x": {
          "bdata": "tQe3B70Hvge+B78Htwe/B78HwQfCB8MHwgfCB8IH1QfTB8QHwwfDB8QHzAfEB9UHxgfGB8YHxgfHB8sHxwfIB8YHxgfIB8gHwQfTB8cHyAfGB8cHyQfJB8cHyAfHB8gHyQfJB8oHyQfKB8kHyAfNB8cHxwfKB8cHyAfLB8kHzAfKB8wHywfJB8sHyQfLB8sHygfLB8sHzAfLB8wHywfMB8oHzAfLB8wHzAfNB8oHygfMB8wHzQfOB8wHzAfNB8wHzQfNB80HzQfNB8wHzQfMB8wHywfNB8wHzQfNB8wHzQfOB84HzgfOB84HzwfOB84HzQfOB84HzwfPB88HzgfOB88HzwfQB88HzwfOB84H0AfQB9AHzwfPB88HzwfPB9IH0AfPB88HzgfQB9AH0AfPB88H0AfQB84H0AfRB9AHzwfPB9AH0AfQB9EH0AfQB9AH0QfQB9AH0AfRB9AH0AfQB9AH0AfQB9EH1AfQB9AH0QfRB9EH0QfQB9AH0QfQB9AH0QfRB9EH0QfSB9EH0QfRB9EH0QfSB9IH0AfSB9IH0gfSB9EH0QfTB9EH0gfTB9MH0gfQB9IH0QfSB9MH0gfSB9MH1AfSB9IH0wfTB9EH0QfTB9EH0gfSB9IH0wfTB9IH0wfUB9MH0wfTB9MH0wfTB9QH0wfTB9MH0wfTB9QH0gfUB9IH1AfUB9QH1AfTB9MH1AfTB9MH2gfUB+AH1AfUB9UH0wfUB9MH0wfTB9QH1AfUB9QH1AfVB9QH1AfUB9MH1AfUB9QH1QfUB9QH1AfUB9QH1AfUB9QH1AfVB9UH1QfVB9UH1QfVB9UH1AfWB9YH1QfVB9UH1gfUB9YH1gfVB9UH1QfUB9QH1gfVB9UH1AfVB9UH1QfUB9UH1gfVB9YH1gfWB9UH1gfXB9UH1AfWB9cH1QfVB9UH0wfWB9QH1gfWB9YH1gfWB9YH1gfWB9YH1gfWB9cH1gfXB9YH1gfWB9gH2AfWB9cH2AfWB9cH1wfXB9YH1gfWB9YH1wfXB9oH1gfXB9cH1wfXB9gH2AfYB9cH2AfVB9cH1wfWB9gH2AfWB9kH1gfZB9gH2AfXB9gH2AfZB9gH2QfaB9kH2QfaB9kH2AfXB9gH2QfYB9gH1wfaB9kH2AfYB9YH1wfXB9gH2AfXB9gH2AfYB9gH1wfXB9oH2QfXB9kH4gfYB9gH2QfXB9oH2AfaB9cH2QfhB9gH2gfZB9gH2gfaB90H3QfbB9wH2wfaB9oH3wfcB9oH2gfbB9kH2gfkB+UH2wfaB9sH3QfgB90H3AfdB9wH4AfcB9wH3AfiB90H4AfeB94H3gfiB94H3gffB94H3gfhB+AH4AfgB+EH4QfhB+AH4AffB98H3wfiB+IH4gfiB+IH4wfoB+YH5QfnB+YH6Ac=",
          "dtype": "i2"
         },
         "xaxis": "x",
         "yaxis": "y"
        },
        {
         "bingroup": "x",
         "hovertemplate": "class_size=Panamax<br>build_year_TankerTrackers=%{x}<br>count=%{y}<extra></extra>",
         "legendgroup": "Panamax",
         "marker": {
          "color": "#EF553B",
          "pattern": {
           "shape": ""
          }
         },
         "name": "Panamax",
         "nbinsx": 100,
         "orientation": "v",
         "showlegend": true,
         "type": "histogram",
         "x": {
          "bdata": "yAfPB9AH0AfQB9AH0AfPB9IH0QfRB9AH0QfSB9IH0wfTB9QH1AfTB9MH1QfTB9QH1AfUB9QH1AfUB9QH1AfUB9QH1AfUB9QH1AfVB9QH1QfVB9UH1QfVB9YH1QfVB9UH1QfWB9UH1wfXB9YH2gfaB9cH1gfYB9gH2QfYB9kH2QfZB9sH2wfoBw==",
          "dtype": "i2"
         },
         "xaxis": "x",
         "yaxis": "y"
        },
        {
         "bingroup": "x",
         "hovertemplate": "class_size=Suezmax<br>build_year_TankerTrackers=%{x}<br>count=%{y}<extra></extra>",
         "legendgroup": "Suezmax",
         "marker": {
          "color": "#00cc96",
          "pattern": {
           "shape": ""
          }
         },
         "name": "Suezmax",
         "nbinsx": 100,
         "orientation": "v",
         "showlegend": true,
         "type": "histogram",
         "x": {
          "bdata": "yQfMB8wHzQfOB84HzgfOB88HzgfQB9AHzwfPB9AHzwfOB88H0AfQB9AH0QfPB9AH0AfRB9AH0AfRB9EH0QfSB9IH0gfRB9IH0gfSB9IH0wfSB9MH0wfTB9IH0wfTB9IH0wfUB9MH1QfRB9EH0gfSB9MH1AfUB9QH0wfUB9QH1AfUB9QH1AfUB9UH1QfUB9QH1QfVB9YH1gfWB9UH1QfWB9cH1gfWB9UH1wfXB9YH1gfWB9cH1wfYB9gH2QfXB9oH2QfZB9kH2gfbB9oH2QfaB9kH2gfbB9sH2wfbB90H2wfcB9wH5wc=",
          "dtype": "i2"
         },
         "xaxis": "x",
         "yaxis": "y"
        },
        {
         "bingroup": "x",
         "hovertemplate": "class_size=Aframax<br>build_year_TankerTrackers=%{x}<br>count=%{y}<extra></extra>",
         "legendgroup": "Aframax",
         "marker": {
          "color": "#ab63fa",
          "pattern": {
           "shape": ""
          }
         },
         "name": "Aframax",
         "nbinsx": 100,
         "orientation": "v",
         "showlegend": true,
         "type": "histogram",
         "x": {
          "bdata": "yQfLB8wHzQfNB84HzgfPB88H0AfQB9AH0AfQB9AH0AfQB88HzwfPB9AH0QfQB9AH0AfRB9EH0gfRB9IH0gfSB9IH0gfTB9MH0gfSB9AH0wfTB9IH0gfUB9MH0gfTB9MH0wfTB9MH0wfTB9MH0gfTB9QH1AfUB9QH1AfTB9MH0wfSB9MH0wfTB9MH1AfUB9QH1AfUB9IH0wfTB9MH0wfTB9MH0wfTB9IH0wfTB9MH0wfTB9MH0gfTB9MH0gfUB9MH0gfTB9IH0wfVB9QH1AfUB9MH0wfTB9MH0wfTB9QH1AfUB9QH1AfUB9QH0wfUB9UH1QfVB9QH1QfVB9QH1AfUB9UH1QfWB9QH1QfVB9UH1QfVB9QH1AfUB9UH1QfVB9QH1QfVB9UH1QfWB9YH1gfVB9UH1QfVB9YH1gfWB9UH1QfVB9UH1QfVB9UH1QfVB9UH1gfVB9YH1wfWB9YH1gfVB9UH1gfWB9YH1QfXB9cH1wfYB9QH1QfVB9cH1wfYB9gH1wfXB9cH1gfXB9YH1gfWB9cH1wfXB9cH1gfXB9YH1wfWB9cH1wfXB9cH1wfWB9cH1wfXB9cH2AfWB9YH1gfWB9gH1wfXB9cH2AfWB9cH2AfYB9kH2QfYB9gH1wfXB9gH2AfZB9gH2AfYB9gH2QfZB9cH2QfYB9gH2AfYB9kH2QfZB9kH2AfYB9gH2AfZB9gH2QfZB9kH2AfYB9gH2AfZB9kH2QfZB9kH2QfZB9kH2gfaB9kH2gfZB9oH2QfZB9oH2gfZB9oH2gfaB9oH2wfbB9sH2gfbB90H3QfeB94H3AfgB+IH4QfiB+MH4gfiB+QH5gfnB+MH5AfmB+cH5gfmB+YH5wfnB+gH6Ac=",
          "dtype": "i2"
         },
         "xaxis": "x",
         "yaxis": "y"
        },
        {
         "bingroup": "x",
         "hovertemplate": "class_size=VLCC/ULCC<br>build_year_TankerTrackers=%{x}<br>count=%{y}<extra></extra>",
         "legendgroup": "VLCC/ULCC",
         "marker": {
          "color": "#FFA15A",
          "pattern": {
           "shape": ""
          }
         },
         "name": "VLCC/ULCC",
         "nbinsx": 100,
         "orientation": "v",
         "showlegend": true,
         "type": "histogram",
         "x": {
          "bdata": "zAfMB8wHzAfMB80HzQfNB84HzgfOB88HzwfQB88HzwfQB9AH0AfQB9AH0AfQB9EH0QfSB9IH0AfQB9AH0QfQB9AH0QfRB9AH0gfSB9MH0wfTB9AH0QfSB9MH0wfUB9EH0AfRB9EH0gfSB9IH0QfSB9IH0gfTB9EH0gfSB9IH0gfTB9MH0wfTB9MH0wfSB9IH0gfTB9MH0gfSB9MH0gfSB9IH0gfTB9MH0wfUB9QH1AfTB9QH1AfUB9MH0wfSB9MH1AfTB9MH1QfVB9QH1QfVB9UH1AfVB9UH1AfUB9QH1QfTB9UH1AfVB9QH1QfVB9QH1QfVB9YH1wfVB9cH1gfXB9cH1gfVB9cH1wfYB9gH2AfYB9gH2AfZB9kH2AfYB9cH2AfYB9kH2AfZB9kH2AfZB9gH2QfZB9wH3AfcB90H3QfdB9wH3AfdB90H3QfdB90H4wc=",
          "dtype": "i2"
         },
         "xaxis": "x",
         "yaxis": "y"
        }
       ],
       "layout": {
        "barmode": "relative",
        "height": 600,
        "legend": {
         "title": {
          "text": "class_size"
         },
         "tracegroupgap": 0
        },
        "template": {
         "data": {
          "bar": [
           {
            "error_x": {
             "color": "#2a3f5f"
            },
            "error_y": {
             "color": "#2a3f5f"
            },
            "marker": {
             "line": {
              "color": "#E5ECF6",
              "width": 0.5
             },
             "pattern": {
              "fillmode": "overlay",
              "size": 10,
              "solidity": 0.2
             }
            },
            "type": "bar"
           }
          ],
          "barpolar": [
           {
            "marker": {
             "line": {
              "color": "#E5ECF6",
              "width": 0.5
             },
             "pattern": {
              "fillmode": "overlay",
              "size": 10,
              "solidity": 0.2
             }
            },
            "type": "barpolar"
           }
          ],
          "carpet": [
           {
            "aaxis": {
             "endlinecolor": "#2a3f5f",
             "gridcolor": "white",
             "linecolor": "white",
             "minorgridcolor": "white",
             "startlinecolor": "#2a3f5f"
            },
            "baxis": {
             "endlinecolor": "#2a3f5f",
             "gridcolor": "white",
             "linecolor": "white",
             "minorgridcolor": "white",
             "startlinecolor": "#2a3f5f"
            },
            "type": "carpet"
           }
          ],
          "choropleth": [
           {
            "colorbar": {
             "outlinewidth": 0,
             "ticks": ""
            },
            "type": "choropleth"
           }
          ],
          "contour": [
           {
            "colorbar": {
             "outlinewidth": 0,
             "ticks": ""
            },
            "colorscale": [
             [
              0,
              "#0d0887"
             ],
             [
              0.1111111111111111,
              "#46039f"
             ],
             [
              0.2222222222222222,
              "#7201a8"
             ],
             [
              0.3333333333333333,
              "#9c179e"
             ],
             [
              0.4444444444444444,
              "#bd3786"
             ],
             [
              0.5555555555555556,
              "#d8576b"
             ],
             [
              0.6666666666666666,
              "#ed7953"
             ],
             [
              0.7777777777777778,
              "#fb9f3a"
             ],
             [
              0.8888888888888888,
              "#fdca26"
             ],
             [
              1,
              "#f0f921"
             ]
            ],
            "type": "contour"
           }
          ],
          "contourcarpet": [
           {
            "colorbar": {
             "outlinewidth": 0,
             "ticks": ""
            },
            "type": "contourcarpet"
           }
          ],
          "heatmap": [
           {
            "colorbar": {
             "outlinewidth": 0,
             "ticks": ""
            },
            "colorscale": [
             [
              0,
              "#0d0887"
             ],
             [
              0.1111111111111111,
              "#46039f"
             ],
             [
              0.2222222222222222,
              "#7201a8"
             ],
             [
              0.3333333333333333,
              "#9c179e"
             ],
             [
              0.4444444444444444,
              "#bd3786"
             ],
             [
              0.5555555555555556,
              "#d8576b"
             ],
             [
              0.6666666666666666,
              "#ed7953"
             ],
             [
              0.7777777777777778,
              "#fb9f3a"
             ],
             [
              0.8888888888888888,
              "#fdca26"
             ],
             [
              1,
              "#f0f921"
             ]
            ],
            "type": "heatmap"
           }
          ],
          "histogram": [
           {
            "marker": {
             "pattern": {
              "fillmode": "overlay",
              "size": 10,
              "solidity": 0.2
             }
            },
            "type": "histogram"
           }
          ],
          "histogram2d": [
           {
            "colorbar": {
             "outlinewidth": 0,
             "ticks": ""
            },
            "colorscale": [
             [
              0,
              "#0d0887"
             ],
             [
              0.1111111111111111,
              "#46039f"
             ],
             [
              0.2222222222222222,
              "#7201a8"
             ],
             [
              0.3333333333333333,
              "#9c179e"
             ],
             [
              0.4444444444444444,
              "#bd3786"
             ],
             [
              0.5555555555555556,
              "#d8576b"
             ],
             [
              0.6666666666666666,
              "#ed7953"
             ],
             [
              0.7777777777777778,
              "#fb9f3a"
             ],
             [
              0.8888888888888888,
              "#fdca26"
             ],
             [
              1,
              "#f0f921"
             ]
            ],
            "type": "histogram2d"
           }
          ],
          "histogram2dcontour": [
           {
            "colorbar": {
             "outlinewidth": 0,
             "ticks": ""
            },
            "colorscale": [
             [
              0,
              "#0d0887"
             ],
             [
              0.1111111111111111,
              "#46039f"
             ],
             [
              0.2222222222222222,
              "#7201a8"
             ],
             [
              0.3333333333333333,
              "#9c179e"
             ],
             [
              0.4444444444444444,
              "#bd3786"
             ],
             [
              0.5555555555555556,
              "#d8576b"
             ],
             [
              0.6666666666666666,
              "#ed7953"
             ],
             [
              0.7777777777777778,
              "#fb9f3a"
             ],
             [
              0.8888888888888888,
              "#fdca26"
             ],
             [
              1,
              "#f0f921"
             ]
            ],
            "type": "histogram2dcontour"
           }
          ],
          "mesh3d": [
           {
            "colorbar": {
             "outlinewidth": 0,
             "ticks": ""
            },
            "type": "mesh3d"
           }
          ],
          "parcoords": [
           {
            "line": {
             "colorbar": {
              "outlinewidth": 0,
              "ticks": ""
             }
            },
            "type": "parcoords"
           }
          ],
          "pie": [
           {
            "automargin": true,
            "type": "pie"
           }
          ],
          "scatter": [
           {
            "fillpattern": {
             "fillmode": "overlay",
             "size": 10,
             "solidity": 0.2
            },
            "type": "scatter"
           }
          ],
          "scatter3d": [
           {
            "line": {
             "colorbar": {
              "outlinewidth": 0,
              "ticks": ""
             }
            },
            "marker": {
             "colorbar": {
              "outlinewidth": 0,
              "ticks": ""
             }
            },
            "type": "scatter3d"
           }
          ],
          "scattercarpet": [
           {
            "marker": {
             "colorbar": {
              "outlinewidth": 0,
              "ticks": ""
             }
            },
            "type": "scattercarpet"
           }
          ],
          "scattergeo": [
           {
            "marker": {
             "colorbar": {
              "outlinewidth": 0,
              "ticks": ""
             }
            },
            "type": "scattergeo"
           }
          ],
          "scattergl": [
           {
            "marker": {
             "colorbar": {
              "outlinewidth": 0,
              "ticks": ""
             }
            },
            "type": "scattergl"
           }
          ],
          "scattermap": [
           {
            "marker": {
             "colorbar": {
              "outlinewidth": 0,
              "ticks": ""
             }
            },
            "type": "scattermap"
           }
          ],
          "scattermapbox": [
           {
            "marker": {
             "colorbar": {
              "outlinewidth": 0,
              "ticks": ""
             }
            },
            "type": "scattermapbox"
           }
          ],
          "scatterpolar": [
           {
            "marker": {
             "colorbar": {
              "outlinewidth": 0,
              "ticks": ""
             }
            },
            "type": "scatterpolar"
           }
          ],
          "scatterpolargl": [
           {
            "marker": {
             "colorbar": {
              "outlinewidth": 0,
              "ticks": ""
             }
            },
            "type": "scatterpolargl"
           }
          ],
          "scatterternary": [
           {
            "marker": {
             "colorbar": {
              "outlinewidth": 0,
              "ticks": ""
             }
            },
            "type": "scatterternary"
           }
          ],
          "surface": [
           {
            "colorbar": {
             "outlinewidth": 0,
             "ticks": ""
            },
            "colorscale": [
             [
              0,
              "#0d0887"
             ],
             [
              0.1111111111111111,
              "#46039f"
             ],
             [
              0.2222222222222222,
              "#7201a8"
             ],
             [
              0.3333333333333333,
              "#9c179e"
             ],
             [
              0.4444444444444444,
              "#bd3786"
             ],
             [
              0.5555555555555556,
              "#d8576b"
             ],
             [
              0.6666666666666666,
              "#ed7953"
             ],
             [
              0.7777777777777778,
              "#fb9f3a"
             ],
             [
              0.8888888888888888,
              "#fdca26"
             ],
             [
              1,
              "#f0f921"
             ]
            ],
            "type": "surface"
           }
          ],
          "table": [
           {
            "cells": {
             "fill": {
              "color": "#EBF0F8"
             },
             "line": {
              "color": "white"
             }
            },
            "header": {
             "fill": {
              "color": "#C8D4E3"
             },
             "line": {
              "color": "white"
             }
            },
            "type": "table"
           }
          ]
         },
         "layout": {
          "annotationdefaults": {
           "arrowcolor": "#2a3f5f",
           "arrowhead": 0,
           "arrowwidth": 1
          },
          "autotypenumbers": "strict",
          "coloraxis": {
           "colorbar": {
            "outlinewidth": 0,
            "ticks": ""
           }
          },
          "colorscale": {
           "diverging": [
            [
             0,
             "#8e0152"
            ],
            [
             0.1,
             "#c51b7d"
            ],
            [
             0.2,
             "#de77ae"
            ],
            [
             0.3,
             "#f1b6da"
            ],
            [
             0.4,
             "#fde0ef"
            ],
            [
             0.5,
             "#f7f7f7"
            ],
            [
             0.6,
             "#e6f5d0"
            ],
            [
             0.7,
             "#b8e186"
            ],
            [
             0.8,
             "#7fbc41"
            ],
            [
             0.9,
             "#4d9221"
            ],
            [
             1,
             "#276419"
            ]
           ],
           "sequential": [
            [
             0,
             "#0d0887"
            ],
            [
             0.1111111111111111,
             "#46039f"
            ],
            [
             0.2222222222222222,
             "#7201a8"
            ],
            [
             0.3333333333333333,
             "#9c179e"
            ],
            [
             0.4444444444444444,
             "#bd3786"
            ],
            [
             0.5555555555555556,
             "#d8576b"
            ],
            [
             0.6666666666666666,
             "#ed7953"
            ],
            [
             0.7777777777777778,
             "#fb9f3a"
            ],
            [
             0.8888888888888888,
             "#fdca26"
            ],
            [
             1,
             "#f0f921"
            ]
           ],
           "sequentialminus": [
            [
             0,
             "#0d0887"
            ],
            [
             0.1111111111111111,
             "#46039f"
            ],
            [
             0.2222222222222222,
             "#7201a8"
            ],
            [
             0.3333333333333333,
             "#9c179e"
            ],
            [
             0.4444444444444444,
             "#bd3786"
            ],
            [
             0.5555555555555556,
             "#d8576b"
            ],
            [
             0.6666666666666666,
             "#ed7953"
            ],
            [
             0.7777777777777778,
             "#fb9f3a"
            ],
            [
             0.8888888888888888,
             "#fdca26"
            ],
            [
             1,
             "#f0f921"
            ]
           ]
          },
          "colorway": [
           "#636efa",
           "#EF553B",
           "#00cc96",
           "#ab63fa",
           "#FFA15A",
           "#19d3f3",
           "#FF6692",
           "#B6E880",
           "#FF97FF",
           "#FECB52"
          ],
          "font": {
           "color": "#2a3f5f"
          },
          "geo": {
           "bgcolor": "white",
           "lakecolor": "white",
           "landcolor": "#E5ECF6",
           "showlakes": true,
           "showland": true,
           "subunitcolor": "white"
          },
          "hoverlabel": {
           "align": "left"
          },
          "hovermode": "closest",
          "mapbox": {
           "style": "light"
          },
          "paper_bgcolor": "white",
          "plot_bgcolor": "#E5ECF6",
          "polar": {
           "angularaxis": {
            "gridcolor": "white",
            "linecolor": "white",
            "ticks": ""
           },
           "bgcolor": "#E5ECF6",
           "radialaxis": {
            "gridcolor": "white",
            "linecolor": "white",
            "ticks": ""
           }
          },
          "scene": {
           "xaxis": {
            "backgroundcolor": "#E5ECF6",
            "gridcolor": "white",
            "gridwidth": 2,
            "linecolor": "white",
            "showbackground": true,
            "ticks": "",
            "zerolinecolor": "white"
           },
           "yaxis": {
            "backgroundcolor": "#E5ECF6",
            "gridcolor": "white",
            "gridwidth": 2,
            "linecolor": "white",
            "showbackground": true,
            "ticks": "",
            "zerolinecolor": "white"
           },
           "zaxis": {
            "backgroundcolor": "#E5ECF6",
            "gridcolor": "white",
            "gridwidth": 2,
            "linecolor": "white",
            "showbackground": true,
            "ticks": "",
            "zerolinecolor": "white"
           }
          },
          "shapedefaults": {
           "line": {
            "color": "#2a3f5f"
           }
          },
          "ternary": {
           "aaxis": {
            "gridcolor": "white",
            "linecolor": "white",
            "ticks": ""
           },
           "baxis": {
            "gridcolor": "white",
            "linecolor": "white",
            "ticks": ""
           },
           "bgcolor": "#E5ECF6",
           "caxis": {
            "gridcolor": "white",
            "linecolor": "white",
            "ticks": ""
           }
          },
          "title": {
           "x": 0.05
          },
          "xaxis": {
           "automargin": true,
           "gridcolor": "white",
           "linecolor": "white",
           "ticks": "",
           "title": {
            "standoff": 15
           },
           "zerolinecolor": "white",
           "zerolinewidth": 2
          },
          "yaxis": {
           "automargin": true,
           "gridcolor": "white",
           "linecolor": "white",
           "ticks": "",
           "title": {
            "standoff": 15
           },
           "zerolinecolor": "white",
           "zerolinewidth": 2
          }
         }
        },
        "title": {
         "text": "Vessels by Build Year <br>1204 Total Ships"
        },
        "width": 900,
        "xaxis": {
         "anchor": "y",
         "domain": [
          0,
          1
         ],
         "range": [
          1990,
          2025
         ],
         "title": {
          "text": "build_year_TankerTrackers"
         }
        },
        "yaxis": {
         "anchor": "x",
         "domain": [
          0,
          1
         ],
         "range": [
          0,
          140
         ],
         "title": {
          "text": "count"
         }
        }
       }
      },
      "image/png": "[encoded data removed]"
     },
     "metadata": {},
     "output_type": "display_data"
    }
   ],
   "source": [
    "fig = px.histogram(df, x=\"build_year_TankerTrackers\", color=\"class_size\", nbins=100, title=f\"Vessels by Build Year <br>\"\n",
    "                                                                            f\"{df.shape[0]} Total Ships\")\n",
    "fig.update_layout(width=900, height=600)\n",
    "fig.update_layout(\n",
    "    xaxis=dict(range=[1990, 2025]),  # Sets x-axis range\n",
    "    yaxis=dict(range=[0, 140])  # Sets -axis range\n",
    ")\n",
    "\n",
    "fig.show()\n",
    "fig.write_html(\"all_ships_year_interactive_plot.html\")\n"
   ]
  },
  {
   "cell_type": "code",
   "execution_count": 45,
   "id": "3e7ad303-97b3-428e-a502-f72727e8fc7b",
   "metadata": {},
   "outputs": [
    {
     "data": {
      "application/vnd.plotly.v1+json": {
       "config": {
        "plotlyServerURL": "https://plot.ly"
       },
       "data": [
        {
         "bingroup": "x",
         "hovertemplate": "class_size=Suezmax<br>build_year_TankerTrackers=%{x}<br>count=%{y}<extra></extra>",
         "legendgroup": "Suezmax",
         "marker": {
          "color": "#636efa",
          "pattern": {
           "shape": ""
          }
         },
         "name": "Suezmax",
         "nbinsx": 100,
         "orientation": "v",
         "showlegend": true,
         "type": "histogram",
         "x": {
          "bdata": "yQfMB8wHzQfOB84HzgfOB88HzgfQB9AHzwfPB9AHzwfOB88H0AfQB9AH0QfPB9AH0AfRB9AH0AfRB9EH0QfSB9IH0gfRB9IH0gfSB9IH0wfSB9MH0wfTB9IH0wfTB9IH0wfUB9MH1QfRB9EH0gfSB9MH1AfUB9QH0wfUB9QH1AfUB9QH1AfUB9UH1QfUB9QH1QfVB9YH1gfWB9UH1QfWB9cH1gfWB9UH1wfXB9YH1gfWB9cH1wfYB9gH2QfXB9oH2QfZB9kH2gfbB9oH2QfaB9kH2gfbB9sH2wfbB90H2wfcB9wH5wc=",
          "dtype": "i2"
         },
         "xaxis": "x",
         "yaxis": "y"
        },
        {
         "bingroup": "x",
         "hovertemplate": "class_size=Aframax<br>build_year_TankerTrackers=%{x}<br>count=%{y}<extra></extra>",
         "legendgroup": "Aframax",
         "marker": {
          "color": "#EF553B",
          "pattern": {
           "shape": ""
          }
         },
         "name": "Aframax",
         "nbinsx": 100,
         "orientation": "v",
         "showlegend": true,
         "type": "histogram",
         "x": {
          "bdata": "yQfLB8wHzQfNB84HzgfPB88H0AfQB9AH0AfQB9AH0AfQB88HzwfPB9AH0QfQB9AH0AfRB9EH0gfRB9IH0gfSB9IH0gfTB9MH0gfSB9AH0wfTB9IH0gfUB9MH0gfTB9MH0wfTB9MH0wfTB9MH0gfTB9QH1AfUB9QH1AfTB9MH0wfSB9MH0wfTB9MH1AfUB9QH1AfUB9IH0wfTB9MH0wfTB9MH0wfTB9IH0wfTB9MH0wfTB9MH0gfTB9MH0gfUB9MH0gfTB9IH0wfVB9QH1AfUB9MH0wfTB9MH0wfTB9QH1AfUB9QH1AfUB9QH0wfUB9UH1QfVB9QH1QfVB9QH1AfUB9UH1QfWB9QH1QfVB9UH1QfVB9QH1AfUB9UH1QfVB9QH1QfVB9UH1QfWB9YH1gfVB9UH1QfVB9YH1gfWB9UH1QfVB9UH1QfVB9UH1QfVB9UH1gfVB9YH1wfWB9YH1gfVB9UH1gfWB9YH1QfXB9cH1wfYB9QH1QfVB9cH1wfYB9gH1wfXB9cH1gfXB9YH1gfWB9cH1wfXB9cH1gfXB9YH1wfWB9cH1wfXB9cH1wfWB9cH1wfXB9cH2AfWB9YH1gfWB9gH1wfXB9cH2AfWB9cH2AfYB9kH2QfYB9gH1wfXB9gH2AfZB9gH2AfYB9gH2QfZB9cH2QfYB9gH2AfYB9kH2QfZB9kH2AfYB9gH2AfZB9gH2QfZB9kH2AfYB9gH2AfZB9kH2QfZB9kH2QfZB9kH2gfaB9kH2gfZB9oH2QfZB9oH2gfZB9oH2gfaB9oH2wfbB9sH2gfbB90H3QfeB94H3AfgB+IH4QfiB+MH4gfiB+QH5gfnB+MH5AfmB+cH5gfmB+YH5wfnB+gH6Ac=",
          "dtype": "i2"
         },
         "xaxis": "x",
         "yaxis": "y"
        },
        {
         "bingroup": "x",
         "hovertemplate": "class_size=VLCC/ULCC<br>build_year_TankerTrackers=%{x}<br>count=%{y}<extra></extra>",
         "legendgroup": "VLCC/ULCC",
         "marker": {
          "color": "#00cc96",
          "pattern": {
           "shape": ""
          }
         },
         "name": "VLCC/ULCC",
         "nbinsx": 100,
         "orientation": "v",
         "showlegend": true,
         "type": "histogram",
         "x": {
          "bdata": "zAfMB8wHzAfMB80HzQfNB84HzgfOB88HzwfQB88HzwfQB9AH0AfQB9AH0AfQB9EH0QfSB9IH0AfQB9AH0QfQB9AH0QfRB9AH0gfSB9MH0wfTB9AH0QfSB9MH0wfUB9EH0AfRB9EH0gfSB9IH0QfSB9IH0gfTB9EH0gfSB9IH0gfTB9MH0wfTB9MH0wfSB9IH0gfTB9MH0gfSB9MH0gfSB9IH0gfTB9MH0wfUB9QH1AfTB9QH1AfUB9MH0wfSB9MH1AfTB9MH1QfVB9QH1QfVB9UH1AfVB9UH1AfUB9QH1QfTB9UH1AfVB9QH1QfVB9QH1QfVB9YH1wfVB9cH1gfXB9cH1gfVB9cH1wfYB9gH2AfYB9gH2AfZB9kH2AfYB9cH2AfYB9kH2AfZB9kH2AfZB9gH2QfZB9wH3AfcB90H3QfdB9wH3AfdB90H3QfdB90H4wc=",
          "dtype": "i2"
         },
         "xaxis": "x",
         "yaxis": "y"
        }
       ],
       "layout": {
        "barmode": "relative",
        "height": 600,
        "legend": {
         "title": {
          "text": "class_size"
         },
         "tracegroupgap": 0
        },
        "template": {
         "data": {
          "bar": [
           {
            "error_x": {
             "color": "#2a3f5f"
            },
            "error_y": {
             "color": "#2a3f5f"
            },
            "marker": {
             "line": {
              "color": "#E5ECF6",
              "width": 0.5
             },
             "pattern": {
              "fillmode": "overlay",
              "size": 10,
              "solidity": 0.2
             }
            },
            "type": "bar"
           }
          ],
          "barpolar": [
           {
            "marker": {
             "line": {
              "color": "#E5ECF6",
              "width": 0.5
             },
             "pattern": {
              "fillmode": "overlay",
              "size": 10,
              "solidity": 0.2
             }
            },
            "type": "barpolar"
           }
          ],
          "carpet": [
           {
            "aaxis": {
             "endlinecolor": "#2a3f5f",
             "gridcolor": "white",
             "linecolor": "white",
             "minorgridcolor": "white",
             "startlinecolor": "#2a3f5f"
            },
            "baxis": {
             "endlinecolor": "#2a3f5f",
             "gridcolor": "white",
             "linecolor": "white",
             "minorgridcolor": "white",
             "startlinecolor": "#2a3f5f"
            },
            "type": "carpet"
           }
          ],
          "choropleth": [
           {
            "colorbar": {
             "outlinewidth": 0,
             "ticks": ""
            },
            "type": "choropleth"
           }
          ],
          "contour": [
           {
            "colorbar": {
             "outlinewidth": 0,
             "ticks": ""
            },
            "colorscale": [
             [
              0,
              "#0d0887"
             ],
             [
              0.1111111111111111,
              "#46039f"
             ],
             [
              0.2222222222222222,
              "#7201a8"
             ],
             [
              0.3333333333333333,
              "#9c179e"
             ],
             [
              0.4444444444444444,
              "#bd3786"
             ],
             [
              0.5555555555555556,
              "#d8576b"
             ],
             [
              0.6666666666666666,
              "#ed7953"
             ],
             [
              0.7777777777777778,
              "#fb9f3a"
             ],
             [
              0.8888888888888888,
              "#fdca26"
             ],
             [
              1,
              "#f0f921"
             ]
            ],
            "type": "contour"
           }
          ],
          "contourcarpet": [
           {
            "colorbar": {
             "outlinewidth": 0,
             "ticks": ""
            },
            "type": "contourcarpet"
           }
          ],
          "heatmap": [
           {
            "colorbar": {
             "outlinewidth": 0,
             "ticks": ""
            },
            "colorscale": [
             [
              0,
              "#0d0887"
             ],
             [
              0.1111111111111111,
              "#46039f"
             ],
             [
              0.2222222222222222,
              "#7201a8"
             ],
             [
              0.3333333333333333,
              "#9c179e"
             ],
             [
              0.4444444444444444,
              "#bd3786"
             ],
             [
              0.5555555555555556,
              "#d8576b"
             ],
             [
              0.6666666666666666,
              "#ed7953"
             ],
             [
              0.7777777777777778,
              "#fb9f3a"
             ],
             [
              0.8888888888888888,
              "#fdca26"
             ],
             [
              1,
              "#f0f921"
             ]
            ],
            "type": "heatmap"
           }
          ],
          "histogram": [
           {
            "marker": {
             "pattern": {
              "fillmode": "overlay",
              "size": 10,
              "solidity": 0.2
             }
            },
            "type": "histogram"
           }
          ],
          "histogram2d": [
           {
            "colorbar": {
             "outlinewidth": 0,
             "ticks": ""
            },
            "colorscale": [
             [
              0,
              "#0d0887"
             ],
             [
              0.1111111111111111,
              "#46039f"
             ],
             [
              0.2222222222222222,
              "#7201a8"
             ],
             [
              0.3333333333333333,
              "#9c179e"
             ],
             [
              0.4444444444444444,
              "#bd3786"
             ],
             [
              0.5555555555555556,
              "#d8576b"
             ],
             [
              0.6666666666666666,
              "#ed7953"
             ],
             [
              0.7777777777777778,
              "#fb9f3a"
             ],
             [
              0.8888888888888888,
              "#fdca26"
             ],
             [
              1,
              "#f0f921"
             ]
            ],
            "type": "histogram2d"
           }
          ],
          "histogram2dcontour": [
           {
            "colorbar": {
             "outlinewidth": 0,
             "ticks": ""
            },
            "colorscale": [
             [
              0,
              "#0d0887"
             ],
             [
              0.1111111111111111,
              "#46039f"
             ],
             [
              0.2222222222222222,
              "#7201a8"
             ],
             [
              0.3333333333333333,
              "#9c179e"
             ],
             [
              0.4444444444444444,
              "#bd3786"
             ],
             [
              0.5555555555555556,
              "#d8576b"
             ],
             [
              0.6666666666666666,
              "#ed7953"
             ],
             [
              0.7777777777777778,
              "#fb9f3a"
             ],
             [
              0.8888888888888888,
              "#fdca26"
             ],
             [
              1,
              "#f0f921"
             ]
            ],
            "type": "histogram2dcontour"
           }
          ],
          "mesh3d": [
           {
            "colorbar": {
             "outlinewidth": 0,
             "ticks": ""
            },
            "type": "mesh3d"
           }
          ],
          "parcoords": [
           {
            "line": {
             "colorbar": {
              "outlinewidth": 0,
              "ticks": ""
             }
            },
            "type": "parcoords"
           }
          ],
          "pie": [
           {
            "automargin": true,
            "type": "pie"
           }
          ],
          "scatter": [
           {
            "fillpattern": {
             "fillmode": "overlay",
             "size": 10,
             "solidity": 0.2
            },
            "type": "scatter"
           }
          ],
          "scatter3d": [
           {
            "line": {
             "colorbar": {
              "outlinewidth": 0,
              "ticks": ""
             }
            },
            "marker": {
             "colorbar": {
              "outlinewidth": 0,
              "ticks": ""
             }
            },
            "type": "scatter3d"
           }
          ],
          "scattercarpet": [
           {
            "marker": {
             "colorbar": {
              "outlinewidth": 0,
              "ticks": ""
             }
            },
            "type": "scattercarpet"
           }
          ],
          "scattergeo": [
           {
            "marker": {
             "colorbar": {
              "outlinewidth": 0,
              "ticks": ""
             }
            },
            "type": "scattergeo"
           }
          ],
          "scattergl": [
           {
            "marker": {
             "colorbar": {
              "outlinewidth": 0,
              "ticks": ""
             }
            },
            "type": "scattergl"
           }
          ],
          "scattermap": [
           {
            "marker": {
             "colorbar": {
              "outlinewidth": 0,
              "ticks": ""
             }
            },
            "type": "scattermap"
           }
          ],
          "scattermapbox": [
           {
            "marker": {
             "colorbar": {
              "outlinewidth": 0,
              "ticks": ""
             }
            },
            "type": "scattermapbox"
           }
          ],
          "scatterpolar": [
           {
            "marker": {
             "colorbar": {
              "outlinewidth": 0,
              "ticks": ""
             }
            },
            "type": "scatterpolar"
           }
          ],
          "scatterpolargl": [
           {
            "marker": {
             "colorbar": {
              "outlinewidth": 0,
              "ticks": ""
             }
            },
            "type": "scatterpolargl"
           }
          ],
          "scatterternary": [
           {
            "marker": {
             "colorbar": {
              "outlinewidth": 0,
              "ticks": ""
             }
            },
            "type": "scatterternary"
           }
          ],
          "surface": [
           {
            "colorbar": {
             "outlinewidth": 0,
             "ticks": ""
            },
            "colorscale": [
             [
              0,
              "#0d0887"
             ],
             [
              0.1111111111111111,
              "#46039f"
             ],
             [
              0.2222222222222222,
              "#7201a8"
             ],
             [
              0.3333333333333333,
              "#9c179e"
             ],
             [
              0.4444444444444444,
              "#bd3786"
             ],
             [
              0.5555555555555556,
              "#d8576b"
             ],
             [
              0.6666666666666666,
              "#ed7953"
             ],
             [
              0.7777777777777778,
              "#fb9f3a"
             ],
             [
              0.8888888888888888,
              "#fdca26"
             ],
             [
              1,
              "#f0f921"
             ]
            ],
            "type": "surface"
           }
          ],
          "table": [
           {
            "cells": {
             "fill": {
              "color": "#EBF0F8"
             },
             "line": {
              "color": "white"
             }
            },
            "header": {
             "fill": {
              "color": "#C8D4E3"
             },
             "line": {
              "color": "white"
             }
            },
            "type": "table"
           }
          ]
         },
         "layout": {
          "annotationdefaults": {
           "arrowcolor": "#2a3f5f",
           "arrowhead": 0,
           "arrowwidth": 1
          },
          "autotypenumbers": "strict",
          "coloraxis": {
           "colorbar": {
            "outlinewidth": 0,
            "ticks": ""
           }
          },
          "colorscale": {
           "diverging": [
            [
             0,
             "#8e0152"
            ],
            [
             0.1,
             "#c51b7d"
            ],
            [
             0.2,
             "#de77ae"
            ],
            [
             0.3,
             "#f1b6da"
            ],
            [
             0.4,
             "#fde0ef"
            ],
            [
             0.5,
             "#f7f7f7"
            ],
            [
             0.6,
             "#e6f5d0"
            ],
            [
             0.7,
             "#b8e186"
            ],
            [
             0.8,
             "#7fbc41"
            ],
            [
             0.9,
             "#4d9221"
            ],
            [
             1,
             "#276419"
            ]
           ],
           "sequential": [
            [
             0,
             "#0d0887"
            ],
            [
             0.1111111111111111,
             "#46039f"
            ],
            [
             0.2222222222222222,
             "#7201a8"
            ],
            [
             0.3333333333333333,
             "#9c179e"
            ],
            [
             0.4444444444444444,
             "#bd3786"
            ],
            [
             0.5555555555555556,
             "#d8576b"
            ],
            [
             0.6666666666666666,
             "#ed7953"
            ],
            [
             0.7777777777777778,
             "#fb9f3a"
            ],
            [
             0.8888888888888888,
             "#fdca26"
            ],
            [
             1,
             "#f0f921"
            ]
           ],
           "sequentialminus": [
            [
             0,
             "#0d0887"
            ],
            [
             0.1111111111111111,
             "#46039f"
            ],
            [
             0.2222222222222222,
             "#7201a8"
            ],
            [
             0.3333333333333333,
             "#9c179e"
            ],
            [
             0.4444444444444444,
             "#bd3786"
            ],
            [
             0.5555555555555556,
             "#d8576b"
            ],
            [
             0.6666666666666666,
             "#ed7953"
            ],
            [
             0.7777777777777778,
             "#fb9f3a"
            ],
            [
             0.8888888888888888,
             "#fdca26"
            ],
            [
             1,
             "#f0f921"
            ]
           ]
          },
          "colorway": [
           "#636efa",
           "#EF553B",
           "#00cc96",
           "#ab63fa",
           "#FFA15A",
           "#19d3f3",
           "#FF6692",
           "#B6E880",
           "#FF97FF",
           "#FECB52"
          ],
          "font": {
           "color": "#2a3f5f"
          },
          "geo": {
           "bgcolor": "white",
           "lakecolor": "white",
           "landcolor": "#E5ECF6",
           "showlakes": true,
           "showland": true,
           "subunitcolor": "white"
          },
          "hoverlabel": {
           "align": "left"
          },
          "hovermode": "closest",
          "mapbox": {
           "style": "light"
          },
          "paper_bgcolor": "white",
          "plot_bgcolor": "#E5ECF6",
          "polar": {
           "angularaxis": {
            "gridcolor": "white",
            "linecolor": "white",
            "ticks": ""
           },
           "bgcolor": "#E5ECF6",
           "radialaxis": {
            "gridcolor": "white",
            "linecolor": "white",
            "ticks": ""
           }
          },
          "scene": {
           "xaxis": {
            "backgroundcolor": "#E5ECF6",
            "gridcolor": "white",
            "gridwidth": 2,
            "linecolor": "white",
            "showbackground": true,
            "ticks": "",
            "zerolinecolor": "white"
           },
           "yaxis": {
            "backgroundcolor": "#E5ECF6",
            "gridcolor": "white",
            "gridwidth": 2,
            "linecolor": "white",
            "showbackground": true,
            "ticks": "",
            "zerolinecolor": "white"
           },
           "zaxis": {
            "backgroundcolor": "#E5ECF6",
            "gridcolor": "white",
            "gridwidth": 2,
            "linecolor": "white",
            "showbackground": true,
            "ticks": "",
            "zerolinecolor": "white"
           }
          },
          "shapedefaults": {
           "line": {
            "color": "#2a3f5f"
           }
          },
          "ternary": {
           "aaxis": {
            "gridcolor": "white",
            "linecolor": "white",
            "ticks": ""
           },
           "baxis": {
            "gridcolor": "white",
            "linecolor": "white",
            "ticks": ""
           },
           "bgcolor": "#E5ECF6",
           "caxis": {
            "gridcolor": "white",
            "linecolor": "white",
            "ticks": ""
           }
          },
          "title": {
           "x": 0.05
          },
          "xaxis": {
           "automargin": true,
           "gridcolor": "white",
           "linecolor": "white",
           "ticks": "",
           "title": {
            "standoff": 15
           },
           "zerolinecolor": "white",
           "zerolinewidth": 2
          },
          "yaxis": {
           "automargin": true,
           "gridcolor": "white",
           "linecolor": "white",
           "ticks": "",
           "title": {
            "standoff": 15
           },
           "zerolinecolor": "white",
           "zerolinewidth": 2
          }
         }
        },
        "title": {
         "text": "Ships Transporting Oil by Build Year <br>609 Total Ships"
        },
        "width": 900,
        "xaxis": {
         "anchor": "y",
         "domain": [
          0,
          1
         ],
         "range": [
          1990,
          2025
         ],
         "title": {
          "text": "build_year_TankerTrackers"
         }
        },
        "yaxis": {
         "anchor": "x",
         "domain": [
          0,
          1
         ],
         "range": [
          0,
          100
         ],
         "title": {
          "text": "count"
         }
        }
       }
      },
      "image/png": "[encoded data removed]"
     },
     "metadata": {},
     "output_type": "display_data"
    }
   ],
   "source": [
    "fig = px.histogram(oil_ships, x=\"build_year_TankerTrackers\", color=\"class_size\", nbins=100, title=f\"Ships Transporting Oil by Build Year <br>\"\n",
    "                                                                            f\"{oil_ships.shape[0]} Total Ships\")\n",
    "fig.update_layout(width=900, height=600)\n",
    "fig.update_layout(\n",
    "    xaxis=dict(range=[1990, 2025]),  # Sets x-axis range\n",
    "    yaxis=dict(range=[0, 100])  # Sets -axis range\n",
    ")\n",
    "\n",
    "fig.show()\n",
    "fig.write_html(\"oil_ships_year_interactive_plot.html\")\n"
   ]
  },
  {
   "cell_type": "code",
   "execution_count": 21,
   "id": "1477cc17-e119-456c-83d8-75c1ffc6fc34",
   "metadata": {},
   "outputs": [
    {
     "data": {
      "text/plain": [
       "np.float64(inf)"
      ]
     },
     "execution_count": 21,
     "metadata": {},
     "output_type": "execute_result"
    }
   ],
   "source": [
    "binned_data_custom = pd.cut(oil_ships.DWT, bins=custom_bins, include_lowest=False, right=True) # right=False for [lower, upper) intervals\n",
    "\n",
    "# You can then count the occurrences in each bin\n",
    "bin_counts = binned_data_custom.value_counts().sort_index()\n",
    "bin_counts.index.tolist()\n",
    "# f\"x.\n",
    "binned_data_custom.cat.categories.right[-1]\n",
    "# oil_ships.query('DWT<0')"
   ]
  },
  {
   "cell_type": "code",
   "execution_count": 22,
   "id": "0ccfe946-cf71-4495-be78-37df9cd3be90",
   "metadata": {},
   "outputs": [
    {
     "data": {
      "text/plain": [
       "['0 to 25,000 DWT',\n",
       " '25,000 to 50,000 DWT',\n",
       " '50,000 to 100,000 DWT',\n",
       " '100,000 to 150,000 DWT',\n",
       " '150,000 to 275,000 DWT',\n",
       " '275,000 + DWT']"
      ]
     },
     "execution_count": 22,
     "metadata": {},
     "output_type": "execute_result"
    }
   ],
   "source": [
    "# make categorical values for binned plot \n",
    "cats = []\n",
    "for idx, x in enumerate(binned_data_custom.cat.categories):\n",
    "    left = f\"{x.left:.0f}\"\n",
    "    right = f\"{x.right:.0f}\"\n",
    "    if right==\"inf\":\n",
    "        cats.append((f\"{int(left):,} + DWT\"))\n",
    "    else:\n",
    "        cats.append((f\"{int(left):,} to {int(right):,} DWT\"))\n",
    "cats"
   ]
  },
  {
   "cell_type": "code",
   "execution_count": 23,
   "id": "2df127d1-9c49-418c-bf8d-c034c4aa15f4",
   "metadata": {},
   "outputs": [
    {
     "data": {
      "application/vnd.plotly.v1+json": {
       "config": {
        "plotlyServerURL": "https://plot.ly"
       },
       "data": [
        {
         "hovertemplate": "x=%{x}<br>y=%{y}<extra></extra>",
         "legendgroup": "",
         "marker": {
          "color": "#636efa",
          "pattern": {
           "shape": ""
          }
         },
         "name": "",
         "orientation": "v",
         "showlegend": false,
         "textposition": "auto",
         "type": "bar",
         "x": [
          "0 to 25,000 DWT",
          "25,000 to 50,000 DWT",
          "50,000 to 100,000 DWT",
          "100,000 to 150,000 DWT",
          "150,000 to 275,000 DWT",
          "275,000 + DWT"
         ],
         "xaxis": "x",
         "y": {
          "bdata": "AAAAABYAQgFgAKkA",
          "dtype": "i2"
         },
         "yaxis": "y"
        }
       ],
       "layout": {
        "barmode": "relative",
        "height": 600,
        "legend": {
         "tracegroupgap": 0
        },
        "template": {
         "data": {
          "bar": [
           {
            "error_x": {
             "color": "#2a3f5f"
            },
            "error_y": {
             "color": "#2a3f5f"
            },
            "marker": {
             "line": {
              "color": "#E5ECF6",
              "width": 0.5
             },
             "pattern": {
              "fillmode": "overlay",
              "size": 10,
              "solidity": 0.2
             }
            },
            "type": "bar"
           }
          ],
          "barpolar": [
           {
            "marker": {
             "line": {
              "color": "#E5ECF6",
              "width": 0.5
             },
             "pattern": {
              "fillmode": "overlay",
              "size": 10,
              "solidity": 0.2
             }
            },
            "type": "barpolar"
           }
          ],
          "carpet": [
           {
            "aaxis": {
             "endlinecolor": "#2a3f5f",
             "gridcolor": "white",
             "linecolor": "white",
             "minorgridcolor": "white",
             "startlinecolor": "#2a3f5f"
            },
            "baxis": {
             "endlinecolor": "#2a3f5f",
             "gridcolor": "white",
             "linecolor": "white",
             "minorgridcolor": "white",
             "startlinecolor": "#2a3f5f"
            },
            "type": "carpet"
           }
          ],
          "choropleth": [
           {
            "colorbar": {
             "outlinewidth": 0,
             "ticks": ""
            },
            "type": "choropleth"
           }
          ],
          "contour": [
           {
            "colorbar": {
             "outlinewidth": 0,
             "ticks": ""
            },
            "colorscale": [
             [
              0,
              "#0d0887"
             ],
             [
              0.1111111111111111,
              "#46039f"
             ],
             [
              0.2222222222222222,
              "#7201a8"
             ],
             [
              0.3333333333333333,
              "#9c179e"
             ],
             [
              0.4444444444444444,
              "#bd3786"
             ],
             [
              0.5555555555555556,
              "#d8576b"
             ],
             [
              0.6666666666666666,
              "#ed7953"
             ],
             [
              0.7777777777777778,
              "#fb9f3a"
             ],
             [
              0.8888888888888888,
              "#fdca26"
             ],
             [
              1,
              "#f0f921"
             ]
            ],
            "type": "contour"
           }
          ],
          "contourcarpet": [
           {
            "colorbar": {
             "outlinewidth": 0,
             "ticks": ""
            },
            "type": "contourcarpet"
           }
          ],
          "heatmap": [
           {
            "colorbar": {
             "outlinewidth": 0,
             "ticks": ""
            },
            "colorscale": [
             [
              0,
              "#0d0887"
             ],
             [
              0.1111111111111111,
              "#46039f"
             ],
             [
              0.2222222222222222,
              "#7201a8"
             ],
             [
              0.3333333333333333,
              "#9c179e"
             ],
             [
              0.4444444444444444,
              "#bd3786"
             ],
             [
              0.5555555555555556,
              "#d8576b"
             ],
             [
              0.6666666666666666,
              "#ed7953"
             ],
             [
              0.7777777777777778,
              "#fb9f3a"
             ],
             [
              0.8888888888888888,
              "#fdca26"
             ],
             [
              1,
              "#f0f921"
             ]
            ],
            "type": "heatmap"
           }
          ],
          "histogram": [
           {
            "marker": {
             "pattern": {
              "fillmode": "overlay",
              "size": 10,
              "solidity": 0.2
             }
            },
            "type": "histogram"
           }
          ],
          "histogram2d": [
           {
            "colorbar": {
             "outlinewidth": 0,
             "ticks": ""
            },
            "colorscale": [
             [
              0,
              "#0d0887"
             ],
             [
              0.1111111111111111,
              "#46039f"
             ],
             [
              0.2222222222222222,
              "#7201a8"
             ],
             [
              0.3333333333333333,
              "#9c179e"
             ],
             [
              0.4444444444444444,
              "#bd3786"
             ],
             [
              0.5555555555555556,
              "#d8576b"
             ],
             [
              0.6666666666666666,
              "#ed7953"
             ],
             [
              0.7777777777777778,
              "#fb9f3a"
             ],
             [
              0.8888888888888888,
              "#fdca26"
             ],
             [
              1,
              "#f0f921"
             ]
            ],
            "type": "histogram2d"
           }
          ],
          "histogram2dcontour": [
           {
            "colorbar": {
             "outlinewidth": 0,
             "ticks": ""
            },
            "colorscale": [
             [
              0,
              "#0d0887"
             ],
             [
              0.1111111111111111,
              "#46039f"
             ],
             [
              0.2222222222222222,
              "#7201a8"
             ],
             [
              0.3333333333333333,
              "#9c179e"
             ],
             [
              0.4444444444444444,
              "#bd3786"
             ],
             [
              0.5555555555555556,
              "#d8576b"
             ],
             [
              0.6666666666666666,
              "#ed7953"
             ],
             [
              0.7777777777777778,
              "#fb9f3a"
             ],
             [
              0.8888888888888888,
              "#fdca26"
             ],
             [
              1,
              "#f0f921"
             ]
            ],
            "type": "histogram2dcontour"
           }
          ],
          "mesh3d": [
           {
            "colorbar": {
             "outlinewidth": 0,
             "ticks": ""
            },
            "type": "mesh3d"
           }
          ],
          "parcoords": [
           {
            "line": {
             "colorbar": {
              "outlinewidth": 0,
              "ticks": ""
             }
            },
            "type": "parcoords"
           }
          ],
          "pie": [
           {
            "automargin": true,
            "type": "pie"
           }
          ],
          "scatter": [
           {
            "fillpattern": {
             "fillmode": "overlay",
             "size": 10,
             "solidity": 0.2
            },
            "type": "scatter"
           }
          ],
          "scatter3d": [
           {
            "line": {
             "colorbar": {
              "outlinewidth": 0,
              "ticks": ""
             }
            },
            "marker": {
             "colorbar": {
              "outlinewidth": 0,
              "ticks": ""
             }
            },
            "type": "scatter3d"
           }
          ],
          "scattercarpet": [
           {
            "marker": {
             "colorbar": {
              "outlinewidth": 0,
              "ticks": ""
             }
            },
            "type": "scattercarpet"
           }
          ],
          "scattergeo": [
           {
            "marker": {
             "colorbar": {
              "outlinewidth": 0,
              "ticks": ""
             }
            },
            "type": "scattergeo"
           }
          ],
          "scattergl": [
           {
            "marker": {
             "colorbar": {
              "outlinewidth": 0,
              "ticks": ""
             }
            },
            "type": "scattergl"
           }
          ],
          "scattermap": [
           {
            "marker": {
             "colorbar": {
              "outlinewidth": 0,
              "ticks": ""
             }
            },
            "type": "scattermap"
           }
          ],
          "scattermapbox": [
           {
            "marker": {
             "colorbar": {
              "outlinewidth": 0,
              "ticks": ""
             }
            },
            "type": "scattermapbox"
           }
          ],
          "scatterpolar": [
           {
            "marker": {
             "colorbar": {
              "outlinewidth": 0,
              "ticks": ""
             }
            },
            "type": "scatterpolar"
           }
          ],
          "scatterpolargl": [
           {
            "marker": {
             "colorbar": {
              "outlinewidth": 0,
              "ticks": ""
             }
            },
            "type": "scatterpolargl"
           }
          ],
          "scatterternary": [
           {
            "marker": {
             "colorbar": {
              "outlinewidth": 0,
              "ticks": ""
             }
            },
            "type": "scatterternary"
           }
          ],
          "surface": [
           {
            "colorbar": {
             "outlinewidth": 0,
             "ticks": ""
            },
            "colorscale": [
             [
              0,
              "#0d0887"
             ],
             [
              0.1111111111111111,
              "#46039f"
             ],
             [
              0.2222222222222222,
              "#7201a8"
             ],
             [
              0.3333333333333333,
              "#9c179e"
             ],
             [
              0.4444444444444444,
              "#bd3786"
             ],
             [
              0.5555555555555556,
              "#d8576b"
             ],
             [
              0.6666666666666666,
              "#ed7953"
             ],
             [
              0.7777777777777778,
              "#fb9f3a"
             ],
             [
              0.8888888888888888,
              "#fdca26"
             ],
             [
              1,
              "#f0f921"
             ]
            ],
            "type": "surface"
           }
          ],
          "table": [
           {
            "cells": {
             "fill": {
              "color": "#EBF0F8"
             },
             "line": {
              "color": "white"
             }
            },
            "header": {
             "fill": {
              "color": "#C8D4E3"
             },
             "line": {
              "color": "white"
             }
            },
            "type": "table"
           }
          ]
         },
         "layout": {
          "annotationdefaults": {
           "arrowcolor": "#2a3f5f",
           "arrowhead": 0,
           "arrowwidth": 1
          },
          "autotypenumbers": "strict",
          "coloraxis": {
           "colorbar": {
            "outlinewidth": 0,
            "ticks": ""
           }
          },
          "colorscale": {
           "diverging": [
            [
             0,
             "#8e0152"
            ],
            [
             0.1,
             "#c51b7d"
            ],
            [
             0.2,
             "#de77ae"
            ],
            [
             0.3,
             "#f1b6da"
            ],
            [
             0.4,
             "#fde0ef"
            ],
            [
             0.5,
             "#f7f7f7"
            ],
            [
             0.6,
             "#e6f5d0"
            ],
            [
             0.7,
             "#b8e186"
            ],
            [
             0.8,
             "#7fbc41"
            ],
            [
             0.9,
             "#4d9221"
            ],
            [
             1,
             "#276419"
            ]
           ],
           "sequential": [
            [
             0,
             "#0d0887"
            ],
            [
             0.1111111111111111,
             "#46039f"
            ],
            [
             0.2222222222222222,
             "#7201a8"
            ],
            [
             0.3333333333333333,
             "#9c179e"
            ],
            [
             0.4444444444444444,
             "#bd3786"
            ],
            [
             0.5555555555555556,
             "#d8576b"
            ],
            [
             0.6666666666666666,
             "#ed7953"
            ],
            [
             0.7777777777777778,
             "#fb9f3a"
            ],
            [
             0.8888888888888888,
             "#fdca26"
            ],
            [
             1,
             "#f0f921"
            ]
           ],
           "sequentialminus": [
            [
             0,
             "#0d0887"
            ],
            [
             0.1111111111111111,
             "#46039f"
            ],
            [
             0.2222222222222222,
             "#7201a8"
            ],
            [
             0.3333333333333333,
             "#9c179e"
            ],
            [
             0.4444444444444444,
             "#bd3786"
            ],
            [
             0.5555555555555556,
             "#d8576b"
            ],
            [
             0.6666666666666666,
             "#ed7953"
            ],
            [
             0.7777777777777778,
             "#fb9f3a"
            ],
            [
             0.8888888888888888,
             "#fdca26"
            ],
            [
             1,
             "#f0f921"
            ]
           ]
          },
          "colorway": [
           "#636efa",
           "#EF553B",
           "#00cc96",
           "#ab63fa",
           "#FFA15A",
           "#19d3f3",
           "#FF6692",
           "#B6E880",
           "#FF97FF",
           "#FECB52"
          ],
          "font": {
           "color": "#2a3f5f"
          },
          "geo": {
           "bgcolor": "white",
           "lakecolor": "white",
           "landcolor": "#E5ECF6",
           "showlakes": true,
           "showland": true,
           "subunitcolor": "white"
          },
          "hoverlabel": {
           "align": "left"
          },
          "hovermode": "closest",
          "mapbox": {
           "style": "light"
          },
          "paper_bgcolor": "white",
          "plot_bgcolor": "#E5ECF6",
          "polar": {
           "angularaxis": {
            "gridcolor": "white",
            "linecolor": "white",
            "ticks": ""
           },
           "bgcolor": "#E5ECF6",
           "radialaxis": {
            "gridcolor": "white",
            "linecolor": "white",
            "ticks": ""
           }
          },
          "scene": {
           "xaxis": {
            "backgroundcolor": "#E5ECF6",
            "gridcolor": "white",
            "gridwidth": 2,
            "linecolor": "white",
            "showbackground": true,
            "ticks": "",
            "zerolinecolor": "white"
           },
           "yaxis": {
            "backgroundcolor": "#E5ECF6",
            "gridcolor": "white",
            "gridwidth": 2,
            "linecolor": "white",
            "showbackground": true,
            "ticks": "",
            "zerolinecolor": "white"
           },
           "zaxis": {
            "backgroundcolor": "#E5ECF6",
            "gridcolor": "white",
            "gridwidth": 2,
            "linecolor": "white",
            "showbackground": true,
            "ticks": "",
            "zerolinecolor": "white"
           }
          },
          "shapedefaults": {
           "line": {
            "color": "#2a3f5f"
           }
          },
          "ternary": {
           "aaxis": {
            "gridcolor": "white",
            "linecolor": "white",
            "ticks": ""
           },
           "baxis": {
            "gridcolor": "white",
            "linecolor": "white",
            "ticks": ""
           },
           "bgcolor": "#E5ECF6",
           "caxis": {
            "gridcolor": "white",
            "linecolor": "white",
            "ticks": ""
           }
          },
          "title": {
           "x": 0.05
          },
          "xaxis": {
           "automargin": true,
           "gridcolor": "white",
           "linecolor": "white",
           "ticks": "",
           "title": {
            "standoff": 15
           },
           "zerolinecolor": "white",
           "zerolinewidth": 2
          },
          "yaxis": {
           "automargin": true,
           "gridcolor": "white",
           "linecolor": "white",
           "ticks": "",
           "title": {
            "standoff": 15
           },
           "zerolinecolor": "white",
           "zerolinewidth": 2
          }
         }
        },
        "title": {
         "text": "Ships Transporting Oil Binned by Dead Weight Ton <br>609 Total Ships"
        },
        "width": 1200,
        "xaxis": {
         "anchor": "y",
         "domain": [
          0,
          1
         ],
         "title": {
          "text": "DWT by Size"
         }
        },
        "yaxis": {
         "anchor": "x",
         "domain": [
          0,
          1
         ],
         "range": [
          0,
          350
         ],
         "title": {
          "text": "Count"
         }
        }
       }
      },
      "image/png": "[encoded data removed]"
     },
     "metadata": {},
     "output_type": "display_data"
    }
   ],
   "source": [
    "fig = px.bar(x=cats, y=bin_counts.values, title=f\"Ships Transporting Oil Binned by Dead Weight Ton <br>\"\n",
    "                                                                            f\"{oil_ships.shape[0]} Total Ships\")\n",
    "fig.update_layout(width=1200, height=600)\n",
    "fig.update_layout(\n",
    "    xaxis_title=\"DWT by Size\",  # Set the x-axis title\n",
    "    yaxis_title=\"Count\"  # Set the y-axis title\n",
    ")\n",
    "fig.update_layout(\n",
    "    yaxis=dict(range=[0, 350])  # Sets y-axis range from 0 to 20\n",
    ")\n",
    "\n",
    "fig.show()\n",
    "fig.write_html(\"oil_ships_dwt_binned_interactive_plot.html\")\n"
   ]
  },
  {
   "cell_type": "code",
   "execution_count": 24,
   "id": "60a8f4d6-f264-49a9-9288-6543291e79a8",
   "metadata": {},
   "outputs": [
    {
     "data": {
      "text/plain": [
       "281037"
      ]
     },
     "execution_count": 24,
     "metadata": {},
     "output_type": "execute_result"
    }
   ],
   "source": [
    "minvlcc = df.query('class_size==\"VLCC/ULCC\"').DWT.min()\n",
    "minvlcc"
   ]
  },
  {
   "cell_type": "code",
   "execution_count": 25,
   "id": "1e239d75-b6f9-429e-9d99-fcaa3d5ffd50",
   "metadata": {},
   "outputs": [
    {
     "data": {
      "text/plain": [
       "name_TankerTrackers                       ANDROMEDA V\n",
       "imo                                           9197832\n",
       "OFAC                                         5/8/2025\n",
       "UANI                                        11/1/2022\n",
       "ASO                                               NaN\n",
       "EU                                                NaN\n",
       "FCDO                                              NaN\n",
       "GAC                                               NaN\n",
       "UN                                                NaN\n",
       "ship_type                            crude oil tanker\n",
       "build_year_TankerTrackers                        2000\n",
       "gross_tonnage_TankerTrackers                   149282\n",
       "DWT                                            281037\n",
       "OFAC_numeric                                        1\n",
       "UANI_numeric                                        1\n",
       "ASO_numeric                                         0\n",
       "EU_numeric                                          0\n",
       "FCDO_numeric                                        0\n",
       "GAC_numeric                                         0\n",
       "UN_numeric                                          0\n",
       "total_sanctions                                     2\n",
       "name_oilBandit                                 ALISHA\n",
       "gross_tonnage_oilBandit                      149282.0\n",
       "type_of_ship                         Crude Oil Tanker\n",
       "vessel_size                                      VLCC\n",
       "build_year_oilBandit                           2000.0\n",
       "controller                            coureage co ltd\n",
       "flag_                                    Panama (PAN)\n",
       "class                                              BV\n",
       "last_survey                                28/12/2020\n",
       "russian_lifter                                    NaN\n",
       "iran_linked?                                      YES\n",
       "re_classed_in_2022                                   \n",
       "transacted_in_2022                                NaN\n",
       "suspicious                                        YES\n",
       "name                            ANDROMEDA V (9197832)\n",
       "class_size                                  VLCC/ULCC\n",
       "flag_TTwebsite                                Curaçao\n",
       "Name: 235, dtype: object"
      ]
     },
     "execution_count": 25,
     "metadata": {},
     "output_type": "execute_result"
    }
   ],
   "source": [
    "df.query('DWT==@minvlcc').iloc[0]"
   ]
  },
  {
   "cell_type": "code",
   "execution_count": null,
   "id": "9892a406-b277-4b93-944d-1f7f2f89b839",
   "metadata": {},
   "outputs": [],
   "source": [
    "# the above readout confirm that the DWT is accurate.  gross_tonnage matches the webscrape!"
   ]
  },
  {
   "cell_type": "code",
   "execution_count": null,
   "id": "dec93350-ac58-4e9e-8bd0-8670d7a8458a",
   "metadata": {},
   "outputs": [],
   "source": [
    "# TT gives class size, this filtering is moot\n",
    "\n",
    "# possible_vlccs = df.query('DWT>=280000').reset_index(drop=True)\n",
    "# f\"size of possible VLCC list {possible_vlccs.shape[0]}\"\n",
    "\n",
    "# possible_vlccs[possible_vlccs.vessel_size.isna()].ship_type.unique()\n",
    "\n",
    "# # remove fso from vlcc data\n",
    "# idx = possible_vlccs.query('vessel_size==\"fso\" or ship_type==\"fso\"').index.tolist()\n",
    "# vlccs = possible_vlccs[~possible_vlccs.index.isin(idx)]\n",
    "\n",
    "# f\"size of VLCC list {vlccs.shape[0]}\"\n",
    "# #stick season cover by our last night email \n",
    "\n",
    "# vlccs"
   ]
  },
  {
   "cell_type": "code",
   "execution_count": 26,
   "id": "af0732a8-a6ec-4292-bbd2-c4b88d3cf178",
   "metadata": {},
   "outputs": [
    {
     "data": {
      "application/vnd.plotly.v1+json": {
       "config": {
        "plotlyServerURL": "https://plot.ly"
       },
       "data": [
        {
         "hovertemplate": "imo=%{x}<br>total_sanctions=%{y}<extra></extra>",
         "legendgroup": "",
         "marker": {
          "color": "red",
          "pattern": {
           "shape": ""
          }
         },
         "name": "",
         "orientation": "v",
         "showlegend": false,
         "textposition": "auto",
         "type": "bar",
         "x": [
          "7303803",
          "7408873",
          "8106496",
          "8122347",
          "8126070",
          "8223050",
          "8231057",
          "8312497",
          "8319952",
          "8517243",
          "8518572",
          "8519966",
          "8604917",
          "8605026",
          "8613360",
          "8660313",
          "8691702",
          "8700096",
          "8705539",
          "8712362",
          "8720436",
          "8791667",
          "8806321",
          "8808525",
          "8817693",
          "8818207",
          "8818219",
          "8818843",
          "8821761",
          "8898740",
          "8909472",
          "8912546",
          "8912558",
          "8916293",
          "8917467",
          "8917807",
          "8966535",
          "8982888",
          "9000883",
          "9002491",
          "9002908",
          "9003550",
          "9004815",
          "9005053",
          "9005065",
          "9005338",
          "9005493",
          "9007386",
          "9008108",
          "9012886",
          "9014420",
          "9014432",
          "9014456",
          "9018464",
          "9030591",
          "9031519",
          "9032666",
          "9035541",
          "9036052",
          "9036935",
          "9038842",
          "9040118",
          "9041057",
          "9041643",
          "9041655",
          "9045807",
          "9046784",
          "9051636",
          "9052331",
          "9053816",
          "9056571",
          "9066978",
          "9070072",
          "9078191",
          "9079066",
          "9079078",
          "9079107",
          "9079169",
          "9080493",
          "9087714",
          "9088536",
          "9102198",
          "9102239",
          "9102241",
          "9102277",
          "9105085",
          "9105140",
          "9105906",
          "9108099",
          "9108104",
          "9113094",
          "9113276",
          "9113379",
          "9114581",
          "9114608",
          "9115303",
          "9116412",
          "9116632",
          "9117478",
          "9117492",
          "9117818",
          "9118745",
          "9120994",
          "9121699",
          "9125126",
          "9125138",
          "9125712",
          "9125724",
          "9126015",
          "9127033",
          "9127667",
          "9131096",
          "9131101",
          "9131357",
          "9133070",
          "9133082",
          "9133850",
          "9134165",
          "9134294",
          "9135547",
          "9136058",
          "9136113",
          "9136644",
          "9137648",
          "9139696",
          "9140451",
          "9141259",
          "9142150",
          "9142916",
          "9143506",
          "9144782",
          "9147447",
          "9149251",
          "9150365",
          "9150377",
          "9151890",
          "9153513",
          "9153525",
          "9154000",
          "9155341",
          "9155808",
          "9157478",
          "9157765",
          "9158161",
          "9160475",
          "9162502",
          "9162916",
          "9162928",
          "9163269",
          "9163764",
          "9164500",
          "9164512",
          "9165542",
          "9165786",
          "9165815",
          "9166314",
          "9166675",
          "9167148",
          "9167162",
          "9167253",
          "9167289",
          "9167930",
          "9168740",
          "9168946",
          "9169421",
          "9169691",
          "9171175",
          "9171345",
          "9171357",
          "9171448",
          "9171450",
          "9171462",
          "9171498",
          "9171503",
          "9172038",
          "9172040",
          "9172052",
          "9172636",
          "9173745",
          "9174220",
          "9174397",
          "9174622",
          "9174660",
          "9175078",
          "9176656",
          "9176761",
          "9176773",
          "9176929",
          "9177155",
          "9177583",
          "9178044",
          "9178068",
          "9179701",
          "9179854",
          "9180152",
          "9180164",
          "9180281",
          "9181194",
          "9181649",
          "9182291",
          "9182318",
          "9182667",
          "9183295",
          "9183831",
          "9183934",
          "9185528",
          "9185530",
          "9185865",
          "9187227",
          "9187629",
          "9187631",
          "9187643",
          "9187655",
          "9187667",
          "9189110",
          "9189146",
          "9189952",
          "9190078",
          "9190107",
          "9191553",
          "9191711",
          "9191773",
          "9192258",
          "9192260",
          "9192260",
          "9193721",
          "9193733",
          "9194127",
          "9194139",
          "9194969",
          "9194983",
          "9196620",
          "9196632",
          "9196644",
          "9197727",
          "9197832",
          "9197844",
          "9197909",
          "9198082",
          "9198082",
          "9198094",
          "9198290",
          "9198317",
          "9198771",
          "9198783",
          "9199127",
          "9200861",
          "9202388",
          "9203253",
          "9203265",
          "9203277",
          "9203772",
          "9203784",
          "9203928",
          "9203930",
          "9204764",
          "9204776",
          "9204805",
          "9205067",
          "9206035",
          "9206671",
          "9207027",
          "9208069",
          "9208112",
          "9208124",
          "9208136",
          "9208215",
          "9208239",
          "9208473",
          "9209300",
          "9209348",
          "9209350",
          "9209972",
          "9211999",
          "9212008",
          "9212400",
          "9212759",
          "9212888",
          "9212890",
          "9212905",
          "9212917",
          "9212929",
          "9213296",
          "9213313",
          "9215098",
          "9215103",
          "9216298",
          "9216547",
          "9216559",
          "9216717",
          "9217979",
          "9218181",
          "9218454",
          "9218466",
          "9218478",
          "9218480",
          "9218492",
          "9219056",
          "9220639",
          "9220641",
          "9220914",
          "9220938",
          "9220940",
          "9220952",
          "9221267",
          "9221657",
          "9221671",
          "9221970",
          "9222443",
          "9222560",
          "9222649",
          "9222699",
          "9222704",
          "9223540",
          "9223722",
          "9224271",
          "9224283",
          "9224295",
          "9224465",
          "9224570",
          "9224805",
          "9225342",
          "9226009",
          "9226011",
          "9226968",
          "9227443",
          "9229025",
          "9229362",
          "9229374",
          "9229439",
          "9230098",
          "9230426",
          "9230878",
          "9230880",
          "9230907",
          "9230971",
          "9231212",
          "9231224",
          "9231509",
          "9231511",
          "9231901",
          "9232022",
          "9232034",
          "9232369",
          "9232448",
          "9232450",
          "9232620",
          "9232876",
          "9232888",
          "9232929",
          "9232931",
          "9232955",
          "9233208",
          "9233222",
          "9233234",
          "9233272",
          "9233349",
          "9233650",
          "9233739",
          "9233741",
          "9233753",
          "9233765",
          "9233973",
          "9234501",
          "9234616",
          "9234642",
          "9234666",
          "9235244",
          "9235268",
          "9235464",
          "9235476",
          "9235713",
          "9235725",
          "9235737",
          "9236004",
          "9236016",
          "9236248",
          "9236250",
          "9236353",
          "9236640",
          "9236731",
          "9236755",
          "9237228",
          "9237412",
          "9237539",
          "9237618",
          "9237620",
          "9237632",
          "9237797",
          "9238052",
          "9238868",
          "9239977",
          "9240407",
          "9240419",
          "9240512",
          "9240885",
          "9240914",
          "9241114",
          "9242118",
          "9242120",
          "9242223",
          "9242481",
          "9243148",
          "9244374",
          "9244623",
          "9244635",
          "9244867",
          "9245782",
          "9245794",
          "9246279",
          "9246281",
          "9246449",
          "9246463",
          "9246633",
          "9246798",
          "9246803",
          "9247065",
          "9247376",
          "9247388",
          "9247390",
          "9247429",
          "9247431",
          "9247443",
          "9247778",
          "9247780",
          "9247792",
          "9247883",
          "9247986",
          "9248461",
          "9248473",
          "9248485",
          "9248497",
          "9248796",
          "9248801",
          "9248813",
          "9248849",
          "9249087",
          "9249128",
          "9249130",
          "9249312",
          "9249324",
          "9249685",
          "9250505",
          "9250531",
          "9250543",
          "9250892",
          "9250907",
          "9251274",
          "9251456",
          "9251640",
          "9251664",
          "9251810",
          "9251822",
          "9251951",
          "9252072",
          "9252371",
          "9252400",
          "9252436",
          "9252955",
          "9253076",
          "9253117",
          "9253234",
          "9253313",
          "9253325",
          "9253894",
          "9253909",
          "9254082",
          "9254422",
          "9254915",
          "9255244",
          "9255270",
          "9255488",
          "9255660",
          "9255672",
          "9255684",
          "9255830",
          "9255880",
          "9255933",
          "9255945",
          "9256016",
          "9256028",
          "9256054",
          "9256066",
          "9256078",
          "9256468",
          "9256602",
          "9256858",
          "9256860",
          "9256913",
          "9256975",
          "9256987",
          "9257010",
          "9257022",
          "9257137",
          "9257149",
          "9257503",
          "9257711",
          "9257802",
          "9257814",
          "9257993",
          "9258002",
          "9258026",
          "9258167",
          "9258521",
          "9258595",
          "9258674",
          "9258868",
          "9258870",
          "9258882",
          "9259185",
          "9259197",
          "9259355",
          "9259367",
          "9259599",
          "9259692",
          "9259733",
          "9259745",
          "9259898",
          "9259991",
          "9260055",
          "9260067",
          "9260275",
          "9260366",
          "9260823",
          "9261619",
          "9261657",
          "9262156",
          "9262168",
          "9262584",
          "9262754",
          "9262766",
          "9262912",
          "9262924",
          "9263186",
          "9263198",
          "9263203",
          "9263215",
          "9263227",
          "9263382",
          "9263643",
          "9263693",
          "9264570",
          "9264881",
          "9264893",
          "9265744",
          "9265756",
          "9265885",
          "9266475",
          "9266750",
          "9266853",
          "9266865",
          "9266877",
          "9267132",
          "9267948",
          "9268112",
          "9270517",
          "9270529",
          "9270646",
          "9270658",
          "9270696",
          "9270749",
          "9271327",
          "9271406",
          "9271585",
          "9271951",
          "9272694",
          "9273052",
          "9273337",
          "9273387",
          "9273442",
          "9274331",
          "9274434",
          "9274446",
          "9274563",
          "9274616",
          "9274800",
          "9275658",
          "9275660",
          "9275763",
          "9275983",
          "9275995",
          "9276028",
          "9276030",
          "9276561",
          "9276573",
          "9276585",
          "9277723",
          "9277735",
          "9277747",
          "9277759",
          "9277761",
          "9277773",
          "9277797",
          "9278064",
          "9278519",
          "9280366",
          "9280873",
          "9280885",
          "9281009",
          "9281011",
          "9281152",
          "9281554",
          "9281566",
          "9281683",
          "9281695",
          "9281891",
          "9282041",
          "9282106",
          "9282443",
          "9282479",
          "9282481",
          "9282493",
          "9282522",
          "9282792",
          "9282986",
          "9283019",
          "9283241",
          "9283289",
          "9283291",
          "9283306",
          "9283746",
          "9283758",
          "9283760",
          "9283801",
          "9284116",
          "9284154",
          "9284582",
          "9284594",
          "9284726",
          "9285744",
          "9285756",
          "9285835",
          "9285847",
          "9285859",
          "9286023",
          "9286073",
          "9286229",
          "9286281",
          "9286463",
          "9286657",
          "9288019",
          "9288095",
          "9288265",
          "9288277",
          "9288382",
          "9288693",
          "9288708",
          "9288710",
          "9288722",
          "9288734",
          "9288746",
          "9288758",
          "9288851",
          "9288863",
          "9288875",
          "9288899",
          "9288930",
          "9289166",
          "9289477",
          "9289491",
          "9289520",
          "9289726",
          "9289738",
          "9289752",
          "9289776",
          "9290270",
          "9290309",
          "9290323",
          "9290335",
          "9290517",
          "9290775",
          "9290828",
          "9290919",
          "9290921",
          "9291250",
          "9292034",
          "9292058",
          "9292060",
          "9292163",
          "9292204",
          "9292228",
          "9292486",
          "9292503",
          "9292577",
          "9292589",
          "9292838",
          "9292981",
          "9293002",
          "9293117",
          "9293143",
          "9293155",
          "9293741",
          "9293959",
          "9294240",
          "9294290",
          "9294331",
          "9294678",
          "9294795",
          "9295098",
          "9295270",
          "9295282",
          "9295593",
          "9296391",
          "9296406",
          "9296585",
          "9296810",
          "9296822",
          "9297319",
          "9297357",
          "9297371",
          "9297553",
          "9297888",
          "9298272",
          "9298296",
          "9298492",
          "9298595",
          "9299123",
          "9299161",
          "9299173",
          "9299666",
          "9299678",
          "9299680",
          "9299692",
          "9299707",
          "9299719",
          "9299721",
          "9299733",
          "9299745",
          "9299769",
          "9299771",
          "9299862",
          "9299874",
          "9299886",
          "9299898",
          "9299903",
          "9300348",
          "9300350",
          "9300996",
          "9301005",
          "9301380",
          "9301392",
          "9301407",
          "9301419",
          "9301421",
          "9301524",
          "9301615",
          "9302023",
          "9304356",
          "9304629",
          "9304655",
          "9304667",
          "9304825",
          "9305192",
          "9305221",
          "9305568",
          "9305609",
          "9306457",
          "9306548",
          "9306562",
          "9306627",
          "9306665",
          "9306782",
          "9306794",
          "9306809",
          "9307633",
          "9307736",
          "9307748",
          "9307815",
          "9307932",
          "9308065",
          "9308132",
          "9308170",
          "9308443",
          "9308766",
          "9308778",
          "9308821",
          "9308833",
          "9308857",
          "9308950",
          "9309227",
          "9309239",
          "9309576",
          "9309588",
          "9310147",
          "9310159",
          "9310525",
          "9310707",
          "9311270",
          "9311309",
          "9311531",
          "9311622",
          "9312872",
          "9312884",
          "9312896",
          "9313149",
          "9313151",
          "9313498",
          "9313589",
          "9314088",
          "9314105",
          "9314167",
          "9314818",
          "9314882",
          "9314894",
          "9315446",
          "9315654",
          "9316127",
          "9316701",
          "9317949",
          "9318022",
          "9318034",
          "9318539",
          "9318541",
          "9318553",
          "9319674",
          "9319686",
          "9319703",
          "9319870",
          "9319882",
          "9320843",
          "9321421",
          "9321689",
          "9321691",
          "9321706",
          "9321718",
          "9321847",
          "9321976",
          "9322267",
          "9322827",
          "9322839",
          "9322956",
          "9322968",
          "9323338",
          "9323376",
          "9323974",
          "9323986",
          "9324277",
          "9325817",
          "9326055",
          "9326718",
          "9326720",
          "9326902",
          "9327360",
          "9327372",
          "9327413",
          "9328170",
          "9328716",
          "9329655",
          "9329667",
          "9329760",
          "9330020",
          "9330472",
          "9330599",
          "9330604",
          "9331141",
          "9331153",
          "9332028",
          "9332315",
          "9332535",
          "9332781",
          "9332810",
          "9332822",
          "9332834",
          "9333400",
          "9333412",
          "9333424",
          "9333436",
          "9333670",
          "9333682",
          "9334557",
          "9335094",
          "9336426",
          "9336490",
          "9337133",
          "9337195",
          "9337327",
          "9337389",
          "9337901",
          "9338905",
          "9339301",
          "9339313",
          "9339325",
          "9339337",
          "9340465",
          "9341067",
          "9341079",
          "9341081",
          "9341093",
          "9341512",
          "9342786",
          "9344033",
          "9345623",
          "9346720",
          "9346732",
          "9346744",
          "9346873",
          "9348479",
          "9349095",
          "9349291",
          "9349655",
          "9350288",
          "9350422",
          "9350654",
          "9352195",
          "9353096",
          "9353113",
          "9353125",
          "9353905",
          "9354301",
          "9354313",
          "9354521",
          "9354636",
          "9356593",
          "9357183",
          "9357353",
          "9357365",
          "9357377",
          "9357389",
          "9357391",
          "9357406",
          "9357717",
          "9357729",
          "9360128",
          "9360130",
          "9360398",
          "9360415",
          "9362059",
          "9362061",
          "9362073",
          "9363182",
          "9363833",
          "9364112",
          "9364382",
          "9365752",
          "9365764",
          "9365776",
          "9368223",
          "9368235",
          "9369617",
          "9370537",
          "9371608",
          "9372547",
          "9372559",
          "9372561",
          "9374868",
          "9377042",
          "9377779",
          "9378618",
          "9378620",
          "9378632",
          "9379052",
          "9379404",
          "9379698",
          "9379703",
          "9380673",
          "9381732",
          "9381744",
          "9382073",
          "9382700",
          "9382798",
          "9383869",
          "9383950",
          "9384069",
          "9384095",
          "9384306",
          "9384435",
          "9384447",
          "9384459",
          "9384992",
          "9385142",
          "9385233",
          "9385831",
          "9386299",
          "9386304",
          "9386536",
          "9387152",
          "9387255",
          "9387279",
          "9387762",
          "9388027",
          "9388742",
          "9388754",
          "9388766",
          "9388780",
          "9388792",
          "9389095",
          "9389100",
          "9389679",
          "9392822",
          "9394935",
          "9395379",
          "9396725",
          "9397030",
          "9397080",
          "9397535",
          "9397547",
          "9397559",
          "9397676",
          "9398278",
          "9399167",
          "9400980",
          "9402469",
          "9402471",
          "9402732",
          "9404572",
          "9404948",
          "9405057",
          "9405617",
          "9408205",
          "9408530",
          "9408695",
          "9408798",
          "9409259",
          "9409467",
          "9410234",
          "9410387",
          "9410870",
          "9410894",
          "9411020",
          "9411288",
          "9411331",
          "9412335",
          "9412347",
          "9412359",
          "9412995",
          "9413547",
          "9413559",
          "9413561",
          "9413573",
          "9417115",
          "9417490",
          "9418078",
          "9418482",
          "9418494",
          "9418509",
          "9419137",
          "9419151",
          "9419448",
          "9420617",
          "9421960",
          "9421972",
          "9422445",
          "9422457",
          "9422653",
          "9422847",
          "9422859",
          "9422988",
          "9423322",
          "9424651",
          "9427146",
          "9428358",
          "9430210",
          "9433016",
          "9434890",
          "9435337",
          "9435363",
          "9435375",
          "9436006",
          "9436018",
          "9436941",
          "9437983",
          "9439058",
          "9439541",
          "9441178",
          "9451501",
          "9451642",
          "9453729",
          "9459242",
          "9463528",
          "9464156",
          "9486805",
          "9486910",
          "9495832",
          "9502453",
          "9510553",
          "9511179",
          "9511387",
          "9511521",
          "9511533",
          "9513139",
          "9522324",
          "9524451",
          "9524463",
          "9524475",
          "9526693",
          "9529645",
          "9530917",
          "9531375",
          "9531387",
          "9534614",
          "9537109",
          "9543500",
          "9543512",
          "9544281",
          "9546708",
          "9546710",
          "9546722",
          "9550682",
          "9552496",
          "9553957",
          "9554822",
          "9554834",
          "9555199",
          "9569205",
          "9569619",
          "9569621",
          "9569633",
          "9569645",
          "9569657",
          "9569669",
          "9569671",
          "9569683",
          "9569695",
          "9569700",
          "9569712",
          "9571052",
          "9572111",
          "9577082",
          "9577094",
          "9582726",
          "9585912",
          "9585924",
          "9589750",
          "9590008",
          "9590137",
          "9599341",
          "9599353",
          "9610781",
          "9610793",
          "9610808",
          "9610810",
          "9615092",
          "9621601",
          "9622069",
          "9624316",
          "9630004",
          "9630028",
          "9633501",
          "9637650",
          "9637961",
          "9640516",
          "9640528",
          "9641091",
          "9645011",
          "9650016",
          "9655470",
          "9672301",
          "9683726",
          "9683738",
          "9683740",
          "9689031",
          "9690212",
          "9690224",
          "9720263",
          "9735323",
          "9735335",
          "9737187",
          "9749154",
          "9752084",
          "9752096",
          "9752101",
          "9759915",
          "9759927",
          "9759939",
          "9763837",
          "9763849",
          "9773301",
          "9777670",
          "9778313",
          "9779941",
          "9784893",
          "9810513",
          "9820312",
          "9820324",
          "9820336",
          "9826902",
          "9827944",
          "9829629",
          "9830769",
          "9832547",
          "9832559",
          "9837547",
          "9842176",
          "9842188",
          "9842190",
          "9843560",
          "9849887",
          "9864837",
          "9866380",
          "9866392",
          "9876359",
          "9885879",
          "9888182",
          "9901025",
          "9901037",
          "9904546",
          "9915090",
          "9915105",
          "9934498",
          "9953509",
          "9953511",
          "9953523",
          "9953535",
          "9969821"
         ],
         "xaxis": "x",
         "y": {
          "bdata": "AwMDAwMBAQIBAQICAwMBAwMCAwMBAgEBAgECAQIDAQEBAgEBAQIBAgEBAQECAgICAQICAQECAwEBAgEBAQECAQICAQECAQIDAgEBAQECAQMBAQICAgECAQIBAgECAQEBAQEBAQIBAQEBAQICAQECAQIBAQEBAQEBAQICBAEBAgICAgQCAQIBAgECAgEBAQICAgEBAgICAgIBAQEBAgEBAQEBAQMBAQIBAgIBAQIBAQEBAQICAQECAgIBAgEBAQIBAgEBAQECAgIBAQMDAQECAQQBAQEBAQEDAQIBAgIBAgICAQECAgECAQICAQICAgICAgMCAQIFAgEBAgICAgICAgECAwECAQMBAwECAQECAQEEAQECAgEBAQEBAQEBAgQCAgIBAgEBAQEBAgEBAQICAgICAgEBAwEBAQIBAgMCBAECAQECAQQBAgMCAgIBAgICAwEEAQIBAQECAgECAwMEAgICAgEEAQEDAgIBAwICAQIBAQEEBAICAQICAwMBAgUCAQIBAgICAQEBAQIDAgECAgIBBAEBAgEBAQICAQEBAQEBAQICAQUCAgQEAwEBAgECAgQBAwECAwQCAgIEAwMCBgMCAQMBAgEBAgEBAwEDAwUCAQIBAgIBAQQCAQMCAQECAQEDAQIEAgECAQICBAQCAQECAgIDBAMBAQIEAgQFBAECAgEEBAEDAgMBAQMCAgICAQICAQQCAwMCAQIFAQUCAgIDAgQDBAECAgEDBAQBAQECAwIEBAEFAgECAQMBAQEDAQIBAQIBAwMCAgEDBAMBAQECAQICAQEFAQIBBAIFAQICBgECAgQCAQIDAwIBAQECAQEEBAMCAgMDAwICAgEBAwICAgEBBAMDAwMEAQMDAgMCAQECAwEDAwUBAwEEAwEDAQMDAgIDAgMCAgQCAgEEAwICBAIDAQEDAQIBAQECAwMBAwUCAgMCAwEBAQEDAgIEAQQEAQMDAwIDAQMCAgMEAQEBAQQDBQUFBAECBAECAgQBAQICAQIBAwEDAwECAQEEAgMBAQMBAgIDAQECAgMDAgIEAgECAwQDBAUCAQECBAMDAQMDAwMDAgMBAwQEBAQDBAMCAgIEAwQBBAQCAgEFBAEDAgQEAQICBAECBAEBAgICAwECAQIDAwEBAQQDBAQEAwMEAQEDAgMBAgEBBQMDAwEDBAEEBAQEAgIDBAQEBAIDAQEBAQIDAwMEAwEEBAIBAQEBAQEBAQEBAQQEAQIBAQEBAQEBAgICBAQBAQIBAQEDAQEDBAMDAQECAgEBAQEEAQMBAQMCAwMBAwEBAQECAQEBAQEEAwQDBAEBAgQDAgECAgEDBQEBAgEFAwIBBAMBBAIBAQEFAQIDBAQCAwQEBAMDAwMEAwICAgQBAwIDAwQDBAIBAgIDAQIBAwIBAgECAgUDBAMBAQECAQECAgEBAQIBAQEDBAQEAwEDAQIBAwECAQEBAQUCAQICAQEBAQIBAQEBAQEBAQEBAQEBAgQEAQICAwEBAwIEBAQEAgEBAQQCAQEBAgIBAQEDAgIBAQEBAQEBAQMCAwEBAwEBAwMCAQIBAgEBAQEEAQEDAwIBAwQDBAMEBAMBAQEEBQEDAwIDAwQDAQ==",
          "dtype": "i1"
         },
         "yaxis": "y"
        }
       ],
       "layout": {
        "barmode": "relative",
        "height": 700,
        "legend": {
         "tracegroupgap": 0
        },
        "template": {
         "data": {
          "bar": [
           {
            "error_x": {
             "color": "#2a3f5f"
            },
            "error_y": {
             "color": "#2a3f5f"
            },
            "marker": {
             "line": {
              "color": "#E5ECF6",
              "width": 0.5
             },
             "pattern": {
              "fillmode": "overlay",
              "size": 10,
              "solidity": 0.2
             }
            },
            "type": "bar"
           }
          ],
          "barpolar": [
           {
            "marker": {
             "line": {
              "color": "#E5ECF6",
              "width": 0.5
             },
             "pattern": {
              "fillmode": "overlay",
              "size": 10,
              "solidity": 0.2
             }
            },
            "type": "barpolar"
           }
          ],
          "carpet": [
           {
            "aaxis": {
             "endlinecolor": "#2a3f5f",
             "gridcolor": "white",
             "linecolor": "white",
             "minorgridcolor": "white",
             "startlinecolor": "#2a3f5f"
            },
            "baxis": {
             "endlinecolor": "#2a3f5f",
             "gridcolor": "white",
             "linecolor": "white",
             "minorgridcolor": "white",
             "startlinecolor": "#2a3f5f"
            },
            "type": "carpet"
           }
          ],
          "choropleth": [
           {
            "colorbar": {
             "outlinewidth": 0,
             "ticks": ""
            },
            "type": "choropleth"
           }
          ],
          "contour": [
           {
            "colorbar": {
             "outlinewidth": 0,
             "ticks": ""
            },
            "colorscale": [
             [
              0,
              "#0d0887"
             ],
             [
              0.1111111111111111,
              "#46039f"
             ],
             [
              0.2222222222222222,
              "#7201a8"
             ],
             [
              0.3333333333333333,
              "#9c179e"
             ],
             [
              0.4444444444444444,
              "#bd3786"
             ],
             [
              0.5555555555555556,
              "#d8576b"
             ],
             [
              0.6666666666666666,
              "#ed7953"
             ],
             [
              0.7777777777777778,
              "#fb9f3a"
             ],
             [
              0.8888888888888888,
              "#fdca26"
             ],
             [
              1,
              "#f0f921"
             ]
            ],
            "type": "contour"
           }
          ],
          "contourcarpet": [
           {
            "colorbar": {
             "outlinewidth": 0,
             "ticks": ""
            },
            "type": "contourcarpet"
           }
          ],
          "heatmap": [
           {
            "colorbar": {
             "outlinewidth": 0,
             "ticks": ""
            },
            "colorscale": [
             [
              0,
              "#0d0887"
             ],
             [
              0.1111111111111111,
              "#46039f"
             ],
             [
              0.2222222222222222,
              "#7201a8"
             ],
             [
              0.3333333333333333,
              "#9c179e"
             ],
             [
              0.4444444444444444,
              "#bd3786"
             ],
             [
              0.5555555555555556,
              "#d8576b"
             ],
             [
              0.6666666666666666,
              "#ed7953"
             ],
             [
              0.7777777777777778,
              "#fb9f3a"
             ],
             [
              0.8888888888888888,
              "#fdca26"
             ],
             [
              1,
              "#f0f921"
             ]
            ],
            "type": "heatmap"
           }
          ],
          "histogram": [
           {
            "marker": {
             "pattern": {
              "fillmode": "overlay",
              "size": 10,
              "solidity": 0.2
             }
            },
            "type": "histogram"
           }
          ],
          "histogram2d": [
           {
            "colorbar": {
             "outlinewidth": 0,
             "ticks": ""
            },
            "colorscale": [
             [
              0,
              "#0d0887"
             ],
             [
              0.1111111111111111,
              "#46039f"
             ],
             [
              0.2222222222222222,
              "#7201a8"
             ],
             [
              0.3333333333333333,
              "#9c179e"
             ],
             [
              0.4444444444444444,
              "#bd3786"
             ],
             [
              0.5555555555555556,
              "#d8576b"
             ],
             [
              0.6666666666666666,
              "#ed7953"
             ],
             [
              0.7777777777777778,
              "#fb9f3a"
             ],
             [
              0.8888888888888888,
              "#fdca26"
             ],
             [
              1,
              "#f0f921"
             ]
            ],
            "type": "histogram2d"
           }
          ],
          "histogram2dcontour": [
           {
            "colorbar": {
             "outlinewidth": 0,
             "ticks": ""
            },
            "colorscale": [
             [
              0,
              "#0d0887"
             ],
             [
              0.1111111111111111,
              "#46039f"
             ],
             [
              0.2222222222222222,
              "#7201a8"
             ],
             [
              0.3333333333333333,
              "#9c179e"
             ],
             [
              0.4444444444444444,
              "#bd3786"
             ],
             [
              0.5555555555555556,
              "#d8576b"
             ],
             [
              0.6666666666666666,
              "#ed7953"
             ],
             [
              0.7777777777777778,
              "#fb9f3a"
             ],
             [
              0.8888888888888888,
              "#fdca26"
             ],
             [
              1,
              "#f0f921"
             ]
            ],
            "type": "histogram2dcontour"
           }
          ],
          "mesh3d": [
           {
            "colorbar": {
             "outlinewidth": 0,
             "ticks": ""
            },
            "type": "mesh3d"
           }
          ],
          "parcoords": [
           {
            "line": {
             "colorbar": {
              "outlinewidth": 0,
              "ticks": ""
             }
            },
            "type": "parcoords"
           }
          ],
          "pie": [
           {
            "automargin": true,
            "type": "pie"
           }
          ],
          "scatter": [
           {
            "fillpattern": {
             "fillmode": "overlay",
             "size": 10,
             "solidity": 0.2
            },
            "type": "scatter"
           }
          ],
          "scatter3d": [
           {
            "line": {
             "colorbar": {
              "outlinewidth": 0,
              "ticks": ""
             }
            },
            "marker": {
             "colorbar": {
              "outlinewidth": 0,
              "ticks": ""
             }
            },
            "type": "scatter3d"
           }
          ],
          "scattercarpet": [
           {
            "marker": {
             "colorbar": {
              "outlinewidth": 0,
              "ticks": ""
             }
            },
            "type": "scattercarpet"
           }
          ],
          "scattergeo": [
           {
            "marker": {
             "colorbar": {
              "outlinewidth": 0,
              "ticks": ""
             }
            },
            "type": "scattergeo"
           }
          ],
          "scattergl": [
           {
            "marker": {
             "colorbar": {
              "outlinewidth": 0,
              "ticks": ""
             }
            },
            "type": "scattergl"
           }
          ],
          "scattermap": [
           {
            "marker": {
             "colorbar": {
              "outlinewidth": 0,
              "ticks": ""
             }
            },
            "type": "scattermap"
           }
          ],
          "scattermapbox": [
           {
            "marker": {
             "colorbar": {
              "outlinewidth": 0,
              "ticks": ""
             }
            },
            "type": "scattermapbox"
           }
          ],
          "scatterpolar": [
           {
            "marker": {
             "colorbar": {
              "outlinewidth": 0,
              "ticks": ""
             }
            },
            "type": "scatterpolar"
           }
          ],
          "scatterpolargl": [
           {
            "marker": {
             "colorbar": {
              "outlinewidth": 0,
              "ticks": ""
             }
            },
            "type": "scatterpolargl"
           }
          ],
          "scatterternary": [
           {
            "marker": {
             "colorbar": {
              "outlinewidth": 0,
              "ticks": ""
             }
            },
            "type": "scatterternary"
           }
          ],
          "surface": [
           {
            "colorbar": {
             "outlinewidth": 0,
             "ticks": ""
            },
            "colorscale": [
             [
              0,
              "#0d0887"
             ],
             [
              0.1111111111111111,
              "#46039f"
             ],
             [
              0.2222222222222222,
              "#7201a8"
             ],
             [
              0.3333333333333333,
              "#9c179e"
             ],
             [
              0.4444444444444444,
              "#bd3786"
             ],
             [
              0.5555555555555556,
              "#d8576b"
             ],
             [
              0.6666666666666666,
              "#ed7953"
             ],
             [
              0.7777777777777778,
              "#fb9f3a"
             ],
             [
              0.8888888888888888,
              "#fdca26"
             ],
             [
              1,
              "#f0f921"
             ]
            ],
            "type": "surface"
           }
          ],
          "table": [
           {
            "cells": {
             "fill": {
              "color": "#EBF0F8"
             },
             "line": {
              "color": "white"
             }
            },
            "header": {
             "fill": {
              "color": "#C8D4E3"
             },
             "line": {
              "color": "white"
             }
            },
            "type": "table"
           }
          ]
         },
         "layout": {
          "annotationdefaults": {
           "arrowcolor": "#2a3f5f",
           "arrowhead": 0,
           "arrowwidth": 1
          },
          "autotypenumbers": "strict",
          "coloraxis": {
           "colorbar": {
            "outlinewidth": 0,
            "ticks": ""
           }
          },
          "colorscale": {
           "diverging": [
            [
             0,
             "#8e0152"
            ],
            [
             0.1,
             "#c51b7d"
            ],
            [
             0.2,
             "#de77ae"
            ],
            [
             0.3,
             "#f1b6da"
            ],
            [
             0.4,
             "#fde0ef"
            ],
            [
             0.5,
             "#f7f7f7"
            ],
            [
             0.6,
             "#e6f5d0"
            ],
            [
             0.7,
             "#b8e186"
            ],
            [
             0.8,
             "#7fbc41"
            ],
            [
             0.9,
             "#4d9221"
            ],
            [
             1,
             "#276419"
            ]
           ],
           "sequential": [
            [
             0,
             "#0d0887"
            ],
            [
             0.1111111111111111,
             "#46039f"
            ],
            [
             0.2222222222222222,
             "#7201a8"
            ],
            [
             0.3333333333333333,
             "#9c179e"
            ],
            [
             0.4444444444444444,
             "#bd3786"
            ],
            [
             0.5555555555555556,
             "#d8576b"
            ],
            [
             0.6666666666666666,
             "#ed7953"
            ],
            [
             0.7777777777777778,
             "#fb9f3a"
            ],
            [
             0.8888888888888888,
             "#fdca26"
            ],
            [
             1,
             "#f0f921"
            ]
           ],
           "sequentialminus": [
            [
             0,
             "#0d0887"
            ],
            [
             0.1111111111111111,
             "#46039f"
            ],
            [
             0.2222222222222222,
             "#7201a8"
            ],
            [
             0.3333333333333333,
             "#9c179e"
            ],
            [
             0.4444444444444444,
             "#bd3786"
            ],
            [
             0.5555555555555556,
             "#d8576b"
            ],
            [
             0.6666666666666666,
             "#ed7953"
            ],
            [
             0.7777777777777778,
             "#fb9f3a"
            ],
            [
             0.8888888888888888,
             "#fdca26"
            ],
            [
             1,
             "#f0f921"
            ]
           ]
          },
          "colorway": [
           "#636efa",
           "#EF553B",
           "#00cc96",
           "#ab63fa",
           "#FFA15A",
           "#19d3f3",
           "#FF6692",
           "#B6E880",
           "#FF97FF",
           "#FECB52"
          ],
          "font": {
           "color": "#2a3f5f"
          },
          "geo": {
           "bgcolor": "white",
           "lakecolor": "white",
           "landcolor": "#E5ECF6",
           "showlakes": true,
           "showland": true,
           "subunitcolor": "white"
          },
          "hoverlabel": {
           "align": "left"
          },
          "hovermode": "closest",
          "mapbox": {
           "style": "light"
          },
          "paper_bgcolor": "white",
          "plot_bgcolor": "#E5ECF6",
          "polar": {
           "angularaxis": {
            "gridcolor": "white",
            "linecolor": "white",
            "ticks": ""
           },
           "bgcolor": "#E5ECF6",
           "radialaxis": {
            "gridcolor": "white",
            "linecolor": "white",
            "ticks": ""
           }
          },
          "scene": {
           "xaxis": {
            "backgroundcolor": "#E5ECF6",
            "gridcolor": "white",
            "gridwidth": 2,
            "linecolor": "white",
            "showbackground": true,
            "ticks": "",
            "zerolinecolor": "white"
           },
           "yaxis": {
            "backgroundcolor": "#E5ECF6",
            "gridcolor": "white",
            "gridwidth": 2,
            "linecolor": "white",
            "showbackground": true,
            "ticks": "",
            "zerolinecolor": "white"
           },
           "zaxis": {
            "backgroundcolor": "#E5ECF6",
            "gridcolor": "white",
            "gridwidth": 2,
            "linecolor": "white",
            "showbackground": true,
            "ticks": "",
            "zerolinecolor": "white"
           }
          },
          "shapedefaults": {
           "line": {
            "color": "#2a3f5f"
           }
          },
          "ternary": {
           "aaxis": {
            "gridcolor": "white",
            "linecolor": "white",
            "ticks": ""
           },
           "baxis": {
            "gridcolor": "white",
            "linecolor": "white",
            "ticks": ""
           },
           "bgcolor": "#E5ECF6",
           "caxis": {
            "gridcolor": "white",
            "linecolor": "white",
            "ticks": ""
           }
          },
          "title": {
           "x": 0.05
          },
          "xaxis": {
           "automargin": true,
           "gridcolor": "white",
           "linecolor": "white",
           "ticks": "",
           "title": {
            "standoff": 15
           },
           "zerolinecolor": "white",
           "zerolinewidth": 2
          },
          "yaxis": {
           "automargin": true,
           "gridcolor": "white",
           "linecolor": "white",
           "ticks": "",
           "title": {
            "standoff": 15
           },
           "zerolinecolor": "white",
           "zerolinewidth": 2
          }
         }
        },
        "title": {
         "text": "Total Sanction Packages Applied to Indivdual Dark Fleet Ships<br>Possible maxiumum total equals 7 (OFAC,UANI, ASO, EU, FCDO, GAC, UN)"
        },
        "width": 1400,
        "xaxis": {
         "anchor": "y",
         "domain": [
          0,
          1
         ],
         "title": {
          "text": "imo"
         }
        },
        "yaxis": {
         "anchor": "x",
         "domain": [
          0,
          1
         ],
         "title": {
          "text": "total_sanctions"
         }
        }
       }
      },
      "image/png": "[encoded data removed]"
     },
     "metadata": {},
     "output_type": "display_data"
    }
   ],
   "source": [
    "df['imo'] = df.imo.astype(str)\n",
    "df = df.sort_values(by='imo').reset_index(drop=True)\n",
    "\n",
    "fig = px.bar(df, x='imo', y='total_sanctions', color_discrete_sequence=['red'], title='Total Sanction Packages Applied to Indivdual Dark Fleet Ships<br>'\n",
    "                                                                      'Possible maxiumum total equals 7 (OFAC,UANI, ASO, EU, FCDO, GAC, UN)')\n",
    "fig.update_layout(width=1400, height=700)\n",
    "# fig.update_layout(\n",
    "#     paper_bgcolor='white',  # Background color of the entire chart\n",
    "#     plot_bgcolor='lightgray'     # Background color of the plot area\n",
    "# )\n",
    "\n",
    "# Show the plot\n",
    "fig.show()\n",
    "fig.write_html(\"total_sanctioned_bodies_interactive_plot.html\")\n"
   ]
  },
  {
   "cell_type": "code",
   "execution_count": 27,
   "id": "a78812a1-7cd6-46aa-8ae1-55fda4c32761",
   "metadata": {},
   "outputs": [
    {
     "name": "stderr",
     "output_type": "stream",
     "text": [
      "C:\\Users\\matth\\AppData\\Local\\Temp\\ipykernel_24020\\2730486739.py:2: SettingWithCopyWarning:\n",
      "\n",
      "\n",
      "A value is trying to be set on a copy of a slice from a DataFrame.\n",
      "Try using .loc[row_indexer,col_indexer] = value instead\n",
      "\n",
      "See the caveats in the documentation: https://pandas.pydata.org/pandas-docs/stable/user_guide/indexing.html#returning-a-view-versus-a-copy\n",
      "\n"
     ]
    },
    {
     "data": {
      "application/vnd.plotly.v1+json": {
       "config": {
        "plotlyServerURL": "https://plot.ly"
       },
       "data": [
        {
         "hovertemplate": "imo=%{x}<br>total_sanctions=%{y}<extra></extra>",
         "legendgroup": "",
         "marker": {
          "color": "darkblue",
          "pattern": {
           "shape": ""
          }
         },
         "name": "",
         "orientation": "v",
         "showlegend": false,
         "textposition": "auto",
         "type": "bar",
         "x": [
          "9079066",
          "9079078",
          "9079107",
          "9102239",
          "9102241",
          "9102277",
          "9116412",
          "9133850",
          "9153513",
          "9153525",
          "9166675",
          "9169691",
          "9171448",
          "9174220",
          "9174397",
          "9177155",
          "9179701",
          "9180152",
          "9180164",
          "9181194",
          "9181649",
          "9182291",
          "9182318",
          "9194127",
          "9196620",
          "9196632",
          "9196644",
          "9197832",
          "9197844",
          "9197909",
          "9198317",
          "9203253",
          "9203265",
          "9203277",
          "9206035",
          "9208215",
          "9212888",
          "9212890",
          "9212905",
          "9212917",
          "9212929",
          "9216717",
          "9217979",
          "9218454",
          "9218466",
          "9218478",
          "9218492",
          "9220952",
          "9222443",
          "9224295",
          "9224805",
          "9230878",
          "9230880",
          "9230907",
          "9233272",
          "9233650",
          "9233739",
          "9233753",
          "9234666",
          "9235244",
          "9235268",
          "9235737",
          "9236250",
          "9237539",
          "9237620",
          "9237632",
          "9237797",
          "9238868",
          "9240512",
          "9241114",
          "9244623",
          "9244635",
          "9244867",
          "9245782",
          "9245794",
          "9246279",
          "9246281",
          "9246633",
          "9248473",
          "9248485",
          "9248497",
          "9251951",
          "9253117",
          "9254082",
          "9256975",
          "9256987",
          "9257149",
          "9258521",
          "9259355",
          "9259367",
          "9262156",
          "9262168",
          "9262754",
          "9262766",
          "9263215",
          "9263227",
          "9264881",
          "9264893",
          "9273337",
          "9281683",
          "9281695",
          "9283801",
          "9286073",
          "9288095",
          "9288875",
          "9289477",
          "9289491",
          "9289726",
          "9290775",
          "9292163",
          "9292228",
          "9292486",
          "9293741",
          "9294240",
          "9294290",
          "9294331",
          "9295593",
          "9297319",
          "9302023",
          "9304655",
          "9304667",
          "9307633",
          "9310147",
          "9310159",
          "9311270",
          "9313149",
          "9316701",
          "9320843",
          "9322267",
          "9326055",
          "9328716",
          "9332535",
          "9337133",
          "9337195",
          "9356593",
          "9357183",
          "9357389",
          "9357391",
          "9357406",
          "9357717",
          "9357729",
          "9362059",
          "9362061",
          "9362073",
          "9365752",
          "9365764",
          "9365776",
          "9371608",
          "9379698",
          "9379703",
          "9402732",
          "9410234",
          "9410387",
          "9418078",
          "9439058",
          "9569205",
          "9569619",
          "9569621",
          "9569633",
          "9569645",
          "9569657",
          "9569669",
          "9569671",
          "9569683",
          "9569695",
          "9569700",
          "9569712",
          "9590008",
          "9829629"
         ],
         "xaxis": "x",
         "y": {
          "bdata": "AQEBAgICAQEBAgIBAgIBAQIBAQICAgECAQICAgICAgECAgECAQEBAQECAQEBAQECAQICAQICAQEBAgECAQICAQECAgECAQECAQEBAgIBAgECAgECAQICAQECAgICAgIBAgICBAICAgICAQIBAQICAgIBAQMCAgICAgICAgECAgICAgIBAgEBAQEBAQEBAQEBAgICAgECAgECAgEBAQEBAQEBAQEBAQEBAQ==",
          "dtype": "i1"
         },
         "yaxis": "y"
        }
       ],
       "layout": {
        "barmode": "relative",
        "height": 700,
        "legend": {
         "tracegroupgap": 0
        },
        "template": {
         "data": {
          "bar": [
           {
            "error_x": {
             "color": "#2a3f5f"
            },
            "error_y": {
             "color": "#2a3f5f"
            },
            "marker": {
             "line": {
              "color": "#E5ECF6",
              "width": 0.5
             },
             "pattern": {
              "fillmode": "overlay",
              "size": 10,
              "solidity": 0.2
             }
            },
            "type": "bar"
           }
          ],
          "barpolar": [
           {
            "marker": {
             "line": {
              "color": "#E5ECF6",
              "width": 0.5
             },
             "pattern": {
              "fillmode": "overlay",
              "size": 10,
              "solidity": 0.2
             }
            },
            "type": "barpolar"
           }
          ],
          "carpet": [
           {
            "aaxis": {
             "endlinecolor": "#2a3f5f",
             "gridcolor": "white",
             "linecolor": "white",
             "minorgridcolor": "white",
             "startlinecolor": "#2a3f5f"
            },
            "baxis": {
             "endlinecolor": "#2a3f5f",
             "gridcolor": "white",
             "linecolor": "white",
             "minorgridcolor": "white",
             "startlinecolor": "#2a3f5f"
            },
            "type": "carpet"
           }
          ],
          "choropleth": [
           {
            "colorbar": {
             "outlinewidth": 0,
             "ticks": ""
            },
            "type": "choropleth"
           }
          ],
          "contour": [
           {
            "colorbar": {
             "outlinewidth": 0,
             "ticks": ""
            },
            "colorscale": [
             [
              0,
              "#0d0887"
             ],
             [
              0.1111111111111111,
              "#46039f"
             ],
             [
              0.2222222222222222,
              "#7201a8"
             ],
             [
              0.3333333333333333,
              "#9c179e"
             ],
             [
              0.4444444444444444,
              "#bd3786"
             ],
             [
              0.5555555555555556,
              "#d8576b"
             ],
             [
              0.6666666666666666,
              "#ed7953"
             ],
             [
              0.7777777777777778,
              "#fb9f3a"
             ],
             [
              0.8888888888888888,
              "#fdca26"
             ],
             [
              1,
              "#f0f921"
             ]
            ],
            "type": "contour"
           }
          ],
          "contourcarpet": [
           {
            "colorbar": {
             "outlinewidth": 0,
             "ticks": ""
            },
            "type": "contourcarpet"
           }
          ],
          "heatmap": [
           {
            "colorbar": {
             "outlinewidth": 0,
             "ticks": ""
            },
            "colorscale": [
             [
              0,
              "#0d0887"
             ],
             [
              0.1111111111111111,
              "#46039f"
             ],
             [
              0.2222222222222222,
              "#7201a8"
             ],
             [
              0.3333333333333333,
              "#9c179e"
             ],
             [
              0.4444444444444444,
              "#bd3786"
             ],
             [
              0.5555555555555556,
              "#d8576b"
             ],
             [
              0.6666666666666666,
              "#ed7953"
             ],
             [
              0.7777777777777778,
              "#fb9f3a"
             ],
             [
              0.8888888888888888,
              "#fdca26"
             ],
             [
              1,
              "#f0f921"
             ]
            ],
            "type": "heatmap"
           }
          ],
          "histogram": [
           {
            "marker": {
             "pattern": {
              "fillmode": "overlay",
              "size": 10,
              "solidity": 0.2
             }
            },
            "type": "histogram"
           }
          ],
          "histogram2d": [
           {
            "colorbar": {
             "outlinewidth": 0,
             "ticks": ""
            },
            "colorscale": [
             [
              0,
              "#0d0887"
             ],
             [
              0.1111111111111111,
              "#46039f"
             ],
             [
              0.2222222222222222,
              "#7201a8"
             ],
             [
              0.3333333333333333,
              "#9c179e"
             ],
             [
              0.4444444444444444,
              "#bd3786"
             ],
             [
              0.5555555555555556,
              "#d8576b"
             ],
             [
              0.6666666666666666,
              "#ed7953"
             ],
             [
              0.7777777777777778,
              "#fb9f3a"
             ],
             [
              0.8888888888888888,
              "#fdca26"
             ],
             [
              1,
              "#f0f921"
             ]
            ],
            "type": "histogram2d"
           }
          ],
          "histogram2dcontour": [
           {
            "colorbar": {
             "outlinewidth": 0,
             "ticks": ""
            },
            "colorscale": [
             [
              0,
              "#0d0887"
             ],
             [
              0.1111111111111111,
              "#46039f"
             ],
             [
              0.2222222222222222,
              "#7201a8"
             ],
             [
              0.3333333333333333,
              "#9c179e"
             ],
             [
              0.4444444444444444,
              "#bd3786"
             ],
             [
              0.5555555555555556,
              "#d8576b"
             ],
             [
              0.6666666666666666,
              "#ed7953"
             ],
             [
              0.7777777777777778,
              "#fb9f3a"
             ],
             [
              0.8888888888888888,
              "#fdca26"
             ],
             [
              1,
              "#f0f921"
             ]
            ],
            "type": "histogram2dcontour"
           }
          ],
          "mesh3d": [
           {
            "colorbar": {
             "outlinewidth": 0,
             "ticks": ""
            },
            "type": "mesh3d"
           }
          ],
          "parcoords": [
           {
            "line": {
             "colorbar": {
              "outlinewidth": 0,
              "ticks": ""
             }
            },
            "type": "parcoords"
           }
          ],
          "pie": [
           {
            "automargin": true,
            "type": "pie"
           }
          ],
          "scatter": [
           {
            "fillpattern": {
             "fillmode": "overlay",
             "size": 10,
             "solidity": 0.2
            },
            "type": "scatter"
           }
          ],
          "scatter3d": [
           {
            "line": {
             "colorbar": {
              "outlinewidth": 0,
              "ticks": ""
             }
            },
            "marker": {
             "colorbar": {
              "outlinewidth": 0,
              "ticks": ""
             }
            },
            "type": "scatter3d"
           }
          ],
          "scattercarpet": [
           {
            "marker": {
             "colorbar": {
              "outlinewidth": 0,
              "ticks": ""
             }
            },
            "type": "scattercarpet"
           }
          ],
          "scattergeo": [
           {
            "marker": {
             "colorbar": {
              "outlinewidth": 0,
              "ticks": ""
             }
            },
            "type": "scattergeo"
           }
          ],
          "scattergl": [
           {
            "marker": {
             "colorbar": {
              "outlinewidth": 0,
              "ticks": ""
             }
            },
            "type": "scattergl"
           }
          ],
          "scattermap": [
           {
            "marker": {
             "colorbar": {
              "outlinewidth": 0,
              "ticks": ""
             }
            },
            "type": "scattermap"
           }
          ],
          "scattermapbox": [
           {
            "marker": {
             "colorbar": {
              "outlinewidth": 0,
              "ticks": ""
             }
            },
            "type": "scattermapbox"
           }
          ],
          "scatterpolar": [
           {
            "marker": {
             "colorbar": {
              "outlinewidth": 0,
              "ticks": ""
             }
            },
            "type": "scatterpolar"
           }
          ],
          "scatterpolargl": [
           {
            "marker": {
             "colorbar": {
              "outlinewidth": 0,
              "ticks": ""
             }
            },
            "type": "scatterpolargl"
           }
          ],
          "scatterternary": [
           {
            "marker": {
             "colorbar": {
              "outlinewidth": 0,
              "ticks": ""
             }
            },
            "type": "scatterternary"
           }
          ],
          "surface": [
           {
            "colorbar": {
             "outlinewidth": 0,
             "ticks": ""
            },
            "colorscale": [
             [
              0,
              "#0d0887"
             ],
             [
              0.1111111111111111,
              "#46039f"
             ],
             [
              0.2222222222222222,
              "#7201a8"
             ],
             [
              0.3333333333333333,
              "#9c179e"
             ],
             [
              0.4444444444444444,
              "#bd3786"
             ],
             [
              0.5555555555555556,
              "#d8576b"
             ],
             [
              0.6666666666666666,
              "#ed7953"
             ],
             [
              0.7777777777777778,
              "#fb9f3a"
             ],
             [
              0.8888888888888888,
              "#fdca26"
             ],
             [
              1,
              "#f0f921"
             ]
            ],
            "type": "surface"
           }
          ],
          "table": [
           {
            "cells": {
             "fill": {
              "color": "#EBF0F8"
             },
             "line": {
              "color": "white"
             }
            },
            "header": {
             "fill": {
              "color": "#C8D4E3"
             },
             "line": {
              "color": "white"
             }
            },
            "type": "table"
           }
          ]
         },
         "layout": {
          "annotationdefaults": {
           "arrowcolor": "#2a3f5f",
           "arrowhead": 0,
           "arrowwidth": 1
          },
          "autotypenumbers": "strict",
          "coloraxis": {
           "colorbar": {
            "outlinewidth": 0,
            "ticks": ""
           }
          },
          "colorscale": {
           "diverging": [
            [
             0,
             "#8e0152"
            ],
            [
             0.1,
             "#c51b7d"
            ],
            [
             0.2,
             "#de77ae"
            ],
            [
             0.3,
             "#f1b6da"
            ],
            [
             0.4,
             "#fde0ef"
            ],
            [
             0.5,
             "#f7f7f7"
            ],
            [
             0.6,
             "#e6f5d0"
            ],
            [
             0.7,
             "#b8e186"
            ],
            [
             0.8,
             "#7fbc41"
            ],
            [
             0.9,
             "#4d9221"
            ],
            [
             1,
             "#276419"
            ]
           ],
           "sequential": [
            [
             0,
             "#0d0887"
            ],
            [
             0.1111111111111111,
             "#46039f"
            ],
            [
             0.2222222222222222,
             "#7201a8"
            ],
            [
             0.3333333333333333,
             "#9c179e"
            ],
            [
             0.4444444444444444,
             "#bd3786"
            ],
            [
             0.5555555555555556,
             "#d8576b"
            ],
            [
             0.6666666666666666,
             "#ed7953"
            ],
            [
             0.7777777777777778,
             "#fb9f3a"
            ],
            [
             0.8888888888888888,
             "#fdca26"
            ],
            [
             1,
             "#f0f921"
            ]
           ],
           "sequentialminus": [
            [
             0,
             "#0d0887"
            ],
            [
             0.1111111111111111,
             "#46039f"
            ],
            [
             0.2222222222222222,
             "#7201a8"
            ],
            [
             0.3333333333333333,
             "#9c179e"
            ],
            [
             0.4444444444444444,
             "#bd3786"
            ],
            [
             0.5555555555555556,
             "#d8576b"
            ],
            [
             0.6666666666666666,
             "#ed7953"
            ],
            [
             0.7777777777777778,
             "#fb9f3a"
            ],
            [
             0.8888888888888888,
             "#fdca26"
            ],
            [
             1,
             "#f0f921"
            ]
           ]
          },
          "colorway": [
           "#636efa",
           "#EF553B",
           "#00cc96",
           "#ab63fa",
           "#FFA15A",
           "#19d3f3",
           "#FF6692",
           "#B6E880",
           "#FF97FF",
           "#FECB52"
          ],
          "font": {
           "color": "#2a3f5f"
          },
          "geo": {
           "bgcolor": "white",
           "lakecolor": "white",
           "landcolor": "#E5ECF6",
           "showlakes": true,
           "showland": true,
           "subunitcolor": "white"
          },
          "hoverlabel": {
           "align": "left"
          },
          "hovermode": "closest",
          "mapbox": {
           "style": "light"
          },
          "paper_bgcolor": "white",
          "plot_bgcolor": "#E5ECF6",
          "polar": {
           "angularaxis": {
            "gridcolor": "white",
            "linecolor": "white",
            "ticks": ""
           },
           "bgcolor": "#E5ECF6",
           "radialaxis": {
            "gridcolor": "white",
            "linecolor": "white",
            "ticks": ""
           }
          },
          "scene": {
           "xaxis": {
            "backgroundcolor": "#E5ECF6",
            "gridcolor": "white",
            "gridwidth": 2,
            "linecolor": "white",
            "showbackground": true,
            "ticks": "",
            "zerolinecolor": "white"
           },
           "yaxis": {
            "backgroundcolor": "#E5ECF6",
            "gridcolor": "white",
            "gridwidth": 2,
            "linecolor": "white",
            "showbackground": true,
            "ticks": "",
            "zerolinecolor": "white"
           },
           "zaxis": {
            "backgroundcolor": "#E5ECF6",
            "gridcolor": "white",
            "gridwidth": 2,
            "linecolor": "white",
            "showbackground": true,
            "ticks": "",
            "zerolinecolor": "white"
           }
          },
          "shapedefaults": {
           "line": {
            "color": "#2a3f5f"
           }
          },
          "ternary": {
           "aaxis": {
            "gridcolor": "white",
            "linecolor": "white",
            "ticks": ""
           },
           "baxis": {
            "gridcolor": "white",
            "linecolor": "white",
            "ticks": ""
           },
           "bgcolor": "#E5ECF6",
           "caxis": {
            "gridcolor": "white",
            "linecolor": "white",
            "ticks": ""
           }
          },
          "title": {
           "x": 0.05
          },
          "xaxis": {
           "automargin": true,
           "gridcolor": "white",
           "linecolor": "white",
           "ticks": "",
           "title": {
            "standoff": 15
           },
           "zerolinecolor": "white",
           "zerolinewidth": 2
          },
          "yaxis": {
           "automargin": true,
           "gridcolor": "white",
           "linecolor": "white",
           "ticks": "",
           "title": {
            "standoff": 15
           },
           "zerolinecolor": "white",
           "zerolinewidth": 2
          }
         }
        },
        "title": {
         "text": "Total Sanction Packages Applied to 169 VLCC/ULCC Dark Fleet Ships<br>Possible maxiumum total equals 7 (OFAC,UANI, ASO, EU, FCDO, GAC, UN)"
        },
        "width": 1400,
        "xaxis": {
         "anchor": "y",
         "domain": [
          0,
          1
         ],
         "title": {
          "text": "imo"
         }
        },
        "yaxis": {
         "anchor": "x",
         "domain": [
          0,
          1
         ],
         "title": {
          "text": "total_sanctions"
         }
        }
       }
      },
      "image/png": "[encoded data removed]"
     },
     "metadata": {},
     "output_type": "display_data"
    }
   ],
   "source": [
    "vlcc = df.query('class_size==\"VLCC/ULCC\"')\n",
    "vlcc['imo'] = vlcc.imo.astype(str)\n",
    "vlcc = vlcc.sort_values(by='imo').reset_index(drop=True)\n",
    "fig = px.bar(vlcc, x='imo', y='total_sanctions', color_discrete_sequence=['darkblue'], title=f\"Total Sanction Packages Applied to {vlcc.shape[0]} VLCC/ULCC Dark Fleet Ships<br>\"\n",
    "                                                                      \"Possible maxiumum total equals 7 (OFAC,UANI, ASO, EU, FCDO, GAC, UN)\")\n",
    "fig.update_layout(width=1400, height=700)\n",
    "# fig.update_layout(\n",
    "#     paper_bgcolor='white',  # Background color of the entire chart\n",
    "#     plot_bgcolor='white'     # Background color of the plot area\n",
    "# )\n",
    "\n",
    "# Show the plot\n",
    "fig.show()\n",
    "fig.write_html(\"VLCC_sanctioned_bodies_interactive_plot.html\")\n"
   ]
  },
  {
   "cell_type": "code",
   "execution_count": null,
   "id": "696c1784-8966-4dba-ac53-d28b272a9245",
   "metadata": {},
   "outputs": [],
   "source": []
  },
  {
   "cell_type": "code",
   "execution_count": null,
   "id": "abc4e809-82e7-426f-b82b-ca222ab69b88",
   "metadata": {},
   "outputs": [],
   "source": []
  },
  {
   "cell_type": "code",
   "execution_count": null,
   "id": "858071dc-34c6-416d-9115-94cf00990511",
   "metadata": {},
   "outputs": [],
   "source": []
  }
 ],
 "metadata": {
  "kernelspec": {
   "display_name": "Python 3 (ipykernel)",
   "language": "python",
   "name": "python3"
  },
  "language_info": {
   "codemirror_mode": {
    "name": "ipython",
    "version": 3
   },
   "file_extension": ".py",
   "mimetype": "text/x-python",
   "name": "python",
   "nbconvert_exporter": "python",
   "pygments_lexer": "ipython3",
   "version": "3.13.5"
  }
 },
 "nbformat": 4,
 "nbformat_minor": 5
}
