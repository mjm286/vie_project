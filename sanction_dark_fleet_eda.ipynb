{
 "cells": [
  {
   "cell_type": "markdown",
   "id": "3cf36f34-7ecf-445c-ad9e-cdf082fa23a5",
   "metadata": {},
   "source": [
    "### Case study for internship at VIE.\n",
    "\n",
    "This notebook walks through a brief exploraorty data analysis (EDA) of the Dark Fleet.  Data is primarily from TankerTrackers.com while\n",
    "vessel build year and deadweight ton was scraped from the internet. Web scraping was done ouside of this notebook, though code to do so\n",
    "can be found within this repository (webscrape_imo_data.py).  A summary of this work can be found at the bottom of this notebbok. Any questions \n",
    "or comments can be directed to mjm7919@gmail.com.\n",
    "\n",
    "#### created by Matthew McCarroll\n",
    "##### 08/28/2025"
   ]
  },
  {
   "cell_type": "code",
   "execution_count": 1,
   "id": "58d70bba-ffa0-4d58-bad0-067131637725",
   "metadata": {},
   "outputs": [],
   "source": [
    "from sklearn.preprocessing import OneHotEncoder\n",
    "import plotly.express as px\n",
    "import time\n",
    "import glob\n",
    "import numpy as np\n",
    "import requests\n",
    "import pandas as pd\n",
    "import json\n",
    "import ast\n",
    "import re"
   ]
  },
  {
   "cell_type": "markdown",
   "id": "e384b875-fe42-48c2-b1f0-0d30506f0dc7",
   "metadata": {},
   "source": [
    "#### TankerTrackers (TT), have made available free dark fleet data, via an api all or a csv download.  Below, I use the api call to get the data and unpack the columns describing what entity is applying sanctions."
   ]
  },
  {
   "cell_type": "code",
   "execution_count": 2,
   "id": "e3ce71df-00b3-48ca-8468-3f560f029d6c",
   "metadata": {},
   "outputs": [
    {
     "name": "stdout",
     "output_type": "stream",
     "text": [
      "tanker tracker vessel count: (1209, 9)\n"
     ]
    },
    {
     "data": {
      "text/html": [
       "<div>\n",
       "<style scoped>\n",
       "    .dataframe tbody tr th:only-of-type {\n",
       "        vertical-align: middle;\n",
       "    }\n",
       "\n",
       "    .dataframe tbody tr th {\n",
       "        vertical-align: top;\n",
       "    }\n",
       "\n",
       "    .dataframe thead th {\n",
       "        text-align: right;\n",
       "    }\n",
       "</style>\n",
       "<table border=\"1\" class=\"dataframe\">\n",
       "  <thead>\n",
       "    <tr style=\"text-align: right;\">\n",
       "      <th></th>\n",
       "      <th>name</th>\n",
       "      <th>imo</th>\n",
       "      <th>OFAC</th>\n",
       "      <th>UANI</th>\n",
       "      <th>ASO</th>\n",
       "      <th>EU</th>\n",
       "      <th>FCDO</th>\n",
       "      <th>GAC</th>\n",
       "      <th>UN</th>\n",
       "    </tr>\n",
       "  </thead>\n",
       "  <tbody>\n",
       "    <tr>\n",
       "      <th>0</th>\n",
       "      <td>ABHRA</td>\n",
       "      <td>9282041</td>\n",
       "      <td>2025-07-30</td>\n",
       "      <td>NaN</td>\n",
       "      <td>NaN</td>\n",
       "      <td>NaN</td>\n",
       "      <td>NaN</td>\n",
       "      <td>NaN</td>\n",
       "      <td>NaN</td>\n",
       "    </tr>\n",
       "    <tr>\n",
       "      <th>1</th>\n",
       "      <td>ABROS</td>\n",
       "      <td>9247388</td>\n",
       "      <td>2025-05-08</td>\n",
       "      <td>2024-10-31</td>\n",
       "      <td>NaN</td>\n",
       "      <td>NaN</td>\n",
       "      <td>NaN</td>\n",
       "      <td>NaN</td>\n",
       "      <td>NaN</td>\n",
       "    </tr>\n",
       "    <tr>\n",
       "      <th>2</th>\n",
       "      <td>ACHILLES</td>\n",
       "      <td>9368223</td>\n",
       "      <td>NaN</td>\n",
       "      <td>NaN</td>\n",
       "      <td>2025-06-19</td>\n",
       "      <td>2025-07-20</td>\n",
       "      <td>2025-02-24</td>\n",
       "      <td>2025-06-13</td>\n",
       "      <td>NaN</td>\n",
       "    </tr>\n",
       "    <tr>\n",
       "      <th>3</th>\n",
       "      <td>ADELINE G</td>\n",
       "      <td>9234666</td>\n",
       "      <td>2025-08-21</td>\n",
       "      <td>2022-11-01</td>\n",
       "      <td>NaN</td>\n",
       "      <td>NaN</td>\n",
       "      <td>NaN</td>\n",
       "      <td>NaN</td>\n",
       "      <td>NaN</td>\n",
       "    </tr>\n",
       "    <tr>\n",
       "      <th>4</th>\n",
       "      <td>ADHARA</td>\n",
       "      <td>9353125</td>\n",
       "      <td>NaN</td>\n",
       "      <td>NaN</td>\n",
       "      <td>NaN</td>\n",
       "      <td>2025-05-21</td>\n",
       "      <td>2025-05-09</td>\n",
       "      <td>2025-06-13</td>\n",
       "      <td>NaN</td>\n",
       "    </tr>\n",
       "  </tbody>\n",
       "</table>\n",
       "</div>"
      ],
      "text/plain": [
       "        name      imo        OFAC        UANI         ASO          EU  \\\n",
       "0      ABHRA  9282041  2025-07-30         NaN         NaN         NaN   \n",
       "1      ABROS  9247388  2025-05-08  2024-10-31         NaN         NaN   \n",
       "2   ACHILLES  9368223         NaN         NaN  2025-06-19  2025-07-20   \n",
       "3  ADELINE G  9234666  2025-08-21  2022-11-01         NaN         NaN   \n",
       "4     ADHARA  9353125         NaN         NaN         NaN  2025-05-21   \n",
       "\n",
       "         FCDO         GAC   UN  \n",
       "0         NaN         NaN  NaN  \n",
       "1         NaN         NaN  NaN  \n",
       "2  2025-02-24  2025-06-13  NaN  \n",
       "3         NaN         NaN  NaN  \n",
       "4  2025-05-09  2025-06-13  NaN  "
      ]
     },
     "execution_count": 2,
     "metadata": {},
     "output_type": "execute_result"
    }
   ],
   "source": [
    "api_url = \"https://tankertrackers.com/api/sanctioned/v1\"\n",
    "response = requests.get(api_url)\n",
    "j = response.json()\n",
    "\n",
    "sanction_data = pd.DataFrame.from_dict(j[\"data\"])\n",
    "country_sanctions = sanction_data[\"sanctions\"].apply(pd.Series)\n",
    "sanction_fleet = pd.concat([sanction_data.drop(\"sanctions\", axis=1), country_sanctions], axis=1)\n",
    "\n",
    "sanction_fleet.head()"
   ]
  },
  {
   "cell_type": "markdown",
   "id": "8b609cb2-bec2-4b85-881d-dcc0c17ab939",
   "metadata": {},
   "source": [
    "#### The TT api does not provide the class size of the vessel yet they publish that data on their website https://tankertrackers.com/report/sanctioned.  I copied their table into csv and read it in."
   ]
  },
  {
   "cell_type": "code",
   "execution_count": 3,
   "id": "5fe52448-9f4a-43e5-9615-e59a51be159e",
   "metadata": {},
   "outputs": [
    {
     "data": {
      "text/html": [
       "<div>\n",
       "<style scoped>\n",
       "    .dataframe tbody tr th:only-of-type {\n",
       "        vertical-align: middle;\n",
       "    }\n",
       "\n",
       "    .dataframe tbody tr th {\n",
       "        vertical-align: top;\n",
       "    }\n",
       "\n",
       "    .dataframe thead th {\n",
       "        text-align: right;\n",
       "    }\n",
       "</style>\n",
       "<table border=\"1\" class=\"dataframe\">\n",
       "  <thead>\n",
       "    <tr style=\"text-align: right;\">\n",
       "      <th></th>\n",
       "      <th>name</th>\n",
       "      <th>class_size</th>\n",
       "      <th>flag</th>\n",
       "    </tr>\n",
       "  </thead>\n",
       "  <tbody>\n",
       "    <tr>\n",
       "      <th>0</th>\n",
       "      <td>A JEWEL (9244867)</td>\n",
       "      <td>VLCC/ULCC</td>\n",
       "      <td>Cook Islands</td>\n",
       "    </tr>\n",
       "    <tr>\n",
       "      <th>1</th>\n",
       "      <td>A R G (9689031)</td>\n",
       "      <td>Handysize/Handymax</td>\n",
       "      <td>Barbados</td>\n",
       "    </tr>\n",
       "    <tr>\n",
       "      <th>2</th>\n",
       "      <td>A S (7303803)</td>\n",
       "      <td>Handysize/Handymax</td>\n",
       "      <td>North Korea</td>\n",
       "    </tr>\n",
       "    <tr>\n",
       "      <th>3</th>\n",
       "      <td>ABHRA (9282041)</td>\n",
       "      <td>Aframax</td>\n",
       "      <td>Panama</td>\n",
       "    </tr>\n",
       "    <tr>\n",
       "      <th>4</th>\n",
       "      <td>ABROS (9247388)</td>\n",
       "      <td>Handysize/Handymax</td>\n",
       "      <td>Curaçao</td>\n",
       "    </tr>\n",
       "  </tbody>\n",
       "</table>\n",
       "</div>"
      ],
      "text/plain": [
       "                name          class_size          flag\n",
       "0  A JEWEL (9244867)           VLCC/ULCC  Cook Islands\n",
       "1    A R G (9689031)  Handysize/Handymax      Barbados\n",
       "2      A S (7303803)  Handysize/Handymax   North Korea\n",
       "3    ABHRA (9282041)             Aframax        Panama\n",
       "4    ABROS (9247388)  Handysize/Handymax       Curaçao"
      ]
     },
     "execution_count": 3,
     "metadata": {},
     "output_type": "execute_result"
    }
   ],
   "source": [
    "vessels = pd.read_excel('dark_fleet_class_size.xlsx')\n",
    "vessels.head()"
   ]
  },
  {
   "cell_type": "markdown",
   "id": "42636ca5-5271-43a4-8ab0-7bcba28e7a1d",
   "metadata": {},
   "source": [
    "#### TT buries the imo into the name column. Let's extract those numbers and put them into its own column."
   ]
  },
  {
   "cell_type": "code",
   "execution_count": 4,
   "id": "86c2a801-c460-435a-a065-e0c0f9c9407d",
   "metadata": {},
   "outputs": [
    {
     "data": {
      "text/html": [
       "<div>\n",
       "<style scoped>\n",
       "    .dataframe tbody tr th:only-of-type {\n",
       "        vertical-align: middle;\n",
       "    }\n",
       "\n",
       "    .dataframe tbody tr th {\n",
       "        vertical-align: top;\n",
       "    }\n",
       "\n",
       "    .dataframe thead th {\n",
       "        text-align: right;\n",
       "    }\n",
       "</style>\n",
       "<table border=\"1\" class=\"dataframe\">\n",
       "  <thead>\n",
       "    <tr style=\"text-align: right;\">\n",
       "      <th></th>\n",
       "      <th>name</th>\n",
       "      <th>class_size</th>\n",
       "      <th>flag</th>\n",
       "      <th>imo</th>\n",
       "    </tr>\n",
       "  </thead>\n",
       "  <tbody>\n",
       "    <tr>\n",
       "      <th>0</th>\n",
       "      <td>A S (7303803)</td>\n",
       "      <td>Handysize/Handymax</td>\n",
       "      <td>North Korea</td>\n",
       "      <td>7303803</td>\n",
       "    </tr>\n",
       "    <tr>\n",
       "      <th>1</th>\n",
       "      <td>SAM JONG 2 (7408873)</td>\n",
       "      <td>Handysize/Handymax</td>\n",
       "      <td>North Korea</td>\n",
       "      <td>7408873</td>\n",
       "    </tr>\n",
       "    <tr>\n",
       "      <th>2</th>\n",
       "      <td>SAMMA2 (8106496)</td>\n",
       "      <td>Handysize/Handymax</td>\n",
       "      <td>North Korea</td>\n",
       "      <td>8106496</td>\n",
       "    </tr>\n",
       "    <tr>\n",
       "      <th>3</th>\n",
       "      <td>NAMSAN8 (8122347)</td>\n",
       "      <td>Handysize/Handymax</td>\n",
       "      <td>North Korea</td>\n",
       "      <td>8122347</td>\n",
       "    </tr>\n",
       "    <tr>\n",
       "      <th>4</th>\n",
       "      <td>SHANG YUAN BAO (8126070)</td>\n",
       "      <td>Handysize/Handymax</td>\n",
       "      <td>Saint Vincent and the Grenadines</td>\n",
       "      <td>8126070</td>\n",
       "    </tr>\n",
       "  </tbody>\n",
       "</table>\n",
       "</div>"
      ],
      "text/plain": [
       "                        name          class_size  \\\n",
       "0              A S (7303803)  Handysize/Handymax   \n",
       "1       SAM JONG 2 (7408873)  Handysize/Handymax   \n",
       "2           SAMMA2 (8106496)  Handysize/Handymax   \n",
       "3          NAMSAN8 (8122347)  Handysize/Handymax   \n",
       "4  SHANG YUAN BAO (8126070)   Handysize/Handymax   \n",
       "\n",
       "                               flag      imo  \n",
       "0                       North Korea  7303803  \n",
       "1                       North Korea  7408873  \n",
       "2                       North Korea  8106496  \n",
       "3                       North Korea  8122347  \n",
       "4  Saint Vincent and the Grenadines  8126070  "
      ]
     },
     "execution_count": 4,
     "metadata": {},
     "output_type": "execute_result"
    }
   ],
   "source": [
    "pattern = r'\\((\\d+\\.?\\d*)\\)'\n",
    "\n",
    "# Find all matches of the pattern in the text\n",
    "\n",
    "vessels['imo'] = [re.findall(pattern, text) for text in vessels.name] \n",
    "vessels['imo'] = [int(x[0]) for x in vessels.imo.values] # extract values and turn them into intergers\n",
    "vessels = vessels.sort_values(by='imo').reset_index(drop=True)\n",
    "vessels.head()"
   ]
  },
  {
   "cell_type": "code",
   "execution_count": 5,
   "id": "aff967c2-4275-4859-a85f-245214d33bff",
   "metadata": {},
   "outputs": [
    {
     "data": {
      "text/plain": [
       "array(['Handysize/Handymax', 'Panamax', 'Suezmax', 'Aframax', 'VLCC/ULCC'],\n",
       "      dtype=object)"
      ]
     },
     "execution_count": 5,
     "metadata": {},
     "output_type": "execute_result"
    }
   ],
   "source": [
    "# type of class sizes\n",
    "vessels.class_size.unique()"
   ]
  },
  {
   "cell_type": "markdown",
   "id": "74c5eb29-2325-400c-9caa-46a6dee7ca3d",
   "metadata": {},
   "source": [
    "#### The entities applying the sanctions are not applied to every single vessel.  \n",
    "#### It is important to understand how many sancions each vessel has to her(?) name."
   ]
  },
  {
   "cell_type": "code",
   "execution_count": 6,
   "id": "49a5640b-7838-4ab3-95a0-26a816b65478",
   "metadata": {},
   "outputs": [
    {
     "data": {
      "text/html": [
       "<div>\n",
       "<style scoped>\n",
       "    .dataframe tbody tr th:only-of-type {\n",
       "        vertical-align: middle;\n",
       "    }\n",
       "\n",
       "    .dataframe tbody tr th {\n",
       "        vertical-align: top;\n",
       "    }\n",
       "\n",
       "    .dataframe thead th {\n",
       "        text-align: right;\n",
       "    }\n",
       "</style>\n",
       "<table border=\"1\" class=\"dataframe\">\n",
       "  <thead>\n",
       "    <tr style=\"text-align: right;\">\n",
       "      <th></th>\n",
       "      <th>name</th>\n",
       "      <th>imo</th>\n",
       "      <th>OFAC</th>\n",
       "      <th>UANI</th>\n",
       "      <th>ASO</th>\n",
       "      <th>EU</th>\n",
       "      <th>FCDO</th>\n",
       "      <th>GAC</th>\n",
       "      <th>UN</th>\n",
       "      <th>OFAC_numeric</th>\n",
       "      <th>UANI_numeric</th>\n",
       "      <th>ASO_numeric</th>\n",
       "      <th>EU_numeric</th>\n",
       "      <th>FCDO_numeric</th>\n",
       "      <th>GAC_numeric</th>\n",
       "      <th>UN_numeric</th>\n",
       "      <th>total_sanctions</th>\n",
       "    </tr>\n",
       "  </thead>\n",
       "  <tbody>\n",
       "    <tr>\n",
       "      <th>0</th>\n",
       "      <td>A S</td>\n",
       "      <td>7303803</td>\n",
       "      <td>2025-06-10</td>\n",
       "      <td>NaN</td>\n",
       "      <td>NaN</td>\n",
       "      <td>NaN</td>\n",
       "      <td>2018-03-30</td>\n",
       "      <td>NaN</td>\n",
       "      <td>2018-03-30</td>\n",
       "      <td>1</td>\n",
       "      <td>0</td>\n",
       "      <td>0</td>\n",
       "      <td>0</td>\n",
       "      <td>1</td>\n",
       "      <td>0</td>\n",
       "      <td>1</td>\n",
       "      <td>3</td>\n",
       "    </tr>\n",
       "    <tr>\n",
       "      <th>1</th>\n",
       "      <td>SAMJONG2</td>\n",
       "      <td>7408873</td>\n",
       "      <td>2025-06-08</td>\n",
       "      <td>NaN</td>\n",
       "      <td>NaN</td>\n",
       "      <td>NaN</td>\n",
       "      <td>2018-03-30</td>\n",
       "      <td>NaN</td>\n",
       "      <td>2018-03-30</td>\n",
       "      <td>1</td>\n",
       "      <td>0</td>\n",
       "      <td>0</td>\n",
       "      <td>0</td>\n",
       "      <td>1</td>\n",
       "      <td>0</td>\n",
       "      <td>1</td>\n",
       "      <td>3</td>\n",
       "    </tr>\n",
       "    <tr>\n",
       "      <th>2</th>\n",
       "      <td>SAMMA2</td>\n",
       "      <td>8106496</td>\n",
       "      <td>2025-06-09</td>\n",
       "      <td>NaN</td>\n",
       "      <td>NaN</td>\n",
       "      <td>NaN</td>\n",
       "      <td>2018-03-30</td>\n",
       "      <td>NaN</td>\n",
       "      <td>2018-03-30</td>\n",
       "      <td>1</td>\n",
       "      <td>0</td>\n",
       "      <td>0</td>\n",
       "      <td>0</td>\n",
       "      <td>1</td>\n",
       "      <td>0</td>\n",
       "      <td>1</td>\n",
       "      <td>3</td>\n",
       "    </tr>\n",
       "    <tr>\n",
       "      <th>3</th>\n",
       "      <td>NAMSAN8</td>\n",
       "      <td>8122347</td>\n",
       "      <td>2025-05-08</td>\n",
       "      <td>NaN</td>\n",
       "      <td>NaN</td>\n",
       "      <td>NaN</td>\n",
       "      <td>2018-03-30</td>\n",
       "      <td>NaN</td>\n",
       "      <td>2018-03-30</td>\n",
       "      <td>1</td>\n",
       "      <td>0</td>\n",
       "      <td>0</td>\n",
       "      <td>0</td>\n",
       "      <td>1</td>\n",
       "      <td>0</td>\n",
       "      <td>1</td>\n",
       "      <td>3</td>\n",
       "    </tr>\n",
       "    <tr>\n",
       "      <th>4</th>\n",
       "      <td>SHANG YUAN BAO</td>\n",
       "      <td>8126070</td>\n",
       "      <td>2025-05-08</td>\n",
       "      <td>NaN</td>\n",
       "      <td>NaN</td>\n",
       "      <td>NaN</td>\n",
       "      <td>2018-03-30</td>\n",
       "      <td>NaN</td>\n",
       "      <td>2018-10-16</td>\n",
       "      <td>1</td>\n",
       "      <td>0</td>\n",
       "      <td>0</td>\n",
       "      <td>0</td>\n",
       "      <td>1</td>\n",
       "      <td>0</td>\n",
       "      <td>1</td>\n",
       "      <td>3</td>\n",
       "    </tr>\n",
       "  </tbody>\n",
       "</table>\n",
       "</div>"
      ],
      "text/plain": [
       "             name      imo        OFAC UANI  ASO   EU        FCDO  GAC  \\\n",
       "0             A S  7303803  2025-06-10  NaN  NaN  NaN  2018-03-30  NaN   \n",
       "1        SAMJONG2  7408873  2025-06-08  NaN  NaN  NaN  2018-03-30  NaN   \n",
       "2          SAMMA2  8106496  2025-06-09  NaN  NaN  NaN  2018-03-30  NaN   \n",
       "3         NAMSAN8  8122347  2025-05-08  NaN  NaN  NaN  2018-03-30  NaN   \n",
       "4  SHANG YUAN BAO  8126070  2025-05-08  NaN  NaN  NaN  2018-03-30  NaN   \n",
       "\n",
       "           UN  OFAC_numeric  UANI_numeric  ASO_numeric  EU_numeric  \\\n",
       "0  2018-03-30             1             0            0           0   \n",
       "1  2018-03-30             1             0            0           0   \n",
       "2  2018-03-30             1             0            0           0   \n",
       "3  2018-03-30             1             0            0           0   \n",
       "4  2018-10-16             1             0            0           0   \n",
       "\n",
       "   FCDO_numeric  GAC_numeric  UN_numeric  total_sanctions  \n",
       "0             1            0           1                3  \n",
       "1             1            0           1                3  \n",
       "2             1            0           1                3  \n",
       "3             1            0           1                3  \n",
       "4             1            0           1                3  "
      ]
     },
     "execution_count": 6,
     "metadata": {},
     "output_type": "execute_result"
    }
   ],
   "source": [
    "sanction_fleet = sanction_fleet.sort_values(by='imo').reset_index(drop=True)\n",
    "\n",
    "def count_sanctions(data):\n",
    "    sanction_fleet[f\"{data}_numeric\"] = np.where(sanction_fleet[f\"{data}\"].notna(), 1, 0)\n",
    "    return sanction_fleet\n",
    "\n",
    "categorical_bans=list(sanction_fleet.columns[2:9:])\n",
    "[count_sanctions(d) for d in categorical_bans]\n",
    "sanction_fleet['total_sanctions'] = sanction_fleet[sanction_fleet.columns[-7:]].sum(axis=1)\n",
    "sanction_fleet.head()"
   ]
  },
  {
   "cell_type": "markdown",
   "id": "61ca0f3c-f163-4e41-bc37-1675c2efbf94",
   "metadata": {},
   "source": [
    "merge the api data with vessel size and tidy up column names"
   ]
  },
  {
   "cell_type": "code",
   "execution_count": 7,
   "id": "f080e0fe-c844-4276-bac7-5c7e851e0bcf",
   "metadata": {},
   "outputs": [
    {
     "name": "stdout",
     "output_type": "stream",
     "text": [
      "size of data is (1209, 19)\n"
     ]
    },
    {
     "data": {
      "text/html": [
       "<div>\n",
       "<style scoped>\n",
       "    .dataframe tbody tr th:only-of-type {\n",
       "        vertical-align: middle;\n",
       "    }\n",
       "\n",
       "    .dataframe tbody tr th {\n",
       "        vertical-align: top;\n",
       "    }\n",
       "\n",
       "    .dataframe thead th {\n",
       "        text-align: right;\n",
       "    }\n",
       "</style>\n",
       "<table border=\"1\" class=\"dataframe\">\n",
       "  <thead>\n",
       "    <tr style=\"text-align: right;\">\n",
       "      <th></th>\n",
       "      <th>class_size</th>\n",
       "      <th>flag</th>\n",
       "      <th>imo</th>\n",
       "      <th>name</th>\n",
       "      <th>OFAC</th>\n",
       "      <th>UANI</th>\n",
       "      <th>ASO</th>\n",
       "      <th>EU</th>\n",
       "      <th>FCDO</th>\n",
       "      <th>GAC</th>\n",
       "      <th>UN</th>\n",
       "      <th>OFAC_numeric</th>\n",
       "      <th>UANI_numeric</th>\n",
       "      <th>ASO_numeric</th>\n",
       "      <th>EU_numeric</th>\n",
       "      <th>FCDO_numeric</th>\n",
       "      <th>GAC_numeric</th>\n",
       "      <th>UN_numeric</th>\n",
       "      <th>total_sanctions</th>\n",
       "    </tr>\n",
       "  </thead>\n",
       "  <tbody>\n",
       "    <tr>\n",
       "      <th>0</th>\n",
       "      <td>Handysize/Handymax</td>\n",
       "      <td>North Korea</td>\n",
       "      <td>7303803</td>\n",
       "      <td>A S</td>\n",
       "      <td>2025-06-10</td>\n",
       "      <td>NaN</td>\n",
       "      <td>NaN</td>\n",
       "      <td>NaN</td>\n",
       "      <td>2018-03-30</td>\n",
       "      <td>NaN</td>\n",
       "      <td>2018-03-30</td>\n",
       "      <td>1</td>\n",
       "      <td>0</td>\n",
       "      <td>0</td>\n",
       "      <td>0</td>\n",
       "      <td>1</td>\n",
       "      <td>0</td>\n",
       "      <td>1</td>\n",
       "      <td>3</td>\n",
       "    </tr>\n",
       "    <tr>\n",
       "      <th>1</th>\n",
       "      <td>Handysize/Handymax</td>\n",
       "      <td>North Korea</td>\n",
       "      <td>7408873</td>\n",
       "      <td>SAMJONG2</td>\n",
       "      <td>2025-06-08</td>\n",
       "      <td>NaN</td>\n",
       "      <td>NaN</td>\n",
       "      <td>NaN</td>\n",
       "      <td>2018-03-30</td>\n",
       "      <td>NaN</td>\n",
       "      <td>2018-03-30</td>\n",
       "      <td>1</td>\n",
       "      <td>0</td>\n",
       "      <td>0</td>\n",
       "      <td>0</td>\n",
       "      <td>1</td>\n",
       "      <td>0</td>\n",
       "      <td>1</td>\n",
       "      <td>3</td>\n",
       "    </tr>\n",
       "    <tr>\n",
       "      <th>2</th>\n",
       "      <td>Handysize/Handymax</td>\n",
       "      <td>North Korea</td>\n",
       "      <td>8106496</td>\n",
       "      <td>SAMMA2</td>\n",
       "      <td>2025-06-09</td>\n",
       "      <td>NaN</td>\n",
       "      <td>NaN</td>\n",
       "      <td>NaN</td>\n",
       "      <td>2018-03-30</td>\n",
       "      <td>NaN</td>\n",
       "      <td>2018-03-30</td>\n",
       "      <td>1</td>\n",
       "      <td>0</td>\n",
       "      <td>0</td>\n",
       "      <td>0</td>\n",
       "      <td>1</td>\n",
       "      <td>0</td>\n",
       "      <td>1</td>\n",
       "      <td>3</td>\n",
       "    </tr>\n",
       "    <tr>\n",
       "      <th>3</th>\n",
       "      <td>Handysize/Handymax</td>\n",
       "      <td>North Korea</td>\n",
       "      <td>8122347</td>\n",
       "      <td>NAMSAN8</td>\n",
       "      <td>2025-05-08</td>\n",
       "      <td>NaN</td>\n",
       "      <td>NaN</td>\n",
       "      <td>NaN</td>\n",
       "      <td>2018-03-30</td>\n",
       "      <td>NaN</td>\n",
       "      <td>2018-03-30</td>\n",
       "      <td>1</td>\n",
       "      <td>0</td>\n",
       "      <td>0</td>\n",
       "      <td>0</td>\n",
       "      <td>1</td>\n",
       "      <td>0</td>\n",
       "      <td>1</td>\n",
       "      <td>3</td>\n",
       "    </tr>\n",
       "    <tr>\n",
       "      <th>4</th>\n",
       "      <td>Handysize/Handymax</td>\n",
       "      <td>Saint Vincent and the Grenadines</td>\n",
       "      <td>8126070</td>\n",
       "      <td>SHANG YUAN BAO</td>\n",
       "      <td>2025-05-08</td>\n",
       "      <td>NaN</td>\n",
       "      <td>NaN</td>\n",
       "      <td>NaN</td>\n",
       "      <td>2018-03-30</td>\n",
       "      <td>NaN</td>\n",
       "      <td>2018-10-16</td>\n",
       "      <td>1</td>\n",
       "      <td>0</td>\n",
       "      <td>0</td>\n",
       "      <td>0</td>\n",
       "      <td>1</td>\n",
       "      <td>0</td>\n",
       "      <td>1</td>\n",
       "      <td>3</td>\n",
       "    </tr>\n",
       "  </tbody>\n",
       "</table>\n",
       "</div>"
      ],
      "text/plain": [
       "           class_size                              flag      imo  \\\n",
       "0  Handysize/Handymax                       North Korea  7303803   \n",
       "1  Handysize/Handymax                       North Korea  7408873   \n",
       "2  Handysize/Handymax                       North Korea  8106496   \n",
       "3  Handysize/Handymax                       North Korea  8122347   \n",
       "4  Handysize/Handymax  Saint Vincent and the Grenadines  8126070   \n",
       "\n",
       "             name        OFAC UANI  ASO   EU        FCDO  GAC          UN  \\\n",
       "0             A S  2025-06-10  NaN  NaN  NaN  2018-03-30  NaN  2018-03-30   \n",
       "1        SAMJONG2  2025-06-08  NaN  NaN  NaN  2018-03-30  NaN  2018-03-30   \n",
       "2          SAMMA2  2025-06-09  NaN  NaN  NaN  2018-03-30  NaN  2018-03-30   \n",
       "3         NAMSAN8  2025-05-08  NaN  NaN  NaN  2018-03-30  NaN  2018-03-30   \n",
       "4  SHANG YUAN BAO  2025-05-08  NaN  NaN  NaN  2018-03-30  NaN  2018-10-16   \n",
       "\n",
       "   OFAC_numeric  UANI_numeric  ASO_numeric  EU_numeric  FCDO_numeric  \\\n",
       "0             1             0            0           0             1   \n",
       "1             1             0            0           0             1   \n",
       "2             1             0            0           0             1   \n",
       "3             1             0            0           0             1   \n",
       "4             1             0            0           0             1   \n",
       "\n",
       "   GAC_numeric  UN_numeric  total_sanctions  \n",
       "0            0           1                3  \n",
       "1            0           1                3  \n",
       "2            0           1                3  \n",
       "3            0           1                3  \n",
       "4            0           1                3  "
      ]
     },
     "execution_count": 7,
     "metadata": {},
     "output_type": "execute_result"
    }
   ],
   "source": [
    "df_sanction_fleet = pd.merge(vessels, sanction_fleet, how='left', on='imo', suffixes=('_TT_csv','_TT_api'))\n",
    "df_sanction_fleet = df_sanction_fleet.drop('name_TT_csv', axis=1)\n",
    "df_sanction_fleet = df_sanction_fleet.rename(columns={'name_TT_api':'name'})\n",
    "print(f\"size of data is {df_sanction_fleet.shape}\")\n",
    "df_sanction_fleet.head()"
   ]
  },
  {
   "cell_type": "markdown",
   "id": "b6ebcb23-021f-430f-a9b9-91852e304cb6",
   "metadata": {},
   "source": [
    "read in the scraped data and merge with TT data"
   ]
  },
  {
   "cell_type": "code",
   "execution_count": 8,
   "id": "a8e2ee09-cb27-4b63-b69a-754c079fe356",
   "metadata": {},
   "outputs": [
    {
     "name": "stdout",
     "output_type": "stream",
     "text": [
      "<class 'pandas.core.frame.DataFrame'>\n",
      "RangeIndex: 1210 entries, 0 to 1209\n",
      "Data columns (total 23 columns):\n",
      " #   Column           Non-Null Count  Dtype  \n",
      "---  ------           --------------  -----  \n",
      " 0   class_size       1210 non-null   object \n",
      " 1   flag             1210 non-null   object \n",
      " 2   imo              1210 non-null   int64  \n",
      " 3   name             1210 non-null   object \n",
      " 4   OFAC             674 non-null    object \n",
      " 5   UANI             545 non-null    object \n",
      " 6   ASO              60 non-null     object \n",
      " 7   EU               436 non-null    object \n",
      " 8   FCDO             435 non-null    object \n",
      " 9   GAC              293 non-null    object \n",
      " 10  UN               19 non-null     object \n",
      " 11  OFAC_numeric     1210 non-null   int64  \n",
      " 12  UANI_numeric     1210 non-null   int64  \n",
      " 13  ASO_numeric      1210 non-null   int64  \n",
      " 14  EU_numeric       1210 non-null   int64  \n",
      " 15  FCDO_numeric     1210 non-null   int64  \n",
      " 16  GAC_numeric      1210 non-null   int64  \n",
      " 17  UN_numeric       1210 non-null   int64  \n",
      " 18  total_sanctions  1210 non-null   int64  \n",
      " 19  ship_type        1210 non-null   object \n",
      " 20  build_year       1210 non-null   float64\n",
      " 21  gross_tonnage    1210 non-null   float64\n",
      " 22  DWT              1210 non-null   float64\n",
      "dtypes: float64(3), int64(9), object(11)\n",
      "memory usage: 217.6+ KB\n"
     ]
    }
   ],
   "source": [
    "scraped_data = pd.read_csv('final_dwt_data.csv') # compiled offline\n",
    "\n",
    "df_sanction_fleet = pd.merge(df_sanction_fleet, scraped_data, how='left', on='imo', suffixes=('_TT','_scraped'))\n",
    "df_sanction_fleet[df_sanction_fleet.DWT.isna()] # at time of coding I was abe to web scrape all but 1 vessel\n",
    "df_sanction_fleet = df_sanction_fleet[~df_sanction_fleet.DWT.isna()]\n",
    "df_sanction_fleet = df_sanction_fleet.drop('name_scraped', axis=1).reset_index(drop=True)\n",
    "df_sanction_fleet = df_sanction_fleet.rename(columns={'name_TT':'name'})\n",
    "\n",
    "df_sanction_fleet.shape[0]"
   ]
  },
  {
   "cell_type": "code",
   "execution_count": 9,
   "id": "6d755f98-eee5-4bf8-9db4-c5aa2fe3c3a1",
   "metadata": {},
   "outputs": [
    {
     "data": {
      "text/html": [
       "<div>\n",
       "<style scoped>\n",
       "    .dataframe tbody tr th:only-of-type {\n",
       "        vertical-align: middle;\n",
       "    }\n",
       "\n",
       "    .dataframe tbody tr th {\n",
       "        vertical-align: top;\n",
       "    }\n",
       "\n",
       "    .dataframe thead th {\n",
       "        text-align: right;\n",
       "    }\n",
       "</style>\n",
       "<table border=\"1\" class=\"dataframe\">\n",
       "  <thead>\n",
       "    <tr style=\"text-align: right;\">\n",
       "      <th></th>\n",
       "      <th>class_size</th>\n",
       "      <th>flag</th>\n",
       "      <th>imo</th>\n",
       "      <th>name</th>\n",
       "      <th>OFAC</th>\n",
       "      <th>UANI</th>\n",
       "      <th>ASO</th>\n",
       "      <th>EU</th>\n",
       "      <th>FCDO</th>\n",
       "      <th>GAC</th>\n",
       "      <th>...</th>\n",
       "      <th>ASO_numeric</th>\n",
       "      <th>EU_numeric</th>\n",
       "      <th>FCDO_numeric</th>\n",
       "      <th>GAC_numeric</th>\n",
       "      <th>UN_numeric</th>\n",
       "      <th>total_sanctions</th>\n",
       "      <th>ship_type</th>\n",
       "      <th>build_year</th>\n",
       "      <th>gross_tonnage</th>\n",
       "      <th>DWT</th>\n",
       "    </tr>\n",
       "  </thead>\n",
       "  <tbody>\n",
       "    <tr>\n",
       "      <th>0</th>\n",
       "      <td>Handysize/Handymax</td>\n",
       "      <td>North Korea</td>\n",
       "      <td>7303803</td>\n",
       "      <td>A S</td>\n",
       "      <td>2025-06-10</td>\n",
       "      <td>NaN</td>\n",
       "      <td>NaN</td>\n",
       "      <td>NaN</td>\n",
       "      <td>2018-03-30</td>\n",
       "      <td>NaN</td>\n",
       "      <td>...</td>\n",
       "      <td>0</td>\n",
       "      <td>0</td>\n",
       "      <td>1</td>\n",
       "      <td>0</td>\n",
       "      <td>1</td>\n",
       "      <td>3</td>\n",
       "      <td>Chemical Tanker</td>\n",
       "      <td>1973.0</td>\n",
       "      <td>1757.0</td>\n",
       "      <td>3003.0</td>\n",
       "    </tr>\n",
       "    <tr>\n",
       "      <th>1</th>\n",
       "      <td>Handysize/Handymax</td>\n",
       "      <td>North Korea</td>\n",
       "      <td>7408873</td>\n",
       "      <td>SAMJONG2</td>\n",
       "      <td>2025-06-08</td>\n",
       "      <td>NaN</td>\n",
       "      <td>NaN</td>\n",
       "      <td>NaN</td>\n",
       "      <td>2018-03-30</td>\n",
       "      <td>NaN</td>\n",
       "      <td>...</td>\n",
       "      <td>0</td>\n",
       "      <td>0</td>\n",
       "      <td>1</td>\n",
       "      <td>0</td>\n",
       "      <td>1</td>\n",
       "      <td>3</td>\n",
       "      <td>Chemical/Oil Products Tanker</td>\n",
       "      <td>1975.0</td>\n",
       "      <td>1676.0</td>\n",
       "      <td>2507.0</td>\n",
       "    </tr>\n",
       "    <tr>\n",
       "      <th>2</th>\n",
       "      <td>Handysize/Handymax</td>\n",
       "      <td>North Korea</td>\n",
       "      <td>8106496</td>\n",
       "      <td>SAMMA2</td>\n",
       "      <td>2025-06-09</td>\n",
       "      <td>NaN</td>\n",
       "      <td>NaN</td>\n",
       "      <td>NaN</td>\n",
       "      <td>2018-03-30</td>\n",
       "      <td>NaN</td>\n",
       "      <td>...</td>\n",
       "      <td>0</td>\n",
       "      <td>0</td>\n",
       "      <td>1</td>\n",
       "      <td>0</td>\n",
       "      <td>1</td>\n",
       "      <td>3</td>\n",
       "      <td>Oil Products Tanker</td>\n",
       "      <td>1981.0</td>\n",
       "      <td>962.0</td>\n",
       "      <td>1731.0</td>\n",
       "    </tr>\n",
       "    <tr>\n",
       "      <th>3</th>\n",
       "      <td>Handysize/Handymax</td>\n",
       "      <td>North Korea</td>\n",
       "      <td>8122347</td>\n",
       "      <td>NAMSAN8</td>\n",
       "      <td>2025-05-08</td>\n",
       "      <td>NaN</td>\n",
       "      <td>NaN</td>\n",
       "      <td>NaN</td>\n",
       "      <td>2018-03-30</td>\n",
       "      <td>NaN</td>\n",
       "      <td>...</td>\n",
       "      <td>0</td>\n",
       "      <td>0</td>\n",
       "      <td>1</td>\n",
       "      <td>0</td>\n",
       "      <td>1</td>\n",
       "      <td>3</td>\n",
       "      <td>Crude Oil Tanker</td>\n",
       "      <td>1982.0</td>\n",
       "      <td>1914.0</td>\n",
       "      <td>3150.0</td>\n",
       "    </tr>\n",
       "    <tr>\n",
       "      <th>4</th>\n",
       "      <td>Handysize/Handymax</td>\n",
       "      <td>Saint Vincent and the Grenadines</td>\n",
       "      <td>8126070</td>\n",
       "      <td>SHANG YUAN BAO</td>\n",
       "      <td>2025-05-08</td>\n",
       "      <td>NaN</td>\n",
       "      <td>NaN</td>\n",
       "      <td>NaN</td>\n",
       "      <td>2018-03-30</td>\n",
       "      <td>NaN</td>\n",
       "      <td>...</td>\n",
       "      <td>0</td>\n",
       "      <td>0</td>\n",
       "      <td>1</td>\n",
       "      <td>0</td>\n",
       "      <td>1</td>\n",
       "      <td>3</td>\n",
       "      <td>Oil Products Tanker</td>\n",
       "      <td>1982.0</td>\n",
       "      <td>3508.0</td>\n",
       "      <td>6031.0</td>\n",
       "    </tr>\n",
       "  </tbody>\n",
       "</table>\n",
       "<p>5 rows × 23 columns</p>\n",
       "</div>"
      ],
      "text/plain": [
       "           class_size                              flag      imo  \\\n",
       "0  Handysize/Handymax                       North Korea  7303803   \n",
       "1  Handysize/Handymax                       North Korea  7408873   \n",
       "2  Handysize/Handymax                       North Korea  8106496   \n",
       "3  Handysize/Handymax                       North Korea  8122347   \n",
       "4  Handysize/Handymax  Saint Vincent and the Grenadines  8126070   \n",
       "\n",
       "             name        OFAC UANI  ASO   EU        FCDO  GAC  ...  \\\n",
       "0             A S  2025-06-10  NaN  NaN  NaN  2018-03-30  NaN  ...   \n",
       "1        SAMJONG2  2025-06-08  NaN  NaN  NaN  2018-03-30  NaN  ...   \n",
       "2          SAMMA2  2025-06-09  NaN  NaN  NaN  2018-03-30  NaN  ...   \n",
       "3         NAMSAN8  2025-05-08  NaN  NaN  NaN  2018-03-30  NaN  ...   \n",
       "4  SHANG YUAN BAO  2025-05-08  NaN  NaN  NaN  2018-03-30  NaN  ...   \n",
       "\n",
       "  ASO_numeric  EU_numeric  FCDO_numeric  GAC_numeric  UN_numeric  \\\n",
       "0           0           0             1            0           1   \n",
       "1           0           0             1            0           1   \n",
       "2           0           0             1            0           1   \n",
       "3           0           0             1            0           1   \n",
       "4           0           0             1            0           1   \n",
       "\n",
       "   total_sanctions                     ship_type  build_year  gross_tonnage  \\\n",
       "0                3               Chemical Tanker      1973.0         1757.0   \n",
       "1                3  Chemical/Oil Products Tanker      1975.0         1676.0   \n",
       "2                3           Oil Products Tanker      1981.0          962.0   \n",
       "3                3              Crude Oil Tanker      1982.0         1914.0   \n",
       "4                3           Oil Products Tanker      1982.0         3508.0   \n",
       "\n",
       "      DWT  \n",
       "0  3003.0  \n",
       "1  2507.0  \n",
       "2  1731.0  \n",
       "3  3150.0  \n",
       "4  6031.0  \n",
       "\n",
       "[5 rows x 23 columns]"
      ]
     },
     "execution_count": 9,
     "metadata": {},
     "output_type": "execute_result"
    }
   ],
   "source": [
    "df_sanction_fleet.head()"
   ]
  },
  {
   "cell_type": "code",
   "execution_count": 10,
   "id": "9c6fa1fd-ed0e-4ca7-b00a-3becbba25cad",
   "metadata": {},
   "outputs": [],
   "source": [
    "\n",
    "# Shoutout to @oilBandit@x.com who gave away darkfleet data sometime around March 2023 on Twitter. I might play around with data as it has compliant vessels\n",
    "oilBandit_data = pd.read_csv(\"Shadow_Fleet_oilBandit.csv\")\n",
    "\n",
    "columns = [str.lower(x.replace(\" \",\"_\")) for x in oilBandit_data.columns]\n",
    "oilBandit_data.columns = columns\n",
    "oilBandit_data[\"controller\"] = [str(x).lower() for x in oilBandit_data[\"controller\"]]\n",
    "oilBandit_data = oilBandit_data.rename(columns={\"name_of_ship\":\"name\",\"year_of_build\":\"build_year\"})\n",
    "\n",
    "df =pd.merge(df_sanction_fleet, oilBandit_data, on='imo', how='left', suffixes=('_TankerTrackers', '_oilBandit'))\n",
    "df = df.rename(columns={'build_year_TankerTrackers':'build_year', 'gross_tonnage_TankerTrackers':'gross_tonnage'})\n",
    "df['age'] = 2026 - df.build_year"
   ]
  },
  {
   "cell_type": "code",
   "execution_count": 11,
   "id": "e7debc5b-0972-4b24-8433-2b2e5434cdd3",
   "metadata": {},
   "outputs": [
    {
     "data": {
      "text/plain": [
       "6"
      ]
     },
     "execution_count": 11,
     "metadata": {},
     "output_type": "execute_result"
    }
   ],
   "source": [
    "df.total_sanctions.max()"
   ]
  },
  {
   "cell_type": "markdown",
   "id": "82daecda-8b22-4a90-a7a7-6763dd047f4d",
   "metadata": {},
   "source": [
    "start visualizing data"
   ]
  },
  {
   "cell_type": "code",
   "execution_count": 12,
   "id": "939936ff-e454-412c-945b-b06ab5e84649",
   "metadata": {},
   "outputs": [
    {
     "data": {
      "application/vnd.plotly.v1+json": {
       "config": {
        "plotlyServerURL": "https://plot.ly"
       },
       "data": [
        {
         "domain": {
          "x": [
           0,
           1
          ],
          "y": [
           0,
           1
          ]
         },
         "hovertemplate": "class_size=%{label}<br>total_vessels=%{value}<extra></extra>",
         "labels": [
          "Aframax",
          "Handysize/Handymax",
          "Panamax",
          "Suezmax",
          "VLCC/ULCC"
         ],
         "legendgroup": "",
         "name": "",
         "showlegend": true,
         "type": "pie",
         "values": {
          "bdata": "RgERAkUAcwCrAA==",
          "dtype": "i2"
         }
        }
       ],
       "layout": {
        "height": 700,
        "legend": {
         "tracegroupgap": 0
        },
        "template": {
         "data": {
          "bar": [
           {
            "error_x": {
             "color": "#2a3f5f"
            },
            "error_y": {
             "color": "#2a3f5f"
            },
            "marker": {
             "line": {
              "color": "#E5ECF6",
              "width": 0.5
             },
             "pattern": {
              "fillmode": "overlay",
              "size": 10,
              "solidity": 0.2
             }
            },
            "type": "bar"
           }
          ],
          "barpolar": [
           {
            "marker": {
             "line": {
              "color": "#E5ECF6",
              "width": 0.5
             },
             "pattern": {
              "fillmode": "overlay",
              "size": 10,
              "solidity": 0.2
             }
            },
            "type": "barpolar"
           }
          ],
          "carpet": [
           {
            "aaxis": {
             "endlinecolor": "#2a3f5f",
             "gridcolor": "white",
             "linecolor": "white",
             "minorgridcolor": "white",
             "startlinecolor": "#2a3f5f"
            },
            "baxis": {
             "endlinecolor": "#2a3f5f",
             "gridcolor": "white",
             "linecolor": "white",
             "minorgridcolor": "white",
             "startlinecolor": "#2a3f5f"
            },
            "type": "carpet"
           }
          ],
          "choropleth": [
           {
            "colorbar": {
             "outlinewidth": 0,
             "ticks": ""
            },
            "type": "choropleth"
           }
          ],
          "contour": [
           {
            "colorbar": {
             "outlinewidth": 0,
             "ticks": ""
            },
            "colorscale": [
             [
              0,
              "#0d0887"
             ],
             [
              0.1111111111111111,
              "#46039f"
             ],
             [
              0.2222222222222222,
              "#7201a8"
             ],
             [
              0.3333333333333333,
              "#9c179e"
             ],
             [
              0.4444444444444444,
              "#bd3786"
             ],
             [
              0.5555555555555556,
              "#d8576b"
             ],
             [
              0.6666666666666666,
              "#ed7953"
             ],
             [
              0.7777777777777778,
              "#fb9f3a"
             ],
             [
              0.8888888888888888,
              "#fdca26"
             ],
             [
              1,
              "#f0f921"
             ]
            ],
            "type": "contour"
           }
          ],
          "contourcarpet": [
           {
            "colorbar": {
             "outlinewidth": 0,
             "ticks": ""
            },
            "type": "contourcarpet"
           }
          ],
          "heatmap": [
           {
            "colorbar": {
             "outlinewidth": 0,
             "ticks": ""
            },
            "colorscale": [
             [
              0,
              "#0d0887"
             ],
             [
              0.1111111111111111,
              "#46039f"
             ],
             [
              0.2222222222222222,
              "#7201a8"
             ],
             [
              0.3333333333333333,
              "#9c179e"
             ],
             [
              0.4444444444444444,
              "#bd3786"
             ],
             [
              0.5555555555555556,
              "#d8576b"
             ],
             [
              0.6666666666666666,
              "#ed7953"
             ],
             [
              0.7777777777777778,
              "#fb9f3a"
             ],
             [
              0.8888888888888888,
              "#fdca26"
             ],
             [
              1,
              "#f0f921"
             ]
            ],
            "type": "heatmap"
           }
          ],
          "histogram": [
           {
            "marker": {
             "pattern": {
              "fillmode": "overlay",
              "size": 10,
              "solidity": 0.2
             }
            },
            "type": "histogram"
           }
          ],
          "histogram2d": [
           {
            "colorbar": {
             "outlinewidth": 0,
             "ticks": ""
            },
            "colorscale": [
             [
              0,
              "#0d0887"
             ],
             [
              0.1111111111111111,
              "#46039f"
             ],
             [
              0.2222222222222222,
              "#7201a8"
             ],
             [
              0.3333333333333333,
              "#9c179e"
             ],
             [
              0.4444444444444444,
              "#bd3786"
             ],
             [
              0.5555555555555556,
              "#d8576b"
             ],
             [
              0.6666666666666666,
              "#ed7953"
             ],
             [
              0.7777777777777778,
              "#fb9f3a"
             ],
             [
              0.8888888888888888,
              "#fdca26"
             ],
             [
              1,
              "#f0f921"
             ]
            ],
            "type": "histogram2d"
           }
          ],
          "histogram2dcontour": [
           {
            "colorbar": {
             "outlinewidth": 0,
             "ticks": ""
            },
            "colorscale": [
             [
              0,
              "#0d0887"
             ],
             [
              0.1111111111111111,
              "#46039f"
             ],
             [
              0.2222222222222222,
              "#7201a8"
             ],
             [
              0.3333333333333333,
              "#9c179e"
             ],
             [
              0.4444444444444444,
              "#bd3786"
             ],
             [
              0.5555555555555556,
              "#d8576b"
             ],
             [
              0.6666666666666666,
              "#ed7953"
             ],
             [
              0.7777777777777778,
              "#fb9f3a"
             ],
             [
              0.8888888888888888,
              "#fdca26"
             ],
             [
              1,
              "#f0f921"
             ]
            ],
            "type": "histogram2dcontour"
           }
          ],
          "mesh3d": [
           {
            "colorbar": {
             "outlinewidth": 0,
             "ticks": ""
            },
            "type": "mesh3d"
           }
          ],
          "parcoords": [
           {
            "line": {
             "colorbar": {
              "outlinewidth": 0,
              "ticks": ""
             }
            },
            "type": "parcoords"
           }
          ],
          "pie": [
           {
            "automargin": true,
            "type": "pie"
           }
          ],
          "scatter": [
           {
            "fillpattern": {
             "fillmode": "overlay",
             "size": 10,
             "solidity": 0.2
            },
            "type": "scatter"
           }
          ],
          "scatter3d": [
           {
            "line": {
             "colorbar": {
              "outlinewidth": 0,
              "ticks": ""
             }
            },
            "marker": {
             "colorbar": {
              "outlinewidth": 0,
              "ticks": ""
             }
            },
            "type": "scatter3d"
           }
          ],
          "scattercarpet": [
           {
            "marker": {
             "colorbar": {
              "outlinewidth": 0,
              "ticks": ""
             }
            },
            "type": "scattercarpet"
           }
          ],
          "scattergeo": [
           {
            "marker": {
             "colorbar": {
              "outlinewidth": 0,
              "ticks": ""
             }
            },
            "type": "scattergeo"
           }
          ],
          "scattergl": [
           {
            "marker": {
             "colorbar": {
              "outlinewidth": 0,
              "ticks": ""
             }
            },
            "type": "scattergl"
           }
          ],
          "scattermap": [
           {
            "marker": {
             "colorbar": {
              "outlinewidth": 0,
              "ticks": ""
             }
            },
            "type": "scattermap"
           }
          ],
          "scattermapbox": [
           {
            "marker": {
             "colorbar": {
              "outlinewidth": 0,
              "ticks": ""
             }
            },
            "type": "scattermapbox"
           }
          ],
          "scatterpolar": [
           {
            "marker": {
             "colorbar": {
              "outlinewidth": 0,
              "ticks": ""
             }
            },
            "type": "scatterpolar"
           }
          ],
          "scatterpolargl": [
           {
            "marker": {
             "colorbar": {
              "outlinewidth": 0,
              "ticks": ""
             }
            },
            "type": "scatterpolargl"
           }
          ],
          "scatterternary": [
           {
            "marker": {
             "colorbar": {
              "outlinewidth": 0,
              "ticks": ""
             }
            },
            "type": "scatterternary"
           }
          ],
          "surface": [
           {
            "colorbar": {
             "outlinewidth": 0,
             "ticks": ""
            },
            "colorscale": [
             [
              0,
              "#0d0887"
             ],
             [
              0.1111111111111111,
              "#46039f"
             ],
             [
              0.2222222222222222,
              "#7201a8"
             ],
             [
              0.3333333333333333,
              "#9c179e"
             ],
             [
              0.4444444444444444,
              "#bd3786"
             ],
             [
              0.5555555555555556,
              "#d8576b"
             ],
             [
              0.6666666666666666,
              "#ed7953"
             ],
             [
              0.7777777777777778,
              "#fb9f3a"
             ],
             [
              0.8888888888888888,
              "#fdca26"
             ],
             [
              1,
              "#f0f921"
             ]
            ],
            "type": "surface"
           }
          ],
          "table": [
           {
            "cells": {
             "fill": {
              "color": "#EBF0F8"
             },
             "line": {
              "color": "white"
             }
            },
            "header": {
             "fill": {
              "color": "#C8D4E3"
             },
             "line": {
              "color": "white"
             }
            },
            "type": "table"
           }
          ]
         },
         "layout": {
          "annotationdefaults": {
           "arrowcolor": "#2a3f5f",
           "arrowhead": 0,
           "arrowwidth": 1
          },
          "autotypenumbers": "strict",
          "coloraxis": {
           "colorbar": {
            "outlinewidth": 0,
            "ticks": ""
           }
          },
          "colorscale": {
           "diverging": [
            [
             0,
             "#8e0152"
            ],
            [
             0.1,
             "#c51b7d"
            ],
            [
             0.2,
             "#de77ae"
            ],
            [
             0.3,
             "#f1b6da"
            ],
            [
             0.4,
             "#fde0ef"
            ],
            [
             0.5,
             "#f7f7f7"
            ],
            [
             0.6,
             "#e6f5d0"
            ],
            [
             0.7,
             "#b8e186"
            ],
            [
             0.8,
             "#7fbc41"
            ],
            [
             0.9,
             "#4d9221"
            ],
            [
             1,
             "#276419"
            ]
           ],
           "sequential": [
            [
             0,
             "#0d0887"
            ],
            [
             0.1111111111111111,
             "#46039f"
            ],
            [
             0.2222222222222222,
             "#7201a8"
            ],
            [
             0.3333333333333333,
             "#9c179e"
            ],
            [
             0.4444444444444444,
             "#bd3786"
            ],
            [
             0.5555555555555556,
             "#d8576b"
            ],
            [
             0.6666666666666666,
             "#ed7953"
            ],
            [
             0.7777777777777778,
             "#fb9f3a"
            ],
            [
             0.8888888888888888,
             "#fdca26"
            ],
            [
             1,
             "#f0f921"
            ]
           ],
           "sequentialminus": [
            [
             0,
             "#0d0887"
            ],
            [
             0.1111111111111111,
             "#46039f"
            ],
            [
             0.2222222222222222,
             "#7201a8"
            ],
            [
             0.3333333333333333,
             "#9c179e"
            ],
            [
             0.4444444444444444,
             "#bd3786"
            ],
            [
             0.5555555555555556,
             "#d8576b"
            ],
            [
             0.6666666666666666,
             "#ed7953"
            ],
            [
             0.7777777777777778,
             "#fb9f3a"
            ],
            [
             0.8888888888888888,
             "#fdca26"
            ],
            [
             1,
             "#f0f921"
            ]
           ]
          },
          "colorway": [
           "#636efa",
           "#EF553B",
           "#00cc96",
           "#ab63fa",
           "#FFA15A",
           "#19d3f3",
           "#FF6692",
           "#B6E880",
           "#FF97FF",
           "#FECB52"
          ],
          "font": {
           "color": "#2a3f5f"
          },
          "geo": {
           "bgcolor": "white",
           "lakecolor": "white",
           "landcolor": "#E5ECF6",
           "showlakes": true,
           "showland": true,
           "subunitcolor": "white"
          },
          "hoverlabel": {
           "align": "left"
          },
          "hovermode": "closest",
          "mapbox": {
           "style": "light"
          },
          "paper_bgcolor": "white",
          "plot_bgcolor": "#E5ECF6",
          "polar": {
           "angularaxis": {
            "gridcolor": "white",
            "linecolor": "white",
            "ticks": ""
           },
           "bgcolor": "#E5ECF6",
           "radialaxis": {
            "gridcolor": "white",
            "linecolor": "white",
            "ticks": ""
           }
          },
          "scene": {
           "xaxis": {
            "backgroundcolor": "#E5ECF6",
            "gridcolor": "white",
            "gridwidth": 2,
            "linecolor": "white",
            "showbackground": true,
            "ticks": "",
            "zerolinecolor": "white"
           },
           "yaxis": {
            "backgroundcolor": "#E5ECF6",
            "gridcolor": "white",
            "gridwidth": 2,
            "linecolor": "white",
            "showbackground": true,
            "ticks": "",
            "zerolinecolor": "white"
           },
           "zaxis": {
            "backgroundcolor": "#E5ECF6",
            "gridcolor": "white",
            "gridwidth": 2,
            "linecolor": "white",
            "showbackground": true,
            "ticks": "",
            "zerolinecolor": "white"
           }
          },
          "shapedefaults": {
           "line": {
            "color": "#2a3f5f"
           }
          },
          "ternary": {
           "aaxis": {
            "gridcolor": "white",
            "linecolor": "white",
            "ticks": ""
           },
           "baxis": {
            "gridcolor": "white",
            "linecolor": "white",
            "ticks": ""
           },
           "bgcolor": "#E5ECF6",
           "caxis": {
            "gridcolor": "white",
            "linecolor": "white",
            "ticks": ""
           }
          },
          "title": {
           "x": 0.05
          },
          "xaxis": {
           "automargin": true,
           "gridcolor": "white",
           "linecolor": "white",
           "ticks": "",
           "title": {
            "standoff": 15
           },
           "zerolinecolor": "white",
           "zerolinewidth": 2
          },
          "yaxis": {
           "automargin": true,
           "gridcolor": "white",
           "linecolor": "white",
           "ticks": "",
           "title": {
            "standoff": 15
           },
           "zerolinecolor": "white",
           "zerolinewidth": 2
          }
         }
        },
        "title": {
         "text": "Sanctioned Dark Fleet by Vessel Type <br>1210 Total Ships"
        },
        "width": 700
       }
      },
      "image/png": "[encoded data removed]"
     },
     "metadata": {},
     "output_type": "display_data"
    }
   ],
   "source": [
    "pie_chart = df.groupby(['class_size']).count()\n",
    "\n",
    "pie_chart = pie_chart.reset_index()\n",
    "pie_chart = pie_chart.rename(columns={'name_TankerTrackers':'total_vessels'})\n",
    "\n",
    "fig = px.pie(pie_chart, values='total_vessels', names='class_size', title=f\"Sanctioned Dark Fleet by Vessel Type <br>{df.shape[0]} Total Ships\")\n",
    "fig.update_layout(width=700, height=700)\n",
    "fig.show()\n",
    "fig.write_html(\"piechart_interactive_plot.html\")\n"
   ]
  },
  {
   "cell_type": "markdown",
   "id": "cf88c5f2-2e15-4ee5-83c7-36869f523442",
   "metadata": {},
   "source": [
    "We see an almost 50/50 split between sanctioned crude oil tankers and handymax/panamax vessels.\n",
    "Lets focus on the larger oil tankers"
   ]
  },
  {
   "cell_type": "code",
   "execution_count": 13,
   "id": "4ebd0c80-92b2-4edf-99dc-f977508f4ed9",
   "metadata": {},
   "outputs": [
    {
     "data": {
      "application/vnd.plotly.v1+json": {
       "config": {
        "plotlyServerURL": "https://plot.ly"
       },
       "data": [
        {
         "domain": {
          "x": [
           0,
           1
          ],
          "y": [
           0,
           1
          ]
         },
         "hovertemplate": "class_size=%{label}<br>total_vessels=%{value}<extra></extra>",
         "labels": [
          "Aframax",
          "Suezmax",
          "VLCC/ULCC"
         ],
         "legendgroup": "",
         "name": "",
         "showlegend": true,
         "type": "pie",
         "values": {
          "bdata": "RgFzAKsA",
          "dtype": "i2"
         }
        }
       ],
       "layout": {
        "height": 700,
        "legend": {
         "tracegroupgap": 0
        },
        "template": {
         "data": {
          "bar": [
           {
            "error_x": {
             "color": "#2a3f5f"
            },
            "error_y": {
             "color": "#2a3f5f"
            },
            "marker": {
             "line": {
              "color": "#E5ECF6",
              "width": 0.5
             },
             "pattern": {
              "fillmode": "overlay",
              "size": 10,
              "solidity": 0.2
             }
            },
            "type": "bar"
           }
          ],
          "barpolar": [
           {
            "marker": {
             "line": {
              "color": "#E5ECF6",
              "width": 0.5
             },
             "pattern": {
              "fillmode": "overlay",
              "size": 10,
              "solidity": 0.2
             }
            },
            "type": "barpolar"
           }
          ],
          "carpet": [
           {
            "aaxis": {
             "endlinecolor": "#2a3f5f",
             "gridcolor": "white",
             "linecolor": "white",
             "minorgridcolor": "white",
             "startlinecolor": "#2a3f5f"
            },
            "baxis": {
             "endlinecolor": "#2a3f5f",
             "gridcolor": "white",
             "linecolor": "white",
             "minorgridcolor": "white",
             "startlinecolor": "#2a3f5f"
            },
            "type": "carpet"
           }
          ],
          "choropleth": [
           {
            "colorbar": {
             "outlinewidth": 0,
             "ticks": ""
            },
            "type": "choropleth"
           }
          ],
          "contour": [
           {
            "colorbar": {
             "outlinewidth": 0,
             "ticks": ""
            },
            "colorscale": [
             [
              0,
              "#0d0887"
             ],
             [
              0.1111111111111111,
              "#46039f"
             ],
             [
              0.2222222222222222,
              "#7201a8"
             ],
             [
              0.3333333333333333,
              "#9c179e"
             ],
             [
              0.4444444444444444,
              "#bd3786"
             ],
             [
              0.5555555555555556,
              "#d8576b"
             ],
             [
              0.6666666666666666,
              "#ed7953"
             ],
             [
              0.7777777777777778,
              "#fb9f3a"
             ],
             [
              0.8888888888888888,
              "#fdca26"
             ],
             [
              1,
              "#f0f921"
             ]
            ],
            "type": "contour"
           }
          ],
          "contourcarpet": [
           {
            "colorbar": {
             "outlinewidth": 0,
             "ticks": ""
            },
            "type": "contourcarpet"
           }
          ],
          "heatmap": [
           {
            "colorbar": {
             "outlinewidth": 0,
             "ticks": ""
            },
            "colorscale": [
             [
              0,
              "#0d0887"
             ],
             [
              0.1111111111111111,
              "#46039f"
             ],
             [
              0.2222222222222222,
              "#7201a8"
             ],
             [
              0.3333333333333333,
              "#9c179e"
             ],
             [
              0.4444444444444444,
              "#bd3786"
             ],
             [
              0.5555555555555556,
              "#d8576b"
             ],
             [
              0.6666666666666666,
              "#ed7953"
             ],
             [
              0.7777777777777778,
              "#fb9f3a"
             ],
             [
              0.8888888888888888,
              "#fdca26"
             ],
             [
              1,
              "#f0f921"
             ]
            ],
            "type": "heatmap"
           }
          ],
          "histogram": [
           {
            "marker": {
             "pattern": {
              "fillmode": "overlay",
              "size": 10,
              "solidity": 0.2
             }
            },
            "type": "histogram"
           }
          ],
          "histogram2d": [
           {
            "colorbar": {
             "outlinewidth": 0,
             "ticks": ""
            },
            "colorscale": [
             [
              0,
              "#0d0887"
             ],
             [
              0.1111111111111111,
              "#46039f"
             ],
             [
              0.2222222222222222,
              "#7201a8"
             ],
             [
              0.3333333333333333,
              "#9c179e"
             ],
             [
              0.4444444444444444,
              "#bd3786"
             ],
             [
              0.5555555555555556,
              "#d8576b"
             ],
             [
              0.6666666666666666,
              "#ed7953"
             ],
             [
              0.7777777777777778,
              "#fb9f3a"
             ],
             [
              0.8888888888888888,
              "#fdca26"
             ],
             [
              1,
              "#f0f921"
             ]
            ],
            "type": "histogram2d"
           }
          ],
          "histogram2dcontour": [
           {
            "colorbar": {
             "outlinewidth": 0,
             "ticks": ""
            },
            "colorscale": [
             [
              0,
              "#0d0887"
             ],
             [
              0.1111111111111111,
              "#46039f"
             ],
             [
              0.2222222222222222,
              "#7201a8"
             ],
             [
              0.3333333333333333,
              "#9c179e"
             ],
             [
              0.4444444444444444,
              "#bd3786"
             ],
             [
              0.5555555555555556,
              "#d8576b"
             ],
             [
              0.6666666666666666,
              "#ed7953"
             ],
             [
              0.7777777777777778,
              "#fb9f3a"
             ],
             [
              0.8888888888888888,
              "#fdca26"
             ],
             [
              1,
              "#f0f921"
             ]
            ],
            "type": "histogram2dcontour"
           }
          ],
          "mesh3d": [
           {
            "colorbar": {
             "outlinewidth": 0,
             "ticks": ""
            },
            "type": "mesh3d"
           }
          ],
          "parcoords": [
           {
            "line": {
             "colorbar": {
              "outlinewidth": 0,
              "ticks": ""
             }
            },
            "type": "parcoords"
           }
          ],
          "pie": [
           {
            "automargin": true,
            "type": "pie"
           }
          ],
          "scatter": [
           {
            "fillpattern": {
             "fillmode": "overlay",
             "size": 10,
             "solidity": 0.2
            },
            "type": "scatter"
           }
          ],
          "scatter3d": [
           {
            "line": {
             "colorbar": {
              "outlinewidth": 0,
              "ticks": ""
             }
            },
            "marker": {
             "colorbar": {
              "outlinewidth": 0,
              "ticks": ""
             }
            },
            "type": "scatter3d"
           }
          ],
          "scattercarpet": [
           {
            "marker": {
             "colorbar": {
              "outlinewidth": 0,
              "ticks": ""
             }
            },
            "type": "scattercarpet"
           }
          ],
          "scattergeo": [
           {
            "marker": {
             "colorbar": {
              "outlinewidth": 0,
              "ticks": ""
             }
            },
            "type": "scattergeo"
           }
          ],
          "scattergl": [
           {
            "marker": {
             "colorbar": {
              "outlinewidth": 0,
              "ticks": ""
             }
            },
            "type": "scattergl"
           }
          ],
          "scattermap": [
           {
            "marker": {
             "colorbar": {
              "outlinewidth": 0,
              "ticks": ""
             }
            },
            "type": "scattermap"
           }
          ],
          "scattermapbox": [
           {
            "marker": {
             "colorbar": {
              "outlinewidth": 0,
              "ticks": ""
             }
            },
            "type": "scattermapbox"
           }
          ],
          "scatterpolar": [
           {
            "marker": {
             "colorbar": {
              "outlinewidth": 0,
              "ticks": ""
             }
            },
            "type": "scatterpolar"
           }
          ],
          "scatterpolargl": [
           {
            "marker": {
             "colorbar": {
              "outlinewidth": 0,
              "ticks": ""
             }
            },
            "type": "scatterpolargl"
           }
          ],
          "scatterternary": [
           {
            "marker": {
             "colorbar": {
              "outlinewidth": 0,
              "ticks": ""
             }
            },
            "type": "scatterternary"
           }
          ],
          "surface": [
           {
            "colorbar": {
             "outlinewidth": 0,
             "ticks": ""
            },
            "colorscale": [
             [
              0,
              "#0d0887"
             ],
             [
              0.1111111111111111,
              "#46039f"
             ],
             [
              0.2222222222222222,
              "#7201a8"
             ],
             [
              0.3333333333333333,
              "#9c179e"
             ],
             [
              0.4444444444444444,
              "#bd3786"
             ],
             [
              0.5555555555555556,
              "#d8576b"
             ],
             [
              0.6666666666666666,
              "#ed7953"
             ],
             [
              0.7777777777777778,
              "#fb9f3a"
             ],
             [
              0.8888888888888888,
              "#fdca26"
             ],
             [
              1,
              "#f0f921"
             ]
            ],
            "type": "surface"
           }
          ],
          "table": [
           {
            "cells": {
             "fill": {
              "color": "#EBF0F8"
             },
             "line": {
              "color": "white"
             }
            },
            "header": {
             "fill": {
              "color": "#C8D4E3"
             },
             "line": {
              "color": "white"
             }
            },
            "type": "table"
           }
          ]
         },
         "layout": {
          "annotationdefaults": {
           "arrowcolor": "#2a3f5f",
           "arrowhead": 0,
           "arrowwidth": 1
          },
          "autotypenumbers": "strict",
          "coloraxis": {
           "colorbar": {
            "outlinewidth": 0,
            "ticks": ""
           }
          },
          "colorscale": {
           "diverging": [
            [
             0,
             "#8e0152"
            ],
            [
             0.1,
             "#c51b7d"
            ],
            [
             0.2,
             "#de77ae"
            ],
            [
             0.3,
             "#f1b6da"
            ],
            [
             0.4,
             "#fde0ef"
            ],
            [
             0.5,
             "#f7f7f7"
            ],
            [
             0.6,
             "#e6f5d0"
            ],
            [
             0.7,
             "#b8e186"
            ],
            [
             0.8,
             "#7fbc41"
            ],
            [
             0.9,
             "#4d9221"
            ],
            [
             1,
             "#276419"
            ]
           ],
           "sequential": [
            [
             0,
             "#0d0887"
            ],
            [
             0.1111111111111111,
             "#46039f"
            ],
            [
             0.2222222222222222,
             "#7201a8"
            ],
            [
             0.3333333333333333,
             "#9c179e"
            ],
            [
             0.4444444444444444,
             "#bd3786"
            ],
            [
             0.5555555555555556,
             "#d8576b"
            ],
            [
             0.6666666666666666,
             "#ed7953"
            ],
            [
             0.7777777777777778,
             "#fb9f3a"
            ],
            [
             0.8888888888888888,
             "#fdca26"
            ],
            [
             1,
             "#f0f921"
            ]
           ],
           "sequentialminus": [
            [
             0,
             "#0d0887"
            ],
            [
             0.1111111111111111,
             "#46039f"
            ],
            [
             0.2222222222222222,
             "#7201a8"
            ],
            [
             0.3333333333333333,
             "#9c179e"
            ],
            [
             0.4444444444444444,
             "#bd3786"
            ],
            [
             0.5555555555555556,
             "#d8576b"
            ],
            [
             0.6666666666666666,
             "#ed7953"
            ],
            [
             0.7777777777777778,
             "#fb9f3a"
            ],
            [
             0.8888888888888888,
             "#fdca26"
            ],
            [
             1,
             "#f0f921"
            ]
           ]
          },
          "colorway": [
           "#636efa",
           "#EF553B",
           "#00cc96",
           "#ab63fa",
           "#FFA15A",
           "#19d3f3",
           "#FF6692",
           "#B6E880",
           "#FF97FF",
           "#FECB52"
          ],
          "font": {
           "color": "#2a3f5f"
          },
          "geo": {
           "bgcolor": "white",
           "lakecolor": "white",
           "landcolor": "#E5ECF6",
           "showlakes": true,
           "showland": true,
           "subunitcolor": "white"
          },
          "hoverlabel": {
           "align": "left"
          },
          "hovermode": "closest",
          "mapbox": {
           "style": "light"
          },
          "paper_bgcolor": "white",
          "plot_bgcolor": "#E5ECF6",
          "polar": {
           "angularaxis": {
            "gridcolor": "white",
            "linecolor": "white",
            "ticks": ""
           },
           "bgcolor": "#E5ECF6",
           "radialaxis": {
            "gridcolor": "white",
            "linecolor": "white",
            "ticks": ""
           }
          },
          "scene": {
           "xaxis": {
            "backgroundcolor": "#E5ECF6",
            "gridcolor": "white",
            "gridwidth": 2,
            "linecolor": "white",
            "showbackground": true,
            "ticks": "",
            "zerolinecolor": "white"
           },
           "yaxis": {
            "backgroundcolor": "#E5ECF6",
            "gridcolor": "white",
            "gridwidth": 2,
            "linecolor": "white",
            "showbackground": true,
            "ticks": "",
            "zerolinecolor": "white"
           },
           "zaxis": {
            "backgroundcolor": "#E5ECF6",
            "gridcolor": "white",
            "gridwidth": 2,
            "linecolor": "white",
            "showbackground": true,
            "ticks": "",
            "zerolinecolor": "white"
           }
          },
          "shapedefaults": {
           "line": {
            "color": "#2a3f5f"
           }
          },
          "ternary": {
           "aaxis": {
            "gridcolor": "white",
            "linecolor": "white",
            "ticks": ""
           },
           "baxis": {
            "gridcolor": "white",
            "linecolor": "white",
            "ticks": ""
           },
           "bgcolor": "#E5ECF6",
           "caxis": {
            "gridcolor": "white",
            "linecolor": "white",
            "ticks": ""
           }
          },
          "title": {
           "x": 0.05
          },
          "xaxis": {
           "automargin": true,
           "gridcolor": "white",
           "linecolor": "white",
           "ticks": "",
           "title": {
            "standoff": 15
           },
           "zerolinecolor": "white",
           "zerolinewidth": 2
          },
          "yaxis": {
           "automargin": true,
           "gridcolor": "white",
           "linecolor": "white",
           "ticks": "",
           "title": {
            "standoff": 15
           },
           "zerolinecolor": "white",
           "zerolinewidth": 2
          }
         }
        },
        "title": {
         "text": "Sanctioned Dark Fleet by Oil Tanker Type <br>612 Total Ships"
        },
        "width": 700
       }
      },
      "image/png": "[encoded data removed]"
     },
     "metadata": {},
     "output_type": "display_data"
    }
   ],
   "source": [
    "oil_ships = df.query('class_size==\"Suezmax\" or class_size==\"VLCC/ULCC\" or class_size==\"Aframax\"')\n",
    "f\"ships that transport oil: {oil_ships.shape[0]}\"\n",
    "\n",
    "pie_chart = oil_ships.groupby(['class_size']).count()\n",
    "\n",
    "pie_chart = pie_chart.reset_index()\n",
    "pie_chart = pie_chart.rename(columns={'name_TankerTrackers':'total_vessels'})\n",
    "fig = px.pie(pie_chart, values='total_vessels', names='class_size', title=f\"Sanctioned Dark Fleet by Oil Tanker Type <br>{oil_ships.shape[0]} Total Ships\")\n",
    "fig.update_layout(width=700, height=700)\n",
    "fig.show()\n",
    "fig.write_html(\"oil_piechart_interactive_plot.html\")"
   ]
  },
  {
   "cell_type": "markdown",
   "id": "1fe96298-5c9d-4d18-ab56-8976c4cb4837",
   "metadata": {},
   "source": [
    "Half are aframaxes with almst a third VLCCs."
   ]
  },
  {
   "cell_type": "markdown",
   "id": "1cc33bb0-456b-4236-8aaa-63d3f00532d5",
   "metadata": {},
   "source": [
    "Look at DWT"
   ]
  },
  {
   "cell_type": "code",
   "execution_count": 14,
   "id": "9285d83a-bd8b-4000-b5be-ab7e2912b2cb",
   "metadata": {},
   "outputs": [
    {
     "data": {
      "application/vnd.plotly.v1+json": {
       "config": {
        "plotlyServerURL": "https://plot.ly"
       },
       "data": [
        {
         "bingroup": "x",
         "hovertemplate": "class_size=Handysize/Handymax<br>DWT=%{x}<br>count=%{y}<extra></extra>",
         "legendgroup": "Handysize/Handymax",
         "marker": {
          "color": "#636efa",
          "pattern": {
           "shape": ""
          }
         },
         "name": "Handysize/Handymax",
         "nbinsx": 100,
         "orientation": "v",
         "showlegend": true,
         "type": "histogram",
         "x": {
          "bdata": "AAAAAAB2p0AAAAAAAJajQAAAAAAADJtAAAAAAACcqEAAAAAAAI+3QAAAAAAAOJhAAAAAAAAdsEAAAAAAAIezQAAAAAAAMIZAAAAAAAAAhEAAAAAAAMLEQAAAAABAIelAAAAAAADYkkAAAAAAALieQAAAAAAAaqBAAAAAAADaq0AAAAAAAIyqQAAAAAAAQKdAAAAAAACSpkAAAAAAAHylQAAAAAAALKBAAAAAAAB3s0AAAAAAAMiTQAAAAADgh+NAAAAAAADcskAAAAAAoEToQAAAAACAaehAAAAAAMCV3EAAAAAAAJ67QAAAAAAAiJNAAAAAACAu5kAAAAAAoBLoQAAAAABAOuhAAAAAAAD4kUAAAAAAIC7mQAAAAAAAxOtAAAAAAADUkkAAAAAAAIjDQAAAAAAgGOhAAAAAACDO60AAAAAAAE6+QAAAAAAAtq9AAAAAAEBa6EAAAAAAAFvoQAAAAAAA2LlAAAAAAABfsUAAAAAAoJboQAAAAABgvehAAAAAAOAM6EAAAAAAgFHZQAAAAABACt5AAAAAAKCW6EAAAAAAIM3hQAAAAABAC+hAAAAAAGAs5EAAAAAAAIK0QAAAAAAAcIdAAAAAAABwh0AAAAAAAGa6QAAAAAAANJNAAAAAAACc6EAAAAAAgO/CQAAAAADgaehAAAAAAMBt1kAAAAAAIBnoQAAAAAAA8rBAAAAAAACWwEAAAAAAAJShQAAAAAAAALZAAAAAAAA4s0AAAAAAQFflQAAAAADAiuZAAAAAAAAcnEAAAAAA4EHoQAAAAACAxNxAAAAAAGCX5kAAAAAAwLHQQAAAAADAzuJAAAAAAMCH00AAAAAAgDjJQAAAAAAAJKxAAAAAAGBx6kAAAAAA4EnoQAAAAAAgV+hAAAAAAAAF50AAAAAAAAXnQAAAAAAAlqlAAAAAAAAOqUAAAAAAQIrmQAAAAACAPsVAAAAAAMCj0kAAAAAAgJ3SQAAAAACAmcdAAAAAAICZx0AAAAAAIF7mQAAAAACARehAAAAAAODi40AAAAAAAE68QAAAAAAAg7NAAAAAACD/5UAAAAAAAPHlQAAAAABAmd1AAAAAAGA+6EAAAAAAQNbdQAAAAAAAmrBAAAAAAACAlEAAAAAAQETaQAAAAACA6M1AAAAAAIB9wUAAAAAAwE/aQAAAAAAALbJAAAAAAABFvEAAAAAA4B3nQAAAAACAJsBAAAAAAAA63kAAAAAAwK/RQAAAAAAAv9ZAAAAAAOAo50AAAAAAAM+3QAAAAADgdeZAAAAAAMAL50AAAAAAwAvnQAAAAABAk+FAAAAAAIAQzEAAAAAAABTLQAAAAAAA7cpAAAAAAIBY1kAAAAAAgFjWQAAAAAAA1MhAAAAAAGAV4UAAAAAA4BbhQAAAAAAAotZAAAAAAACi1kAAAAAAgBrAQAAAAACADOdAAAAAAABH00AAAAAAwPflQAAAAADA9+VAAAAAAOD45UAAAAAA4PjlQAAAAAAgOehAAAAAAOCw5kAAAAAAwBbgQAAAAACAg+JAAAAAAMDx1kAAAAAAoAfnQAAAAABAAOdAAAAAAABFvUAAAAAAWE8SQQAAAABAW9VAAAAAAFhPEkEAAAAAQAXTQAAAAAAA3cpAAAAAAACs0EAAAAAAAErPQAAAAAAABMJAAAAAAAC/60AAAAAAILXrQAAAAADgaehAAAAAAADDvkAAAAAAAKnmQAAAAAAwsvhAAAAAAAD1vEAAAAAAwBzmQAAAAADobQNBAAAAAEDz5UAAAAAAQPPlQAAAAACAed9AAAAAAIB730AAAAAAwPHSQAAAAABAReJAAAAAAEBF4kAAAAAAAMLqQAAAAACAfeFAAAAAAGB+5EAAAAAAQH/kQAAAAACA+OZAAAAAAOB34UAAAAAA4HXmQAAAAADgdeZAAAAAAEQgEkEAAAAAABu8QAAAAAAAELxAAAAAACDc5EAAAAAAINzkQAAAAAAg3ORAAAAAAADmzEAAAAAAgPnmQAAAAABgA+dAAAAAAOD95kAAAAAAQGTmQAAAAACgZeZAAAAAAGBp6EAAAAAAQB3mQAAAAAAg++ZAAAAAAOBp6EAAAAAAwFrTQAAAAACA/eZAAAAAAIDEyEAAAAAAfE8SQQAAAACg3flAAAAAAOAx4kAAAAAAwJzjQAAAAACgnONAAAAAAMAE0UAAAAAAAObMQAAAAABgWOZAAAAAAGAz5kAAAAAAgG/XQAAAAAAASdZAAAAAAAA/1kAAAAAA4InmQAAAAAAgPOJAAAAAAGBC40AAAAAAgNXmQAAAAADg2upAAAAAAECj5kAAAAAAABTEQAAAAAAANuJAAAAAAAD90EAAAAAAAIfmQAAAAACgieZAAAAAAKCh5kAAAAAAgJzmQAAAAADAmeZAAAAAAICF10AAAAAAwPfmQAAAAAAA1ddAAAAAAOCE40AAAAAA4IzjQAAAAAAAlrZAAAAAAADUu0AAAAAAYPviQAAAAABAr99AAAAAAADR30AAAAAAYB/nQAAAAACg+OZAAAAAAAAE50AAAAAA4FLjQAAAAAAAltFAAAAAAOD45kAAAAAAQHbYQAAAAAAAtN9AAAAAAOBK4kAAAAAAAGHnQAAAAACg1OZAAAAAAKAF50AAAAAA4AvnQAAAAAAAF+dAAAAAAKCh5kAAAAAAQCjoQAAAAACANuJAAAAAACCk40AAAAAA4KnjQAAAAADApuNAAAAAAACBt0AAAAAAYI/jQAAAAACAjNpAAAAAAOBv50AAAAAAIHHjQAAAAADAieNAAAAAAECI40AAAAAAAEzSQAAAAABgkeZAAAAAAGCO5kAAAAAAoHfmQAAAAACgguZAAAAAAACDt0AAAAAAANXcQAAAAADAh91AAAAAAEBw3UAAAAAAgCvdQAAAAADgb+dAAAAAAABi5kAAAAAAwE/mQAAAAADAmt9AAAAAAADWyEAAAAAAYBLqQAAAAADA+OVAAAAAAEBv50AAAAAAwMfmQAAAAADgx+ZAAAAAAOAO6UAAAAAA4HHmQAAAAACgPuZAAAAAAABD5kAAAAAAoD7mQAAAAABA+elAAAAAAEDi5kAAAAAAQB7iQAAAAABAh+BAAAAAAGAq4UAAAAAAYCrhQAAAAACAJuFAAAAAAABPykAAAAAAYH7iQAAAAABAaeZAAAAAAGDa5kAAAAAAYNrmQAAAAAAA+qVAAAAAAABo5kAAAAAAQIzmQAAAAABg2uZAAAAAAEAn4kAAAAAAAPLtQAAAAABA7ulAAAAAAEDy5kAAAAAAAPvpQAAAAAAAiONAAAAAAIAw4kAAAAAAAALnQAAAAAAAAudAAAAAAOAL50AAAAAAIM3mQAAAAAAgzeZAAAAAAOCY6EAAAAAAQJXoQAAAAAAA7edAAAAAAMCb40AAAAAAAO3LQAAAAACAb+ZAAAAAAMBw5kAAAAAAAGnmQAAAAABA3ehAAAAAAAAY1UAAAAAAAEC7QAAAAAAAr7tAAAAAAIA64kAAAAAAwHXmQAAAAACAcOZAAAAAAADgtUAAAAAAAOC1QAAAAADgDOlAAAAAAOAM6UAAAAAAAICXQAAAAABA0+ZAAAAAAODz6UAAAAAAYOXgQAAAAABgceZAAAAAAECb6kAAAAAAoKDqQAAAAAAg3ehAAAAAAOBe6EAAAAAAQJHoQAAAAACAK8lAAAAAAOBv50AAAAAAQEXYQAAAAADAM9hAAAAAAKAL50AAAAAAoAvnQAAAAABAwudAAAAAAACIw0AAAAAAoFHmQAAAAAAA4LVAAAAAACAz4kAAAAAAQDrjQAAAAABAOuNAAAAAAEDd6EAAAAAAgNPoQAAAAACg6+ZAAAAAAKDr5kAAAAAAAGG/QAAAAADgluNAAAAAACCc40AAAAAA4LjpQAAAAAAAtelAAAAAAGBe5kAAAAAAYG/mQAAAAABgGeJAAAAAACAe4kAAAAAAIE/iQAAAAACgmuNAAAAAAOCW40AAAAAAAP/FQAAAAAAAA+dAAAAAAOBp6EAAAAAAoALnQAAAAABgCudAAAAAAEAO50AAAAAA4P7mQAAAAABg5eZAAAAAAICu6EAAAAAAgH/TQAAAAACg++JAAAAAAEBS1EAAAAAAgLzmQAAAAAAAY8dAAAAAAIDdyEAAAAAAAGjUQAAAAADg1+pAAAAAAACM6kAAAAAA4CTiQAAAAAAgNuJAAAAAACA54kAAAAAAADbiQAAAAAAArslAAAAAAEB15kAAAAAAAH65QAAAAAAAfLdAAAAAAKCF40AAAAAAgHnDQAAAAACAhtNAAAAAAGC26kAAAAAAAH65QAAAAABgtupAAAAAAAB+uUAAAAAAgC/kQAAAAAAAZOpAAAAAAKB15kAAAAAAIMTnQAAAAACAvOZAAAAAAEDA4kAAAAAAYN3oQAAAAAAAAN5AAAAAAAAA3kAAAAAAAADeQAAAAABg3ehAAAAAAAB30kAAAAAA4G/mQAAAAACAXupAAAAAAIBe6kAAAAAAAAu+QAAAAADAweZAAAAAAOCW7EAAAAAAoLrmQAAAAAAAyehAAAAAAIBrxkAAAAAA4GnoQAAAAADg4+hAAAAAAKDj6EAAAAAAgOHoQAAAAAAAc8lAAAAAAABQwUAAAAAAgKrBQAAAAAAAkKZAAAAAAIBg1EAAAAAAAKjBQAAAAAAASL9AAAAAAIAiwkAAAAAAAP20QAAAAAAAHqdAAAAAAACowUAAAAAAAJnBQAAAAADgaehAAAAAAADA5kAAAAAAgDnHQAAAAADgaehAAAAAAABisUAAAAAAAGC7QAAAAAAAortAAAAAAAChu0AAAAAAAISxQAAAAAAAIqRAAAAAAAC4yUAAAAAAgHXmQAAAAAAAbdBAAAAAAIADyUAAAAAAAE6tQAAAAAAAubtAAAAAAICC0EAAAAAAAM/BQAAAAAAAbrZAAAAAAABIy0AAAAAAAIbTQAAAAAAAnKtAAAAAAABcq0AAAAAAYMrqQAAAAAAA37pAAAAAAABRw0AAAAAAgIDDQAAAAACAdsNAAAAAAACOq0AAAAAAADq8QAAAAAAAOrxAAAAAAAAvuEAAAAAAAA63QAAAAACAXcNAAAAAAAA+zEAAAAAAAHm7QAAAAAAAebtAAAAAAADupEAAAAAAAMe7QAAAAAAAvrtAAAAAAIA2ykAAAAAAgGnoQAAAAABADN1AAAAAAACmvEAAAAAAgDLpQAAAAACAptJAAAAAAADVuUAAAAAAAFy7QAAAAAAAd7tAAAAAAABxu0AAAAAAAASpQAAAAAAAb7tAAAAAAAAqr0AAAAAAAFe7QAAAAAAAW7tAAAAAAABXu0AAAAAAgHvTQAAAAAAA2LhAAAAAAADLuEAAAAAAgDbiQAAAAAAA27lAAAAAAADbuUAAAAAAANK5QAAAAADgPeRAAAAAAMBI5EAAAAAA4EnkQAAAAAAgN+RAAAAAACA35EAAAAAAID7kQAAAAAAgIeBAAAAAACAh4EAAAAAA4JfhQAAAAAAAXbtAAAAAAABdu0AAAAAAAHPoQAAAAABAfehAAAAAAOB56EAAAAAAgKXbQAAAAABAYNhAAAAAAIAG5EAAAAAAINjlQAAAAAAAauhAAAAAAAAUrEAAAAAAQHIHQQAAAADAh9hAAAAAAABW7EA=",
          "dtype": "f8"
         },
         "xaxis": "x",
         "yaxis": "y"
        },
        {
         "bingroup": "x",
         "hovertemplate": "class_size=Panamax<br>DWT=%{x}<br>count=%{y}<extra></extra>",
         "legendgroup": "Panamax",
         "marker": {
          "color": "#EF553B",
          "pattern": {
           "shape": ""
          }
         },
         "name": "Panamax",
         "nbinsx": 100,
         "orientation": "v",
         "showlegend": true,
         "type": "histogram",
         "x": {
          "bdata": "AAAAAIBb70AAAAAAcE/yQAAAAAAgjvJAAAAAAFB98UAAAAAAsNfxQAAAAABwT/JAAAAAAHBP8kAAAAAA8BbxQAAAAADQgPNAAAAAADC38EAAAAAAMLfwQAAAAAAgN/FAAAAAADC38EAAAAAA4MzxQAAAAADQ//BAAAAAAPDu8kAAAAAAoHTxQAAAAAAAxPFAAAAAAADC8UAAAAAAMLfwQAAAAABwtfBAAAAAAAD58kAAAAAAwNLxQAAAAACgMfFAAAAAAICL8UAAAAAAwLzxQAAAAACQQfFAAAAAAIA98UAAAAAAkCrxQAAAAABwT/JAAAAAAHBP8kAAAAAAcE/yQAAAAABwT/JAAAAAAHBP8kAAAAAAcE/yQAAAAABwT/JAAAAAAABX8UAAAAAAoIjxQAAAAAAwtPFAAAAAAPBY8UAAAAAAMEHxQAAAAADAA/JAAAAAANAA8kAAAAAA4MzxQAAAAACgwPFAAAAAANAK8kAAAAAAwA7yQAAAAABwC/JAAAAAAKDM70AAAAAAAPzxQAAAAAAA/PFAAAAAADD58EAAAAAAwA/yQAAAAACA/PFAAAAAADAT8kAAAAAAYAzxQAAAAABQGvFAAAAAAPAL8kAAAAAAcE/yQAAAAAAgwfFAAAAAACDB8UAAAAAAIMHxQAAAAAAgT/JAAAAAAOBG8kAAAAAAcP/xQAAAAAAw7fFAAAAAAFA18kAAAAAAQDPyQAAAAACw7PBA",
          "dtype": "f8"
         },
         "xaxis": "x",
         "yaxis": "y"
        },
        {
         "bingroup": "x",
         "hovertemplate": "class_size=Suezmax<br>DWT=%{x}<br>count=%{y}<extra></extra>",
         "legendgroup": "Suezmax",
         "marker": {
          "color": "#00cc96",
          "pattern": {
           "shape": ""
          }
         },
         "name": "Suezmax",
         "nbinsx": 100,
         "orientation": "v",
         "showlegend": true,
         "type": "histogram",
         "x": {
          "bdata": "AAAAALBFAkEAAAAACNsBQQAAAACYHgJBAAAAAAB2/kAAAAAAqOYBQQAAAADIaQJBAAAAAOBoAkEAAAAAALICQQAAAAAw2f5AAAAAAFhvA0EAAAAACH4DQQAAAABwgANBAAAAAAh+A0EAAAAACH4DQQAAAAD4fgNBAAAAAJh5A0EAAAAACH8DQQAAAAB4NANBAAAAALiGA0EAAAAA6IQDQQAAAAD4hwNBAAAAAOiZA0EAAAAA2GoCQQAAAABgWAJBAAAAAKiTA0EAAAAA2K0CQQAAAACAjwNBAAAAAED0AUEAAAAA+JMDQQAAAACQGARBAAAAALiNA0EAAAAAAJEDQQAAAABITwJBAAAAAIBuA0EAAAAAaIQDQQAAAAAwDQRBAAAAAPANBEEAAAAAkHIDQQAAAADodgNBAAAAADh0A0EAAAAA6BIEQQAAAAD4hwNBAAAAAPiHA0EAAAAAqBUEQQAAAAAoTwJBAAAAAFBPAkEAAAAAaC0EQQAAAACghQNBAAAAAECJAkEAAAAAaIQCQQAAAABwdgNBAAAAAHhRBEEAAAAAWE8CQQAAAABYTwJBAAAAADhPAkEAAAAAWE8CQQAAAADIWgNBAAAAAGhtA0EAAAAA6HkDQQAAAACoYQJBAAAAAEhqA0EAAAAAWGsDQQAAAABgbANBAAAAAHhqA0EAAAAACGsDQQAAAAAQdgNBAAAAABBsA0EAAAAA4GsDQQAAAABITwJBAAAAAHBzA0EAAAAAoGsDQQAAAABIawNBAAAAAJBuA0EAAAAA2G4DQQAAAADY3wFBAAAAAPDaAUEAAAAAwO4DQQAAAAAAGARBAAAAAKgWBEEAAAAA2GMDQQAAAAAYdQNBAAAAAGiOAkEAAAAA6NIDQQAAAACQXwNBAAAAAMj2A0EAAAAAYEkEQQAAAABIZQNBAAAAAAhlA0EAAAAAQGYDQQAAAAAAYgNBAAAAANhjA0EAAAAA0AkEQQAAAADQCQRBAAAAANAJBEEAAAAACGMDQQAAAADAIgNBAAAAAKAYA0EAAAAA4BwDQQAAAACISgNBAAAAAMggA0EAAAAAsB4DQQAAAACwIANBAAAAALBLA0EAAAAAsEsDQQAAAACATANBAAAAAIhMA0EAAAAAoBsDQQAAAABwWwNBAAAAAHBbA0EAAAAAcFsDQQAAAABQMgNBAAAAAIBeA0EAAAAAcMv9QAAAAAAgyv1AAAAAAEByB0E=",
          "dtype": "f8"
         },
         "xaxis": "x",
         "yaxis": "y"
        },
        {
         "bingroup": "x",
         "hovertemplate": "class_size=Aframax<br>DWT=%{x}<br>count=%{y}<extra></extra>",
         "legendgroup": "Aframax",
         "marker": {
          "color": "#ab63fa",
          "pattern": {
           "shape": ""
          }
         },
         "name": "Aframax",
         "nbinsx": 100,
         "orientation": "v",
         "showlegend": true,
         "type": "histogram",
         "x": {
          "bdata": "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",
          "dtype": "f8"
         },
         "xaxis": "x",
         "yaxis": "y"
        },
        {
         "bingroup": "x",
         "hovertemplate": "class_size=VLCC/ULCC<br>DWT=%{x}<br>count=%{y}<extra></extra>",
         "legendgroup": "VLCC/ULCC",
         "marker": {
          "color": "#FFA15A",
          "pattern": {
           "shape": ""
          }
         },
         "name": "VLCC/ULCC",
         "nbinsx": 100,
         "orientation": "v",
         "showlegend": true,
         "type": "histogram",
         "x": {
          "bdata": "AAAAALA7EkEAAAAArDsSQQAAAACwOxJBAAAAAEBb3UAAAAAAJFUSQQAAAAAkVRJBAAAAAIxYEkEAAAAAbF4SQQAAAABoUBJBAAAAAEhPEkEAAAAAVP4SQQAAAADg/hJBAAAAAHxCEkEAAAAAZO0SQQAAAAAA/hJBAAAAAGgnEUEAAAAAXEgSQQAAAAB0sxJBAAAAAAyyEkEAAAAALNQSQQAAAAD0RBJBAAAAAOA4EkEAAAAAKDkSQQAAAACgshJBAAAAAIxTEkEAAAAABDkSQQAAAACENxJBAAAAADQnEUEAAAAAaCcRQQAAAADk4xJBAAAAAHQuEUEAAAAAREESQQAAAABEQRJBAAAAAHw+EkEAAAAAUE8SQQAAAACgPhJBAAAAAKhDEkEAAAAA9EMSQQAAAAA4QxJBAAAAAHRDEkEAAAAAqEMSQQAAAACUrhJBAAAAADzhEkEAAAAAjB0SQQAAAABEIBJBAAAAAEQgEkEAAAAARCASQQAAAAAsgBJBAAAAAGgnEUEAAAAA7OESQQAAAAA4qxJBAAAAANy8EkEAAAAA2HATQQAAAAAYfxNBAAAAALA2EkEAAAAADKoSQQAAAACc4BJBAAAAACDdEkEAAAAAUGgTQQAAAACgqBJBAAAAAGTzGkEAAAAAAH4TQQAAAAAQqhJBAAAAALg2EkEAAAAA6HQTQQAAAACQcxNBAAAAAGxRE0EAAAAAWOASQQAAAAAoshJBAAAAABx7E0EAAAAAVFUSQQAAAADUVRJBAAAAAGigEkEAAAAAJEISQQAAAABoNRJBAAAAAHRPEkEAAAAAmFwSQQAAAADE8xpBAAAAAEBCEkEAAAAAVEISQQAAAABwQhJBAAAAANRfEkEAAAAAdDsSQQAAAACccxNBAAAAAEAqE0EAAAAAQCoTQQAAAADUsBJBAAAAABA5EkEAAAAAVF8SQQAAAADAXhJBAAAAAEBPEkEAAAAAQE8SQQAAAADsWRJBAAAAANxaEkEAAAAARD0SQQAAAAAcQRJBAAAAAABYEkEAAAAACFkSQQAAAAB8TxJBAAAAANAsEUEAAAAA0CwRQQAAAABwTRJBAAAAAHTZEkEAAAAAcD8SQQAAAABgjxNBAAAAAMyIE0EAAAAAUE8SQQAAAAAwexNBAAAAAIhtE0EAAAAAiKQSQQAAAACYohJBAAAAANy8EkEAAAAAZEESQQAAAAAQBRNBAAAAAMCyEkEAAAAAGP0SQQAAAAB4sBJBAAAAAHTZEkEAAAAAeE8SQQAAAADU8RJBAAAAAJTwEkEAAAAA9OESQQAAAABsPxJBAAAAAKw+EkEAAAAAeLASQQAAAABQwRJBAAAAAITrEkEAAAAAICoTQQAAAAAsVRJBAAAAAPyzEkEAAAAAaDgSQQAAAABEdhJBAAAAAHBlE0EAAAAAlFQSQQAAAAB4MRJBAAAAACi1EkEAAAAA0IcTQQAAAADcXhNBAAAAANxeE0EAAAAAsF4TQQAAAACwXhNBAAAAAPyHE0EAAAAA/IcTQQAAAACwXhNBAAAAANxeE0EAAAAArF4TQQAAAADohxNBAAAAAOSHE0EAAAAAdIYTQQAAAADMJhJBAAAAAIQYEkEAAAAAEBISQQAAAADQaRNBAAAAANRtE0EAAAAAEO0SQQAAAABkaBNBAAAAACDrEkEAAAAAPGETQQAAAAAUaRNBAAAAAIRgE0EAAAAAeGETQQAAAACAYRNBAAAAAPhgE0EAAAAAcHwTQQAAAAAQfRNBAAAAAHB8E0EAAAAABH0TQQAAAAD8fBNBAAAAADx8E0EAAAAAIJUTQQAAAABQkRNB",
          "dtype": "f8"
         },
         "xaxis": "x",
         "yaxis": "y"
        }
       ],
       "layout": {
        "barmode": "relative",
        "height": 400,
        "legend": {
         "title": {
          "text": "class_size"
         },
         "tracegroupgap": 0
        },
        "template": {
         "data": {
          "bar": [
           {
            "error_x": {
             "color": "#2a3f5f"
            },
            "error_y": {
             "color": "#2a3f5f"
            },
            "marker": {
             "line": {
              "color": "#E5ECF6",
              "width": 0.5
             },
             "pattern": {
              "fillmode": "overlay",
              "size": 10,
              "solidity": 0.2
             }
            },
            "type": "bar"
           }
          ],
          "barpolar": [
           {
            "marker": {
             "line": {
              "color": "#E5ECF6",
              "width": 0.5
             },
             "pattern": {
              "fillmode": "overlay",
              "size": 10,
              "solidity": 0.2
             }
            },
            "type": "barpolar"
           }
          ],
          "carpet": [
           {
            "aaxis": {
             "endlinecolor": "#2a3f5f",
             "gridcolor": "white",
             "linecolor": "white",
             "minorgridcolor": "white",
             "startlinecolor": "#2a3f5f"
            },
            "baxis": {
             "endlinecolor": "#2a3f5f",
             "gridcolor": "white",
             "linecolor": "white",
             "minorgridcolor": "white",
             "startlinecolor": "#2a3f5f"
            },
            "type": "carpet"
           }
          ],
          "choropleth": [
           {
            "colorbar": {
             "outlinewidth": 0,
             "ticks": ""
            },
            "type": "choropleth"
           }
          ],
          "contour": [
           {
            "colorbar": {
             "outlinewidth": 0,
             "ticks": ""
            },
            "colorscale": [
             [
              0,
              "#0d0887"
             ],
             [
              0.1111111111111111,
              "#46039f"
             ],
             [
              0.2222222222222222,
              "#7201a8"
             ],
             [
              0.3333333333333333,
              "#9c179e"
             ],
             [
              0.4444444444444444,
              "#bd3786"
             ],
             [
              0.5555555555555556,
              "#d8576b"
             ],
             [
              0.6666666666666666,
              "#ed7953"
             ],
             [
              0.7777777777777778,
              "#fb9f3a"
             ],
             [
              0.8888888888888888,
              "#fdca26"
             ],
             [
              1,
              "#f0f921"
             ]
            ],
            "type": "contour"
           }
          ],
          "contourcarpet": [
           {
            "colorbar": {
             "outlinewidth": 0,
             "ticks": ""
            },
            "type": "contourcarpet"
           }
          ],
          "heatmap": [
           {
            "colorbar": {
             "outlinewidth": 0,
             "ticks": ""
            },
            "colorscale": [
             [
              0,
              "#0d0887"
             ],
             [
              0.1111111111111111,
              "#46039f"
             ],
             [
              0.2222222222222222,
              "#7201a8"
             ],
             [
              0.3333333333333333,
              "#9c179e"
             ],
             [
              0.4444444444444444,
              "#bd3786"
             ],
             [
              0.5555555555555556,
              "#d8576b"
             ],
             [
              0.6666666666666666,
              "#ed7953"
             ],
             [
              0.7777777777777778,
              "#fb9f3a"
             ],
             [
              0.8888888888888888,
              "#fdca26"
             ],
             [
              1,
              "#f0f921"
             ]
            ],
            "type": "heatmap"
           }
          ],
          "histogram": [
           {
            "marker": {
             "pattern": {
              "fillmode": "overlay",
              "size": 10,
              "solidity": 0.2
             }
            },
            "type": "histogram"
           }
          ],
          "histogram2d": [
           {
            "colorbar": {
             "outlinewidth": 0,
             "ticks": ""
            },
            "colorscale": [
             [
              0,
              "#0d0887"
             ],
             [
              0.1111111111111111,
              "#46039f"
             ],
             [
              0.2222222222222222,
              "#7201a8"
             ],
             [
              0.3333333333333333,
              "#9c179e"
             ],
             [
              0.4444444444444444,
              "#bd3786"
             ],
             [
              0.5555555555555556,
              "#d8576b"
             ],
             [
              0.6666666666666666,
              "#ed7953"
             ],
             [
              0.7777777777777778,
              "#fb9f3a"
             ],
             [
              0.8888888888888888,
              "#fdca26"
             ],
             [
              1,
              "#f0f921"
             ]
            ],
            "type": "histogram2d"
           }
          ],
          "histogram2dcontour": [
           {
            "colorbar": {
             "outlinewidth": 0,
             "ticks": ""
            },
            "colorscale": [
             [
              0,
              "#0d0887"
             ],
             [
              0.1111111111111111,
              "#46039f"
             ],
             [
              0.2222222222222222,
              "#7201a8"
             ],
             [
              0.3333333333333333,
              "#9c179e"
             ],
             [
              0.4444444444444444,
              "#bd3786"
             ],
             [
              0.5555555555555556,
              "#d8576b"
             ],
             [
              0.6666666666666666,
              "#ed7953"
             ],
             [
              0.7777777777777778,
              "#fb9f3a"
             ],
             [
              0.8888888888888888,
              "#fdca26"
             ],
             [
              1,
              "#f0f921"
             ]
            ],
            "type": "histogram2dcontour"
           }
          ],
          "mesh3d": [
           {
            "colorbar": {
             "outlinewidth": 0,
             "ticks": ""
            },
            "type": "mesh3d"
           }
          ],
          "parcoords": [
           {
            "line": {
             "colorbar": {
              "outlinewidth": 0,
              "ticks": ""
             }
            },
            "type": "parcoords"
           }
          ],
          "pie": [
           {
            "automargin": true,
            "type": "pie"
           }
          ],
          "scatter": [
           {
            "fillpattern": {
             "fillmode": "overlay",
             "size": 10,
             "solidity": 0.2
            },
            "type": "scatter"
           }
          ],
          "scatter3d": [
           {
            "line": {
             "colorbar": {
              "outlinewidth": 0,
              "ticks": ""
             }
            },
            "marker": {
             "colorbar": {
              "outlinewidth": 0,
              "ticks": ""
             }
            },
            "type": "scatter3d"
           }
          ],
          "scattercarpet": [
           {
            "marker": {
             "colorbar": {
              "outlinewidth": 0,
              "ticks": ""
             }
            },
            "type": "scattercarpet"
           }
          ],
          "scattergeo": [
           {
            "marker": {
             "colorbar": {
              "outlinewidth": 0,
              "ticks": ""
             }
            },
            "type": "scattergeo"
           }
          ],
          "scattergl": [
           {
            "marker": {
             "colorbar": {
              "outlinewidth": 0,
              "ticks": ""
             }
            },
            "type": "scattergl"
           }
          ],
          "scattermap": [
           {
            "marker": {
             "colorbar": {
              "outlinewidth": 0,
              "ticks": ""
             }
            },
            "type": "scattermap"
           }
          ],
          "scattermapbox": [
           {
            "marker": {
             "colorbar": {
              "outlinewidth": 0,
              "ticks": ""
             }
            },
            "type": "scattermapbox"
           }
          ],
          "scatterpolar": [
           {
            "marker": {
             "colorbar": {
              "outlinewidth": 0,
              "ticks": ""
             }
            },
            "type": "scatterpolar"
           }
          ],
          "scatterpolargl": [
           {
            "marker": {
             "colorbar": {
              "outlinewidth": 0,
              "ticks": ""
             }
            },
            "type": "scatterpolargl"
           }
          ],
          "scatterternary": [
           {
            "marker": {
             "colorbar": {
              "outlinewidth": 0,
              "ticks": ""
             }
            },
            "type": "scatterternary"
           }
          ],
          "surface": [
           {
            "colorbar": {
             "outlinewidth": 0,
             "ticks": ""
            },
            "colorscale": [
             [
              0,
              "#0d0887"
             ],
             [
              0.1111111111111111,
              "#46039f"
             ],
             [
              0.2222222222222222,
              "#7201a8"
             ],
             [
              0.3333333333333333,
              "#9c179e"
             ],
             [
              0.4444444444444444,
              "#bd3786"
             ],
             [
              0.5555555555555556,
              "#d8576b"
             ],
             [
              0.6666666666666666,
              "#ed7953"
             ],
             [
              0.7777777777777778,
              "#fb9f3a"
             ],
             [
              0.8888888888888888,
              "#fdca26"
             ],
             [
              1,
              "#f0f921"
             ]
            ],
            "type": "surface"
           }
          ],
          "table": [
           {
            "cells": {
             "fill": {
              "color": "#EBF0F8"
             },
             "line": {
              "color": "white"
             }
            },
            "header": {
             "fill": {
              "color": "#C8D4E3"
             },
             "line": {
              "color": "white"
             }
            },
            "type": "table"
           }
          ]
         },
         "layout": {
          "annotationdefaults": {
           "arrowcolor": "#2a3f5f",
           "arrowhead": 0,
           "arrowwidth": 1
          },
          "autotypenumbers": "strict",
          "coloraxis": {
           "colorbar": {
            "outlinewidth": 0,
            "ticks": ""
           }
          },
          "colorscale": {
           "diverging": [
            [
             0,
             "#8e0152"
            ],
            [
             0.1,
             "#c51b7d"
            ],
            [
             0.2,
             "#de77ae"
            ],
            [
             0.3,
             "#f1b6da"
            ],
            [
             0.4,
             "#fde0ef"
            ],
            [
             0.5,
             "#f7f7f7"
            ],
            [
             0.6,
             "#e6f5d0"
            ],
            [
             0.7,
             "#b8e186"
            ],
            [
             0.8,
             "#7fbc41"
            ],
            [
             0.9,
             "#4d9221"
            ],
            [
             1,
             "#276419"
            ]
           ],
           "sequential": [
            [
             0,
             "#0d0887"
            ],
            [
             0.1111111111111111,
             "#46039f"
            ],
            [
             0.2222222222222222,
             "#7201a8"
            ],
            [
             0.3333333333333333,
             "#9c179e"
            ],
            [
             0.4444444444444444,
             "#bd3786"
            ],
            [
             0.5555555555555556,
             "#d8576b"
            ],
            [
             0.6666666666666666,
             "#ed7953"
            ],
            [
             0.7777777777777778,
             "#fb9f3a"
            ],
            [
             0.8888888888888888,
             "#fdca26"
            ],
            [
             1,
             "#f0f921"
            ]
           ],
           "sequentialminus": [
            [
             0,
             "#0d0887"
            ],
            [
             0.1111111111111111,
             "#46039f"
            ],
            [
             0.2222222222222222,
             "#7201a8"
            ],
            [
             0.3333333333333333,
             "#9c179e"
            ],
            [
             0.4444444444444444,
             "#bd3786"
            ],
            [
             0.5555555555555556,
             "#d8576b"
            ],
            [
             0.6666666666666666,
             "#ed7953"
            ],
            [
             0.7777777777777778,
             "#fb9f3a"
            ],
            [
             0.8888888888888888,
             "#fdca26"
            ],
            [
             1,
             "#f0f921"
            ]
           ]
          },
          "colorway": [
           "#636efa",
           "#EF553B",
           "#00cc96",
           "#ab63fa",
           "#FFA15A",
           "#19d3f3",
           "#FF6692",
           "#B6E880",
           "#FF97FF",
           "#FECB52"
          ],
          "font": {
           "color": "#2a3f5f"
          },
          "geo": {
           "bgcolor": "white",
           "lakecolor": "white",
           "landcolor": "#E5ECF6",
           "showlakes": true,
           "showland": true,
           "subunitcolor": "white"
          },
          "hoverlabel": {
           "align": "left"
          },
          "hovermode": "closest",
          "mapbox": {
           "style": "light"
          },
          "paper_bgcolor": "white",
          "plot_bgcolor": "#E5ECF6",
          "polar": {
           "angularaxis": {
            "gridcolor": "white",
            "linecolor": "white",
            "ticks": ""
           },
           "bgcolor": "#E5ECF6",
           "radialaxis": {
            "gridcolor": "white",
            "linecolor": "white",
            "ticks": ""
           }
          },
          "scene": {
           "xaxis": {
            "backgroundcolor": "#E5ECF6",
            "gridcolor": "white",
            "gridwidth": 2,
            "linecolor": "white",
            "showbackground": true,
            "ticks": "",
            "zerolinecolor": "white"
           },
           "yaxis": {
            "backgroundcolor": "#E5ECF6",
            "gridcolor": "white",
            "gridwidth": 2,
            "linecolor": "white",
            "showbackground": true,
            "ticks": "",
            "zerolinecolor": "white"
           },
           "zaxis": {
            "backgroundcolor": "#E5ECF6",
            "gridcolor": "white",
            "gridwidth": 2,
            "linecolor": "white",
            "showbackground": true,
            "ticks": "",
            "zerolinecolor": "white"
           }
          },
          "shapedefaults": {
           "line": {
            "color": "#2a3f5f"
           }
          },
          "ternary": {
           "aaxis": {
            "gridcolor": "white",
            "linecolor": "white",
            "ticks": ""
           },
           "baxis": {
            "gridcolor": "white",
            "linecolor": "white",
            "ticks": ""
           },
           "bgcolor": "#E5ECF6",
           "caxis": {
            "gridcolor": "white",
            "linecolor": "white",
            "ticks": ""
           }
          },
          "title": {
           "x": 0.05
          },
          "xaxis": {
           "automargin": true,
           "gridcolor": "white",
           "linecolor": "white",
           "ticks": "",
           "title": {
            "standoff": 15
           },
           "zerolinecolor": "white",
           "zerolinewidth": 2
          },
          "yaxis": {
           "automargin": true,
           "gridcolor": "white",
           "linecolor": "white",
           "ticks": "",
           "title": {
            "standoff": 15
           },
           "zerolinecolor": "white",
           "zerolinewidth": 2
          }
         }
        },
        "title": {
         "text": "Ships Transporting by Dead Weight Ton <br>1210 Total Ships"
        },
        "width": 1000,
        "xaxis": {
         "anchor": "y",
         "domain": [
          0,
          1
         ],
         "title": {
          "text": "DWT"
         }
        },
        "yaxis": {
         "anchor": "x",
         "domain": [
          0,
          1
         ],
         "title": {
          "text": "count"
         }
        }
       }
      },
      "image/png": "[encoded data removed]"
     },
     "metadata": {},
     "output_type": "display_data"
    }
   ],
   "source": [
    "fig = px.histogram(df, x=\"DWT\", color=\"class_size\", nbins=100, title=f\"Ships Transporting by Dead Weight Ton <br>\"\n",
    "                                                                            f\"{df.shape[0]} Total Ships\")\n",
    "fig.update_layout(width=1000, height=400)\n",
    "fig.show()\n",
    "fig.write_html(\"all_ships_dwt_interactive_plot.html\")\n"
   ]
  },
  {
   "cell_type": "code",
   "execution_count": 15,
   "id": "1cac0b67-e5bd-45f4-897e-69ebfa7f6c0d",
   "metadata": {},
   "outputs": [
    {
     "data": {
      "application/vnd.plotly.v1+json": {
       "config": {
        "plotlyServerURL": "https://plot.ly"
       },
       "data": [
        {
         "bingroup": "x",
         "hovertemplate": "class_size=Suezmax<br>DWT=%{x}<br>count=%{y}<extra></extra>",
         "legendgroup": "Suezmax",
         "marker": {
          "color": "#636efa",
          "pattern": {
           "shape": ""
          }
         },
         "name": "Suezmax",
         "nbinsx": 100,
         "orientation": "v",
         "showlegend": true,
         "type": "histogram",
         "x": {
          "bdata": "AAAAALBFAkEAAAAACNsBQQAAAACYHgJBAAAAAAB2/kAAAAAAqOYBQQAAAADIaQJBAAAAAOBoAkEAAAAAALICQQAAAAAw2f5AAAAAAFhvA0EAAAAACH4DQQAAAABwgANBAAAAAAh+A0EAAAAACH4DQQAAAAD4fgNBAAAAAJh5A0EAAAAACH8DQQAAAAB4NANBAAAAALiGA0EAAAAA6IQDQQAAAAD4hwNBAAAAAOiZA0EAAAAA2GoCQQAAAABgWAJBAAAAAKiTA0EAAAAA2K0CQQAAAACAjwNBAAAAAED0AUEAAAAA+JMDQQAAAACQGARBAAAAALiNA0EAAAAAAJEDQQAAAABITwJBAAAAAIBuA0EAAAAAaIQDQQAAAAAwDQRBAAAAAPANBEEAAAAAkHIDQQAAAADodgNBAAAAADh0A0EAAAAA6BIEQQAAAAD4hwNBAAAAAPiHA0EAAAAAqBUEQQAAAAAoTwJBAAAAAFBPAkEAAAAAaC0EQQAAAACghQNBAAAAAECJAkEAAAAAaIQCQQAAAABwdgNBAAAAAHhRBEEAAAAAWE8CQQAAAABYTwJBAAAAADhPAkEAAAAAWE8CQQAAAADIWgNBAAAAAGhtA0EAAAAA6HkDQQAAAACoYQJBAAAAAEhqA0EAAAAAWGsDQQAAAABgbANBAAAAAHhqA0EAAAAACGsDQQAAAAAQdgNBAAAAABBsA0EAAAAA4GsDQQAAAABITwJBAAAAAHBzA0EAAAAAoGsDQQAAAABIawNBAAAAAJBuA0EAAAAA2G4DQQAAAADY3wFBAAAAAPDaAUEAAAAAwO4DQQAAAAAAGARBAAAAAKgWBEEAAAAA2GMDQQAAAAAYdQNBAAAAAGiOAkEAAAAA6NIDQQAAAACQXwNBAAAAAMj2A0EAAAAAYEkEQQAAAABIZQNBAAAAAAhlA0EAAAAAQGYDQQAAAAAAYgNBAAAAANhjA0EAAAAA0AkEQQAAAADQCQRBAAAAANAJBEEAAAAACGMDQQAAAADAIgNBAAAAAKAYA0EAAAAA4BwDQQAAAACISgNBAAAAAMggA0EAAAAAsB4DQQAAAACwIANBAAAAALBLA0EAAAAAsEsDQQAAAACATANBAAAAAIhMA0EAAAAAoBsDQQAAAABwWwNBAAAAAHBbA0EAAAAAcFsDQQAAAABQMgNBAAAAAIBeA0EAAAAAcMv9QAAAAAAgyv1AAAAAAEByB0E=",
          "dtype": "f8"
         },
         "xaxis": "x",
         "yaxis": "y"
        },
        {
         "bingroup": "x",
         "hovertemplate": "class_size=Aframax<br>DWT=%{x}<br>count=%{y}<extra></extra>",
         "legendgroup": "Aframax",
         "marker": {
          "color": "#EF553B",
          "pattern": {
           "shape": ""
          }
         },
         "name": "Aframax",
         "nbinsx": 100,
         "orientation": "v",
         "showlegend": true,
         "type": "histogram",
         "x": {
          "bdata": "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",
          "dtype": "f8"
         },
         "xaxis": "x",
         "yaxis": "y"
        },
        {
         "bingroup": "x",
         "hovertemplate": "class_size=VLCC/ULCC<br>DWT=%{x}<br>count=%{y}<extra></extra>",
         "legendgroup": "VLCC/ULCC",
         "marker": {
          "color": "#00cc96",
          "pattern": {
           "shape": ""
          }
         },
         "name": "VLCC/ULCC",
         "nbinsx": 100,
         "orientation": "v",
         "showlegend": true,
         "type": "histogram",
         "x": {
          "bdata": "AAAAALA7EkEAAAAArDsSQQAAAACwOxJBAAAAAEBb3UAAAAAAJFUSQQAAAAAkVRJBAAAAAIxYEkEAAAAAbF4SQQAAAABoUBJBAAAAAEhPEkEAAAAAVP4SQQAAAADg/hJBAAAAAHxCEkEAAAAAZO0SQQAAAAAA/hJBAAAAAGgnEUEAAAAAXEgSQQAAAAB0sxJBAAAAAAyyEkEAAAAALNQSQQAAAAD0RBJBAAAAAOA4EkEAAAAAKDkSQQAAAACgshJBAAAAAIxTEkEAAAAABDkSQQAAAACENxJBAAAAADQnEUEAAAAAaCcRQQAAAADk4xJBAAAAAHQuEUEAAAAAREESQQAAAABEQRJBAAAAAHw+EkEAAAAAUE8SQQAAAACgPhJBAAAAAKhDEkEAAAAA9EMSQQAAAAA4QxJBAAAAAHRDEkEAAAAAqEMSQQAAAACUrhJBAAAAADzhEkEAAAAAjB0SQQAAAABEIBJBAAAAAEQgEkEAAAAARCASQQAAAAAsgBJBAAAAAGgnEUEAAAAA7OESQQAAAAA4qxJBAAAAANy8EkEAAAAA2HATQQAAAAAYfxNBAAAAALA2EkEAAAAADKoSQQAAAACc4BJBAAAAACDdEkEAAAAAUGgTQQAAAACgqBJBAAAAAGTzGkEAAAAAAH4TQQAAAAAQqhJBAAAAALg2EkEAAAAA6HQTQQAAAACQcxNBAAAAAGxRE0EAAAAAWOASQQAAAAAoshJBAAAAABx7E0EAAAAAVFUSQQAAAADUVRJBAAAAAGigEkEAAAAAJEISQQAAAABoNRJBAAAAAHRPEkEAAAAAmFwSQQAAAADE8xpBAAAAAEBCEkEAAAAAVEISQQAAAABwQhJBAAAAANRfEkEAAAAAdDsSQQAAAACccxNBAAAAAEAqE0EAAAAAQCoTQQAAAADUsBJBAAAAABA5EkEAAAAAVF8SQQAAAADAXhJBAAAAAEBPEkEAAAAAQE8SQQAAAADsWRJBAAAAANxaEkEAAAAARD0SQQAAAAAcQRJBAAAAAABYEkEAAAAACFkSQQAAAAB8TxJBAAAAANAsEUEAAAAA0CwRQQAAAABwTRJBAAAAAHTZEkEAAAAAcD8SQQAAAABgjxNBAAAAAMyIE0EAAAAAUE8SQQAAAAAwexNBAAAAAIhtE0EAAAAAiKQSQQAAAACYohJBAAAAANy8EkEAAAAAZEESQQAAAAAQBRNBAAAAAMCyEkEAAAAAGP0SQQAAAAB4sBJBAAAAAHTZEkEAAAAAeE8SQQAAAADU8RJBAAAAAJTwEkEAAAAA9OESQQAAAABsPxJBAAAAAKw+EkEAAAAAeLASQQAAAABQwRJBAAAAAITrEkEAAAAAICoTQQAAAAAsVRJBAAAAAPyzEkEAAAAAaDgSQQAAAABEdhJBAAAAAHBlE0EAAAAAlFQSQQAAAAB4MRJBAAAAACi1EkEAAAAA0IcTQQAAAADcXhNBAAAAANxeE0EAAAAAsF4TQQAAAACwXhNBAAAAAPyHE0EAAAAA/IcTQQAAAACwXhNBAAAAANxeE0EAAAAArF4TQQAAAADohxNBAAAAAOSHE0EAAAAAdIYTQQAAAADMJhJBAAAAAIQYEkEAAAAAEBISQQAAAADQaRNBAAAAANRtE0EAAAAAEO0SQQAAAABkaBNBAAAAACDrEkEAAAAAPGETQQAAAAAUaRNBAAAAAIRgE0EAAAAAeGETQQAAAACAYRNBAAAAAPhgE0EAAAAAcHwTQQAAAAAQfRNBAAAAAHB8E0EAAAAABH0TQQAAAAD8fBNBAAAAADx8E0EAAAAAIJUTQQAAAABQkRNB",
          "dtype": "f8"
         },
         "xaxis": "x",
         "yaxis": "y"
        }
       ],
       "layout": {
        "barmode": "relative",
        "height": 400,
        "legend": {
         "title": {
          "text": "class_size"
         },
         "tracegroupgap": 0
        },
        "template": {
         "data": {
          "bar": [
           {
            "error_x": {
             "color": "#2a3f5f"
            },
            "error_y": {
             "color": "#2a3f5f"
            },
            "marker": {
             "line": {
              "color": "#E5ECF6",
              "width": 0.5
             },
             "pattern": {
              "fillmode": "overlay",
              "size": 10,
              "solidity": 0.2
             }
            },
            "type": "bar"
           }
          ],
          "barpolar": [
           {
            "marker": {
             "line": {
              "color": "#E5ECF6",
              "width": 0.5
             },
             "pattern": {
              "fillmode": "overlay",
              "size": 10,
              "solidity": 0.2
             }
            },
            "type": "barpolar"
           }
          ],
          "carpet": [
           {
            "aaxis": {
             "endlinecolor": "#2a3f5f",
             "gridcolor": "white",
             "linecolor": "white",
             "minorgridcolor": "white",
             "startlinecolor": "#2a3f5f"
            },
            "baxis": {
             "endlinecolor": "#2a3f5f",
             "gridcolor": "white",
             "linecolor": "white",
             "minorgridcolor": "white",
             "startlinecolor": "#2a3f5f"
            },
            "type": "carpet"
           }
          ],
          "choropleth": [
           {
            "colorbar": {
             "outlinewidth": 0,
             "ticks": ""
            },
            "type": "choropleth"
           }
          ],
          "contour": [
           {
            "colorbar": {
             "outlinewidth": 0,
             "ticks": ""
            },
            "colorscale": [
             [
              0,
              "#0d0887"
             ],
             [
              0.1111111111111111,
              "#46039f"
             ],
             [
              0.2222222222222222,
              "#7201a8"
             ],
             [
              0.3333333333333333,
              "#9c179e"
             ],
             [
              0.4444444444444444,
              "#bd3786"
             ],
             [
              0.5555555555555556,
              "#d8576b"
             ],
             [
              0.6666666666666666,
              "#ed7953"
             ],
             [
              0.7777777777777778,
              "#fb9f3a"
             ],
             [
              0.8888888888888888,
              "#fdca26"
             ],
             [
              1,
              "#f0f921"
             ]
            ],
            "type": "contour"
           }
          ],
          "contourcarpet": [
           {
            "colorbar": {
             "outlinewidth": 0,
             "ticks": ""
            },
            "type": "contourcarpet"
           }
          ],
          "heatmap": [
           {
            "colorbar": {
             "outlinewidth": 0,
             "ticks": ""
            },
            "colorscale": [
             [
              0,
              "#0d0887"
             ],
             [
              0.1111111111111111,
              "#46039f"
             ],
             [
              0.2222222222222222,
              "#7201a8"
             ],
             [
              0.3333333333333333,
              "#9c179e"
             ],
             [
              0.4444444444444444,
              "#bd3786"
             ],
             [
              0.5555555555555556,
              "#d8576b"
             ],
             [
              0.6666666666666666,
              "#ed7953"
             ],
             [
              0.7777777777777778,
              "#fb9f3a"
             ],
             [
              0.8888888888888888,
              "#fdca26"
             ],
             [
              1,
              "#f0f921"
             ]
            ],
            "type": "heatmap"
           }
          ],
          "histogram": [
           {
            "marker": {
             "pattern": {
              "fillmode": "overlay",
              "size": 10,
              "solidity": 0.2
             }
            },
            "type": "histogram"
           }
          ],
          "histogram2d": [
           {
            "colorbar": {
             "outlinewidth": 0,
             "ticks": ""
            },
            "colorscale": [
             [
              0,
              "#0d0887"
             ],
             [
              0.1111111111111111,
              "#46039f"
             ],
             [
              0.2222222222222222,
              "#7201a8"
             ],
             [
              0.3333333333333333,
              "#9c179e"
             ],
             [
              0.4444444444444444,
              "#bd3786"
             ],
             [
              0.5555555555555556,
              "#d8576b"
             ],
             [
              0.6666666666666666,
              "#ed7953"
             ],
             [
              0.7777777777777778,
              "#fb9f3a"
             ],
             [
              0.8888888888888888,
              "#fdca26"
             ],
             [
              1,
              "#f0f921"
             ]
            ],
            "type": "histogram2d"
           }
          ],
          "histogram2dcontour": [
           {
            "colorbar": {
             "outlinewidth": 0,
             "ticks": ""
            },
            "colorscale": [
             [
              0,
              "#0d0887"
             ],
             [
              0.1111111111111111,
              "#46039f"
             ],
             [
              0.2222222222222222,
              "#7201a8"
             ],
             [
              0.3333333333333333,
              "#9c179e"
             ],
             [
              0.4444444444444444,
              "#bd3786"
             ],
             [
              0.5555555555555556,
              "#d8576b"
             ],
             [
              0.6666666666666666,
              "#ed7953"
             ],
             [
              0.7777777777777778,
              "#fb9f3a"
             ],
             [
              0.8888888888888888,
              "#fdca26"
             ],
             [
              1,
              "#f0f921"
             ]
            ],
            "type": "histogram2dcontour"
           }
          ],
          "mesh3d": [
           {
            "colorbar": {
             "outlinewidth": 0,
             "ticks": ""
            },
            "type": "mesh3d"
           }
          ],
          "parcoords": [
           {
            "line": {
             "colorbar": {
              "outlinewidth": 0,
              "ticks": ""
             }
            },
            "type": "parcoords"
           }
          ],
          "pie": [
           {
            "automargin": true,
            "type": "pie"
           }
          ],
          "scatter": [
           {
            "fillpattern": {
             "fillmode": "overlay",
             "size": 10,
             "solidity": 0.2
            },
            "type": "scatter"
           }
          ],
          "scatter3d": [
           {
            "line": {
             "colorbar": {
              "outlinewidth": 0,
              "ticks": ""
             }
            },
            "marker": {
             "colorbar": {
              "outlinewidth": 0,
              "ticks": ""
             }
            },
            "type": "scatter3d"
           }
          ],
          "scattercarpet": [
           {
            "marker": {
             "colorbar": {
              "outlinewidth": 0,
              "ticks": ""
             }
            },
            "type": "scattercarpet"
           }
          ],
          "scattergeo": [
           {
            "marker": {
             "colorbar": {
              "outlinewidth": 0,
              "ticks": ""
             }
            },
            "type": "scattergeo"
           }
          ],
          "scattergl": [
           {
            "marker": {
             "colorbar": {
              "outlinewidth": 0,
              "ticks": ""
             }
            },
            "type": "scattergl"
           }
          ],
          "scattermap": [
           {
            "marker": {
             "colorbar": {
              "outlinewidth": 0,
              "ticks": ""
             }
            },
            "type": "scattermap"
           }
          ],
          "scattermapbox": [
           {
            "marker": {
             "colorbar": {
              "outlinewidth": 0,
              "ticks": ""
             }
            },
            "type": "scattermapbox"
           }
          ],
          "scatterpolar": [
           {
            "marker": {
             "colorbar": {
              "outlinewidth": 0,
              "ticks": ""
             }
            },
            "type": "scatterpolar"
           }
          ],
          "scatterpolargl": [
           {
            "marker": {
             "colorbar": {
              "outlinewidth": 0,
              "ticks": ""
             }
            },
            "type": "scatterpolargl"
           }
          ],
          "scatterternary": [
           {
            "marker": {
             "colorbar": {
              "outlinewidth": 0,
              "ticks": ""
             }
            },
            "type": "scatterternary"
           }
          ],
          "surface": [
           {
            "colorbar": {
             "outlinewidth": 0,
             "ticks": ""
            },
            "colorscale": [
             [
              0,
              "#0d0887"
             ],
             [
              0.1111111111111111,
              "#46039f"
             ],
             [
              0.2222222222222222,
              "#7201a8"
             ],
             [
              0.3333333333333333,
              "#9c179e"
             ],
             [
              0.4444444444444444,
              "#bd3786"
             ],
             [
              0.5555555555555556,
              "#d8576b"
             ],
             [
              0.6666666666666666,
              "#ed7953"
             ],
             [
              0.7777777777777778,
              "#fb9f3a"
             ],
             [
              0.8888888888888888,
              "#fdca26"
             ],
             [
              1,
              "#f0f921"
             ]
            ],
            "type": "surface"
           }
          ],
          "table": [
           {
            "cells": {
             "fill": {
              "color": "#EBF0F8"
             },
             "line": {
              "color": "white"
             }
            },
            "header": {
             "fill": {
              "color": "#C8D4E3"
             },
             "line": {
              "color": "white"
             }
            },
            "type": "table"
           }
          ]
         },
         "layout": {
          "annotationdefaults": {
           "arrowcolor": "#2a3f5f",
           "arrowhead": 0,
           "arrowwidth": 1
          },
          "autotypenumbers": "strict",
          "coloraxis": {
           "colorbar": {
            "outlinewidth": 0,
            "ticks": ""
           }
          },
          "colorscale": {
           "diverging": [
            [
             0,
             "#8e0152"
            ],
            [
             0.1,
             "#c51b7d"
            ],
            [
             0.2,
             "#de77ae"
            ],
            [
             0.3,
             "#f1b6da"
            ],
            [
             0.4,
             "#fde0ef"
            ],
            [
             0.5,
             "#f7f7f7"
            ],
            [
             0.6,
             "#e6f5d0"
            ],
            [
             0.7,
             "#b8e186"
            ],
            [
             0.8,
             "#7fbc41"
            ],
            [
             0.9,
             "#4d9221"
            ],
            [
             1,
             "#276419"
            ]
           ],
           "sequential": [
            [
             0,
             "#0d0887"
            ],
            [
             0.1111111111111111,
             "#46039f"
            ],
            [
             0.2222222222222222,
             "#7201a8"
            ],
            [
             0.3333333333333333,
             "#9c179e"
            ],
            [
             0.4444444444444444,
             "#bd3786"
            ],
            [
             0.5555555555555556,
             "#d8576b"
            ],
            [
             0.6666666666666666,
             "#ed7953"
            ],
            [
             0.7777777777777778,
             "#fb9f3a"
            ],
            [
             0.8888888888888888,
             "#fdca26"
            ],
            [
             1,
             "#f0f921"
            ]
           ],
           "sequentialminus": [
            [
             0,
             "#0d0887"
            ],
            [
             0.1111111111111111,
             "#46039f"
            ],
            [
             0.2222222222222222,
             "#7201a8"
            ],
            [
             0.3333333333333333,
             "#9c179e"
            ],
            [
             0.4444444444444444,
             "#bd3786"
            ],
            [
             0.5555555555555556,
             "#d8576b"
            ],
            [
             0.6666666666666666,
             "#ed7953"
            ],
            [
             0.7777777777777778,
             "#fb9f3a"
            ],
            [
             0.8888888888888888,
             "#fdca26"
            ],
            [
             1,
             "#f0f921"
            ]
           ]
          },
          "colorway": [
           "#636efa",
           "#EF553B",
           "#00cc96",
           "#ab63fa",
           "#FFA15A",
           "#19d3f3",
           "#FF6692",
           "#B6E880",
           "#FF97FF",
           "#FECB52"
          ],
          "font": {
           "color": "#2a3f5f"
          },
          "geo": {
           "bgcolor": "white",
           "lakecolor": "white",
           "landcolor": "#E5ECF6",
           "showlakes": true,
           "showland": true,
           "subunitcolor": "white"
          },
          "hoverlabel": {
           "align": "left"
          },
          "hovermode": "closest",
          "mapbox": {
           "style": "light"
          },
          "paper_bgcolor": "white",
          "plot_bgcolor": "#E5ECF6",
          "polar": {
           "angularaxis": {
            "gridcolor": "white",
            "linecolor": "white",
            "ticks": ""
           },
           "bgcolor": "#E5ECF6",
           "radialaxis": {
            "gridcolor": "white",
            "linecolor": "white",
            "ticks": ""
           }
          },
          "scene": {
           "xaxis": {
            "backgroundcolor": "#E5ECF6",
            "gridcolor": "white",
            "gridwidth": 2,
            "linecolor": "white",
            "showbackground": true,
            "ticks": "",
            "zerolinecolor": "white"
           },
           "yaxis": {
            "backgroundcolor": "#E5ECF6",
            "gridcolor": "white",
            "gridwidth": 2,
            "linecolor": "white",
            "showbackground": true,
            "ticks": "",
            "zerolinecolor": "white"
           },
           "zaxis": {
            "backgroundcolor": "#E5ECF6",
            "gridcolor": "white",
            "gridwidth": 2,
            "linecolor": "white",
            "showbackground": true,
            "ticks": "",
            "zerolinecolor": "white"
           }
          },
          "shapedefaults": {
           "line": {
            "color": "#2a3f5f"
           }
          },
          "ternary": {
           "aaxis": {
            "gridcolor": "white",
            "linecolor": "white",
            "ticks": ""
           },
           "baxis": {
            "gridcolor": "white",
            "linecolor": "white",
            "ticks": ""
           },
           "bgcolor": "#E5ECF6",
           "caxis": {
            "gridcolor": "white",
            "linecolor": "white",
            "ticks": ""
           }
          },
          "title": {
           "x": 0.05
          },
          "xaxis": {
           "automargin": true,
           "gridcolor": "white",
           "linecolor": "white",
           "ticks": "",
           "title": {
            "standoff": 15
           },
           "zerolinecolor": "white",
           "zerolinewidth": 2
          },
          "yaxis": {
           "automargin": true,
           "gridcolor": "white",
           "linecolor": "white",
           "ticks": "",
           "title": {
            "standoff": 15
           },
           "zerolinecolor": "white",
           "zerolinewidth": 2
          }
         }
        },
        "title": {
         "text": "Ships Transporting Oil by Dead Weight Ton <br>612 Total Ships"
        },
        "width": 1000,
        "xaxis": {
         "anchor": "y",
         "domain": [
          0,
          1
         ],
         "title": {
          "text": "DWT"
         }
        },
        "yaxis": {
         "anchor": "x",
         "domain": [
          0,
          1
         ],
         "title": {
          "text": "count"
         }
        }
       }
      },
      "image/png": "[encoded data removed]"
     },
     "metadata": {},
     "output_type": "display_data"
    }
   ],
   "source": [
    "fig = px.histogram(oil_ships, x=\"DWT\", color=\"class_size\", nbins=100, title=f\"Ships Transporting Oil by Dead Weight Ton <br>\"\n",
    "                                                                            f\"{oil_ships.shape[0]} Total Ships\")\n",
    "fig.update_layout(width=1000, height=400)\n",
    "fig.show()\n",
    "fig.write_html(\"oil_ships_dwt_interactive_plot.html\")\n"
   ]
  },
  {
   "cell_type": "markdown",
   "id": "69670650-df87-4ac9-bbcc-fdf2ac1ae6ac",
   "metadata": {},
   "source": [
    "The class sizes neatly separates themselves"
   ]
  },
  {
   "cell_type": "code",
   "execution_count": 16,
   "id": "e23f7c22-35e7-40d3-8432-398ecb77440b",
   "metadata": {},
   "outputs": [
    {
     "data": {
      "application/vnd.plotly.v1+json": {
       "config": {
        "plotlyServerURL": "https://plot.ly"
       },
       "data": [
        {
         "bingroup": "x",
         "hovertemplate": "class_size=Handysize/Handymax<br>build_year=%{x}<br>count=%{y}<extra></extra>",
         "legendgroup": "Handysize/Handymax",
         "marker": {
          "color": "#636efa",
          "pattern": {
           "shape": ""
          }
         },
         "name": "Handysize/Handymax",
         "nbinsx": 100,
         "orientation": "v",
         "showlegend": true,
         "type": "histogram",
         "x": {
          "bdata": "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",
          "dtype": "f8"
         },
         "xaxis": "x",
         "yaxis": "y"
        },
        {
         "bingroup": "x",
         "hovertemplate": "class_size=Panamax<br>build_year=%{x}<br>count=%{y}<extra></extra>",
         "legendgroup": "Panamax",
         "marker": {
          "color": "#EF553B",
          "pattern": {
           "shape": ""
          }
         },
         "name": "Panamax",
         "nbinsx": 100,
         "orientation": "v",
         "showlegend": true,
         "type": "histogram",
         "x": {
          "bdata": "AAAAAAAgn0AAAAAAADyfQAAAAAAAQJ9AAAAAAABAn0AAAAAAAECfQAAAAAAAQJ9AAAAAAABAn0AAAAAAADyfQAAAAAAASJ9AAAAAAABEn0AAAAAAAESfQAAAAAAAQJ9AAAAAAABEn0AAAAAAAEifQAAAAAAASJ9AAAAAAABMn0AAAAAAAEyfQAAAAAAAUJ9AAAAAAABQn0AAAAAAAEyfQAAAAAAATJ9AAAAAAABUn0AAAAAAAEyfQAAAAAAAUJ9AAAAAAABQn0AAAAAAAFCfQAAAAAAAUJ9AAAAAAABQn0AAAAAAAFCfQAAAAAAAUJ9AAAAAAABQn0AAAAAAAFCfQAAAAAAAUJ9AAAAAAABQn0AAAAAAAFCfQAAAAAAAUJ9AAAAAAABQn0AAAAAAAFSfQAAAAAAAUJ9AAAAAAABUn0AAAAAAAFSfQAAAAAAAVJ9AAAAAAABUn0AAAAAAAFSfQAAAAAAAWJ9AAAAAAABUn0AAAAAAAFSfQAAAAAAAVJ9AAAAAAABUn0AAAAAAAFSfQAAAAAAAWJ9AAAAAAABUn0AAAAAAAFyfQAAAAAAAXJ9AAAAAAABYn0AAAAAAAGifQAAAAAAAaJ9AAAAAAABcn0AAAAAAAFifQAAAAAAAYJ9AAAAAAABgn0AAAAAAAGSfQAAAAAAAYJ9AAAAAAABkn0AAAAAAAGSfQAAAAAAAZJ9AAAAAAABsn0AAAAAAAGyfQAAAAAAAoJ9A",
          "dtype": "f8"
         },
         "xaxis": "x",
         "yaxis": "y"
        },
        {
         "bingroup": "x",
         "hovertemplate": "class_size=Suezmax<br>build_year=%{x}<br>count=%{y}<extra></extra>",
         "legendgroup": "Suezmax",
         "marker": {
          "color": "#00cc96",
          "pattern": {
           "shape": ""
          }
         },
         "name": "Suezmax",
         "nbinsx": 100,
         "orientation": "v",
         "showlegend": true,
         "type": "histogram",
         "x": {
          "bdata": "AAAAAAAkn0AAAAAAADCfQAAAAAAAMJ9AAAAAAAA0n0AAAAAAADifQAAAAAAAOJ9AAAAAAAA4n0AAAAAAADifQAAAAAAAPJ9AAAAAAAA4n0AAAAAAAECfQAAAAAAAQJ9AAAAAAAA8n0AAAAAAADyfQAAAAAAAQJ9AAAAAAAA8n0AAAAAAADifQAAAAAAAPJ9AAAAAAABAn0AAAAAAAECfQAAAAAAAQJ9AAAAAAABEn0AAAAAAADyfQAAAAAAAQJ9AAAAAAABAn0AAAAAAAESfQAAAAAAAQJ9AAAAAAABAn0AAAAAAAESfQAAAAAAARJ9AAAAAAABEn0AAAAAAAEifQAAAAAAASJ9AAAAAAABIn0AAAAAAAESfQAAAAAAASJ9AAAAAAABIn0AAAAAAAEifQAAAAAAASJ9AAAAAAABMn0AAAAAAAEifQAAAAAAATJ9AAAAAAABMn0AAAAAAAEyfQAAAAAAASJ9AAAAAAABMn0AAAAAAAEyfQAAAAAAASJ9AAAAAAABMn0AAAAAAAFCfQAAAAAAATJ9AAAAAAABUn0AAAAAAAESfQAAAAAAARJ9AAAAAAABIn0AAAAAAAEifQAAAAAAATJ9AAAAAAABQn0AAAAAAAFCfQAAAAAAAUJ9AAAAAAABMn0AAAAAAAFCfQAAAAAAAUJ9AAAAAAABQn0AAAAAAAFCfQAAAAAAAUJ9AAAAAAABQn0AAAAAAAFCfQAAAAAAAVJ9AAAAAAABUn0AAAAAAAFCfQAAAAAAAUJ9AAAAAAABUn0AAAAAAAFSfQAAAAAAAWJ9AAAAAAABYn0AAAAAAAFifQAAAAAAAVJ9AAAAAAABUn0AAAAAAAFifQAAAAAAAXJ9AAAAAAABYn0AAAAAAAFifQAAAAAAAVJ9AAAAAAABcn0AAAAAAAFyfQAAAAAAAWJ9AAAAAAABYn0AAAAAAAFifQAAAAAAAXJ9AAAAAAABcn0AAAAAAAGCfQAAAAAAAYJ9AAAAAAABkn0AAAAAAAFyfQAAAAAAAaJ9AAAAAAABkn0AAAAAAAGSfQAAAAAAAZJ9AAAAAAABon0AAAAAAAGyfQAAAAAAAaJ9AAAAAAABkn0AAAAAAAGifQAAAAAAAZJ9AAAAAAABon0AAAAAAAGyfQAAAAAAAbJ9AAAAAAABsn0AAAAAAAGyfQAAAAAAAdJ9AAAAAAABsn0AAAAAAAHCfQAAAAAAAcJ9AAAAAAACcn0A=",
          "dtype": "f8"
         },
         "xaxis": "x",
         "yaxis": "y"
        },
        {
         "bingroup": "x",
         "hovertemplate": "class_size=Aframax<br>build_year=%{x}<br>count=%{y}<extra></extra>",
         "legendgroup": "Aframax",
         "marker": {
          "color": "#ab63fa",
          "pattern": {
           "shape": ""
          }
         },
         "name": "Aframax",
         "nbinsx": 100,
         "orientation": "v",
         "showlegend": true,
         "type": "histogram",
         "x": {
          "bdata": "AAAAAAAkn0AAAAAAACyfQAAAAAAAMJ9AAAAAAAA0n0AAAAAAADSfQAAAAAAAOJ9AAAAAAAA4n0AAAAAAADyfQAAAAAAAPJ9AAAAAAABAn0AAAAAAAECfQAAAAAAAQJ9AAAAAAABAn0AAAAAAAECfQAAAAAAAQJ9AAAAAAABAn0AAAAAAAECfQAAAAAAAPJ9AAAAAAAA8n0AAAAAAADyfQAAAAAAAQJ9AAAAAAABEn0AAAAAAAECfQAAAAAAAQJ9AAAAAAABAn0AAAAAAAESfQAAAAAAARJ9AAAAAAABIn0AAAAAAAESfQAAAAAAASJ9AAAAAAABIn0AAAAAAAEifQAAAAAAASJ9AAAAAAABIn0AAAAAAAEyfQAAAAAAATJ9AAAAAAABIn0AAAAAAAEifQAAAAAAAQJ9AAAAAAABMn0AAAAAAAEyfQAAAAAAASJ9AAAAAAABIn0AAAAAAAFCfQAAAAAAATJ9AAAAAAABIn0AAAAAAAEyfQAAAAAAATJ9AAAAAAABMn0AAAAAAAEyfQAAAAAAATJ9AAAAAAABMn0AAAAAAAEyfQAAAAAAATJ9AAAAAAABIn0AAAAAAAEyfQAAAAAAAUJ9AAAAAAABQn0AAAAAAAFCfQAAAAAAAUJ9AAAAAAABQn0AAAAAAAEyfQAAAAAAATJ9AAAAAAABMn0AAAAAAAEifQAAAAAAATJ9AAAAAAABMn0AAAAAAAEyfQAAAAAAATJ9AAAAAAABQn0AAAAAAAFCfQAAAAAAAUJ9AAAAAAABQn0AAAAAAAFCfQAAAAAAASJ9AAAAAAABMn0AAAAAAAEyfQAAAAAAATJ9AAAAAAABMn0AAAAAAAEyfQAAAAAAATJ9AAAAAAABMn0AAAAAAAEyfQAAAAAAASJ9AAAAAAABMn0AAAAAAAEyfQAAAAAAATJ9AAAAAAABMn0AAAAAAAEyfQAAAAAAATJ9AAAAAAABIn0AAAAAAAEyfQAAAAAAATJ9AAAAAAABIn0AAAAAAAFCfQAAAAAAATJ9AAAAAAABIn0AAAAAAAEyfQAAAAAAASJ9AAAAAAABMn0AAAAAAAFSfQAAAAAAAUJ9AAAAAAABQn0AAAAAAAFCfQAAAAAAATJ9AAAAAAABMn0AAAAAAAEyfQAAAAAAATJ9AAAAAAABMn0AAAAAAAEyfQAAAAAAAUJ9AAAAAAABQn0AAAAAAAFCfQAAAAAAAUJ9AAAAAAABQn0AAAAAAAFCfQAAAAAAAUJ9AAAAAAABMn0AAAAAAAFCfQAAAAAAAVJ9AAAAAAABUn0AAAAAAAFSfQAAAAAAAUJ9AAAAAAABUn0AAAAAAAFSfQAAAAAAAUJ9AAAAAAABQn0AAAAAAAFCfQAAAAAAAVJ9AAAAAAABUn0AAAAAAAFifQAAAAAAAUJ9AAAAAAABUn0AAAAAAAFSfQAAAAAAAVJ9AAAAAAABUn0AAAAAAAFSfQAAAAAAAUJ9AAAAAAABQn0AAAAAAAFCfQAAAAAAAVJ9AAAAAAABUn0AAAAAAAFSfQAAAAAAAVJ9AAAAAAABQn0AAAAAAAFSfQAAAAAAAVJ9AAAAAAABUn0AAAAAAAFSfQAAAAAAAWJ9AAAAAAABYn0AAAAAAAFifQAAAAAAAVJ9AAAAAAABUn0AAAAAAAFSfQAAAAAAAVJ9AAAAAAABYn0AAAAAAAFifQAAAAAAAWJ9AAAAAAABUn0AAAAAAAFSfQAAAAAAAVJ9AAAAAAABUn0AAAAAAAFSfQAAAAAAAVJ9AAAAAAABUn0AAAAAAAFSfQAAAAAAAVJ9AAAAAAABUn0AAAAAAAFifQAAAAAAAVJ9AAAAAAABYn0AAAAAAAFyfQAAAAAAAWJ9AAAAAAABYn0AAAAAAAFifQAAAAAAAVJ9AAAAAAABUn0AAAAAAAFifQAAAAAAAWJ9AAAAAAABYn0AAAAAAAFSfQAAAAAAAXJ9AAAAAAABcn0AAAAAAAFyfQAAAAAAAYJ9AAAAAAABQn0AAAAAAAFSfQAAAAAAAVJ9AAAAAAABcn0AAAAAAAFyfQAAAAAAAYJ9AAAAAAABgn0AAAAAAAFyfQAAAAAAAXJ9AAAAAAABcn0AAAAAAAFifQAAAAAAAXJ9AAAAAAABYn0AAAAAAAFifQAAAAAAAWJ9AAAAAAABcn0AAAAAAAFyfQAAAAAAAXJ9AAAAAAABcn0AAAAAAAFifQAAAAAAAXJ9AAAAAAABYn0AAAAAAAFyfQAAAAAAAWJ9AAAAAAABcn0AAAAAAAFyfQAAAAAAAXJ9AAAAAAABcn0AAAAAAAFyfQAAAAAAAWJ9AAAAAAABcn0AAAAAAAFyfQAAAAAAAXJ9AAAAAAABcn0AAAAAAAGCfQAAAAAAAWJ9AAAAAAABYn0AAAAAAAFifQAAAAAAAWJ9AAAAAAABgn0AAAAAAAFyfQAAAAAAAXJ9AAAAAAABcn0AAAAAAAGCfQAAAAAAAWJ9AAAAAAABcn0AAAAAAAGCfQAAAAAAAYJ9AAAAAAABkn0AAAAAAAGSfQAAAAAAAYJ9AAAAAAABgn0AAAAAAAFyfQAAAAAAAXJ9AAAAAAABgn0AAAAAAAGCfQAAAAAAAZJ9AAAAAAABgn0AAAAAAAGCfQAAAAAAAYJ9AAAAAAABgn0AAAAAAAGSfQAAAAAAAZJ9AAAAAAABcn0AAAAAAAGSfQAAAAAAAYJ9AAAAAAABgn0AAAAAAAGCfQAAAAAAAYJ9AAAAAAABkn0AAAAAAAGSfQAAAAAAAZJ9AAAAAAABkn0AAAAAAAGCfQAAAAAAAYJ9AAAAAAABgn0AAAAAAAGCfQAAAAAAAZJ9AAAAAAABgn0AAAAAAAGSfQAAAAAAAZJ9AAAAAAABkn0AAAAAAAGCfQAAAAAAAYJ9AAAAAAABgn0AAAAAAAGCfQAAAAAAAZJ9AAAAAAABkn0AAAAAAAGSfQAAAAAAAZJ9AAAAAAABkn0AAAAAAAGSfQAAAAAAAZJ9AAAAAAABkn0AAAAAAAGifQAAAAAAAaJ9AAAAAAABkn0AAAAAAAGifQAAAAAAAZJ9AAAAAAABon0AAAAAAAGSfQAAAAAAAZJ9AAAAAAABon0AAAAAAAGifQAAAAAAAZJ9AAAAAAABon0AAAAAAAGifQAAAAAAAaJ9AAAAAAABon0AAAAAAAGyfQAAAAAAAbJ9AAAAAAABsn0AAAAAAAGifQAAAAAAAbJ9AAAAAAAB0n0AAAAAAAHSfQAAAAAAAeJ9AAAAAAAB4n0AAAAAAAHCfQAAAAAAAgJ9AAAAAAACIn0AAAAAAAISfQAAAAAAAiJ9AAAAAAACMn0AAAAAAAIifQAAAAAAAiJ9AAAAAAACQn0AAAAAAAJifQAAAAAAAnJ9AAAAAAACMn0AAAAAAAJCfQAAAAAAAmJ9AAAAAAACcn0AAAAAAAJifQAAAAAAAmJ9AAAAAAACYn0AAAAAAAJyfQAAAAAAAnJ9AAAAAAACgn0AAAAAAAKCfQA==",
          "dtype": "f8"
         },
         "xaxis": "x",
         "yaxis": "y"
        },
        {
         "bingroup": "x",
         "hovertemplate": "class_size=VLCC/ULCC<br>build_year=%{x}<br>count=%{y}<extra></extra>",
         "legendgroup": "VLCC/ULCC",
         "marker": {
          "color": "#FFA15A",
          "pattern": {
           "shape": ""
          }
         },
         "name": "VLCC/ULCC",
         "nbinsx": 100,
         "orientation": "v",
         "showlegend": true,
         "type": "histogram",
         "x": {
          "bdata": "AAAAAAAwn0AAAAAAADCfQAAAAAAAMJ9AAAAAAAAwn0AAAAAAADCfQAAAAAAANJ9AAAAAAAA0n0AAAAAAADSfQAAAAAAAOJ9AAAAAAAA4n0AAAAAAADifQAAAAAAAPJ9AAAAAAAA8n0AAAAAAAECfQAAAAAAAPJ9AAAAAAAA8n0AAAAAAAECfQAAAAAAAQJ9AAAAAAABAn0AAAAAAAECfQAAAAAAAQJ9AAAAAAABAn0AAAAAAAECfQAAAAAAARJ9AAAAAAABEn0AAAAAAAEifQAAAAAAASJ9AAAAAAABAn0AAAAAAAECfQAAAAAAAQJ9AAAAAAABEn0AAAAAAAECfQAAAAAAAQJ9AAAAAAABEn0AAAAAAAESfQAAAAAAAQJ9AAAAAAABIn0AAAAAAAEifQAAAAAAATJ9AAAAAAABMn0AAAAAAAEyfQAAAAAAAQJ9AAAAAAABEn0AAAAAAAEifQAAAAAAATJ9AAAAAAABMn0AAAAAAAFCfQAAAAAAARJ9AAAAAAABAn0AAAAAAAESfQAAAAAAARJ9AAAAAAABIn0AAAAAAAEifQAAAAAAASJ9AAAAAAABEn0AAAAAAAEifQAAAAAAASJ9AAAAAAABIn0AAAAAAAEyfQAAAAAAARJ9AAAAAAABIn0AAAAAAAEifQAAAAAAASJ9AAAAAAABIn0AAAAAAAEyfQAAAAAAATJ9AAAAAAABMn0AAAAAAAEyfQAAAAAAATJ9AAAAAAABMn0AAAAAAAEifQAAAAAAASJ9AAAAAAABIn0AAAAAAAEyfQAAAAAAATJ9AAAAAAABIn0AAAAAAAEifQAAAAAAATJ9AAAAAAABIn0AAAAAAAEifQAAAAAAASJ9AAAAAAABIn0AAAAAAAEyfQAAAAAAATJ9AAAAAAABMn0AAAAAAAFCfQAAAAAAAUJ9AAAAAAABQn0AAAAAAAEyfQAAAAAAAUJ9AAAAAAABQn0AAAAAAAFCfQAAAAAAATJ9AAAAAAABMn0AAAAAAAEifQAAAAAAATJ9AAAAAAABQn0AAAAAAAEyfQAAAAAAATJ9AAAAAAABUn0AAAAAAAFSfQAAAAAAAUJ9AAAAAAABUn0AAAAAAAFSfQAAAAAAAVJ9AAAAAAABQn0AAAAAAAFSfQAAAAAAAVJ9AAAAAAABQn0AAAAAAAFCfQAAAAAAAUJ9AAAAAAABUn0AAAAAAAEyfQAAAAAAAVJ9AAAAAAABQn0AAAAAAAFSfQAAAAAAAUJ9AAAAAAABUn0AAAAAAAFSfQAAAAAAAUJ9AAAAAAABUn0AAAAAAAFSfQAAAAAAAWJ9AAAAAAABcn0AAAAAAAFSfQAAAAAAAXJ9AAAAAAABcn0AAAAAAAFifQAAAAAAAXJ9AAAAAAABcn0AAAAAAAFifQAAAAAAAVJ9AAAAAAABcn0AAAAAAAFyfQAAAAAAAYJ9AAAAAAABcn0AAAAAAAGCfQAAAAAAAYJ9AAAAAAABgn0AAAAAAAGCfQAAAAAAAYJ9AAAAAAABkn0AAAAAAAGSfQAAAAAAAYJ9AAAAAAABgn0AAAAAAAFyfQAAAAAAAYJ9AAAAAAABgn0AAAAAAAGSfQAAAAAAAYJ9AAAAAAABkn0AAAAAAAGSfQAAAAAAAYJ9AAAAAAABkn0AAAAAAAGCfQAAAAAAAZJ9AAAAAAABkn0AAAAAAAHCfQAAAAAAAcJ9AAAAAAABwn0AAAAAAAHSfQAAAAAAAdJ9AAAAAAAB0n0AAAAAAAHCfQAAAAAAAcJ9AAAAAAAB0n0AAAAAAAHSfQAAAAAAAdJ9AAAAAAAB0n0AAAAAAAHSfQAAAAAAAjJ9A",
          "dtype": "f8"
         },
         "xaxis": "x",
         "yaxis": "y"
        }
       ],
       "layout": {
        "barmode": "relative",
        "height": 600,
        "legend": {
         "title": {
          "text": "class_size"
         },
         "tracegroupgap": 0
        },
        "template": {
         "data": {
          "bar": [
           {
            "error_x": {
             "color": "#2a3f5f"
            },
            "error_y": {
             "color": "#2a3f5f"
            },
            "marker": {
             "line": {
              "color": "#E5ECF6",
              "width": 0.5
             },
             "pattern": {
              "fillmode": "overlay",
              "size": 10,
              "solidity": 0.2
             }
            },
            "type": "bar"
           }
          ],
          "barpolar": [
           {
            "marker": {
             "line": {
              "color": "#E5ECF6",
              "width": 0.5
             },
             "pattern": {
              "fillmode": "overlay",
              "size": 10,
              "solidity": 0.2
             }
            },
            "type": "barpolar"
           }
          ],
          "carpet": [
           {
            "aaxis": {
             "endlinecolor": "#2a3f5f",
             "gridcolor": "white",
             "linecolor": "white",
             "minorgridcolor": "white",
             "startlinecolor": "#2a3f5f"
            },
            "baxis": {
             "endlinecolor": "#2a3f5f",
             "gridcolor": "white",
             "linecolor": "white",
             "minorgridcolor": "white",
             "startlinecolor": "#2a3f5f"
            },
            "type": "carpet"
           }
          ],
          "choropleth": [
           {
            "colorbar": {
             "outlinewidth": 0,
             "ticks": ""
            },
            "type": "choropleth"
           }
          ],
          "contour": [
           {
            "colorbar": {
             "outlinewidth": 0,
             "ticks": ""
            },
            "colorscale": [
             [
              0,
              "#0d0887"
             ],
             [
              0.1111111111111111,
              "#46039f"
             ],
             [
              0.2222222222222222,
              "#7201a8"
             ],
             [
              0.3333333333333333,
              "#9c179e"
             ],
             [
              0.4444444444444444,
              "#bd3786"
             ],
             [
              0.5555555555555556,
              "#d8576b"
             ],
             [
              0.6666666666666666,
              "#ed7953"
             ],
             [
              0.7777777777777778,
              "#fb9f3a"
             ],
             [
              0.8888888888888888,
              "#fdca26"
             ],
             [
              1,
              "#f0f921"
             ]
            ],
            "type": "contour"
           }
          ],
          "contourcarpet": [
           {
            "colorbar": {
             "outlinewidth": 0,
             "ticks": ""
            },
            "type": "contourcarpet"
           }
          ],
          "heatmap": [
           {
            "colorbar": {
             "outlinewidth": 0,
             "ticks": ""
            },
            "colorscale": [
             [
              0,
              "#0d0887"
             ],
             [
              0.1111111111111111,
              "#46039f"
             ],
             [
              0.2222222222222222,
              "#7201a8"
             ],
             [
              0.3333333333333333,
              "#9c179e"
             ],
             [
              0.4444444444444444,
              "#bd3786"
             ],
             [
              0.5555555555555556,
              "#d8576b"
             ],
             [
              0.6666666666666666,
              "#ed7953"
             ],
             [
              0.7777777777777778,
              "#fb9f3a"
             ],
             [
              0.8888888888888888,
              "#fdca26"
             ],
             [
              1,
              "#f0f921"
             ]
            ],
            "type": "heatmap"
           }
          ],
          "histogram": [
           {
            "marker": {
             "pattern": {
              "fillmode": "overlay",
              "size": 10,
              "solidity": 0.2
             }
            },
            "type": "histogram"
           }
          ],
          "histogram2d": [
           {
            "colorbar": {
             "outlinewidth": 0,
             "ticks": ""
            },
            "colorscale": [
             [
              0,
              "#0d0887"
             ],
             [
              0.1111111111111111,
              "#46039f"
             ],
             [
              0.2222222222222222,
              "#7201a8"
             ],
             [
              0.3333333333333333,
              "#9c179e"
             ],
             [
              0.4444444444444444,
              "#bd3786"
             ],
             [
              0.5555555555555556,
              "#d8576b"
             ],
             [
              0.6666666666666666,
              "#ed7953"
             ],
             [
              0.7777777777777778,
              "#fb9f3a"
             ],
             [
              0.8888888888888888,
              "#fdca26"
             ],
             [
              1,
              "#f0f921"
             ]
            ],
            "type": "histogram2d"
           }
          ],
          "histogram2dcontour": [
           {
            "colorbar": {
             "outlinewidth": 0,
             "ticks": ""
            },
            "colorscale": [
             [
              0,
              "#0d0887"
             ],
             [
              0.1111111111111111,
              "#46039f"
             ],
             [
              0.2222222222222222,
              "#7201a8"
             ],
             [
              0.3333333333333333,
              "#9c179e"
             ],
             [
              0.4444444444444444,
              "#bd3786"
             ],
             [
              0.5555555555555556,
              "#d8576b"
             ],
             [
              0.6666666666666666,
              "#ed7953"
             ],
             [
              0.7777777777777778,
              "#fb9f3a"
             ],
             [
              0.8888888888888888,
              "#fdca26"
             ],
             [
              1,
              "#f0f921"
             ]
            ],
            "type": "histogram2dcontour"
           }
          ],
          "mesh3d": [
           {
            "colorbar": {
             "outlinewidth": 0,
             "ticks": ""
            },
            "type": "mesh3d"
           }
          ],
          "parcoords": [
           {
            "line": {
             "colorbar": {
              "outlinewidth": 0,
              "ticks": ""
             }
            },
            "type": "parcoords"
           }
          ],
          "pie": [
           {
            "automargin": true,
            "type": "pie"
           }
          ],
          "scatter": [
           {
            "fillpattern": {
             "fillmode": "overlay",
             "size": 10,
             "solidity": 0.2
            },
            "type": "scatter"
           }
          ],
          "scatter3d": [
           {
            "line": {
             "colorbar": {
              "outlinewidth": 0,
              "ticks": ""
             }
            },
            "marker": {
             "colorbar": {
              "outlinewidth": 0,
              "ticks": ""
             }
            },
            "type": "scatter3d"
           }
          ],
          "scattercarpet": [
           {
            "marker": {
             "colorbar": {
              "outlinewidth": 0,
              "ticks": ""
             }
            },
            "type": "scattercarpet"
           }
          ],
          "scattergeo": [
           {
            "marker": {
             "colorbar": {
              "outlinewidth": 0,
              "ticks": ""
             }
            },
            "type": "scattergeo"
           }
          ],
          "scattergl": [
           {
            "marker": {
             "colorbar": {
              "outlinewidth": 0,
              "ticks": ""
             }
            },
            "type": "scattergl"
           }
          ],
          "scattermap": [
           {
            "marker": {
             "colorbar": {
              "outlinewidth": 0,
              "ticks": ""
             }
            },
            "type": "scattermap"
           }
          ],
          "scattermapbox": [
           {
            "marker": {
             "colorbar": {
              "outlinewidth": 0,
              "ticks": ""
             }
            },
            "type": "scattermapbox"
           }
          ],
          "scatterpolar": [
           {
            "marker": {
             "colorbar": {
              "outlinewidth": 0,
              "ticks": ""
             }
            },
            "type": "scatterpolar"
           }
          ],
          "scatterpolargl": [
           {
            "marker": {
             "colorbar": {
              "outlinewidth": 0,
              "ticks": ""
             }
            },
            "type": "scatterpolargl"
           }
          ],
          "scatterternary": [
           {
            "marker": {
             "colorbar": {
              "outlinewidth": 0,
              "ticks": ""
             }
            },
            "type": "scatterternary"
           }
          ],
          "surface": [
           {
            "colorbar": {
             "outlinewidth": 0,
             "ticks": ""
            },
            "colorscale": [
             [
              0,
              "#0d0887"
             ],
             [
              0.1111111111111111,
              "#46039f"
             ],
             [
              0.2222222222222222,
              "#7201a8"
             ],
             [
              0.3333333333333333,
              "#9c179e"
             ],
             [
              0.4444444444444444,
              "#bd3786"
             ],
             [
              0.5555555555555556,
              "#d8576b"
             ],
             [
              0.6666666666666666,
              "#ed7953"
             ],
             [
              0.7777777777777778,
              "#fb9f3a"
             ],
             [
              0.8888888888888888,
              "#fdca26"
             ],
             [
              1,
              "#f0f921"
             ]
            ],
            "type": "surface"
           }
          ],
          "table": [
           {
            "cells": {
             "fill": {
              "color": "#EBF0F8"
             },
             "line": {
              "color": "white"
             }
            },
            "header": {
             "fill": {
              "color": "#C8D4E3"
             },
             "line": {
              "color": "white"
             }
            },
            "type": "table"
           }
          ]
         },
         "layout": {
          "annotationdefaults": {
           "arrowcolor": "#2a3f5f",
           "arrowhead": 0,
           "arrowwidth": 1
          },
          "autotypenumbers": "strict",
          "coloraxis": {
           "colorbar": {
            "outlinewidth": 0,
            "ticks": ""
           }
          },
          "colorscale": {
           "diverging": [
            [
             0,
             "#8e0152"
            ],
            [
             0.1,
             "#c51b7d"
            ],
            [
             0.2,
             "#de77ae"
            ],
            [
             0.3,
             "#f1b6da"
            ],
            [
             0.4,
             "#fde0ef"
            ],
            [
             0.5,
             "#f7f7f7"
            ],
            [
             0.6,
             "#e6f5d0"
            ],
            [
             0.7,
             "#b8e186"
            ],
            [
             0.8,
             "#7fbc41"
            ],
            [
             0.9,
             "#4d9221"
            ],
            [
             1,
             "#276419"
            ]
           ],
           "sequential": [
            [
             0,
             "#0d0887"
            ],
            [
             0.1111111111111111,
             "#46039f"
            ],
            [
             0.2222222222222222,
             "#7201a8"
            ],
            [
             0.3333333333333333,
             "#9c179e"
            ],
            [
             0.4444444444444444,
             "#bd3786"
            ],
            [
             0.5555555555555556,
             "#d8576b"
            ],
            [
             0.6666666666666666,
             "#ed7953"
            ],
            [
             0.7777777777777778,
             "#fb9f3a"
            ],
            [
             0.8888888888888888,
             "#fdca26"
            ],
            [
             1,
             "#f0f921"
            ]
           ],
           "sequentialminus": [
            [
             0,
             "#0d0887"
            ],
            [
             0.1111111111111111,
             "#46039f"
            ],
            [
             0.2222222222222222,
             "#7201a8"
            ],
            [
             0.3333333333333333,
             "#9c179e"
            ],
            [
             0.4444444444444444,
             "#bd3786"
            ],
            [
             0.5555555555555556,
             "#d8576b"
            ],
            [
             0.6666666666666666,
             "#ed7953"
            ],
            [
             0.7777777777777778,
             "#fb9f3a"
            ],
            [
             0.8888888888888888,
             "#fdca26"
            ],
            [
             1,
             "#f0f921"
            ]
           ]
          },
          "colorway": [
           "#636efa",
           "#EF553B",
           "#00cc96",
           "#ab63fa",
           "#FFA15A",
           "#19d3f3",
           "#FF6692",
           "#B6E880",
           "#FF97FF",
           "#FECB52"
          ],
          "font": {
           "color": "#2a3f5f"
          },
          "geo": {
           "bgcolor": "white",
           "lakecolor": "white",
           "landcolor": "#E5ECF6",
           "showlakes": true,
           "showland": true,
           "subunitcolor": "white"
          },
          "hoverlabel": {
           "align": "left"
          },
          "hovermode": "closest",
          "mapbox": {
           "style": "light"
          },
          "paper_bgcolor": "white",
          "plot_bgcolor": "#E5ECF6",
          "polar": {
           "angularaxis": {
            "gridcolor": "white",
            "linecolor": "white",
            "ticks": ""
           },
           "bgcolor": "#E5ECF6",
           "radialaxis": {
            "gridcolor": "white",
            "linecolor": "white",
            "ticks": ""
           }
          },
          "scene": {
           "xaxis": {
            "backgroundcolor": "#E5ECF6",
            "gridcolor": "white",
            "gridwidth": 2,
            "linecolor": "white",
            "showbackground": true,
            "ticks": "",
            "zerolinecolor": "white"
           },
           "yaxis": {
            "backgroundcolor": "#E5ECF6",
            "gridcolor": "white",
            "gridwidth": 2,
            "linecolor": "white",
            "showbackground": true,
            "ticks": "",
            "zerolinecolor": "white"
           },
           "zaxis": {
            "backgroundcolor": "#E5ECF6",
            "gridcolor": "white",
            "gridwidth": 2,
            "linecolor": "white",
            "showbackground": true,
            "ticks": "",
            "zerolinecolor": "white"
           }
          },
          "shapedefaults": {
           "line": {
            "color": "#2a3f5f"
           }
          },
          "ternary": {
           "aaxis": {
            "gridcolor": "white",
            "linecolor": "white",
            "ticks": ""
           },
           "baxis": {
            "gridcolor": "white",
            "linecolor": "white",
            "ticks": ""
           },
           "bgcolor": "#E5ECF6",
           "caxis": {
            "gridcolor": "white",
            "linecolor": "white",
            "ticks": ""
           }
          },
          "title": {
           "x": 0.05
          },
          "xaxis": {
           "automargin": true,
           "gridcolor": "white",
           "linecolor": "white",
           "ticks": "",
           "title": {
            "standoff": 15
           },
           "zerolinecolor": "white",
           "zerolinewidth": 2
          },
          "yaxis": {
           "automargin": true,
           "gridcolor": "white",
           "linecolor": "white",
           "ticks": "",
           "title": {
            "standoff": 15
           },
           "zerolinecolor": "white",
           "zerolinewidth": 2
          }
         }
        },
        "title": {
         "text": "Vessels by Build Year <br>1210 Total Ships"
        },
        "width": 900,
        "xaxis": {
         "anchor": "y",
         "domain": [
          0,
          1
         ],
         "range": [
          1980,
          2025
         ],
         "title": {
          "text": "build_year"
         }
        },
        "yaxis": {
         "anchor": "x",
         "domain": [
          0,
          1
         ],
         "range": [
          0,
          140
         ],
         "title": {
          "text": "count"
         }
        }
       }
      }
     },
     "metadata": {},
     "output_type": "display_data"
    }
   ],
   "source": [
    "fig = px.histogram(df, x=\"build_year\", color=\"class_size\", nbins=100, title=f\"Vessels by Build Year <br>\"\n",
    "                                                                            f\"{df.shape[0]} Total Ships\")\n",
    "fig.update_layout(width=900, height=600)\n",
    "fig.update_layout(\n",
    "    xaxis=dict(range=[1980, 2025]),  # Sets x-axis range\n",
    "    yaxis=dict(range=[0, 140])  # Sets y-axis range\n",
    ")\n",
    "\n",
    "fig.show()\n",
    "fig.write_html(\"all_ships_year_interactive_plot.html\")\n"
   ]
  },
  {
   "cell_type": "markdown",
   "id": "162a8867-7b27-48d1-a0d8-999a5a3a8b62",
   "metadata": {},
   "source": [
    "#### Sanctioned vessels average 20ish years in age"
   ]
  },
  {
   "cell_type": "code",
   "execution_count": 31,
   "id": "427e7784-a1f6-4e3b-bf44-6cf9571bc41b",
   "metadata": {},
   "outputs": [
    {
     "data": {
      "application/vnd.plotly.v1+json": {
       "config": {
        "plotlyServerURL": "https://plot.ly"
       },
       "data": [
        {
         "bingroup": "x",
         "hovertemplate": "class_size=Handysize/Handymax<br>age=%{x}<br>count=%{y}<extra></extra>",
         "legendgroup": "Handysize/Handymax",
         "marker": {
          "color": "#636efa",
          "pattern": {
           "shape": ""
          }
         },
         "name": "Handysize/Handymax",
         "nbinsx": 100,
         "orientation": "v",
         "showlegend": true,
         "type": "histogram",
         "x": {
          "bdata": "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",
          "dtype": "f8"
         },
         "xaxis": "x",
         "yaxis": "y"
        },
        {
         "bingroup": "x",
         "hovertemplate": "class_size=Panamax<br>age=%{x}<br>count=%{y}<extra></extra>",
         "legendgroup": "Panamax",
         "marker": {
          "color": "#EF553B",
          "pattern": {
           "shape": ""
          }
         },
         "name": "Panamax",
         "nbinsx": 100,
         "orientation": "v",
         "showlegend": true,
         "type": "histogram",
         "x": {
          "bdata": "AAAAAAAAQUAAAAAAAAA7QAAAAAAAADpAAAAAAAAAOkAAAAAAAAA6QAAAAAAAADpAAAAAAAAAOkAAAAAAAAA7QAAAAAAAADhAAAAAAAAAOUAAAAAAAAA5QAAAAAAAADpAAAAAAAAAOUAAAAAAAAA4QAAAAAAAADhAAAAAAAAAN0AAAAAAAAA3QAAAAAAAADZAAAAAAAAANkAAAAAAAAA3QAAAAAAAADdAAAAAAAAANUAAAAAAAAA3QAAAAAAAADZAAAAAAAAANkAAAAAAAAA2QAAAAAAAADZAAAAAAAAANkAAAAAAAAA2QAAAAAAAADZAAAAAAAAANkAAAAAAAAA2QAAAAAAAADZAAAAAAAAANkAAAAAAAAA2QAAAAAAAADZAAAAAAAAANkAAAAAAAAA1QAAAAAAAADZAAAAAAAAANUAAAAAAAAA1QAAAAAAAADVAAAAAAAAANUAAAAAAAAA1QAAAAAAAADRAAAAAAAAANUAAAAAAAAA1QAAAAAAAADVAAAAAAAAANUAAAAAAAAA1QAAAAAAAADRAAAAAAAAANUAAAAAAAAAzQAAAAAAAADNAAAAAAAAANEAAAAAAAAAwQAAAAAAAADBAAAAAAAAAM0AAAAAAAAA0QAAAAAAAADJAAAAAAAAAMkAAAAAAAAAxQAAAAAAAADJAAAAAAAAAMUAAAAAAAAAxQAAAAAAAADFAAAAAAAAALkAAAAAAAAAuQAAAAAAAAABA",
          "dtype": "f8"
         },
         "xaxis": "x",
         "yaxis": "y"
        },
        {
         "bingroup": "x",
         "hovertemplate": "class_size=Suezmax<br>age=%{x}<br>count=%{y}<extra></extra>",
         "legendgroup": "Suezmax",
         "marker": {
          "color": "#00cc96",
          "pattern": {
           "shape": ""
          }
         },
         "name": "Suezmax",
         "nbinsx": 100,
         "orientation": "v",
         "showlegend": true,
         "type": "histogram",
         "x": {
          "bdata": "AAAAAACAQEAAAAAAAAA+QAAAAAAAAD5AAAAAAAAAPUAAAAAAAAA8QAAAAAAAADxAAAAAAAAAPEAAAAAAAAA8QAAAAAAAADtAAAAAAAAAPEAAAAAAAAA6QAAAAAAAADpAAAAAAAAAO0AAAAAAAAA7QAAAAAAAADpAAAAAAAAAO0AAAAAAAAA8QAAAAAAAADtAAAAAAAAAOkAAAAAAAAA6QAAAAAAAADpAAAAAAAAAOUAAAAAAAAA7QAAAAAAAADpAAAAAAAAAOkAAAAAAAAA5QAAAAAAAADpAAAAAAAAAOkAAAAAAAAA5QAAAAAAAADlAAAAAAAAAOUAAAAAAAAA4QAAAAAAAADhAAAAAAAAAOEAAAAAAAAA5QAAAAAAAADhAAAAAAAAAOEAAAAAAAAA4QAAAAAAAADhAAAAAAAAAN0AAAAAAAAA4QAAAAAAAADdAAAAAAAAAN0AAAAAAAAA3QAAAAAAAADhAAAAAAAAAN0AAAAAAAAA3QAAAAAAAADhAAAAAAAAAN0AAAAAAAAA2QAAAAAAAADdAAAAAAAAANUAAAAAAAAA5QAAAAAAAADlAAAAAAAAAOEAAAAAAAAA4QAAAAAAAADdAAAAAAAAANkAAAAAAAAA2QAAAAAAAADZAAAAAAAAAN0AAAAAAAAA2QAAAAAAAADZAAAAAAAAANkAAAAAAAAA2QAAAAAAAADZAAAAAAAAANkAAAAAAAAA2QAAAAAAAADVAAAAAAAAANUAAAAAAAAA2QAAAAAAAADZAAAAAAAAANUAAAAAAAAA1QAAAAAAAADRAAAAAAAAANEAAAAAAAAA0QAAAAAAAADVAAAAAAAAANUAAAAAAAAA0QAAAAAAAADNAAAAAAAAANEAAAAAAAAA0QAAAAAAAADVAAAAAAAAAM0AAAAAAAAAzQAAAAAAAADRAAAAAAAAANEAAAAAAAAA0QAAAAAAAADNAAAAAAAAAM0AAAAAAAAAyQAAAAAAAADJAAAAAAAAAMUAAAAAAAAAzQAAAAAAAADBAAAAAAAAAMUAAAAAAAAAxQAAAAAAAADFAAAAAAAAAMEAAAAAAAAAuQAAAAAAAADBAAAAAAAAAMUAAAAAAAAAwQAAAAAAAADFAAAAAAAAAMEAAAAAAAAAuQAAAAAAAAC5AAAAAAAAALkAAAAAAAAAuQAAAAAAAACpAAAAAAAAALkAAAAAAAAAsQAAAAAAAACxAAAAAAAAACEA=",
          "dtype": "f8"
         },
         "xaxis": "x",
         "yaxis": "y"
        },
        {
         "bingroup": "x",
         "hovertemplate": "class_size=Aframax<br>age=%{x}<br>count=%{y}<extra></extra>",
         "legendgroup": "Aframax",
         "marker": {
          "color": "#ab63fa",
          "pattern": {
           "shape": ""
          }
         },
         "name": "Aframax",
         "nbinsx": 100,
         "orientation": "v",
         "showlegend": true,
         "type": "histogram",
         "x": {
          "bdata": "AAAAAACAQEAAAAAAAAA/QAAAAAAAAD5AAAAAAAAAPUAAAAAAAAA9QAAAAAAAADxAAAAAAAAAPEAAAAAAAAA7QAAAAAAAADtAAAAAAAAAOkAAAAAAAAA6QAAAAAAAADpAAAAAAAAAOkAAAAAAAAA6QAAAAAAAADpAAAAAAAAAOkAAAAAAAAA6QAAAAAAAADtAAAAAAAAAO0AAAAAAAAA7QAAAAAAAADpAAAAAAAAAOUAAAAAAAAA6QAAAAAAAADpAAAAAAAAAOkAAAAAAAAA5QAAAAAAAADlAAAAAAAAAOEAAAAAAAAA5QAAAAAAAADhAAAAAAAAAOEAAAAAAAAA4QAAAAAAAADhAAAAAAAAAOEAAAAAAAAA3QAAAAAAAADdAAAAAAAAAOEAAAAAAAAA4QAAAAAAAADpAAAAAAAAAN0AAAAAAAAA3QAAAAAAAADhAAAAAAAAAOEAAAAAAAAA2QAAAAAAAADdAAAAAAAAAOEAAAAAAAAA3QAAAAAAAADdAAAAAAAAAN0AAAAAAAAA3QAAAAAAAADdAAAAAAAAAN0AAAAAAAAA3QAAAAAAAADdAAAAAAAAAOEAAAAAAAAA3QAAAAAAAADZAAAAAAAAANkAAAAAAAAA2QAAAAAAAADZAAAAAAAAANkAAAAAAAAA3QAAAAAAAADdAAAAAAAAAN0AAAAAAAAA4QAAAAAAAADdAAAAAAAAAN0AAAAAAAAA3QAAAAAAAADdAAAAAAAAANkAAAAAAAAA2QAAAAAAAADZAAAAAAAAANkAAAAAAAAA2QAAAAAAAADhAAAAAAAAAN0AAAAAAAAA3QAAAAAAAADdAAAAAAAAAN0AAAAAAAAA3QAAAAAAAADdAAAAAAAAAN0AAAAAAAAA3QAAAAAAAADhAAAAAAAAAN0AAAAAAAAA3QAAAAAAAADdAAAAAAAAAN0AAAAAAAAA3QAAAAAAAADdAAAAAAAAAOEAAAAAAAAA3QAAAAAAAADdAAAAAAAAAOEAAAAAAAAA2QAAAAAAAADdAAAAAAAAAOEAAAAAAAAA3QAAAAAAAADhAAAAAAAAAN0AAAAAAAAA1QAAAAAAAADZAAAAAAAAANkAAAAAAAAA2QAAAAAAAADdAAAAAAAAAN0AAAAAAAAA3QAAAAAAAADdAAAAAAAAAN0AAAAAAAAA3QAAAAAAAADZAAAAAAAAANkAAAAAAAAA2QAAAAAAAADZAAAAAAAAANkAAAAAAAAA2QAAAAAAAADZAAAAAAAAAN0AAAAAAAAA2QAAAAAAAADVAAAAAAAAANUAAAAAAAAA1QAAAAAAAADZAAAAAAAAANUAAAAAAAAA1QAAAAAAAADZAAAAAAAAANkAAAAAAAAA2QAAAAAAAADVAAAAAAAAANUAAAAAAAAA0QAAAAAAAADZAAAAAAAAANUAAAAAAAAA1QAAAAAAAADVAAAAAAAAANUAAAAAAAAA1QAAAAAAAADZAAAAAAAAANkAAAAAAAAA2QAAAAAAAADVAAAAAAAAANUAAAAAAAAA1QAAAAAAAADVAAAAAAAAANkAAAAAAAAA1QAAAAAAAADVAAAAAAAAANUAAAAAAAAA1QAAAAAAAADRAAAAAAAAANEAAAAAAAAA0QAAAAAAAADVAAAAAAAAANUAAAAAAAAA1QAAAAAAAADVAAAAAAAAANEAAAAAAAAA0QAAAAAAAADRAAAAAAAAANUAAAAAAAAA1QAAAAAAAADVAAAAAAAAANUAAAAAAAAA1QAAAAAAAADVAAAAAAAAANUAAAAAAAAA1QAAAAAAAADVAAAAAAAAANUAAAAAAAAA0QAAAAAAAADVAAAAAAAAANEAAAAAAAAAzQAAAAAAAADRAAAAAAAAANEAAAAAAAAA0QAAAAAAAADVAAAAAAAAANUAAAAAAAAA0QAAAAAAAADRAAAAAAAAANEAAAAAAAAA1QAAAAAAAADNAAAAAAAAAM0AAAAAAAAAzQAAAAAAAADJAAAAAAAAANkAAAAAAAAA1QAAAAAAAADVAAAAAAAAAM0AAAAAAAAAzQAAAAAAAADJAAAAAAAAAMkAAAAAAAAAzQAAAAAAAADNAAAAAAAAAM0AAAAAAAAA0QAAAAAAAADNAAAAAAAAANEAAAAAAAAA0QAAAAAAAADRAAAAAAAAAM0AAAAAAAAAzQAAAAAAAADNAAAAAAAAAM0AAAAAAAAA0QAAAAAAAADNAAAAAAAAANEAAAAAAAAAzQAAAAAAAADRAAAAAAAAAM0AAAAAAAAAzQAAAAAAAADNAAAAAAAAAM0AAAAAAAAAzQAAAAAAAADRAAAAAAAAAM0AAAAAAAAAzQAAAAAAAADNAAAAAAAAAM0AAAAAAAAAyQAAAAAAAADRAAAAAAAAANEAAAAAAAAA0QAAAAAAAADRAAAAAAAAAMkAAAAAAAAAzQAAAAAAAADNAAAAAAAAAM0AAAAAAAAAyQAAAAAAAADRAAAAAAAAAM0AAAAAAAAAyQAAAAAAAADJAAAAAAAAAMUAAAAAAAAAxQAAAAAAAADJAAAAAAAAAMkAAAAAAAAAzQAAAAAAAADNAAAAAAAAAMkAAAAAAAAAyQAAAAAAAADFAAAAAAAAAMkAAAAAAAAAyQAAAAAAAADJAAAAAAAAAMkAAAAAAAAAxQAAAAAAAADFAAAAAAAAAM0AAAAAAAAAxQAAAAAAAADJAAAAAAAAAMkAAAAAAAAAyQAAAAAAAADJAAAAAAAAAMUAAAAAAAAAxQAAAAAAAADFAAAAAAAAAMUAAAAAAAAAyQAAAAAAAADJAAAAAAAAAMkAAAAAAAAAyQAAAAAAAADFAAAAAAAAAMkAAAAAAAAAxQAAAAAAAADFAAAAAAAAAMUAAAAAAAAAyQAAAAAAAADJAAAAAAAAAMkAAAAAAAAAyQAAAAAAAADFAAAAAAAAAMUAAAAAAAAAxQAAAAAAAADFAAAAAAAAAMUAAAAAAAAAxQAAAAAAAADFAAAAAAAAAMUAAAAAAAAAwQAAAAAAAADBAAAAAAAAAMUAAAAAAAAAwQAAAAAAAADFAAAAAAAAAMEAAAAAAAAAxQAAAAAAAADFAAAAAAAAAMEAAAAAAAAAwQAAAAAAAADFAAAAAAAAAMEAAAAAAAAAwQAAAAAAAADBAAAAAAAAAMEAAAAAAAAAuQAAAAAAAAC5AAAAAAAAALkAAAAAAAAAwQAAAAAAAAC5AAAAAAAAAKkAAAAAAAAAqQAAAAAAAAChAAAAAAAAAKEAAAAAAAAAsQAAAAAAAACRAAAAAAAAAIEAAAAAAAAAiQAAAAAAAACBAAAAAAAAAHEAAAAAAAAAgQAAAAAAAACBAAAAAAAAAGEAAAAAAAAAQQAAAAAAAAAhAAAAAAAAAHEAAAAAAAAAYQAAAAAAAABBAAAAAAAAACEAAAAAAAAAQQAAAAAAAABBAAAAAAAAAEEAAAAAAAAAIQAAAAAAAAAhAAAAAAAAAAEAAAAAAAAAAQA==",
          "dtype": "f8"
         },
         "xaxis": "x",
         "yaxis": "y"
        },
        {
         "bingroup": "x",
         "hovertemplate": "class_size=VLCC/ULCC<br>age=%{x}<br>count=%{y}<extra></extra>",
         "legendgroup": "VLCC/ULCC",
         "marker": {
          "color": "#FFA15A",
          "pattern": {
           "shape": ""
          }
         },
         "name": "VLCC/ULCC",
         "nbinsx": 100,
         "orientation": "v",
         "showlegend": true,
         "type": "histogram",
         "x": {
          "bdata": "AAAAAAAAPkAAAAAAAAA+QAAAAAAAAD5AAAAAAAAAPkAAAAAAAAA+QAAAAAAAAD1AAAAAAAAAPUAAAAAAAAA9QAAAAAAAADxAAAAAAAAAPEAAAAAAAAA8QAAAAAAAADtAAAAAAAAAO0AAAAAAAAA6QAAAAAAAADtAAAAAAAAAO0AAAAAAAAA6QAAAAAAAADpAAAAAAAAAOkAAAAAAAAA6QAAAAAAAADpAAAAAAAAAOkAAAAAAAAA6QAAAAAAAADlAAAAAAAAAOUAAAAAAAAA4QAAAAAAAADhAAAAAAAAAOkAAAAAAAAA6QAAAAAAAADpAAAAAAAAAOUAAAAAAAAA6QAAAAAAAADpAAAAAAAAAOUAAAAAAAAA5QAAAAAAAADpAAAAAAAAAOEAAAAAAAAA4QAAAAAAAADdAAAAAAAAAN0AAAAAAAAA3QAAAAAAAADpAAAAAAAAAOUAAAAAAAAA4QAAAAAAAADdAAAAAAAAAN0AAAAAAAAA2QAAAAAAAADlAAAAAAAAAOkAAAAAAAAA5QAAAAAAAADlAAAAAAAAAOEAAAAAAAAA4QAAAAAAAADhAAAAAAAAAOUAAAAAAAAA4QAAAAAAAADhAAAAAAAAAOEAAAAAAAAA3QAAAAAAAADlAAAAAAAAAOEAAAAAAAAA4QAAAAAAAADhAAAAAAAAAOEAAAAAAAAA3QAAAAAAAADdAAAAAAAAAN0AAAAAAAAA3QAAAAAAAADdAAAAAAAAAN0AAAAAAAAA4QAAAAAAAADhAAAAAAAAAOEAAAAAAAAA3QAAAAAAAADdAAAAAAAAAOEAAAAAAAAA4QAAAAAAAADdAAAAAAAAAOEAAAAAAAAA4QAAAAAAAADhAAAAAAAAAOEAAAAAAAAA3QAAAAAAAADdAAAAAAAAAN0AAAAAAAAA2QAAAAAAAADZAAAAAAAAANkAAAAAAAAA3QAAAAAAAADZAAAAAAAAANkAAAAAAAAA2QAAAAAAAADdAAAAAAAAAN0AAAAAAAAA4QAAAAAAAADdAAAAAAAAANkAAAAAAAAA3QAAAAAAAADdAAAAAAAAANUAAAAAAAAA1QAAAAAAAADZAAAAAAAAANUAAAAAAAAA1QAAAAAAAADVAAAAAAAAANkAAAAAAAAA1QAAAAAAAADVAAAAAAAAANkAAAAAAAAA2QAAAAAAAADZAAAAAAAAANUAAAAAAAAA3QAAAAAAAADVAAAAAAAAANkAAAAAAAAA1QAAAAAAAADZAAAAAAAAANUAAAAAAAAA1QAAAAAAAADZAAAAAAAAANUAAAAAAAAA1QAAAAAAAADRAAAAAAAAAM0AAAAAAAAA1QAAAAAAAADNAAAAAAAAAM0AAAAAAAAA0QAAAAAAAADNAAAAAAAAAM0AAAAAAAAA0QAAAAAAAADVAAAAAAAAAM0AAAAAAAAAzQAAAAAAAADJAAAAAAAAAM0AAAAAAAAAyQAAAAAAAADJAAAAAAAAAMkAAAAAAAAAyQAAAAAAAADJAAAAAAAAAMUAAAAAAAAAxQAAAAAAAADJAAAAAAAAAMkAAAAAAAAAzQAAAAAAAADJAAAAAAAAAMkAAAAAAAAAxQAAAAAAAADJAAAAAAAAAMUAAAAAAAAAxQAAAAAAAADJAAAAAAAAAMUAAAAAAAAAyQAAAAAAAADFAAAAAAAAAMUAAAAAAAAAsQAAAAAAAACxAAAAAAAAALEAAAAAAAAAqQAAAAAAAACpAAAAAAAAAKkAAAAAAAAAsQAAAAAAAACxAAAAAAAAAKkAAAAAAAAAqQAAAAAAAACpAAAAAAAAAKkAAAAAAAAAqQAAAAAAAABxA",
          "dtype": "f8"
         },
         "xaxis": "x",
         "yaxis": "y"
        }
       ],
       "layout": {
        "barmode": "relative",
        "height": 600,
        "legend": {
         "title": {
          "text": "class_size"
         },
         "tracegroupgap": 0
        },
        "template": {
         "data": {
          "bar": [
           {
            "error_x": {
             "color": "#2a3f5f"
            },
            "error_y": {
             "color": "#2a3f5f"
            },
            "marker": {
             "line": {
              "color": "#E5ECF6",
              "width": 0.5
             },
             "pattern": {
              "fillmode": "overlay",
              "size": 10,
              "solidity": 0.2
             }
            },
            "type": "bar"
           }
          ],
          "barpolar": [
           {
            "marker": {
             "line": {
              "color": "#E5ECF6",
              "width": 0.5
             },
             "pattern": {
              "fillmode": "overlay",
              "size": 10,
              "solidity": 0.2
             }
            },
            "type": "barpolar"
           }
          ],
          "carpet": [
           {
            "aaxis": {
             "endlinecolor": "#2a3f5f",
             "gridcolor": "white",
             "linecolor": "white",
             "minorgridcolor": "white",
             "startlinecolor": "#2a3f5f"
            },
            "baxis": {
             "endlinecolor": "#2a3f5f",
             "gridcolor": "white",
             "linecolor": "white",
             "minorgridcolor": "white",
             "startlinecolor": "#2a3f5f"
            },
            "type": "carpet"
           }
          ],
          "choropleth": [
           {
            "colorbar": {
             "outlinewidth": 0,
             "ticks": ""
            },
            "type": "choropleth"
           }
          ],
          "contour": [
           {
            "colorbar": {
             "outlinewidth": 0,
             "ticks": ""
            },
            "colorscale": [
             [
              0,
              "#0d0887"
             ],
             [
              0.1111111111111111,
              "#46039f"
             ],
             [
              0.2222222222222222,
              "#7201a8"
             ],
             [
              0.3333333333333333,
              "#9c179e"
             ],
             [
              0.4444444444444444,
              "#bd3786"
             ],
             [
              0.5555555555555556,
              "#d8576b"
             ],
             [
              0.6666666666666666,
              "#ed7953"
             ],
             [
              0.7777777777777778,
              "#fb9f3a"
             ],
             [
              0.8888888888888888,
              "#fdca26"
             ],
             [
              1,
              "#f0f921"
             ]
            ],
            "type": "contour"
           }
          ],
          "contourcarpet": [
           {
            "colorbar": {
             "outlinewidth": 0,
             "ticks": ""
            },
            "type": "contourcarpet"
           }
          ],
          "heatmap": [
           {
            "colorbar": {
             "outlinewidth": 0,
             "ticks": ""
            },
            "colorscale": [
             [
              0,
              "#0d0887"
             ],
             [
              0.1111111111111111,
              "#46039f"
             ],
             [
              0.2222222222222222,
              "#7201a8"
             ],
             [
              0.3333333333333333,
              "#9c179e"
             ],
             [
              0.4444444444444444,
              "#bd3786"
             ],
             [
              0.5555555555555556,
              "#d8576b"
             ],
             [
              0.6666666666666666,
              "#ed7953"
             ],
             [
              0.7777777777777778,
              "#fb9f3a"
             ],
             [
              0.8888888888888888,
              "#fdca26"
             ],
             [
              1,
              "#f0f921"
             ]
            ],
            "type": "heatmap"
           }
          ],
          "histogram": [
           {
            "marker": {
             "pattern": {
              "fillmode": "overlay",
              "size": 10,
              "solidity": 0.2
             }
            },
            "type": "histogram"
           }
          ],
          "histogram2d": [
           {
            "colorbar": {
             "outlinewidth": 0,
             "ticks": ""
            },
            "colorscale": [
             [
              0,
              "#0d0887"
             ],
             [
              0.1111111111111111,
              "#46039f"
             ],
             [
              0.2222222222222222,
              "#7201a8"
             ],
             [
              0.3333333333333333,
              "#9c179e"
             ],
             [
              0.4444444444444444,
              "#bd3786"
             ],
             [
              0.5555555555555556,
              "#d8576b"
             ],
             [
              0.6666666666666666,
              "#ed7953"
             ],
             [
              0.7777777777777778,
              "#fb9f3a"
             ],
             [
              0.8888888888888888,
              "#fdca26"
             ],
             [
              1,
              "#f0f921"
             ]
            ],
            "type": "histogram2d"
           }
          ],
          "histogram2dcontour": [
           {
            "colorbar": {
             "outlinewidth": 0,
             "ticks": ""
            },
            "colorscale": [
             [
              0,
              "#0d0887"
             ],
             [
              0.1111111111111111,
              "#46039f"
             ],
             [
              0.2222222222222222,
              "#7201a8"
             ],
             [
              0.3333333333333333,
              "#9c179e"
             ],
             [
              0.4444444444444444,
              "#bd3786"
             ],
             [
              0.5555555555555556,
              "#d8576b"
             ],
             [
              0.6666666666666666,
              "#ed7953"
             ],
             [
              0.7777777777777778,
              "#fb9f3a"
             ],
             [
              0.8888888888888888,
              "#fdca26"
             ],
             [
              1,
              "#f0f921"
             ]
            ],
            "type": "histogram2dcontour"
           }
          ],
          "mesh3d": [
           {
            "colorbar": {
             "outlinewidth": 0,
             "ticks": ""
            },
            "type": "mesh3d"
           }
          ],
          "parcoords": [
           {
            "line": {
             "colorbar": {
              "outlinewidth": 0,
              "ticks": ""
             }
            },
            "type": "parcoords"
           }
          ],
          "pie": [
           {
            "automargin": true,
            "type": "pie"
           }
          ],
          "scatter": [
           {
            "fillpattern": {
             "fillmode": "overlay",
             "size": 10,
             "solidity": 0.2
            },
            "type": "scatter"
           }
          ],
          "scatter3d": [
           {
            "line": {
             "colorbar": {
              "outlinewidth": 0,
              "ticks": ""
             }
            },
            "marker": {
             "colorbar": {
              "outlinewidth": 0,
              "ticks": ""
             }
            },
            "type": "scatter3d"
           }
          ],
          "scattercarpet": [
           {
            "marker": {
             "colorbar": {
              "outlinewidth": 0,
              "ticks": ""
             }
            },
            "type": "scattercarpet"
           }
          ],
          "scattergeo": [
           {
            "marker": {
             "colorbar": {
              "outlinewidth": 0,
              "ticks": ""
             }
            },
            "type": "scattergeo"
           }
          ],
          "scattergl": [
           {
            "marker": {
             "colorbar": {
              "outlinewidth": 0,
              "ticks": ""
             }
            },
            "type": "scattergl"
           }
          ],
          "scattermap": [
           {
            "marker": {
             "colorbar": {
              "outlinewidth": 0,
              "ticks": ""
             }
            },
            "type": "scattermap"
           }
          ],
          "scattermapbox": [
           {
            "marker": {
             "colorbar": {
              "outlinewidth": 0,
              "ticks": ""
             }
            },
            "type": "scattermapbox"
           }
          ],
          "scatterpolar": [
           {
            "marker": {
             "colorbar": {
              "outlinewidth": 0,
              "ticks": ""
             }
            },
            "type": "scatterpolar"
           }
          ],
          "scatterpolargl": [
           {
            "marker": {
             "colorbar": {
              "outlinewidth": 0,
              "ticks": ""
             }
            },
            "type": "scatterpolargl"
           }
          ],
          "scatterternary": [
           {
            "marker": {
             "colorbar": {
              "outlinewidth": 0,
              "ticks": ""
             }
            },
            "type": "scatterternary"
           }
          ],
          "surface": [
           {
            "colorbar": {
             "outlinewidth": 0,
             "ticks": ""
            },
            "colorscale": [
             [
              0,
              "#0d0887"
             ],
             [
              0.1111111111111111,
              "#46039f"
             ],
             [
              0.2222222222222222,
              "#7201a8"
             ],
             [
              0.3333333333333333,
              "#9c179e"
             ],
             [
              0.4444444444444444,
              "#bd3786"
             ],
             [
              0.5555555555555556,
              "#d8576b"
             ],
             [
              0.6666666666666666,
              "#ed7953"
             ],
             [
              0.7777777777777778,
              "#fb9f3a"
             ],
             [
              0.8888888888888888,
              "#fdca26"
             ],
             [
              1,
              "#f0f921"
             ]
            ],
            "type": "surface"
           }
          ],
          "table": [
           {
            "cells": {
             "fill": {
              "color": "#EBF0F8"
             },
             "line": {
              "color": "white"
             }
            },
            "header": {
             "fill": {
              "color": "#C8D4E3"
             },
             "line": {
              "color": "white"
             }
            },
            "type": "table"
           }
          ]
         },
         "layout": {
          "annotationdefaults": {
           "arrowcolor": "#2a3f5f",
           "arrowhead": 0,
           "arrowwidth": 1
          },
          "autotypenumbers": "strict",
          "coloraxis": {
           "colorbar": {
            "outlinewidth": 0,
            "ticks": ""
           }
          },
          "colorscale": {
           "diverging": [
            [
             0,
             "#8e0152"
            ],
            [
             0.1,
             "#c51b7d"
            ],
            [
             0.2,
             "#de77ae"
            ],
            [
             0.3,
             "#f1b6da"
            ],
            [
             0.4,
             "#fde0ef"
            ],
            [
             0.5,
             "#f7f7f7"
            ],
            [
             0.6,
             "#e6f5d0"
            ],
            [
             0.7,
             "#b8e186"
            ],
            [
             0.8,
             "#7fbc41"
            ],
            [
             0.9,
             "#4d9221"
            ],
            [
             1,
             "#276419"
            ]
           ],
           "sequential": [
            [
             0,
             "#0d0887"
            ],
            [
             0.1111111111111111,
             "#46039f"
            ],
            [
             0.2222222222222222,
             "#7201a8"
            ],
            [
             0.3333333333333333,
             "#9c179e"
            ],
            [
             0.4444444444444444,
             "#bd3786"
            ],
            [
             0.5555555555555556,
             "#d8576b"
            ],
            [
             0.6666666666666666,
             "#ed7953"
            ],
            [
             0.7777777777777778,
             "#fb9f3a"
            ],
            [
             0.8888888888888888,
             "#fdca26"
            ],
            [
             1,
             "#f0f921"
            ]
           ],
           "sequentialminus": [
            [
             0,
             "#0d0887"
            ],
            [
             0.1111111111111111,
             "#46039f"
            ],
            [
             0.2222222222222222,
             "#7201a8"
            ],
            [
             0.3333333333333333,
             "#9c179e"
            ],
            [
             0.4444444444444444,
             "#bd3786"
            ],
            [
             0.5555555555555556,
             "#d8576b"
            ],
            [
             0.6666666666666666,
             "#ed7953"
            ],
            [
             0.7777777777777778,
             "#fb9f3a"
            ],
            [
             0.8888888888888888,
             "#fdca26"
            ],
            [
             1,
             "#f0f921"
            ]
           ]
          },
          "colorway": [
           "#636efa",
           "#EF553B",
           "#00cc96",
           "#ab63fa",
           "#FFA15A",
           "#19d3f3",
           "#FF6692",
           "#B6E880",
           "#FF97FF",
           "#FECB52"
          ],
          "font": {
           "color": "#2a3f5f"
          },
          "geo": {
           "bgcolor": "white",
           "lakecolor": "white",
           "landcolor": "#E5ECF6",
           "showlakes": true,
           "showland": true,
           "subunitcolor": "white"
          },
          "hoverlabel": {
           "align": "left"
          },
          "hovermode": "closest",
          "mapbox": {
           "style": "light"
          },
          "paper_bgcolor": "white",
          "plot_bgcolor": "#E5ECF6",
          "polar": {
           "angularaxis": {
            "gridcolor": "white",
            "linecolor": "white",
            "ticks": ""
           },
           "bgcolor": "#E5ECF6",
           "radialaxis": {
            "gridcolor": "white",
            "linecolor": "white",
            "ticks": ""
           }
          },
          "scene": {
           "xaxis": {
            "backgroundcolor": "#E5ECF6",
            "gridcolor": "white",
            "gridwidth": 2,
            "linecolor": "white",
            "showbackground": true,
            "ticks": "",
            "zerolinecolor": "white"
           },
           "yaxis": {
            "backgroundcolor": "#E5ECF6",
            "gridcolor": "white",
            "gridwidth": 2,
            "linecolor": "white",
            "showbackground": true,
            "ticks": "",
            "zerolinecolor": "white"
           },
           "zaxis": {
            "backgroundcolor": "#E5ECF6",
            "gridcolor": "white",
            "gridwidth": 2,
            "linecolor": "white",
            "showbackground": true,
            "ticks": "",
            "zerolinecolor": "white"
           }
          },
          "shapedefaults": {
           "line": {
            "color": "#2a3f5f"
           }
          },
          "ternary": {
           "aaxis": {
            "gridcolor": "white",
            "linecolor": "white",
            "ticks": ""
           },
           "baxis": {
            "gridcolor": "white",
            "linecolor": "white",
            "ticks": ""
           },
           "bgcolor": "#E5ECF6",
           "caxis": {
            "gridcolor": "white",
            "linecolor": "white",
            "ticks": ""
           }
          },
          "title": {
           "x": 0.05
          },
          "xaxis": {
           "automargin": true,
           "gridcolor": "white",
           "linecolor": "white",
           "ticks": "",
           "title": {
            "standoff": 15
           },
           "zerolinecolor": "white",
           "zerolinewidth": 2
          },
          "yaxis": {
           "automargin": true,
           "gridcolor": "white",
           "linecolor": "white",
           "ticks": "",
           "title": {
            "standoff": 15
           },
           "zerolinecolor": "white",
           "zerolinewidth": 2
          }
         }
        },
        "title": {
         "text": "Vessels by Build Age <br>1210 Total Ships"
        },
        "width": 900,
        "xaxis": {
         "anchor": "y",
         "domain": [
          0,
          1
         ],
         "range": [
          1,
          50
         ],
         "title": {
          "text": "age"
         }
        },
        "yaxis": {
         "anchor": "x",
         "domain": [
          0,
          1
         ],
         "range": [
          0,
          140
         ],
         "title": {
          "text": "count"
         }
        }
       }
      },
      "image/png": "[encoded data removed]"
     },
     "metadata": {},
     "output_type": "display_data"
    }
   ],
   "source": [
    "fig = px.histogram(df, x=\"age\", color=\"class_size\", nbins=100, title=f\"Vessels by Build Age <br>\"\n",
    "                                                                            f\"{df.shape[0]} Total Ships\")\n",
    "fig.update_layout(width=900, height=600)\n",
    "fig.update_layout(\n",
    "    xaxis=dict(range=[1, 50]),  # Sets x-axis range\n",
    "    yaxis=dict(range=[0, 140])  # Sets y-axis range\n",
    ")\n",
    "\n",
    "fig.show()\n",
    "fig.write_html(\"all_ships_age_interactive_plot.html\")\n"
   ]
  },
  {
   "cell_type": "code",
   "execution_count": 29,
   "id": "3e7ad303-97b3-428e-a502-f72727e8fc7b",
   "metadata": {},
   "outputs": [
    {
     "data": {
      "application/vnd.plotly.v1+json": {
       "config": {
        "plotlyServerURL": "https://plot.ly"
       },
       "data": [
        {
         "bingroup": "x",
         "hovertemplate": "class_size=Suezmax<br>age=%{x}<br>count=%{y}<extra></extra>",
         "legendgroup": "Suezmax",
         "marker": {
          "color": "#636efa",
          "pattern": {
           "shape": ""
          }
         },
         "name": "Suezmax",
         "nbinsx": 100,
         "orientation": "v",
         "showlegend": true,
         "type": "histogram",
         "x": {
          "bdata": "AAAAAACAQEAAAAAAAAA+QAAAAAAAAD5AAAAAAAAAPUAAAAAAAAA8QAAAAAAAADxAAAAAAAAAPEAAAAAAAAA8QAAAAAAAADtAAAAAAAAAPEAAAAAAAAA6QAAAAAAAADpAAAAAAAAAO0AAAAAAAAA7QAAAAAAAADpAAAAAAAAAO0AAAAAAAAA8QAAAAAAAADtAAAAAAAAAOkAAAAAAAAA6QAAAAAAAADpAAAAAAAAAOUAAAAAAAAA7QAAAAAAAADpAAAAAAAAAOkAAAAAAAAA5QAAAAAAAADpAAAAAAAAAOkAAAAAAAAA5QAAAAAAAADlAAAAAAAAAOUAAAAAAAAA4QAAAAAAAADhAAAAAAAAAOEAAAAAAAAA5QAAAAAAAADhAAAAAAAAAOEAAAAAAAAA4QAAAAAAAADhAAAAAAAAAN0AAAAAAAAA4QAAAAAAAADdAAAAAAAAAN0AAAAAAAAA3QAAAAAAAADhAAAAAAAAAN0AAAAAAAAA3QAAAAAAAADhAAAAAAAAAN0AAAAAAAAA2QAAAAAAAADdAAAAAAAAANUAAAAAAAAA5QAAAAAAAADlAAAAAAAAAOEAAAAAAAAA4QAAAAAAAADdAAAAAAAAANkAAAAAAAAA2QAAAAAAAADZAAAAAAAAAN0AAAAAAAAA2QAAAAAAAADZAAAAAAAAANkAAAAAAAAA2QAAAAAAAADZAAAAAAAAANkAAAAAAAAA2QAAAAAAAADVAAAAAAAAANUAAAAAAAAA2QAAAAAAAADZAAAAAAAAANUAAAAAAAAA1QAAAAAAAADRAAAAAAAAANEAAAAAAAAA0QAAAAAAAADVAAAAAAAAANUAAAAAAAAA0QAAAAAAAADNAAAAAAAAANEAAAAAAAAA0QAAAAAAAADVAAAAAAAAAM0AAAAAAAAAzQAAAAAAAADRAAAAAAAAANEAAAAAAAAA0QAAAAAAAADNAAAAAAAAAM0AAAAAAAAAyQAAAAAAAADJAAAAAAAAAMUAAAAAAAAAzQAAAAAAAADBAAAAAAAAAMUAAAAAAAAAxQAAAAAAAADFAAAAAAAAAMEAAAAAAAAAuQAAAAAAAADBAAAAAAAAAMUAAAAAAAAAwQAAAAAAAADFAAAAAAAAAMEAAAAAAAAAuQAAAAAAAAC5AAAAAAAAALkAAAAAAAAAuQAAAAAAAACpAAAAAAAAALkAAAAAAAAAsQAAAAAAAACxAAAAAAAAACEA=",
          "dtype": "f8"
         },
         "xaxis": "x",
         "yaxis": "y"
        },
        {
         "bingroup": "x",
         "hovertemplate": "class_size=Aframax<br>age=%{x}<br>count=%{y}<extra></extra>",
         "legendgroup": "Aframax",
         "marker": {
          "color": "#EF553B",
          "pattern": {
           "shape": ""
          }
         },
         "name": "Aframax",
         "nbinsx": 100,
         "orientation": "v",
         "showlegend": true,
         "type": "histogram",
         "x": {
          "bdata": "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",
          "dtype": "f8"
         },
         "xaxis": "x",
         "yaxis": "y"
        },
        {
         "bingroup": "x",
         "hovertemplate": "class_size=VLCC/ULCC<br>age=%{x}<br>count=%{y}<extra></extra>",
         "legendgroup": "VLCC/ULCC",
         "marker": {
          "color": "#00cc96",
          "pattern": {
           "shape": ""
          }
         },
         "name": "VLCC/ULCC",
         "nbinsx": 100,
         "orientation": "v",
         "showlegend": true,
         "type": "histogram",
         "x": {
          "bdata": "AAAAAAAAPkAAAAAAAAA+QAAAAAAAAD5AAAAAAAAAPkAAAAAAAAA+QAAAAAAAAD1AAAAAAAAAPUAAAAAAAAA9QAAAAAAAADxAAAAAAAAAPEAAAAAAAAA8QAAAAAAAADtAAAAAAAAAO0AAAAAAAAA6QAAAAAAAADtAAAAAAAAAO0AAAAAAAAA6QAAAAAAAADpAAAAAAAAAOkAAAAAAAAA6QAAAAAAAADpAAAAAAAAAOkAAAAAAAAA6QAAAAAAAADlAAAAAAAAAOUAAAAAAAAA4QAAAAAAAADhAAAAAAAAAOkAAAAAAAAA6QAAAAAAAADpAAAAAAAAAOUAAAAAAAAA6QAAAAAAAADpAAAAAAAAAOUAAAAAAAAA5QAAAAAAAADpAAAAAAAAAOEAAAAAAAAA4QAAAAAAAADdAAAAAAAAAN0AAAAAAAAA3QAAAAAAAADpAAAAAAAAAOUAAAAAAAAA4QAAAAAAAADdAAAAAAAAAN0AAAAAAAAA2QAAAAAAAADlAAAAAAAAAOkAAAAAAAAA5QAAAAAAAADlAAAAAAAAAOEAAAAAAAAA4QAAAAAAAADhAAAAAAAAAOUAAAAAAAAA4QAAAAAAAADhAAAAAAAAAOEAAAAAAAAA3QAAAAAAAADlAAAAAAAAAOEAAAAAAAAA4QAAAAAAAADhAAAAAAAAAOEAAAAAAAAA3QAAAAAAAADdAAAAAAAAAN0AAAAAAAAA3QAAAAAAAADdAAAAAAAAAN0AAAAAAAAA4QAAAAAAAADhAAAAAAAAAOEAAAAAAAAA3QAAAAAAAADdAAAAAAAAAOEAAAAAAAAA4QAAAAAAAADdAAAAAAAAAOEAAAAAAAAA4QAAAAAAAADhAAAAAAAAAOEAAAAAAAAA3QAAAAAAAADdAAAAAAAAAN0AAAAAAAAA2QAAAAAAAADZAAAAAAAAANkAAAAAAAAA3QAAAAAAAADZAAAAAAAAANkAAAAAAAAA2QAAAAAAAADdAAAAAAAAAN0AAAAAAAAA4QAAAAAAAADdAAAAAAAAANkAAAAAAAAA3QAAAAAAAADdAAAAAAAAANUAAAAAAAAA1QAAAAAAAADZAAAAAAAAANUAAAAAAAAA1QAAAAAAAADVAAAAAAAAANkAAAAAAAAA1QAAAAAAAADVAAAAAAAAANkAAAAAAAAA2QAAAAAAAADZAAAAAAAAANUAAAAAAAAA3QAAAAAAAADVAAAAAAAAANkAAAAAAAAA1QAAAAAAAADZAAAAAAAAANUAAAAAAAAA1QAAAAAAAADZAAAAAAAAANUAAAAAAAAA1QAAAAAAAADRAAAAAAAAAM0AAAAAAAAA1QAAAAAAAADNAAAAAAAAAM0AAAAAAAAA0QAAAAAAAADNAAAAAAAAAM0AAAAAAAAA0QAAAAAAAADVAAAAAAAAAM0AAAAAAAAAzQAAAAAAAADJAAAAAAAAAM0AAAAAAAAAyQAAAAAAAADJAAAAAAAAAMkAAAAAAAAAyQAAAAAAAADJAAAAAAAAAMUAAAAAAAAAxQAAAAAAAADJAAAAAAAAAMkAAAAAAAAAzQAAAAAAAADJAAAAAAAAAMkAAAAAAAAAxQAAAAAAAADJAAAAAAAAAMUAAAAAAAAAxQAAAAAAAADJAAAAAAAAAMUAAAAAAAAAyQAAAAAAAADFAAAAAAAAAMUAAAAAAAAAsQAAAAAAAACxAAAAAAAAALEAAAAAAAAAqQAAAAAAAACpAAAAAAAAAKkAAAAAAAAAsQAAAAAAAACxAAAAAAAAAKkAAAAAAAAAqQAAAAAAAACpAAAAAAAAAKkAAAAAAAAAqQAAAAAAAABxA",
          "dtype": "f8"
         },
         "xaxis": "x",
         "yaxis": "y"
        }
       ],
       "layout": {
        "barmode": "relative",
        "height": 600,
        "legend": {
         "title": {
          "text": "class_size"
         },
         "tracegroupgap": 0
        },
        "template": {
         "data": {
          "bar": [
           {
            "error_x": {
             "color": "#2a3f5f"
            },
            "error_y": {
             "color": "#2a3f5f"
            },
            "marker": {
             "line": {
              "color": "#E5ECF6",
              "width": 0.5
             },
             "pattern": {
              "fillmode": "overlay",
              "size": 10,
              "solidity": 0.2
             }
            },
            "type": "bar"
           }
          ],
          "barpolar": [
           {
            "marker": {
             "line": {
              "color": "#E5ECF6",
              "width": 0.5
             },
             "pattern": {
              "fillmode": "overlay",
              "size": 10,
              "solidity": 0.2
             }
            },
            "type": "barpolar"
           }
          ],
          "carpet": [
           {
            "aaxis": {
             "endlinecolor": "#2a3f5f",
             "gridcolor": "white",
             "linecolor": "white",
             "minorgridcolor": "white",
             "startlinecolor": "#2a3f5f"
            },
            "baxis": {
             "endlinecolor": "#2a3f5f",
             "gridcolor": "white",
             "linecolor": "white",
             "minorgridcolor": "white",
             "startlinecolor": "#2a3f5f"
            },
            "type": "carpet"
           }
          ],
          "choropleth": [
           {
            "colorbar": {
             "outlinewidth": 0,
             "ticks": ""
            },
            "type": "choropleth"
           }
          ],
          "contour": [
           {
            "colorbar": {
             "outlinewidth": 0,
             "ticks": ""
            },
            "colorscale": [
             [
              0,
              "#0d0887"
             ],
             [
              0.1111111111111111,
              "#46039f"
             ],
             [
              0.2222222222222222,
              "#7201a8"
             ],
             [
              0.3333333333333333,
              "#9c179e"
             ],
             [
              0.4444444444444444,
              "#bd3786"
             ],
             [
              0.5555555555555556,
              "#d8576b"
             ],
             [
              0.6666666666666666,
              "#ed7953"
             ],
             [
              0.7777777777777778,
              "#fb9f3a"
             ],
             [
              0.8888888888888888,
              "#fdca26"
             ],
             [
              1,
              "#f0f921"
             ]
            ],
            "type": "contour"
           }
          ],
          "contourcarpet": [
           {
            "colorbar": {
             "outlinewidth": 0,
             "ticks": ""
            },
            "type": "contourcarpet"
           }
          ],
          "heatmap": [
           {
            "colorbar": {
             "outlinewidth": 0,
             "ticks": ""
            },
            "colorscale": [
             [
              0,
              "#0d0887"
             ],
             [
              0.1111111111111111,
              "#46039f"
             ],
             [
              0.2222222222222222,
              "#7201a8"
             ],
             [
              0.3333333333333333,
              "#9c179e"
             ],
             [
              0.4444444444444444,
              "#bd3786"
             ],
             [
              0.5555555555555556,
              "#d8576b"
             ],
             [
              0.6666666666666666,
              "#ed7953"
             ],
             [
              0.7777777777777778,
              "#fb9f3a"
             ],
             [
              0.8888888888888888,
              "#fdca26"
             ],
             [
              1,
              "#f0f921"
             ]
            ],
            "type": "heatmap"
           }
          ],
          "histogram": [
           {
            "marker": {
             "pattern": {
              "fillmode": "overlay",
              "size": 10,
              "solidity": 0.2
             }
            },
            "type": "histogram"
           }
          ],
          "histogram2d": [
           {
            "colorbar": {
             "outlinewidth": 0,
             "ticks": ""
            },
            "colorscale": [
             [
              0,
              "#0d0887"
             ],
             [
              0.1111111111111111,
              "#46039f"
             ],
             [
              0.2222222222222222,
              "#7201a8"
             ],
             [
              0.3333333333333333,
              "#9c179e"
             ],
             [
              0.4444444444444444,
              "#bd3786"
             ],
             [
              0.5555555555555556,
              "#d8576b"
             ],
             [
              0.6666666666666666,
              "#ed7953"
             ],
             [
              0.7777777777777778,
              "#fb9f3a"
             ],
             [
              0.8888888888888888,
              "#fdca26"
             ],
             [
              1,
              "#f0f921"
             ]
            ],
            "type": "histogram2d"
           }
          ],
          "histogram2dcontour": [
           {
            "colorbar": {
             "outlinewidth": 0,
             "ticks": ""
            },
            "colorscale": [
             [
              0,
              "#0d0887"
             ],
             [
              0.1111111111111111,
              "#46039f"
             ],
             [
              0.2222222222222222,
              "#7201a8"
             ],
             [
              0.3333333333333333,
              "#9c179e"
             ],
             [
              0.4444444444444444,
              "#bd3786"
             ],
             [
              0.5555555555555556,
              "#d8576b"
             ],
             [
              0.6666666666666666,
              "#ed7953"
             ],
             [
              0.7777777777777778,
              "#fb9f3a"
             ],
             [
              0.8888888888888888,
              "#fdca26"
             ],
             [
              1,
              "#f0f921"
             ]
            ],
            "type": "histogram2dcontour"
           }
          ],
          "mesh3d": [
           {
            "colorbar": {
             "outlinewidth": 0,
             "ticks": ""
            },
            "type": "mesh3d"
           }
          ],
          "parcoords": [
           {
            "line": {
             "colorbar": {
              "outlinewidth": 0,
              "ticks": ""
             }
            },
            "type": "parcoords"
           }
          ],
          "pie": [
           {
            "automargin": true,
            "type": "pie"
           }
          ],
          "scatter": [
           {
            "fillpattern": {
             "fillmode": "overlay",
             "size": 10,
             "solidity": 0.2
            },
            "type": "scatter"
           }
          ],
          "scatter3d": [
           {
            "line": {
             "colorbar": {
              "outlinewidth": 0,
              "ticks": ""
             }
            },
            "marker": {
             "colorbar": {
              "outlinewidth": 0,
              "ticks": ""
             }
            },
            "type": "scatter3d"
           }
          ],
          "scattercarpet": [
           {
            "marker": {
             "colorbar": {
              "outlinewidth": 0,
              "ticks": ""
             }
            },
            "type": "scattercarpet"
           }
          ],
          "scattergeo": [
           {
            "marker": {
             "colorbar": {
              "outlinewidth": 0,
              "ticks": ""
             }
            },
            "type": "scattergeo"
           }
          ],
          "scattergl": [
           {
            "marker": {
             "colorbar": {
              "outlinewidth": 0,
              "ticks": ""
             }
            },
            "type": "scattergl"
           }
          ],
          "scattermap": [
           {
            "marker": {
             "colorbar": {
              "outlinewidth": 0,
              "ticks": ""
             }
            },
            "type": "scattermap"
           }
          ],
          "scattermapbox": [
           {
            "marker": {
             "colorbar": {
              "outlinewidth": 0,
              "ticks": ""
             }
            },
            "type": "scattermapbox"
           }
          ],
          "scatterpolar": [
           {
            "marker": {
             "colorbar": {
              "outlinewidth": 0,
              "ticks": ""
             }
            },
            "type": "scatterpolar"
           }
          ],
          "scatterpolargl": [
           {
            "marker": {
             "colorbar": {
              "outlinewidth": 0,
              "ticks": ""
             }
            },
            "type": "scatterpolargl"
           }
          ],
          "scatterternary": [
           {
            "marker": {
             "colorbar": {
              "outlinewidth": 0,
              "ticks": ""
             }
            },
            "type": "scatterternary"
           }
          ],
          "surface": [
           {
            "colorbar": {
             "outlinewidth": 0,
             "ticks": ""
            },
            "colorscale": [
             [
              0,
              "#0d0887"
             ],
             [
              0.1111111111111111,
              "#46039f"
             ],
             [
              0.2222222222222222,
              "#7201a8"
             ],
             [
              0.3333333333333333,
              "#9c179e"
             ],
             [
              0.4444444444444444,
              "#bd3786"
             ],
             [
              0.5555555555555556,
              "#d8576b"
             ],
             [
              0.6666666666666666,
              "#ed7953"
             ],
             [
              0.7777777777777778,
              "#fb9f3a"
             ],
             [
              0.8888888888888888,
              "#fdca26"
             ],
             [
              1,
              "#f0f921"
             ]
            ],
            "type": "surface"
           }
          ],
          "table": [
           {
            "cells": {
             "fill": {
              "color": "#EBF0F8"
             },
             "line": {
              "color": "white"
             }
            },
            "header": {
             "fill": {
              "color": "#C8D4E3"
             },
             "line": {
              "color": "white"
             }
            },
            "type": "table"
           }
          ]
         },
         "layout": {
          "annotationdefaults": {
           "arrowcolor": "#2a3f5f",
           "arrowhead": 0,
           "arrowwidth": 1
          },
          "autotypenumbers": "strict",
          "coloraxis": {
           "colorbar": {
            "outlinewidth": 0,
            "ticks": ""
           }
          },
          "colorscale": {
           "diverging": [
            [
             0,
             "#8e0152"
            ],
            [
             0.1,
             "#c51b7d"
            ],
            [
             0.2,
             "#de77ae"
            ],
            [
             0.3,
             "#f1b6da"
            ],
            [
             0.4,
             "#fde0ef"
            ],
            [
             0.5,
             "#f7f7f7"
            ],
            [
             0.6,
             "#e6f5d0"
            ],
            [
             0.7,
             "#b8e186"
            ],
            [
             0.8,
             "#7fbc41"
            ],
            [
             0.9,
             "#4d9221"
            ],
            [
             1,
             "#276419"
            ]
           ],
           "sequential": [
            [
             0,
             "#0d0887"
            ],
            [
             0.1111111111111111,
             "#46039f"
            ],
            [
             0.2222222222222222,
             "#7201a8"
            ],
            [
             0.3333333333333333,
             "#9c179e"
            ],
            [
             0.4444444444444444,
             "#bd3786"
            ],
            [
             0.5555555555555556,
             "#d8576b"
            ],
            [
             0.6666666666666666,
             "#ed7953"
            ],
            [
             0.7777777777777778,
             "#fb9f3a"
            ],
            [
             0.8888888888888888,
             "#fdca26"
            ],
            [
             1,
             "#f0f921"
            ]
           ],
           "sequentialminus": [
            [
             0,
             "#0d0887"
            ],
            [
             0.1111111111111111,
             "#46039f"
            ],
            [
             0.2222222222222222,
             "#7201a8"
            ],
            [
             0.3333333333333333,
             "#9c179e"
            ],
            [
             0.4444444444444444,
             "#bd3786"
            ],
            [
             0.5555555555555556,
             "#d8576b"
            ],
            [
             0.6666666666666666,
             "#ed7953"
            ],
            [
             0.7777777777777778,
             "#fb9f3a"
            ],
            [
             0.8888888888888888,
             "#fdca26"
            ],
            [
             1,
             "#f0f921"
            ]
           ]
          },
          "colorway": [
           "#636efa",
           "#EF553B",
           "#00cc96",
           "#ab63fa",
           "#FFA15A",
           "#19d3f3",
           "#FF6692",
           "#B6E880",
           "#FF97FF",
           "#FECB52"
          ],
          "font": {
           "color": "#2a3f5f"
          },
          "geo": {
           "bgcolor": "white",
           "lakecolor": "white",
           "landcolor": "#E5ECF6",
           "showlakes": true,
           "showland": true,
           "subunitcolor": "white"
          },
          "hoverlabel": {
           "align": "left"
          },
          "hovermode": "closest",
          "mapbox": {
           "style": "light"
          },
          "paper_bgcolor": "white",
          "plot_bgcolor": "#E5ECF6",
          "polar": {
           "angularaxis": {
            "gridcolor": "white",
            "linecolor": "white",
            "ticks": ""
           },
           "bgcolor": "#E5ECF6",
           "radialaxis": {
            "gridcolor": "white",
            "linecolor": "white",
            "ticks": ""
           }
          },
          "scene": {
           "xaxis": {
            "backgroundcolor": "#E5ECF6",
            "gridcolor": "white",
            "gridwidth": 2,
            "linecolor": "white",
            "showbackground": true,
            "ticks": "",
            "zerolinecolor": "white"
           },
           "yaxis": {
            "backgroundcolor": "#E5ECF6",
            "gridcolor": "white",
            "gridwidth": 2,
            "linecolor": "white",
            "showbackground": true,
            "ticks": "",
            "zerolinecolor": "white"
           },
           "zaxis": {
            "backgroundcolor": "#E5ECF6",
            "gridcolor": "white",
            "gridwidth": 2,
            "linecolor": "white",
            "showbackground": true,
            "ticks": "",
            "zerolinecolor": "white"
           }
          },
          "shapedefaults": {
           "line": {
            "color": "#2a3f5f"
           }
          },
          "ternary": {
           "aaxis": {
            "gridcolor": "white",
            "linecolor": "white",
            "ticks": ""
           },
           "baxis": {
            "gridcolor": "white",
            "linecolor": "white",
            "ticks": ""
           },
           "bgcolor": "#E5ECF6",
           "caxis": {
            "gridcolor": "white",
            "linecolor": "white",
            "ticks": ""
           }
          },
          "title": {
           "x": 0.05
          },
          "xaxis": {
           "automargin": true,
           "gridcolor": "white",
           "linecolor": "white",
           "ticks": "",
           "title": {
            "standoff": 15
           },
           "zerolinecolor": "white",
           "zerolinewidth": 2
          },
          "yaxis": {
           "automargin": true,
           "gridcolor": "white",
           "linecolor": "white",
           "ticks": "",
           "title": {
            "standoff": 15
           },
           "zerolinecolor": "white",
           "zerolinewidth": 2
          }
         }
        },
        "title": {
         "text": "Ships Transporting Oil by Age<br>612 Total Ships"
        },
        "width": 900,
        "xaxis": {
         "anchor": "y",
         "domain": [
          0,
          1
         ],
         "range": [
          0,
          35
         ],
         "title": {
          "text": "age"
         }
        },
        "yaxis": {
         "anchor": "x",
         "domain": [
          0,
          1
         ],
         "range": [
          0,
          100
         ],
         "title": {
          "text": "count"
         }
        }
       }
      },
      "image/png": "[encoded data removed]"
     },
     "metadata": {},
     "output_type": "display_data"
    }
   ],
   "source": [
    "fig = px.histogram(oil_ships, x=\"age\", color=\"class_size\", nbins=100, title=f\"Ships Transporting Oil by Age<br>\"\n",
    "                                                                            f\"{oil_ships.shape[0]} Total Ships\")\n",
    "fig.update_layout(width=900, height=600)\n",
    "fig.update_layout(\n",
    "    xaxis=dict(range=[0, 35]),  # Sets x-axis range\n",
    "    yaxis=dict(range=[0, 100])  # Sets y-axis range\n",
    ")\n",
    "\n",
    "fig.show()\n",
    "fig.write_html(\"oil_ships_year_interactive_plot.html\")\n"
   ]
  },
  {
   "cell_type": "markdown",
   "id": "d87e78b5-c9ec-4b9a-9b2f-29374f5b9428",
   "metadata": {},
   "source": [
    "#### VLCCs have even distribution in build year."
   ]
  },
  {
   "cell_type": "markdown",
   "id": "7f420cdc-8e67-483e-8c80-52ee4b0a42a5",
   "metadata": {},
   "source": [
    "#### visualize vessel count by DWt for Suez, Afras ad VLCCs"
   ]
  },
  {
   "cell_type": "code",
   "execution_count": 19,
   "id": "61c5a911-033d-4fc8-86c6-2b2851b5d0ef",
   "metadata": {},
   "outputs": [
    {
     "name": "stdout",
     "output_type": "stream",
     "text": [
      "categories: ['0 to 25,000 DWT', '25,000 to 50,000 DWT', '50,000 to 100,000 DWT', '100,000 to 150,000 DWT', '150,000 to 275,000 DWT', '275,000 + DWT']\n"
     ]
    },
    {
     "data": {
      "application/vnd.plotly.v1+json": {
       "config": {
        "plotlyServerURL": "https://plot.ly"
       },
       "data": [
        {
         "hovertemplate": "x=%{x}<br>y=%{y}<extra></extra>",
         "legendgroup": "",
         "marker": {
          "color": "#636efa",
          "pattern": {
           "shape": ""
          }
         },
         "name": "",
         "orientation": "v",
         "showlegend": false,
         "textposition": "auto",
         "type": "bar",
         "x": [
          "0 to 25,000 DWT",
          "25,000 to 50,000 DWT",
          "50,000 to 100,000 DWT",
          "100,000 to 150,000 DWT",
          "150,000 to 275,000 DWT",
          "275,000 + DWT"
         ],
         "xaxis": "x",
         "y": {
          "bdata": "AAABABYAQwFgAKoA",
          "dtype": "i2"
         },
         "yaxis": "y"
        }
       ],
       "layout": {
        "barmode": "relative",
        "height": 600,
        "legend": {
         "tracegroupgap": 0
        },
        "template": {
         "data": {
          "bar": [
           {
            "error_x": {
             "color": "#2a3f5f"
            },
            "error_y": {
             "color": "#2a3f5f"
            },
            "marker": {
             "line": {
              "color": "#E5ECF6",
              "width": 0.5
             },
             "pattern": {
              "fillmode": "overlay",
              "size": 10,
              "solidity": 0.2
             }
            },
            "type": "bar"
           }
          ],
          "barpolar": [
           {
            "marker": {
             "line": {
              "color": "#E5ECF6",
              "width": 0.5
             },
             "pattern": {
              "fillmode": "overlay",
              "size": 10,
              "solidity": 0.2
             }
            },
            "type": "barpolar"
           }
          ],
          "carpet": [
           {
            "aaxis": {
             "endlinecolor": "#2a3f5f",
             "gridcolor": "white",
             "linecolor": "white",
             "minorgridcolor": "white",
             "startlinecolor": "#2a3f5f"
            },
            "baxis": {
             "endlinecolor": "#2a3f5f",
             "gridcolor": "white",
             "linecolor": "white",
             "minorgridcolor": "white",
             "startlinecolor": "#2a3f5f"
            },
            "type": "carpet"
           }
          ],
          "choropleth": [
           {
            "colorbar": {
             "outlinewidth": 0,
             "ticks": ""
            },
            "type": "choropleth"
           }
          ],
          "contour": [
           {
            "colorbar": {
             "outlinewidth": 0,
             "ticks": ""
            },
            "colorscale": [
             [
              0,
              "#0d0887"
             ],
             [
              0.1111111111111111,
              "#46039f"
             ],
             [
              0.2222222222222222,
              "#7201a8"
             ],
             [
              0.3333333333333333,
              "#9c179e"
             ],
             [
              0.4444444444444444,
              "#bd3786"
             ],
             [
              0.5555555555555556,
              "#d8576b"
             ],
             [
              0.6666666666666666,
              "#ed7953"
             ],
             [
              0.7777777777777778,
              "#fb9f3a"
             ],
             [
              0.8888888888888888,
              "#fdca26"
             ],
             [
              1,
              "#f0f921"
             ]
            ],
            "type": "contour"
           }
          ],
          "contourcarpet": [
           {
            "colorbar": {
             "outlinewidth": 0,
             "ticks": ""
            },
            "type": "contourcarpet"
           }
          ],
          "heatmap": [
           {
            "colorbar": {
             "outlinewidth": 0,
             "ticks": ""
            },
            "colorscale": [
             [
              0,
              "#0d0887"
             ],
             [
              0.1111111111111111,
              "#46039f"
             ],
             [
              0.2222222222222222,
              "#7201a8"
             ],
             [
              0.3333333333333333,
              "#9c179e"
             ],
             [
              0.4444444444444444,
              "#bd3786"
             ],
             [
              0.5555555555555556,
              "#d8576b"
             ],
             [
              0.6666666666666666,
              "#ed7953"
             ],
             [
              0.7777777777777778,
              "#fb9f3a"
             ],
             [
              0.8888888888888888,
              "#fdca26"
             ],
             [
              1,
              "#f0f921"
             ]
            ],
            "type": "heatmap"
           }
          ],
          "histogram": [
           {
            "marker": {
             "pattern": {
              "fillmode": "overlay",
              "size": 10,
              "solidity": 0.2
             }
            },
            "type": "histogram"
           }
          ],
          "histogram2d": [
           {
            "colorbar": {
             "outlinewidth": 0,
             "ticks": ""
            },
            "colorscale": [
             [
              0,
              "#0d0887"
             ],
             [
              0.1111111111111111,
              "#46039f"
             ],
             [
              0.2222222222222222,
              "#7201a8"
             ],
             [
              0.3333333333333333,
              "#9c179e"
             ],
             [
              0.4444444444444444,
              "#bd3786"
             ],
             [
              0.5555555555555556,
              "#d8576b"
             ],
             [
              0.6666666666666666,
              "#ed7953"
             ],
             [
              0.7777777777777778,
              "#fb9f3a"
             ],
             [
              0.8888888888888888,
              "#fdca26"
             ],
             [
              1,
              "#f0f921"
             ]
            ],
            "type": "histogram2d"
           }
          ],
          "histogram2dcontour": [
           {
            "colorbar": {
             "outlinewidth": 0,
             "ticks": ""
            },
            "colorscale": [
             [
              0,
              "#0d0887"
             ],
             [
              0.1111111111111111,
              "#46039f"
             ],
             [
              0.2222222222222222,
              "#7201a8"
             ],
             [
              0.3333333333333333,
              "#9c179e"
             ],
             [
              0.4444444444444444,
              "#bd3786"
             ],
             [
              0.5555555555555556,
              "#d8576b"
             ],
             [
              0.6666666666666666,
              "#ed7953"
             ],
             [
              0.7777777777777778,
              "#fb9f3a"
             ],
             [
              0.8888888888888888,
              "#fdca26"
             ],
             [
              1,
              "#f0f921"
             ]
            ],
            "type": "histogram2dcontour"
           }
          ],
          "mesh3d": [
           {
            "colorbar": {
             "outlinewidth": 0,
             "ticks": ""
            },
            "type": "mesh3d"
           }
          ],
          "parcoords": [
           {
            "line": {
             "colorbar": {
              "outlinewidth": 0,
              "ticks": ""
             }
            },
            "type": "parcoords"
           }
          ],
          "pie": [
           {
            "automargin": true,
            "type": "pie"
           }
          ],
          "scatter": [
           {
            "fillpattern": {
             "fillmode": "overlay",
             "size": 10,
             "solidity": 0.2
            },
            "type": "scatter"
           }
          ],
          "scatter3d": [
           {
            "line": {
             "colorbar": {
              "outlinewidth": 0,
              "ticks": ""
             }
            },
            "marker": {
             "colorbar": {
              "outlinewidth": 0,
              "ticks": ""
             }
            },
            "type": "scatter3d"
           }
          ],
          "scattercarpet": [
           {
            "marker": {
             "colorbar": {
              "outlinewidth": 0,
              "ticks": ""
             }
            },
            "type": "scattercarpet"
           }
          ],
          "scattergeo": [
           {
            "marker": {
             "colorbar": {
              "outlinewidth": 0,
              "ticks": ""
             }
            },
            "type": "scattergeo"
           }
          ],
          "scattergl": [
           {
            "marker": {
             "colorbar": {
              "outlinewidth": 0,
              "ticks": ""
             }
            },
            "type": "scattergl"
           }
          ],
          "scattermap": [
           {
            "marker": {
             "colorbar": {
              "outlinewidth": 0,
              "ticks": ""
             }
            },
            "type": "scattermap"
           }
          ],
          "scattermapbox": [
           {
            "marker": {
             "colorbar": {
              "outlinewidth": 0,
              "ticks": ""
             }
            },
            "type": "scattermapbox"
           }
          ],
          "scatterpolar": [
           {
            "marker": {
             "colorbar": {
              "outlinewidth": 0,
              "ticks": ""
             }
            },
            "type": "scatterpolar"
           }
          ],
          "scatterpolargl": [
           {
            "marker": {
             "colorbar": {
              "outlinewidth": 0,
              "ticks": ""
             }
            },
            "type": "scatterpolargl"
           }
          ],
          "scatterternary": [
           {
            "marker": {
             "colorbar": {
              "outlinewidth": 0,
              "ticks": ""
             }
            },
            "type": "scatterternary"
           }
          ],
          "surface": [
           {
            "colorbar": {
             "outlinewidth": 0,
             "ticks": ""
            },
            "colorscale": [
             [
              0,
              "#0d0887"
             ],
             [
              0.1111111111111111,
              "#46039f"
             ],
             [
              0.2222222222222222,
              "#7201a8"
             ],
             [
              0.3333333333333333,
              "#9c179e"
             ],
             [
              0.4444444444444444,
              "#bd3786"
             ],
             [
              0.5555555555555556,
              "#d8576b"
             ],
             [
              0.6666666666666666,
              "#ed7953"
             ],
             [
              0.7777777777777778,
              "#fb9f3a"
             ],
             [
              0.8888888888888888,
              "#fdca26"
             ],
             [
              1,
              "#f0f921"
             ]
            ],
            "type": "surface"
           }
          ],
          "table": [
           {
            "cells": {
             "fill": {
              "color": "#EBF0F8"
             },
             "line": {
              "color": "white"
             }
            },
            "header": {
             "fill": {
              "color": "#C8D4E3"
             },
             "line": {
              "color": "white"
             }
            },
            "type": "table"
           }
          ]
         },
         "layout": {
          "annotationdefaults": {
           "arrowcolor": "#2a3f5f",
           "arrowhead": 0,
           "arrowwidth": 1
          },
          "autotypenumbers": "strict",
          "coloraxis": {
           "colorbar": {
            "outlinewidth": 0,
            "ticks": ""
           }
          },
          "colorscale": {
           "diverging": [
            [
             0,
             "#8e0152"
            ],
            [
             0.1,
             "#c51b7d"
            ],
            [
             0.2,
             "#de77ae"
            ],
            [
             0.3,
             "#f1b6da"
            ],
            [
             0.4,
             "#fde0ef"
            ],
            [
             0.5,
             "#f7f7f7"
            ],
            [
             0.6,
             "#e6f5d0"
            ],
            [
             0.7,
             "#b8e186"
            ],
            [
             0.8,
             "#7fbc41"
            ],
            [
             0.9,
             "#4d9221"
            ],
            [
             1,
             "#276419"
            ]
           ],
           "sequential": [
            [
             0,
             "#0d0887"
            ],
            [
             0.1111111111111111,
             "#46039f"
            ],
            [
             0.2222222222222222,
             "#7201a8"
            ],
            [
             0.3333333333333333,
             "#9c179e"
            ],
            [
             0.4444444444444444,
             "#bd3786"
            ],
            [
             0.5555555555555556,
             "#d8576b"
            ],
            [
             0.6666666666666666,
             "#ed7953"
            ],
            [
             0.7777777777777778,
             "#fb9f3a"
            ],
            [
             0.8888888888888888,
             "#fdca26"
            ],
            [
             1,
             "#f0f921"
            ]
           ],
           "sequentialminus": [
            [
             0,
             "#0d0887"
            ],
            [
             0.1111111111111111,
             "#46039f"
            ],
            [
             0.2222222222222222,
             "#7201a8"
            ],
            [
             0.3333333333333333,
             "#9c179e"
            ],
            [
             0.4444444444444444,
             "#bd3786"
            ],
            [
             0.5555555555555556,
             "#d8576b"
            ],
            [
             0.6666666666666666,
             "#ed7953"
            ],
            [
             0.7777777777777778,
             "#fb9f3a"
            ],
            [
             0.8888888888888888,
             "#fdca26"
            ],
            [
             1,
             "#f0f921"
            ]
           ]
          },
          "colorway": [
           "#636efa",
           "#EF553B",
           "#00cc96",
           "#ab63fa",
           "#FFA15A",
           "#19d3f3",
           "#FF6692",
           "#B6E880",
           "#FF97FF",
           "#FECB52"
          ],
          "font": {
           "color": "#2a3f5f"
          },
          "geo": {
           "bgcolor": "white",
           "lakecolor": "white",
           "landcolor": "#E5ECF6",
           "showlakes": true,
           "showland": true,
           "subunitcolor": "white"
          },
          "hoverlabel": {
           "align": "left"
          },
          "hovermode": "closest",
          "mapbox": {
           "style": "light"
          },
          "paper_bgcolor": "white",
          "plot_bgcolor": "#E5ECF6",
          "polar": {
           "angularaxis": {
            "gridcolor": "white",
            "linecolor": "white",
            "ticks": ""
           },
           "bgcolor": "#E5ECF6",
           "radialaxis": {
            "gridcolor": "white",
            "linecolor": "white",
            "ticks": ""
           }
          },
          "scene": {
           "xaxis": {
            "backgroundcolor": "#E5ECF6",
            "gridcolor": "white",
            "gridwidth": 2,
            "linecolor": "white",
            "showbackground": true,
            "ticks": "",
            "zerolinecolor": "white"
           },
           "yaxis": {
            "backgroundcolor": "#E5ECF6",
            "gridcolor": "white",
            "gridwidth": 2,
            "linecolor": "white",
            "showbackground": true,
            "ticks": "",
            "zerolinecolor": "white"
           },
           "zaxis": {
            "backgroundcolor": "#E5ECF6",
            "gridcolor": "white",
            "gridwidth": 2,
            "linecolor": "white",
            "showbackground": true,
            "ticks": "",
            "zerolinecolor": "white"
           }
          },
          "shapedefaults": {
           "line": {
            "color": "#2a3f5f"
           }
          },
          "ternary": {
           "aaxis": {
            "gridcolor": "white",
            "linecolor": "white",
            "ticks": ""
           },
           "baxis": {
            "gridcolor": "white",
            "linecolor": "white",
            "ticks": ""
           },
           "bgcolor": "#E5ECF6",
           "caxis": {
            "gridcolor": "white",
            "linecolor": "white",
            "ticks": ""
           }
          },
          "title": {
           "x": 0.05
          },
          "xaxis": {
           "automargin": true,
           "gridcolor": "white",
           "linecolor": "white",
           "ticks": "",
           "title": {
            "standoff": 15
           },
           "zerolinecolor": "white",
           "zerolinewidth": 2
          },
          "yaxis": {
           "automargin": true,
           "gridcolor": "white",
           "linecolor": "white",
           "ticks": "",
           "title": {
            "standoff": 15
           },
           "zerolinecolor": "white",
           "zerolinewidth": 2
          }
         }
        },
        "title": {
         "text": "Ships Transporting Oil Binned by Dead Weight Ton <br>612 Total Ships"
        },
        "width": 800,
        "xaxis": {
         "anchor": "y",
         "domain": [
          0,
          1
         ],
         "title": {
          "text": "DWT by Size"
         }
        },
        "yaxis": {
         "anchor": "x",
         "domain": [
          0,
          1
         ],
         "range": [
          0,
          350
         ],
         "title": {
          "text": "Count"
         }
        }
       }
      },
      "image/png": "[encoded data removed]"
     },
     "metadata": {},
     "output_type": "display_data"
    }
   ],
   "source": [
    "custom_bins = np.array([0, 25, 50, 100, 150, 275, np.inf])*1000\n",
    "binned_data_custom = pd.cut(oil_ships.DWT, bins=custom_bins, include_lowest=False, right=True)\n",
    "# You can then count the occurrences in each bin\n",
    "bin_counts = binned_data_custom.value_counts().sort_index()\n",
    "\n",
    "# make categorical values for binned plot \n",
    "cats = []\n",
    "for idx, x in enumerate(binned_data_custom.cat.categories):\n",
    "    left = f\"{x.left:.0f}\"\n",
    "    right = f\"{x.right:.0f}\"\n",
    "    if right==\"inf\":\n",
    "        cats.append((f\"{int(left):,} + DWT\"))\n",
    "    else:\n",
    "        cats.append((f\"{int(left):,} to {int(right):,} DWT\"))\n",
    "print(f\"categories: {cats}\")\n",
    "\n",
    "fig = px.bar(x=cats, y=bin_counts.values, title=f\"Ships Transporting Oil Binned by Dead Weight Ton <br>\"\n",
    "                                                                            f\"{oil_ships.shape[0]} Total Ships\")\n",
    "fig.update_layout(width=800, height=600)\n",
    "fig.update_layout(\n",
    "    xaxis_title=\"DWT by Size\",  # Set the x-axis title\n",
    "    yaxis_title=\"Count\"  # Set the y-axis title\n",
    ")\n",
    "fig.update_layout(\n",
    "    yaxis=dict(range=[0, 350])  # Sets y-axis range from 0 to 20\n",
    ")\n",
    "\n",
    "fig.show()\n",
    "fig.write_html(\"oil_ships_dwt_binned_interactive_plot.html\")\n"
   ]
  },
  {
   "cell_type": "code",
   "execution_count": 20,
   "id": "60a8f4d6-f264-49a9-9288-6543291e79a8",
   "metadata": {},
   "outputs": [
    {
     "name": "stdout",
     "output_type": "stream",
     "text": [
      "smallest VLCC is 30061.0 DWT\n",
      "largest VLCC is 441585.0 DWT\n"
     ]
    }
   ],
   "source": [
    "minvlcc = df.query('class_size==\"VLCC/ULCC\"').DWT.min()\n",
    "maxvlcc = df.query('class_size==\"VLCC/ULCC\"').DWT.max()\n",
    "print(f\"smallest VLCC is {minvlcc} DWT\")\n",
    "print(f\"largest VLCC is {maxvlcc} DWT\")"
   ]
  },
  {
   "cell_type": "code",
   "execution_count": 21,
   "id": "1e239d75-b6f9-429e-9d99-fcaa3d5ffd50",
   "metadata": {},
   "outputs": [
    {
     "data": {
      "text/plain": [
       "class_size                     VLCC/ULCC\n",
       "flag_TankerTrackers              Bahamas\n",
       "imo                              9246633\n",
       "name_TankerTrackers           SA OCEANIA\n",
       "OFAC                                 NaN\n",
       "UANI                          2023-03-31\n",
       "ASO                                  NaN\n",
       "EU                                   NaN\n",
       "FCDO                                 NaN\n",
       "GAC                                  NaN\n",
       "UN                                   NaN\n",
       "OFAC_numeric                           0\n",
       "UANI_numeric                           1\n",
       "ASO_numeric                            0\n",
       "EU_numeric                             0\n",
       "FCDO_numeric                           0\n",
       "GAC_numeric                            0\n",
       "UN_numeric                             0\n",
       "total_sanctions                        1\n",
       "ship_type                            FSO\n",
       "build_year                        2003.0\n",
       "gross_tonnage                   234006.0\n",
       "DWT                             441585.0\n",
       "name_oilBandit                   OCEANIA\n",
       "gross_tonnage_oilBandit         234006.0\n",
       "type_of_ship                    FSO, Oil\n",
       "vessel_size                          FSO\n",
       "build_year_oilBandit              2003.0\n",
       "controller                       euronav\n",
       "flag_oilBandit             Belgium (BEL)\n",
       "class                                LRS\n",
       "last_survey                    20/3/2020\n",
       "russian_lifter                       NaN\n",
       "iran_linked?                            \n",
       "re_classed_in_2022                      \n",
       "transacted_in_2022                   YES\n",
       "suspicious                           YES\n",
       "age                                 23.0\n",
       "Name: 412, dtype: object"
      ]
     },
     "execution_count": 21,
     "metadata": {},
     "output_type": "execute_result"
    }
   ],
   "source": [
    "df.query('DWT==@maxvlcc').iloc[0]"
   ]
  },
  {
   "cell_type": "markdown",
   "id": "cba2fe1d-1ee1-4c40-bda6-2364e18ee80b",
   "metadata": {},
   "source": [
    "#### A quick look at what sanctions are doing"
   ]
  },
  {
   "cell_type": "code",
   "execution_count": 22,
   "id": "af0732a8-a6ec-4292-bbd2-c4b88d3cf178",
   "metadata": {},
   "outputs": [
    {
     "data": {
      "application/vnd.plotly.v1+json": {
       "config": {
        "plotlyServerURL": "https://plot.ly"
       },
       "data": [
        {
         "hovertemplate": "class_size=Handysize/Handymax<br>imo=%{x}<br>total_sanctions=%{y}<extra></extra>",
         "legendgroup": "Handysize/Handymax",
         "marker": {
          "color": "#636efa",
          "pattern": {
           "shape": ""
          }
         },
         "name": "Handysize/Handymax",
         "orientation": "v",
         "showlegend": true,
         "textposition": "auto",
         "type": "bar",
         "x": [
          "7303803",
          "7408873",
          "8106496",
          "8122347",
          "8126070",
          "8223050",
          "8231057",
          "8312497",
          "8319952",
          "8517243",
          "8518572",
          "8519966",
          "8604917",
          "8605026",
          "8613360",
          "8660313",
          "8691702",
          "8700096",
          "8705539",
          "8712362",
          "8720436",
          "8791667",
          "8806321",
          "8808525",
          "8817693",
          "8818207",
          "8818219",
          "8818843",
          "8821761",
          "8898740",
          "8909472",
          "8912546",
          "8912558",
          "8916293",
          "8917467",
          "8917807",
          "8966535",
          "8982888",
          "9000883",
          "9002491",
          "9003550",
          "9004815",
          "9005053",
          "9005065",
          "9005338",
          "9005493",
          "9007386",
          "9008108",
          "9012886",
          "9014420",
          "9014432",
          "9014456",
          "9030591",
          "9031519",
          "9032666",
          "9035541",
          "9036052",
          "9036935",
          "9040118",
          "9041643",
          "9041655",
          "9045807",
          "9046784",
          "9051636",
          "9052331",
          "9053816",
          "9056571",
          "9066978",
          "9070072",
          "9078191",
          "9079169",
          "9080493",
          "9087714",
          "9088536",
          "9102198",
          "9105085",
          "9105140",
          "9108099",
          "9108104",
          "9113094",
          "9113276",
          "9113379",
          "9114581",
          "9115303",
          "9117478",
          "9117492",
          "9117818",
          "9118745",
          "9120994",
          "9121699",
          "9125126",
          "9125138",
          "9125712",
          "9125724",
          "9126015",
          "9127033",
          "9127667",
          "9131096",
          "9131101",
          "9133070",
          "9133082",
          "9134165",
          "9134294",
          "9135547",
          "9136113",
          "9136644",
          "9139696",
          "9140451",
          "9141259",
          "9142150",
          "9142916",
          "9143506",
          "9149251",
          "9151890",
          "9154000",
          "9155341",
          "9157478",
          "9158161",
          "9160475",
          "9162502",
          "9162916",
          "9162928",
          "9163269",
          "9163764",
          "9164500",
          "9164512",
          "9165786",
          "9165815",
          "9166314",
          "9167148",
          "9167162",
          "9167253",
          "9167289",
          "9167930",
          "9168740",
          "9171175",
          "9171345",
          "9171357",
          "9171498",
          "9171503",
          "9172636",
          "9174622",
          "9176656",
          "9176929",
          "9177583",
          "9178044",
          "9178068",
          "9179854",
          "9180281",
          "9183831",
          "9183934",
          "9185865",
          "9190078",
          "9190107",
          "9191553",
          "9191773",
          "9193721",
          "9193733",
          "9194969",
          "9197727",
          "9198290",
          "9199127",
          "9200861",
          "9202388",
          "9203772",
          "9203928",
          "9203930",
          "9204764",
          "9204776",
          "9204805",
          "9208112",
          "9208124",
          "9208239",
          "9208473",
          "9209348",
          "9209350",
          "9209972",
          "9212400",
          "9215098",
          "9215103",
          "9218480",
          "9220639",
          "9220641",
          "9220914",
          "9220938",
          "9220940",
          "9221267",
          "9221671",
          "9222560",
          "9222649",
          "9222699",
          "9222704",
          "9223540",
          "9223722",
          "9224570",
          "9225342",
          "9226009",
          "9226011",
          "9229025",
          "9229439",
          "9230098",
          "9230426",
          "9232022",
          "9232034",
          "9232369",
          "9232955",
          "9233973",
          "9234501",
          "9234616",
          "9235464",
          "9235476",
          "9236640",
          "9236731",
          "9236755",
          "9239977",
          "9240419",
          "9240885",
          "9240914",
          "9242481",
          "9244374",
          "9246449",
          "9246463",
          "9246798",
          "9246803",
          "9247065",
          "9247388",
          "9247778",
          "9248461",
          "9248796",
          "9248801",
          "9249685",
          "9250505",
          "9251456",
          "9251640",
          "9251664",
          "9252072",
          "9252400",
          "9252436",
          "9253234",
          "9254422",
          "9255244",
          "9255270",
          "9255488",
          "9255830",
          "9256913",
          "9257711",
          "9258026",
          "9258167",
          "9258595",
          "9258674",
          "9259898",
          "9259991",
          "9260055",
          "9260067",
          "9260275",
          "9260366",
          "9261657",
          "9262584",
          "9262912",
          "9263186",
          "9263198",
          "9263203",
          "9263382",
          "9263693",
          "9265885",
          "9266475",
          "9267948",
          "9268186",
          "9269403",
          "9270646",
          "9270658",
          "9270696",
          "9270749",
          "9271951",
          "9272694",
          "9273387",
          "9274331",
          "9274563",
          "9275983",
          "9275995",
          "9276028",
          "9276030",
          "9278064",
          "9278519",
          "9281554",
          "9281566",
          "9281580",
          "9282106",
          "9282522",
          "9282986",
          "9283019",
          "9283746",
          "9283758",
          "9283760",
          "9284116",
          "9284154",
          "9284726",
          "9285744",
          "9285756",
          "9286463",
          "9288277",
          "9288382",
          "9288758",
          "9288930",
          "9289166",
          "9289520",
          "9289738",
          "9290270",
          "9290517",
          "9290828",
          "9290919",
          "9290921",
          "9292034",
          "9292058",
          "9292060",
          "9292577",
          "9292589",
          "9292838",
          "9293959",
          "9294795",
          "9295270",
          "9295282",
          "9296585",
          "9298492",
          "9298595",
          "9299161",
          "9299173",
          "9299862",
          "9299874",
          "9299886",
          "9300348",
          "9300350",
          "9300996",
          "9301005",
          "9301615",
          "9306457",
          "9306548",
          "9306665",
          "9306809",
          "9307736",
          "9307748",
          "9307815",
          "9308132",
          "9308170",
          "9308766",
          "9308778",
          "9309227",
          "9309239",
          "9309576",
          "9309588",
          "9310707",
          "9311309",
          "9313151",
          "9313589",
          "9314818",
          "9314882",
          "9314894",
          "9318022",
          "9318034",
          "9318541",
          "9318553",
          "9321421",
          "9322956",
          "9322968",
          "9323338",
          "9323376",
          "9325817",
          "9326902",
          "9327360",
          "9327372",
          "9327413",
          "9329655",
          "9329667",
          "9330020",
          "9332028",
          "9332315",
          "9333400",
          "9333412",
          "9333424",
          "9333436",
          "9335094",
          "9337327",
          "9340465",
          "9341512",
          "9342786",
          "9344033",
          "9349095",
          "9349291",
          "9349655",
          "9350288",
          "9350422",
          "9352195",
          "9353096",
          "9353113",
          "9353125",
          "9353905",
          "9354521",
          "9354636",
          "9360398",
          "9360415",
          "9363182",
          "9363833",
          "9364382",
          "9369617",
          "9370537",
          "9377042",
          "9379052",
          "9379404",
          "9382073",
          "9382700",
          "9382798",
          "9384095",
          "9384306",
          "9384435",
          "9384447",
          "9384459",
          "9385142",
          "9385233",
          "9385831",
          "9386299",
          "9386304",
          "9387152",
          "9387279",
          "9387762",
          "9388027",
          "9396725",
          "9397030",
          "9397080",
          "9397535",
          "9397547",
          "9397559",
          "9397676",
          "9399167",
          "9404572",
          "9405617",
          "9408798",
          "9411288",
          "9417115",
          "9417490",
          "9418509",
          "9422653",
          "9422847",
          "9422859",
          "9423322",
          "9424651",
          "9427146",
          "9428358",
          "9430210",
          "9435337",
          "9435363",
          "9435375",
          "9451501",
          "9451642",
          "9453729",
          "9459242",
          "9463528",
          "9464156",
          "9486805",
          "9495832",
          "9502453",
          "9510553",
          "9511179",
          "9526693",
          "9529645",
          "9531375",
          "9531387",
          "9534614",
          "9537109",
          "9546708",
          "9546710",
          "9546722",
          "9553957",
          "9554822",
          "9554834",
          "9555199",
          "9571052",
          "9572111",
          "9582726",
          "9585912",
          "9585924",
          "9590137",
          "9599341",
          "9599353",
          "9615092",
          "9621601",
          "9622069",
          "9624316",
          "9633501",
          "9637650",
          "9637961",
          "9640516",
          "9640528",
          "9645011",
          "9650016",
          "9655470",
          "9672301",
          "9683726",
          "9683738",
          "9683740",
          "9689031",
          "9690212",
          "9690224",
          "9720263",
          "9735323",
          "9735335",
          "9749154",
          "9752084",
          "9752096",
          "9752101",
          "9759915",
          "9759927",
          "9759939",
          "9763837",
          "9763849",
          "9773301",
          "9777670",
          "9784893",
          "9820312",
          "9820324",
          "9820336",
          "9827944",
          "9830769",
          "9837547",
          "9864837",
          "9876359",
          "9888182",
          "9915105",
          "9934498",
          "9969821"
         ],
         "xaxis": "x",
         "y": {
          "bdata": "AwMDAwMBAQIBAQICAwMBAwMCAwMBAgEBAgECAQIDAQEBAgEBAQIBAgEBAQICAgIBAgIBAQMBAQIBAQEBAgIBAQIBAgMCAQIBAwEBAQICAQIBAgEBAQECAQEBAQECAgEBAgECAQEBAQECAgEBAgICAgECAgEBAgIBAQICAgICAQEBAQEBAQEBAgECAgEBAQIBAQICAQEDAQECAQIBAQEBAQMFAgECAgICAQIBAwEBAQEEAgECAQEBAQICAgIDAQEBAgEBAQECAQICAgEBAQIBAwIBAQMBAgEBAwIBAQEBAQEBAgIBAgQCAgMCAQECAQMBAgEBAwIBBAMBAgEDAgMBAQIBAQIDAwIBAgQBAQEBAQECBAEBAQEBAgEDAgECAQECAgIBAQEBAQEDAgIBAQEBAgEDAwEDAwIDAgIDAgIBAwIBAQEBAQICAwICAQEBAQEBAgEBAQEEAQEBAgICAwMCAgECAQMDAQMEBAIFBAEDAQECBAECAgEBAQQDAwQCAQECAgMBAQEBAgMDBAMBAgEBAgEBAQEBAQMBAQEEAQMCAwMDAQEBAQEBAQEBAgIBAwUBAgEBAQIDAgEBAgIBAgEDAgECAgIBAQICAQECAQEBAgEBAgEBAgECAQEBAgECAQICAQMCAgEBAQEBAQICAQEDAgIBAQEBAQEBAQIDAQEDAQEDAwIBAgEBAQEDAQQBAQMCAQ==",
          "dtype": "i1"
         },
         "yaxis": "y"
        },
        {
         "hovertemplate": "class_size=Panamax<br>imo=%{x}<br>total_sanctions=%{y}<extra></extra>",
         "legendgroup": "Panamax",
         "marker": {
          "color": "#EF553B",
          "pattern": {
           "shape": ""
          }
         },
         "name": "Panamax",
         "orientation": "v",
         "showlegend": true,
         "textposition": "auto",
         "type": "bar",
         "x": [
          "9002908",
          "9176761",
          "9176773",
          "9182667",
          "9189110",
          "9198771",
          "9198783",
          "9209300",
          "9216298",
          "9216547",
          "9216559",
          "9218181",
          "9221657",
          "9231511",
          "9232620",
          "9243148",
          "9252955",
          "9255933",
          "9255945",
          "9256016",
          "9256028",
          "9256602",
          "9257503",
          "9266750",
          "9267132",
          "9273442",
          "9275658",
          "9275660",
          "9275763",
          "9277723",
          "9277735",
          "9277747",
          "9277759",
          "9277761",
          "9277773",
          "9277797",
          "9280366",
          "9282443",
          "9286023",
          "9288019",
          "9288265",
          "9289752",
          "9289776",
          "9294678",
          "9295098",
          "9298272",
          "9298284",
          "9298296",
          "9299123",
          "9305192",
          "9305221",
          "9306562",
          "9307932",
          "9314167",
          "9329760",
          "9333670",
          "9333682",
          "9334557",
          "9336490",
          "9372547",
          "9372559",
          "9372561",
          "9409467",
          "9433016",
          "9441178",
          "9550682",
          "9577082",
          "9577094",
          "9885879"
         ],
         "xaxis": "x",
         "y": {
          "bdata": "AQECAQEBAgIEAgICAQEBBAEBAQIBBAEDAgIBAgEBAwQDAQEBAgICAgIDBQEBAQEBAwEBAQIDAwEBAwEBAQEFAQECBAQB",
          "dtype": "i1"
         },
         "yaxis": "y"
        },
        {
         "hovertemplate": "class_size=Suezmax<br>imo=%{x}<br>total_sanctions=%{y}<extra></extra>",
         "legendgroup": "Suezmax",
         "marker": {
          "color": "#00cc96",
          "pattern": {
           "shape": ""
          }
         },
         "name": "Suezmax",
         "orientation": "v",
         "showlegend": true,
         "textposition": "auto",
         "type": "bar",
         "x": [
          "9018464",
          "9041057",
          "9114608",
          "9131357",
          "9137648",
          "9150365",
          "9150377",
          "9155808",
          "9168946",
          "9169421",
          "9171450",
          "9171462",
          "9172038",
          "9172040",
          "9172052",
          "9173745",
          "9174660",
          "9175078",
          "9185528",
          "9185530",
          "9187227",
          "9189146",
          "9191711",
          "9194983",
          "9203784",
          "9205067",
          "9207027",
          "9208069",
          "9212759",
          "9219056",
          "9221970",
          "9224271",
          "9224283",
          "9224465",
          "9226968",
          "9227443",
          "9229374",
          "9231509",
          "9232929",
          "9232931",
          "9233222",
          "9233741",
          "9233765",
          "9234642",
          "9236004",
          "9236016",
          "9236353",
          "9247376",
          "9247429",
          "9247431",
          "9248813",
          "9249087",
          "9249312",
          "9249324",
          "9253894",
          "9253909",
          "9257137",
          "9259733",
          "9259745",
          "9271585",
          "9274434",
          "9274446",
          "9280873",
          "9280885",
          "9281152",
          "9283241",
          "9286229",
          "9286281",
          "9286657",
          "9288899",
          "9290323",
          "9290335",
          "9293117",
          "9293143",
          "9296391",
          "9296406",
          "9297888",
          "9299666",
          "9299678",
          "9301524",
          "9304629",
          "9308065",
          "9311622",
          "9315654",
          "9316127",
          "9318539",
          "9321691",
          "9321706",
          "9321718",
          "9326718",
          "9326720",
          "9357353",
          "9357365",
          "9357377",
          "9364112",
          "9408205",
          "9408695",
          "9411020",
          "9411331",
          "9412335",
          "9412347",
          "9412359",
          "9421960",
          "9421972",
          "9422445",
          "9422457",
          "9513139",
          "9524451",
          "9524463",
          "9524475",
          "9530917",
          "9589750",
          "9610781",
          "9610793",
          "9915090"
         ],
         "xaxis": "x",
         "y": {
          "bdata": "AgIBAQQCAQEDAQEBAQEBAgICAQIEAwICAgMBAwICAQIDBAEEAwQDBAIDAgICAQMBAQUBAQQCAgEEBAQEAwECAQECAgEDAwEEAgIDAwMEAQQBAwQDAwQDBAECBAEBAQEEAQQDBAQEBAMEAgQBAwEDAwQEAw==",
          "dtype": "i1"
         },
         "yaxis": "y"
        },
        {
         "hovertemplate": "class_size=Aframax<br>imo=%{x}<br>total_sanctions=%{y}<extra></extra>",
         "legendgroup": "Aframax",
         "marker": {
          "color": "#ab63fa",
          "pattern": {
           "shape": ""
          }
         },
         "name": "Aframax",
         "orientation": "v",
         "showlegend": true,
         "textposition": "auto",
         "type": "bar",
         "x": [
          "9038842",
          "9105906",
          "9116632",
          "9136058",
          "9144782",
          "9147447",
          "9157765",
          "9165542",
          "9183295",
          "9187629",
          "9187631",
          "9187643",
          "9187655",
          "9187667",
          "9192258",
          "9192260",
          "9192260",
          "9194139",
          "9198082",
          "9198082",
          "9198094",
          "9206671",
          "9208136",
          "9211999",
          "9212008",
          "9213296",
          "9213313",
          "9229362",
          "9230971",
          "9231212",
          "9231224",
          "9231901",
          "9232448",
          "9232450",
          "9232876",
          "9232888",
          "9233208",
          "9233234",
          "9233349",
          "9235713",
          "9235725",
          "9236248",
          "9237228",
          "9237412",
          "9237618",
          "9238052",
          "9240407",
          "9242118",
          "9242120",
          "9242223",
          "9247390",
          "9247443",
          "9247780",
          "9247792",
          "9247883",
          "9247986",
          "9248849",
          "9249128",
          "9249130",
          "9250531",
          "9250543",
          "9250892",
          "9250907",
          "9251274",
          "9251810",
          "9251822",
          "9252371",
          "9253076",
          "9253313",
          "9253325",
          "9254915",
          "9255660",
          "9255672",
          "9255684",
          "9255880",
          "9256054",
          "9256066",
          "9256078",
          "9256468",
          "9256858",
          "9256860",
          "9257010",
          "9257022",
          "9257802",
          "9257814",
          "9257993",
          "9258002",
          "9258868",
          "9258870",
          "9258882",
          "9259185",
          "9259197",
          "9259599",
          "9259692",
          "9260823",
          "9261619",
          "9262924",
          "9263643",
          "9264570",
          "9265744",
          "9265756",
          "9266853",
          "9266865",
          "9266877",
          "9268112",
          "9270517",
          "9270529",
          "9271327",
          "9271406",
          "9273052",
          "9274616",
          "9274800",
          "9276561",
          "9276573",
          "9276585",
          "9281009",
          "9281011",
          "9281891",
          "9282041",
          "9282479",
          "9282481",
          "9282493",
          "9282792",
          "9283289",
          "9283291",
          "9283306",
          "9284582",
          "9284594",
          "9285835",
          "9285847",
          "9285859",
          "9288693",
          "9288708",
          "9288710",
          "9288722",
          "9288734",
          "9288746",
          "9288851",
          "9288863",
          "9290309",
          "9291236",
          "9291250",
          "9292204",
          "9292503",
          "9292981",
          "9293002",
          "9293155",
          "9296810",
          "9296822",
          "9297357",
          "9297371",
          "9297553",
          "9299680",
          "9299692",
          "9299707",
          "9299719",
          "9299721",
          "9299733",
          "9299745",
          "9299769",
          "9299771",
          "9299898",
          "9299903",
          "9301380",
          "9301392",
          "9301407",
          "9301419",
          "9301421",
          "9304356",
          "9304825",
          "9305568",
          "9305609",
          "9306627",
          "9306782",
          "9306794",
          "9308443",
          "9308821",
          "9308833",
          "9308857",
          "9308950",
          "9310525",
          "9311531",
          "9312872",
          "9312884",
          "9312896",
          "9313498",
          "9314088",
          "9314105",
          "9315446",
          "9317949",
          "9319674",
          "9319686",
          "9319703",
          "9319870",
          "9319882",
          "9321689",
          "9321847",
          "9321976",
          "9322827",
          "9322839",
          "9323974",
          "9323986",
          "9324277",
          "9328170",
          "9330472",
          "9330599",
          "9330604",
          "9331141",
          "9331153",
          "9332781",
          "9332810",
          "9332822",
          "9332834",
          "9336426",
          "9337389",
          "9337901",
          "9338905",
          "9339301",
          "9339313",
          "9339325",
          "9339337",
          "9341067",
          "9341079",
          "9341081",
          "9341093",
          "9345623",
          "9346720",
          "9346732",
          "9346744",
          "9346873",
          "9348479",
          "9350654",
          "9354301",
          "9354313",
          "9360128",
          "9360130",
          "9368223",
          "9368235",
          "9374868",
          "9377779",
          "9378618",
          "9378620",
          "9378632",
          "9380673",
          "9381732",
          "9381744",
          "9383869",
          "9383950",
          "9384069",
          "9384992",
          "9386536",
          "9387255",
          "9388742",
          "9388754",
          "9388766",
          "9388780",
          "9388792",
          "9389095",
          "9389100",
          "9389679",
          "9392822",
          "9394935",
          "9395379",
          "9398278",
          "9400980",
          "9402469",
          "9402471",
          "9404948",
          "9405057",
          "9408530",
          "9409259",
          "9410870",
          "9410894",
          "9412995",
          "9413547",
          "9413559",
          "9413561",
          "9413573",
          "9418482",
          "9418494",
          "9419137",
          "9419151",
          "9419448",
          "9420617",
          "9422988",
          "9434890",
          "9436006",
          "9436018",
          "9436941",
          "9437983",
          "9439541",
          "9486910",
          "9511387",
          "9511521",
          "9511533",
          "9522324",
          "9543500",
          "9543512",
          "9544281",
          "9552496",
          "9610808",
          "9610810",
          "9630004",
          "9630028",
          "9641091",
          "9737187",
          "9778313",
          "9779941",
          "9810513",
          "9826902",
          "9832547",
          "9832559",
          "9842176",
          "9842188",
          "9842190",
          "9843560",
          "9849887",
          "9866380",
          "9866392",
          "9901025",
          "9901037",
          "9904546",
          "9953509",
          "9953511",
          "9953523",
          "9953535"
         ],
         "xaxis": "x",
         "y": {
          "bdata": "AQEBAQQCAgEDAQEBAQECAgICAgICAgEBAQEBAgIDAQICAgIDAgIEBAQCBQICAgECAgICAgQEAwEDAgMEAwMCBgMBAQMDBQIEAgECAQMBAgEBAgQCAgIDBAIEBQQCAQMCBAUFAgMEAQIDBAQDAgUBAwMCAgEFBQEGAQIEAwMCBAQDAwMEAwMDAwQDAwMBAwMEBAMEAwUCAwIEBAEDAwMCAwEDBAQDBQUFBAQCAgMDAwMCAwEBBAMDBAUBBAMDAwQDBAMCBAQEAgECBAQBAgECAwMEAwQEAwUDAwMBAwQEBAQEBAQEBAIDAwQEBAQEBAMBAwQDAgEBAQMBAQIBBAMEAwQBAQIEAwIBAQUDBAMCAQMEAwMDAwQCBAMCAwMDAgUDBAMBAQMEBAMBAQUBBAQEAgEDAgEBBAMCAwQDBAMEAwQFAQMDBAM=",
          "dtype": "i1"
         },
         "yaxis": "y"
        },
        {
         "hovertemplate": "class_size=VLCC/ULCC<br>imo=%{x}<br>total_sanctions=%{y}<extra></extra>",
         "legendgroup": "VLCC/ULCC",
         "marker": {
          "color": "#FFA15A",
          "pattern": {
           "shape": ""
          }
         },
         "name": "VLCC/ULCC",
         "orientation": "v",
         "showlegend": true,
         "textposition": "auto",
         "type": "bar",
         "x": [
          "9079066",
          "9079078",
          "9079107",
          "9102239",
          "9102241",
          "9102277",
          "9116412",
          "9133850",
          "9153513",
          "9153525",
          "9166675",
          "9169691",
          "9171448",
          "9174220",
          "9174397",
          "9177155",
          "9179701",
          "9180152",
          "9180164",
          "9181194",
          "9181649",
          "9182291",
          "9182318",
          "9194127",
          "9196620",
          "9196632",
          "9196644",
          "9197832",
          "9197844",
          "9197909",
          "9198317",
          "9203253",
          "9203265",
          "9203277",
          "9206035",
          "9208215",
          "9212888",
          "9212890",
          "9212905",
          "9212917",
          "9212929",
          "9216717",
          "9217979",
          "9218454",
          "9218466",
          "9218478",
          "9218492",
          "9220952",
          "9222443",
          "9224295",
          "9224805",
          "9230878",
          "9230880",
          "9230907",
          "9233272",
          "9233650",
          "9233739",
          "9233753",
          "9234666",
          "9235244",
          "9235268",
          "9235737",
          "9236250",
          "9237539",
          "9237620",
          "9237632",
          "9237797",
          "9238868",
          "9240512",
          "9241114",
          "9244623",
          "9244635",
          "9244867",
          "9245782",
          "9245794",
          "9246279",
          "9246281",
          "9246633",
          "9248473",
          "9248485",
          "9248497",
          "9251951",
          "9253117",
          "9254082",
          "9256975",
          "9256987",
          "9257149",
          "9258521",
          "9259355",
          "9259367",
          "9262156",
          "9262168",
          "9262754",
          "9262766",
          "9263215",
          "9263227",
          "9264881",
          "9264893",
          "9273337",
          "9281683",
          "9281695",
          "9283801",
          "9286073",
          "9288095",
          "9288875",
          "9289477",
          "9289491",
          "9289726",
          "9290775",
          "9292163",
          "9292228",
          "9292486",
          "9293741",
          "9294240",
          "9294290",
          "9294331",
          "9295593",
          "9297319",
          "9302023",
          "9304655",
          "9304667",
          "9307633",
          "9310147",
          "9310159",
          "9311270",
          "9312509",
          "9313149",
          "9316701",
          "9320843",
          "9322267",
          "9326055",
          "9328716",
          "9332535",
          "9337133",
          "9337195",
          "9352559",
          "9356593",
          "9357183",
          "9357389",
          "9357391",
          "9357406",
          "9357717",
          "9357729",
          "9362059",
          "9362061",
          "9362073",
          "9365752",
          "9365764",
          "9365776",
          "9371608",
          "9379698",
          "9379703",
          "9402732",
          "9410234",
          "9410387",
          "9418078",
          "9439058",
          "9569205",
          "9569619",
          "9569621",
          "9569633",
          "9569645",
          "9569657",
          "9569669",
          "9569671",
          "9569683",
          "9569695",
          "9569700",
          "9569712",
          "9590008",
          "9829629"
         ],
         "xaxis": "x",
         "y": {
          "bdata": "AQEBAQICAQEBAgIBAgICAQIBAQICAgECAQICAgICAgECAgECAQEBAQECAQEBAQECAQICAQICAQEBAgICAQICAQECAgICAQECAQEBAgIBAgECAgECAgICAQECAgICAgIBAgICBAICAgICAQIBAQICAgIBAQMCAgICAgICAgEBAgICAgICAQIBAQEBAQEBAQEBAQECAgICAgICAQICAQEBAQEBAQEBAQEBAQEB",
          "dtype": "i1"
         },
         "yaxis": "y"
        }
       ],
       "layout": {
        "barmode": "relative",
        "height": 700,
        "legend": {
         "title": {
          "text": "class_size"
         },
         "tracegroupgap": 0
        },
        "paper_bgcolor": "white",
        "plot_bgcolor": "white",
        "template": {
         "data": {
          "bar": [
           {
            "error_x": {
             "color": "#2a3f5f"
            },
            "error_y": {
             "color": "#2a3f5f"
            },
            "marker": {
             "line": {
              "color": "#E5ECF6",
              "width": 0.5
             },
             "pattern": {
              "fillmode": "overlay",
              "size": 10,
              "solidity": 0.2
             }
            },
            "type": "bar"
           }
          ],
          "barpolar": [
           {
            "marker": {
             "line": {
              "color": "#E5ECF6",
              "width": 0.5
             },
             "pattern": {
              "fillmode": "overlay",
              "size": 10,
              "solidity": 0.2
             }
            },
            "type": "barpolar"
           }
          ],
          "carpet": [
           {
            "aaxis": {
             "endlinecolor": "#2a3f5f",
             "gridcolor": "white",
             "linecolor": "white",
             "minorgridcolor": "white",
             "startlinecolor": "#2a3f5f"
            },
            "baxis": {
             "endlinecolor": "#2a3f5f",
             "gridcolor": "white",
             "linecolor": "white",
             "minorgridcolor": "white",
             "startlinecolor": "#2a3f5f"
            },
            "type": "carpet"
           }
          ],
          "choropleth": [
           {
            "colorbar": {
             "outlinewidth": 0,
             "ticks": ""
            },
            "type": "choropleth"
           }
          ],
          "contour": [
           {
            "colorbar": {
             "outlinewidth": 0,
             "ticks": ""
            },
            "colorscale": [
             [
              0,
              "#0d0887"
             ],
             [
              0.1111111111111111,
              "#46039f"
             ],
             [
              0.2222222222222222,
              "#7201a8"
             ],
             [
              0.3333333333333333,
              "#9c179e"
             ],
             [
              0.4444444444444444,
              "#bd3786"
             ],
             [
              0.5555555555555556,
              "#d8576b"
             ],
             [
              0.6666666666666666,
              "#ed7953"
             ],
             [
              0.7777777777777778,
              "#fb9f3a"
             ],
             [
              0.8888888888888888,
              "#fdca26"
             ],
             [
              1,
              "#f0f921"
             ]
            ],
            "type": "contour"
           }
          ],
          "contourcarpet": [
           {
            "colorbar": {
             "outlinewidth": 0,
             "ticks": ""
            },
            "type": "contourcarpet"
           }
          ],
          "heatmap": [
           {
            "colorbar": {
             "outlinewidth": 0,
             "ticks": ""
            },
            "colorscale": [
             [
              0,
              "#0d0887"
             ],
             [
              0.1111111111111111,
              "#46039f"
             ],
             [
              0.2222222222222222,
              "#7201a8"
             ],
             [
              0.3333333333333333,
              "#9c179e"
             ],
             [
              0.4444444444444444,
              "#bd3786"
             ],
             [
              0.5555555555555556,
              "#d8576b"
             ],
             [
              0.6666666666666666,
              "#ed7953"
             ],
             [
              0.7777777777777778,
              "#fb9f3a"
             ],
             [
              0.8888888888888888,
              "#fdca26"
             ],
             [
              1,
              "#f0f921"
             ]
            ],
            "type": "heatmap"
           }
          ],
          "histogram": [
           {
            "marker": {
             "pattern": {
              "fillmode": "overlay",
              "size": 10,
              "solidity": 0.2
             }
            },
            "type": "histogram"
           }
          ],
          "histogram2d": [
           {
            "colorbar": {
             "outlinewidth": 0,
             "ticks": ""
            },
            "colorscale": [
             [
              0,
              "#0d0887"
             ],
             [
              0.1111111111111111,
              "#46039f"
             ],
             [
              0.2222222222222222,
              "#7201a8"
             ],
             [
              0.3333333333333333,
              "#9c179e"
             ],
             [
              0.4444444444444444,
              "#bd3786"
             ],
             [
              0.5555555555555556,
              "#d8576b"
             ],
             [
              0.6666666666666666,
              "#ed7953"
             ],
             [
              0.7777777777777778,
              "#fb9f3a"
             ],
             [
              0.8888888888888888,
              "#fdca26"
             ],
             [
              1,
              "#f0f921"
             ]
            ],
            "type": "histogram2d"
           }
          ],
          "histogram2dcontour": [
           {
            "colorbar": {
             "outlinewidth": 0,
             "ticks": ""
            },
            "colorscale": [
             [
              0,
              "#0d0887"
             ],
             [
              0.1111111111111111,
              "#46039f"
             ],
             [
              0.2222222222222222,
              "#7201a8"
             ],
             [
              0.3333333333333333,
              "#9c179e"
             ],
             [
              0.4444444444444444,
              "#bd3786"
             ],
             [
              0.5555555555555556,
              "#d8576b"
             ],
             [
              0.6666666666666666,
              "#ed7953"
             ],
             [
              0.7777777777777778,
              "#fb9f3a"
             ],
             [
              0.8888888888888888,
              "#fdca26"
             ],
             [
              1,
              "#f0f921"
             ]
            ],
            "type": "histogram2dcontour"
           }
          ],
          "mesh3d": [
           {
            "colorbar": {
             "outlinewidth": 0,
             "ticks": ""
            },
            "type": "mesh3d"
           }
          ],
          "parcoords": [
           {
            "line": {
             "colorbar": {
              "outlinewidth": 0,
              "ticks": ""
             }
            },
            "type": "parcoords"
           }
          ],
          "pie": [
           {
            "automargin": true,
            "type": "pie"
           }
          ],
          "scatter": [
           {
            "fillpattern": {
             "fillmode": "overlay",
             "size": 10,
             "solidity": 0.2
            },
            "type": "scatter"
           }
          ],
          "scatter3d": [
           {
            "line": {
             "colorbar": {
              "outlinewidth": 0,
              "ticks": ""
             }
            },
            "marker": {
             "colorbar": {
              "outlinewidth": 0,
              "ticks": ""
             }
            },
            "type": "scatter3d"
           }
          ],
          "scattercarpet": [
           {
            "marker": {
             "colorbar": {
              "outlinewidth": 0,
              "ticks": ""
             }
            },
            "type": "scattercarpet"
           }
          ],
          "scattergeo": [
           {
            "marker": {
             "colorbar": {
              "outlinewidth": 0,
              "ticks": ""
             }
            },
            "type": "scattergeo"
           }
          ],
          "scattergl": [
           {
            "marker": {
             "colorbar": {
              "outlinewidth": 0,
              "ticks": ""
             }
            },
            "type": "scattergl"
           }
          ],
          "scattermap": [
           {
            "marker": {
             "colorbar": {
              "outlinewidth": 0,
              "ticks": ""
             }
            },
            "type": "scattermap"
           }
          ],
          "scattermapbox": [
           {
            "marker": {
             "colorbar": {
              "outlinewidth": 0,
              "ticks": ""
             }
            },
            "type": "scattermapbox"
           }
          ],
          "scatterpolar": [
           {
            "marker": {
             "colorbar": {
              "outlinewidth": 0,
              "ticks": ""
             }
            },
            "type": "scatterpolar"
           }
          ],
          "scatterpolargl": [
           {
            "marker": {
             "colorbar": {
              "outlinewidth": 0,
              "ticks": ""
             }
            },
            "type": "scatterpolargl"
           }
          ],
          "scatterternary": [
           {
            "marker": {
             "colorbar": {
              "outlinewidth": 0,
              "ticks": ""
             }
            },
            "type": "scatterternary"
           }
          ],
          "surface": [
           {
            "colorbar": {
             "outlinewidth": 0,
             "ticks": ""
            },
            "colorscale": [
             [
              0,
              "#0d0887"
             ],
             [
              0.1111111111111111,
              "#46039f"
             ],
             [
              0.2222222222222222,
              "#7201a8"
             ],
             [
              0.3333333333333333,
              "#9c179e"
             ],
             [
              0.4444444444444444,
              "#bd3786"
             ],
             [
              0.5555555555555556,
              "#d8576b"
             ],
             [
              0.6666666666666666,
              "#ed7953"
             ],
             [
              0.7777777777777778,
              "#fb9f3a"
             ],
             [
              0.8888888888888888,
              "#fdca26"
             ],
             [
              1,
              "#f0f921"
             ]
            ],
            "type": "surface"
           }
          ],
          "table": [
           {
            "cells": {
             "fill": {
              "color": "#EBF0F8"
             },
             "line": {
              "color": "white"
             }
            },
            "header": {
             "fill": {
              "color": "#C8D4E3"
             },
             "line": {
              "color": "white"
             }
            },
            "type": "table"
           }
          ]
         },
         "layout": {
          "annotationdefaults": {
           "arrowcolor": "#2a3f5f",
           "arrowhead": 0,
           "arrowwidth": 1
          },
          "autotypenumbers": "strict",
          "coloraxis": {
           "colorbar": {
            "outlinewidth": 0,
            "ticks": ""
           }
          },
          "colorscale": {
           "diverging": [
            [
             0,
             "#8e0152"
            ],
            [
             0.1,
             "#c51b7d"
            ],
            [
             0.2,
             "#de77ae"
            ],
            [
             0.3,
             "#f1b6da"
            ],
            [
             0.4,
             "#fde0ef"
            ],
            [
             0.5,
             "#f7f7f7"
            ],
            [
             0.6,
             "#e6f5d0"
            ],
            [
             0.7,
             "#b8e186"
            ],
            [
             0.8,
             "#7fbc41"
            ],
            [
             0.9,
             "#4d9221"
            ],
            [
             1,
             "#276419"
            ]
           ],
           "sequential": [
            [
             0,
             "#0d0887"
            ],
            [
             0.1111111111111111,
             "#46039f"
            ],
            [
             0.2222222222222222,
             "#7201a8"
            ],
            [
             0.3333333333333333,
             "#9c179e"
            ],
            [
             0.4444444444444444,
             "#bd3786"
            ],
            [
             0.5555555555555556,
             "#d8576b"
            ],
            [
             0.6666666666666666,
             "#ed7953"
            ],
            [
             0.7777777777777778,
             "#fb9f3a"
            ],
            [
             0.8888888888888888,
             "#fdca26"
            ],
            [
             1,
             "#f0f921"
            ]
           ],
           "sequentialminus": [
            [
             0,
             "#0d0887"
            ],
            [
             0.1111111111111111,
             "#46039f"
            ],
            [
             0.2222222222222222,
             "#7201a8"
            ],
            [
             0.3333333333333333,
             "#9c179e"
            ],
            [
             0.4444444444444444,
             "#bd3786"
            ],
            [
             0.5555555555555556,
             "#d8576b"
            ],
            [
             0.6666666666666666,
             "#ed7953"
            ],
            [
             0.7777777777777778,
             "#fb9f3a"
            ],
            [
             0.8888888888888888,
             "#fdca26"
            ],
            [
             1,
             "#f0f921"
            ]
           ]
          },
          "colorway": [
           "#636efa",
           "#EF553B",
           "#00cc96",
           "#ab63fa",
           "#FFA15A",
           "#19d3f3",
           "#FF6692",
           "#B6E880",
           "#FF97FF",
           "#FECB52"
          ],
          "font": {
           "color": "#2a3f5f"
          },
          "geo": {
           "bgcolor": "white",
           "lakecolor": "white",
           "landcolor": "#E5ECF6",
           "showlakes": true,
           "showland": true,
           "subunitcolor": "white"
          },
          "hoverlabel": {
           "align": "left"
          },
          "hovermode": "closest",
          "mapbox": {
           "style": "light"
          },
          "paper_bgcolor": "white",
          "plot_bgcolor": "#E5ECF6",
          "polar": {
           "angularaxis": {
            "gridcolor": "white",
            "linecolor": "white",
            "ticks": ""
           },
           "bgcolor": "#E5ECF6",
           "radialaxis": {
            "gridcolor": "white",
            "linecolor": "white",
            "ticks": ""
           }
          },
          "scene": {
           "xaxis": {
            "backgroundcolor": "#E5ECF6",
            "gridcolor": "white",
            "gridwidth": 2,
            "linecolor": "white",
            "showbackground": true,
            "ticks": "",
            "zerolinecolor": "white"
           },
           "yaxis": {
            "backgroundcolor": "#E5ECF6",
            "gridcolor": "white",
            "gridwidth": 2,
            "linecolor": "white",
            "showbackground": true,
            "ticks": "",
            "zerolinecolor": "white"
           },
           "zaxis": {
            "backgroundcolor": "#E5ECF6",
            "gridcolor": "white",
            "gridwidth": 2,
            "linecolor": "white",
            "showbackground": true,
            "ticks": "",
            "zerolinecolor": "white"
           }
          },
          "shapedefaults": {
           "line": {
            "color": "#2a3f5f"
           }
          },
          "ternary": {
           "aaxis": {
            "gridcolor": "white",
            "linecolor": "white",
            "ticks": ""
           },
           "baxis": {
            "gridcolor": "white",
            "linecolor": "white",
            "ticks": ""
           },
           "bgcolor": "#E5ECF6",
           "caxis": {
            "gridcolor": "white",
            "linecolor": "white",
            "ticks": ""
           }
          },
          "title": {
           "x": 0.05
          },
          "xaxis": {
           "automargin": true,
           "gridcolor": "white",
           "linecolor": "white",
           "ticks": "",
           "title": {
            "standoff": 15
           },
           "zerolinecolor": "white",
           "zerolinewidth": 2
          },
          "yaxis": {
           "automargin": true,
           "gridcolor": "white",
           "linecolor": "white",
           "ticks": "",
           "title": {
            "standoff": 15
           },
           "zerolinecolor": "white",
           "zerolinewidth": 2
          }
         }
        },
        "title": {
         "text": "Total Sanction Packages Applied to Indivdual Dark Fleet Ships<br>Possible maxiumum total equals 7 (OFAC,UANI, ASO, EU, FCDO, GAC, UN)"
        },
        "width": 1200,
        "xaxis": {
         "anchor": "y",
         "domain": [
          0,
          1
         ],
         "title": {
          "text": "imo"
         }
        },
        "yaxis": {
         "anchor": "x",
         "domain": [
          0,
          1
         ],
         "title": {
          "text": "total_sanctions"
         }
        }
       }
      },
      "image/png": "[encoded data removed]"
     },
     "metadata": {},
     "output_type": "display_data"
    }
   ],
   "source": [
    "df['imo'] = df.imo.astype(str)\n",
    "df = df.sort_values(by='imo').reset_index(drop=True)\n",
    "\n",
    "fig = px.bar(df, x='imo', y='total_sanctions', color=\"class_size\", title='Total Sanction Packages Applied to Indivdual Dark Fleet Ships<br>'\n",
    "                                                                      'Possible maxiumum total equals 7 (OFAC,UANI, ASO, EU, FCDO, GAC, UN)')\n",
    "fig.update_layout(width=1200, height=700)\n",
    "fig.update_layout(\n",
    "    paper_bgcolor='white',  # Background color of the entire chart\n",
    "    plot_bgcolor='white'     # Background color of the plot area\n",
    ")\n",
    "\n",
    "# Show the plot\n",
    "fig.show()\n",
    "# fig.write_html(\"total_sanctioned_bodies_interactive_plot.html\")\n"
   ]
  },
  {
   "cell_type": "markdown",
   "id": "f4b830d6-accd-43b3-8f72-30f60815a503",
   "metadata": {},
   "source": [
    "#### Not a single vessel has all 7 sanctions applied to it!\n",
    "##### A quick breakdown"
   ]
  },
  {
   "cell_type": "code",
   "execution_count": 32,
   "id": "c77f10f2-268f-46e4-bbfc-e7cc0c3f9d36",
   "metadata": {},
   "outputs": [
    {
     "data": {
      "text/html": [
       "<div>\n",
       "<style scoped>\n",
       "    .dataframe tbody tr th:only-of-type {\n",
       "        vertical-align: middle;\n",
       "    }\n",
       "\n",
       "    .dataframe tbody tr th {\n",
       "        vertical-align: top;\n",
       "    }\n",
       "\n",
       "    .dataframe thead th {\n",
       "        text-align: right;\n",
       "    }\n",
       "</style>\n",
       "<table border=\"1\" class=\"dataframe\">\n",
       "  <thead>\n",
       "    <tr style=\"text-align: right;\">\n",
       "      <th></th>\n",
       "      <th>build_year_average</th>\n",
       "      <th>age_average</th>\n",
       "      <th>DWT_average</th>\n",
       "      <th>total_sanctions_average</th>\n",
       "    </tr>\n",
       "    <tr>\n",
       "      <th>class_size</th>\n",
       "      <th></th>\n",
       "      <th></th>\n",
       "      <th></th>\n",
       "      <th></th>\n",
       "    </tr>\n",
       "  </thead>\n",
       "  <tbody>\n",
       "    <tr>\n",
       "      <th>Aframax</th>\n",
       "      <td>2006.16</td>\n",
       "      <td>19.84</td>\n",
       "      <td>108439.32</td>\n",
       "      <td>2.78</td>\n",
       "    </tr>\n",
       "    <tr>\n",
       "      <th>Handysize/Handymax</th>\n",
       "      <td>2002.94</td>\n",
       "      <td>23.06</td>\n",
       "      <td>33211.24</td>\n",
       "      <td>1.67</td>\n",
       "    </tr>\n",
       "    <tr>\n",
       "      <th>Panamax</th>\n",
       "      <td>2004.61</td>\n",
       "      <td>21.39</td>\n",
       "      <td>72610.10</td>\n",
       "      <td>1.86</td>\n",
       "    </tr>\n",
       "    <tr>\n",
       "      <th>Suezmax</th>\n",
       "      <td>2004.00</td>\n",
       "      <td>22.00</td>\n",
       "      <td>156794.89</td>\n",
       "      <td>2.43</td>\n",
       "    </tr>\n",
       "    <tr>\n",
       "      <th>VLCC/ULCC</th>\n",
       "      <td>2003.98</td>\n",
       "      <td>22.02</td>\n",
       "      <td>306063.88</td>\n",
       "      <td>1.55</td>\n",
       "    </tr>\n",
       "  </tbody>\n",
       "</table>\n",
       "</div>"
      ],
      "text/plain": [
       "                    build_year_average  age_average  DWT_average  \\\n",
       "class_size                                                         \n",
       "Aframax                        2006.16        19.84    108439.32   \n",
       "Handysize/Handymax             2002.94        23.06     33211.24   \n",
       "Panamax                        2004.61        21.39     72610.10   \n",
       "Suezmax                        2004.00        22.00    156794.89   \n",
       "VLCC/ULCC                      2003.98        22.02    306063.88   \n",
       "\n",
       "                    total_sanctions_average  \n",
       "class_size                                   \n",
       "Aframax                                2.78  \n",
       "Handysize/Handymax                     1.67  \n",
       "Panamax                                1.86  \n",
       "Suezmax                                2.43  \n",
       "VLCC/ULCC                              1.55  "
      ]
     },
     "execution_count": 32,
     "metadata": {},
     "output_type": "execute_result"
    }
   ],
   "source": [
    "pd.set_option('display.precision', 2) \n",
    "x=df.groupby(['class_size'])[['build_year','age','DWT','total_sanctions']].mean()\n",
    "x.columns = [f\"{col}_average\" for col in x.columns]\n",
    "x"
   ]
  },
  {
   "cell_type": "markdown",
   "id": "e1546958-239a-4ffd-bd7d-c504259291cc",
   "metadata": {},
   "source": [
    "#### Most vessesls have just one sanctions enitity applied!"
   ]
  },
  {
   "cell_type": "code",
   "execution_count": 25,
   "id": "abc4e809-82e7-426f-b82b-ca222ab69b88",
   "metadata": {},
   "outputs": [],
   "source": [
    "df.to_csv('sanctioned_fleet_data.csv', index=False)"
   ]
  },
  {
   "cell_type": "markdown",
   "id": "e5ca228e-6da0-423d-bbc5-20faa9d56a36",
   "metadata": {},
   "source": [
    "# Summary"
   ]
  },
  {
   "cell_type": "markdown",
   "id": "750d2c38-3151-4a94-8da8-7504acb95e0f",
   "metadata": {},
   "source": [
    "Western nations are trying to curtial and reduce the flow of financial resources to Russia by reducing the flow of its seaborne oil and oil byproducts.  Sanctions have been applied to suspected/verified vessels assisting in Russian oil transport.  It is unfortunate that sanctions are not applied more broadly to all vessels.  For example, VLCCs have minimum sanctions applied in terms of total possible.  I would think more sanctions and more coordination would be more effective in stopping Russian oil flow.\n",
    "\n",
    "There are lots of things that can be looked at given more access to data.  Something I think worthwhile would be to track each sanctioned vessel using its AIS data from TankerTrackers.  Minimal movement could indicate the vessel is storing oil or is essentially without a home and is decommissioned.  Analysis of AIS data could shed more light on how much oil is actually flowing.  oil flows coupled with supply/demand could help explain or predict shipping costs. "
   ]
  },
  {
   "cell_type": "code",
   "execution_count": null,
   "id": "c083c1cb-d845-4986-833b-7bc0e13c19ff",
   "metadata": {},
   "outputs": [],
   "source": []
  },
  {
   "cell_type": "code",
   "execution_count": null,
   "id": "c357d889-b19a-4260-b5b4-76081f729fc6",
   "metadata": {},
   "outputs": [],
   "source": []
  },
  {
   "cell_type": "code",
   "execution_count": null,
   "id": "1319cc8d-ea45-47d5-a6ae-94ac6d7d0db2",
   "metadata": {},
   "outputs": [],
   "source": []
  },
  {
   "cell_type": "code",
   "execution_count": null,
   "id": "1d06f69e-47d5-4325-9045-434fa9721ba1",
   "metadata": {},
   "outputs": [],
   "source": []
  },
  {
   "cell_type": "code",
   "execution_count": null,
   "id": "4b97c02c-ec75-4f1f-a246-921efaff0a0c",
   "metadata": {},
   "outputs": [],
   "source": []
  },
  {
   "cell_type": "code",
   "execution_count": null,
   "id": "4d60280a-5a00-4543-a0bd-b654a5ad2948",
   "metadata": {},
   "outputs": [],
   "source": []
  },
  {
   "cell_type": "code",
   "execution_count": null,
   "id": "1373c3de-5b36-43d6-ad8a-39da4f72c39c",
   "metadata": {},
   "outputs": [],
   "source": []
  }
 ],
 "metadata": {
  "kernelspec": {
   "display_name": "Python 3 (ipykernel)",
   "language": "python",
   "name": "python3"
  },
  "language_info": {
   "codemirror_mode": {
    "name": "ipython",
    "version": 3
   },
   "file_extension": ".py",
   "mimetype": "text/x-python",
   "name": "python",
   "nbconvert_exporter": "python",
   "pygments_lexer": "ipython3",
   "version": "3.13.5"
  }
 },
 "nbformat": 4,
 "nbformat_minor": 5
}
